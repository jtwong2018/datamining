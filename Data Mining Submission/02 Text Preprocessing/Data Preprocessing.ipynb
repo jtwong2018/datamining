{
 "cells": [
  {
   "cell_type": "markdown",
   "id": "435dd0e7",
   "metadata": {},
   "source": [
    "## Reading real profile jsons into df"
   ]
  },
  {
   "cell_type": "code",
   "execution_count": 2,
   "id": "1094df06",
   "metadata": {},
   "outputs": [],
   "source": [
    "import json\n",
    "import os\n",
    "import glob\n",
    "import pandas as pd\n"
   ]
  },
  {
   "cell_type": "code",
   "execution_count": null,
   "id": "7c9c8b93",
   "metadata": {},
   "outputs": [],
   "source": [
    "\n",
    "json_dir = 'data/realprofile'\n",
    "json_pattern = os.path.join(json_dir, '*.json')\n",
    "file_list = glob.glob(json_pattern)\n",
    "\n",
    "dfs = []\n",
    "for file in file_list:\n",
    "    with open(file) as f:\n",
    "        json_data = pd.json_normalize(json.loads(f.read()))\n",
    "        json_data['site'] = file.rsplit(\"/\", 1)[-1]\n",
    "    dfs.append(json_data)\n",
    "realdf = pd.concat(dfs)\n",
    "realdf.to_csv('uncleaned_real_profile.csv', header=True, index=False)"
   ]
  },
  {
   "cell_type": "code",
   "execution_count": 13,
   "id": "1d87c0f5",
   "metadata": {},
   "outputs": [],
   "source": [
    "realdf = pd.read_csv(\"../uncleaned_real_profile.csv\")"
   ]
  },
  {
   "cell_type": "markdown",
   "id": "21aacc30",
   "metadata": {},
   "source": [
    "## Reading scam profile jsons into df"
   ]
  },
  {
   "cell_type": "code",
   "execution_count": null,
   "id": "9a693af1",
   "metadata": {},
   "outputs": [],
   "source": [
    "json_dir = 'data/scamprofile'\n",
    "json_pattern = os.path.join(json_dir, '*.json')\n",
    "file_list = glob.glob(json_pattern)\n",
    "\n",
    "dfs = []\n",
    "for file in file_list:\n",
    "    with open(file) as f:\n",
    "        json_data = pd.json_normalize(json.loads(f.read()))\n",
    "        json_data['site'] = file.rsplit(\"/\", 1)[-1]\n",
    "    dfs.append(json_data)\n",
    "scamdf = pd.concat(dfs)\n",
    "\n",
    "scamdf.to_csv('uncleaned_scam_profile.csv', header=True, index=False)"
   ]
  },
  {
   "cell_type": "code",
   "execution_count": 14,
   "id": "8e9b7614",
   "metadata": {},
   "outputs": [],
   "source": [
    "scamdf = pd.read_csv(\"../uncleaned_scam_profile.csv\")"
   ]
  },
  {
   "cell_type": "markdown",
   "id": "3edefaba",
   "metadata": {},
   "source": [
    "# Scam df data cleaning \n",
    "    "
   ]
  },
  {
   "cell_type": "code",
   "execution_count": 4,
   "id": "faf4f622",
   "metadata": {},
   "outputs": [],
   "source": [
    "pd.set_option(\"display.max_colwidth\", None)"
   ]
  },
  {
   "cell_type": "code",
   "execution_count": 15,
   "id": "7c9dfb61",
   "metadata": {},
   "outputs": [
    {
     "data": {
      "text/plain": [
       "4342"
      ]
     },
     "execution_count": 15,
     "metadata": {},
     "output_type": "execute_result"
    }
   ],
   "source": [
    "#select relevant columns\n",
    "scamdf1 = scamdf[[\"username\",\"age\",\"occupation\",\"status\",\"gender\",\"description\"]].copy()\n",
    "len(scamdf1)"
   ]
  },
  {
   "cell_type": "code",
   "execution_count": 16,
   "id": "46965351",
   "metadata": {},
   "outputs": [
    {
     "data": {
      "text/plain": [
       "4255"
      ]
     },
     "execution_count": 16,
     "metadata": {},
     "output_type": "execute_result"
    }
   ],
   "source": [
    "#drop all rows with no descriptions\n",
    "scamdf1 = scamdf1[scamdf1[\"description\"].notna()]\n",
    "len(scamdf1)"
   ]
  },
  {
   "cell_type": "code",
   "execution_count": 7,
   "id": "a47e8751",
   "metadata": {},
   "outputs": [],
   "source": [
    "#remove punctuation\n",
    "import re\n",
    "def get_new_sentence(x):\n",
    "    return re.sub(r'[^\\w\\s]', '', str(x)).strip()\n",
    "\n",
    "scamdf1[\"description\"] = scamdf1[\"description\"].apply(lambda x: get_new_sentence(x))\n",
    "\n",
    "#clean age column\n",
    "def get_age(x):\n",
    "    x = str(x)\n",
    "    if 'or' in x:\n",
    "        return x.split()[0]\n",
    "    else:\n",
    "        return x\n",
    "\n",
    "scamdf1[\"age\"] = scamdf1[\"age\"].apply(lambda x: get_age(x))"
   ]
  },
  {
   "cell_type": "code",
   "execution_count": 8,
   "id": "6dff8e70",
   "metadata": {},
   "outputs": [],
   "source": [
    "#removing punctuations from age, status, gender and occupation columns\n",
    "scamdf1[\"gender\"] = scamdf1[\"gender\"].apply(lambda x: get_new_sentence(x))\n",
    "scamdf1[\"age\"] = scamdf1[\"age\"].apply(lambda x: get_new_sentence(x))\n",
    "scamdf1['occupation']= scamdf1['occupation'].apply(lambda x: get_new_sentence(x))"
   ]
  },
  {
   "cell_type": "code",
   "execution_count": 9,
   "id": "22b0865f",
   "metadata": {},
   "outputs": [
    {
     "data": {
      "text/plain": [
       "0                      student\n",
       "1                   contractor\n",
       "2                     business\n",
       "3          Building Contractor\n",
       "4                self employed\n",
       "                 ...          \n",
       "4337                 sell girl\n",
       "4338           self employment\n",
       "4339    Flower designer course\n",
       "4340                     nurse\n",
       "4341                   teacher\n",
       "Name: occupation, Length: 4255, dtype: object"
      ]
     },
     "execution_count": 9,
     "metadata": {},
     "output_type": "execute_result"
    }
   ],
   "source": [
    "# strip whitespace\n",
    "scamdf1['occupation'].str.strip()"
   ]
  },
  {
   "cell_type": "code",
   "execution_count": 10,
   "id": "12e4c273",
   "metadata": {},
   "outputs": [],
   "source": [
    "# remove empty occupation\n",
    "scamdf1 = scamdf1[scamdf1['occupation']!='']"
   ]
  },
  {
   "cell_type": "code",
   "execution_count": 11,
   "id": "2b7b0529",
   "metadata": {},
   "outputs": [],
   "source": [
    "#remove stopwords\n",
    "import nltk\n",
    "from nltk.corpus import stopwords\n",
    "from nltk.tokenize import word_tokenize\n",
    "\n",
    "def remove_stop_words(description):\n",
    "    \n",
    "    stop_words = set(stopwords.words('english'))\n",
    "\n",
    "    word_tokens = word_tokenize(description)\n",
    "    filtered_sentence = [w for w in word_tokens if not w.lower() in stop_words]\n",
    "    filtered_sentence = []\n",
    "    for w in word_tokens:\n",
    "        if w not in stop_words:\n",
    "            filtered_sentence.append(w)\n",
    "    return ' '.join(filtered_sentence)\n"
   ]
  },
  {
   "cell_type": "code",
   "execution_count": 12,
   "id": "839be16e",
   "metadata": {},
   "outputs": [],
   "source": [
    "\n",
    "#create a new column to store the filtered sentences\n",
    "scamdf1[\"filtered sentence\"] = scamdf1[\"description\"].apply(lambda x: remove_stop_words(x))"
   ]
  },
  {
   "cell_type": "code",
   "execution_count": 13,
   "id": "26a74d58",
   "metadata": {},
   "outputs": [
    {
     "data": {
      "text/html": [
       "<div>\n",
       "<style scoped>\n",
       "    .dataframe tbody tr th:only-of-type {\n",
       "        vertical-align: middle;\n",
       "    }\n",
       "\n",
       "    .dataframe tbody tr th {\n",
       "        vertical-align: top;\n",
       "    }\n",
       "\n",
       "    .dataframe thead th {\n",
       "        text-align: right;\n",
       "    }\n",
       "</style>\n",
       "<table border=\"1\" class=\"dataframe\">\n",
       "  <thead>\n",
       "    <tr style=\"text-align: right;\">\n",
       "      <th></th>\n",
       "      <th>username</th>\n",
       "      <th>age</th>\n",
       "      <th>occupation</th>\n",
       "      <th>status</th>\n",
       "      <th>gender</th>\n",
       "      <th>description</th>\n",
       "      <th>filtered sentence</th>\n",
       "      <th>y</th>\n",
       "    </tr>\n",
       "  </thead>\n",
       "  <tbody>\n",
       "    <tr>\n",
       "      <th>0</th>\n",
       "      <td>000love</td>\n",
       "      <td>33</td>\n",
       "      <td>student</td>\n",
       "      <td>single</td>\n",
       "      <td>female</td>\n",
       "      <td>i am cool simple easy going easy to please if treated with resp ect i am cool simple easy going easy to please if treated with resp ecti am cool simple easy going easy to please if treated with resp ect</td>\n",
       "      <td>cool simple easy going easy please treated resp ect cool simple easy going easy please treated resp ecti cool simple easy going easy please treated resp ect</td>\n",
       "      <td>1</td>\n",
       "    </tr>\n",
       "    <tr>\n",
       "      <th>1</th>\n",
       "      <td>05johnsmith</td>\n",
       "      <td>57</td>\n",
       "      <td>contractor</td>\n",
       "      <td>widowed</td>\n",
       "      <td>male</td>\n",
       "      <td>i am kind honest love and caring man my hobby are music and sport i believe in god</td>\n",
       "      <td>kind honest love caring man hobby music sport believe god</td>\n",
       "      <td>1</td>\n",
       "    </tr>\n",
       "    <tr>\n",
       "      <th>2</th>\n",
       "      <td>1234</td>\n",
       "      <td>57</td>\n",
       "      <td>business</td>\n",
       "      <td>widowed</td>\n",
       "      <td>male</td>\n",
       "      <td>As you know that its myriads that someone has lots of interested women in here but its my choice to choose onethe one my heart goes forsomeone i can lean onto give me the love i have always wanted to haveSo tell me about yourselfwhat you do and everything you need to tell me about yourselfand lets see how it goes from hereBut anywayHeres a little info about me I like to go out to dinner go dancinggo to the movies workout travel see new things I enjoy the simple things like the ocean cuddling at home watching a movie with someone special Im a extremely romantic passionate and affectionate woman</td>\n",
       "      <td>As know myriads someone lots interested women choice choose onethe one heart goes forsomeone lean onto give love always wanted haveSo tell yourselfwhat everything need tell yourselfand lets see goes hereBut anywayHeres little info I like go dinner go dancinggo movies workout travel see new things I enjoy simple things like ocean cuddling home watching movie someone special Im extremely romantic passionate affectionate woman</td>\n",
       "      <td>1</td>\n",
       "    </tr>\n",
       "    <tr>\n",
       "      <th>3</th>\n",
       "      <td>231411</td>\n",
       "      <td>53</td>\n",
       "      <td>Building Contractor</td>\n",
       "      <td>single</td>\n",
       "      <td>male</td>\n",
       "      <td>I am looking for a woman whom I think is handsome sexy and smart A perfect simple woman one who treats me well and who makes me laugh she is not afraid to grab my hand and steal a kiss in public or to just shoot a knowing stare across the room that tells me she is admiring me from afarAt this stage in my life I am focused on finding you I have a great deal to offer and will always provide a warm heart and welcoming smile I am optimistic youre out there and perhaps ifwhen you read this far in my profile it may resonate with you\\nBe smart and contact me directly henshawmark is my ID and to figure the network you ddd the first alphabet of the following word in capital  Yoke  Apple Hot Orange Orange Let see if you solve it by writing me Had to sneak this in lol</td>\n",
       "      <td>I looking woman I think handsome sexy smart A perfect simple woman one treats well makes laugh afraid grab hand steal kiss public shoot knowing stare across room tells admiring afarAt stage life I focused finding I great deal offer always provide warm heart welcoming smile I optimistic youre perhaps ifwhen read far profile may resonate Be smart contact directly henshawmark ID figure network ddd first alphabet following word capital Yoke Apple Hot Orange Orange Let see solve writing Had sneak lol</td>\n",
       "      <td>1</td>\n",
       "    </tr>\n",
       "    <tr>\n",
       "      <th>4</th>\n",
       "      <td>3234714190Txtme</td>\n",
       "      <td>33</td>\n",
       "      <td>self employed</td>\n",
       "      <td>single</td>\n",
       "      <td>female</td>\n",
       "      <td>Just a note I used to be able to do a name search for people using the Meet Me feature I can no longer do that so please send a message instead or at least hit Favorite so I can find you\\nI have a really good sense of humor quickthinking wit Very kindhearted and sometimes maybe too logical I love to travel have game nights bar b ques with friends and family I only drink socially have a good group of family and friends who when we do get together laugh a lot I love being active and in nature ride bikes exploring new places I love old school rock and some older country and wherever I am if I know the song playing I may accidentally start singing out loud in front of other people hopefully youll join me I cry every time I hear The National Anthem Im a simple girl and try and be as stressfree as possible Ive never been more selfaware and selfconfident in my life Very happy and excited about my future in so many ways Work love the possibilities are endless I love love a great smile on someone A good kisser is a must</td>\n",
       "      <td>Just note I used able name search people using Meet Me feature I longer please send message instead least hit Favorite I find I really good sense humor quickthinking wit Very kindhearted sometimes maybe logical I love travel game nights bar b ques friends family I drink socially good group family friends get together laugh lot I love active nature ride bikes exploring new places I love old school rock older country wherever I I know song playing I may accidentally start singing loud front people hopefully youll join I cry every time I hear The National Anthem Im simple girl try stressfree possible Ive never selfaware selfconfident life Very happy excited future many ways Work love possibilities endless I love love great smile someone A good kisser must</td>\n",
       "      <td>1</td>\n",
       "    </tr>\n",
       "  </tbody>\n",
       "</table>\n",
       "</div>"
      ],
      "text/plain": [
       "           username age           occupation    status  gender  \\\n",
       "0           000love  33              student    single  female   \n",
       "1       05johnsmith  57           contractor   widowed    male   \n",
       "2              1234  57             business   widowed    male   \n",
       "3            231411  53  Building Contractor    single    male   \n",
       "4   3234714190Txtme  33        self employed    single  female   \n",
       "\n",
       "                                                                                                                                                                                                                                                                                                                                                                                                                                                                                                                                                                                                                                                                                                                                                                                                                                                                                                                                                                                                                                                          description  \\\n",
       "0                                                                                                                                                                                                                                                                                                                                                                                                                                                                                                                                                                                                                                                                                                                                                                                                                                                          i am cool simple easy going easy to please if treated with resp ect i am cool simple easy going easy to please if treated with resp ecti am cool simple easy going easy to please if treated with resp ect   \n",
       "1                                                                                                                                                                                                                                                                                                                                                                                                                                                                                                                                                                                                                                                                                                                                                                                                                                                                                                                                                                                  i am kind honest love and caring man my hobby are music and sport i believe in god   \n",
       "2                                                                                                                                                                                                                                                                                                                                                                                                                                            As you know that its myriads that someone has lots of interested women in here but its my choice to choose onethe one my heart goes forsomeone i can lean onto give me the love i have always wanted to haveSo tell me about yourselfwhat you do and everything you need to tell me about yourselfand lets see how it goes from hereBut anywayHeres a little info about me I like to go out to dinner go dancinggo to the movies workout travel see new things I enjoy the simple things like the ocean cuddling at home watching a movie with someone special Im a extremely romantic passionate and affectionate woman   \n",
       "3                                                                                                                                                                                                                                                                     I am looking for a woman whom I think is handsome sexy and smart A perfect simple woman one who treats me well and who makes me laugh she is not afraid to grab my hand and steal a kiss in public or to just shoot a knowing stare across the room that tells me she is admiring me from afarAt this stage in my life I am focused on finding you I have a great deal to offer and will always provide a warm heart and welcoming smile I am optimistic youre out there and perhaps ifwhen you read this far in my profile it may resonate with you\\nBe smart and contact me directly henshawmark is my ID and to figure the network you ddd the first alphabet of the following word in capital  Yoke  Apple Hot Orange Orange Let see if you solve it by writing me Had to sneak this in lol   \n",
       "4  Just a note I used to be able to do a name search for people using the Meet Me feature I can no longer do that so please send a message instead or at least hit Favorite so I can find you\\nI have a really good sense of humor quickthinking wit Very kindhearted and sometimes maybe too logical I love to travel have game nights bar b ques with friends and family I only drink socially have a good group of family and friends who when we do get together laugh a lot I love being active and in nature ride bikes exploring new places I love old school rock and some older country and wherever I am if I know the song playing I may accidentally start singing out loud in front of other people hopefully youll join me I cry every time I hear The National Anthem Im a simple girl and try and be as stressfree as possible Ive never been more selfaware and selfconfident in my life Very happy and excited about my future in so many ways Work love the possibilities are endless I love love a great smile on someone A good kisser is a must   \n",
       "\n",
       "                                                                                                                                                                                                                                                                                                                                                                                                                                                                                                                                                                                                                                                                                                                                                                            filtered sentence  \\\n",
       "0                                                                                                                                                                                                                                                                                                                                                                                                                                                                                                                                                                                                                                cool simple easy going easy please treated resp ect cool simple easy going easy please treated resp ecti cool simple easy going easy please treated resp ect   \n",
       "1                                                                                                                                                                                                                                                                                                                                                                                                                                                                                                                                                                                                                                                                                                                                   kind honest love caring man hobby music sport believe god   \n",
       "2                                                                                                                                                                                                                                                                                                                                                 As know myriads someone lots interested women choice choose onethe one heart goes forsomeone lean onto give love always wanted haveSo tell yourselfwhat everything need tell yourselfand lets see goes hereBut anywayHeres little info I like go dinner go dancinggo movies workout travel see new things I enjoy simple things like ocean cuddling home watching movie someone special Im extremely romantic passionate affectionate woman   \n",
       "3                                                                                                                                                                                                                                                                        I looking woman I think handsome sexy smart A perfect simple woman one treats well makes laugh afraid grab hand steal kiss public shoot knowing stare across room tells admiring afarAt stage life I focused finding I great deal offer always provide warm heart welcoming smile I optimistic youre perhaps ifwhen read far profile may resonate Be smart contact directly henshawmark ID figure network ddd first alphabet following word capital Yoke Apple Hot Orange Orange Let see solve writing Had sneak lol   \n",
       "4  Just note I used able name search people using Meet Me feature I longer please send message instead least hit Favorite I find I really good sense humor quickthinking wit Very kindhearted sometimes maybe logical I love travel game nights bar b ques friends family I drink socially good group family friends get together laugh lot I love active nature ride bikes exploring new places I love old school rock older country wherever I I know song playing I may accidentally start singing loud front people hopefully youll join I cry every time I hear The National Anthem Im simple girl try stressfree possible Ive never selfaware selfconfident life Very happy excited future many ways Work love possibilities endless I love love great smile someone A good kisser must   \n",
       "\n",
       "   y  \n",
       "0  1  \n",
       "1  1  \n",
       "2  1  \n",
       "3  1  \n",
       "4  1  "
      ]
     },
     "execution_count": 13,
     "metadata": {},
     "output_type": "execute_result"
    }
   ],
   "source": [
    "# create class column\n",
    "scamdf1[\"y\"] = 1 #1 for scam profiles\n",
    "scamdf1.head()"
   ]
  },
  {
   "cell_type": "code",
   "execution_count": 329,
   "id": "c39320fd",
   "metadata": {},
   "outputs": [],
   "source": [
    "# detect language\n",
    "from langdetect import detect\n",
    "scamdf1['Language'] = scamdf1['occupation'].apply(detect)"
   ]
  },
  {
   "cell_type": "code",
   "execution_count": 330,
   "id": "f6a6085c",
   "metadata": {},
   "outputs": [],
   "source": [
    "# translate non english \n",
    "from googletrans import Translator, constants\n",
    "from pprint import pprint\n",
    "\n",
    "def translate(word):\n",
    "    translator= Translator()\n",
    "    if detect(word) != 'en':\n",
    "        translation = translator.translate(word, dest='en')\n",
    "        return translation.text\n",
    "    return word"
   ]
  },
  {
   "cell_type": "code",
   "execution_count": 331,
   "id": "795be173",
   "metadata": {},
   "outputs": [],
   "source": [
    "# translate occupation column\n",
    "scamdf1['translated_occupation'] = scamdf1['occupation'].apply(lambda x: translate(x))"
   ]
  },
  {
   "cell_type": "code",
   "execution_count": 332,
   "id": "96aa9dba",
   "metadata": {},
   "outputs": [
    {
     "data": {
      "text/html": [
       "<div>\n",
       "<style scoped>\n",
       "    .dataframe tbody tr th:only-of-type {\n",
       "        vertical-align: middle;\n",
       "    }\n",
       "\n",
       "    .dataframe tbody tr th {\n",
       "        vertical-align: top;\n",
       "    }\n",
       "\n",
       "    .dataframe thead th {\n",
       "        text-align: right;\n",
       "    }\n",
       "</style>\n",
       "<table border=\"1\" class=\"dataframe\">\n",
       "  <thead>\n",
       "    <tr style=\"text-align: right;\">\n",
       "      <th></th>\n",
       "      <th>username</th>\n",
       "      <th>age</th>\n",
       "      <th>occupation</th>\n",
       "      <th>status</th>\n",
       "      <th>gender</th>\n",
       "      <th>description</th>\n",
       "      <th>filtered sentence</th>\n",
       "      <th>y</th>\n",
       "      <th>Language</th>\n",
       "      <th>translated_occupation</th>\n",
       "    </tr>\n",
       "  </thead>\n",
       "  <tbody>\n",
       "    <tr>\n",
       "      <th>1731</th>\n",
       "      <td>Jamesethan65</td>\n",
       "      <td>49</td>\n",
       "      <td>UN</td>\n",
       "      <td>single</td>\n",
       "      <td>male</td>\n",
       "      <td>Im Single looking for a honest woman in my lifeIm a very passionate and romantic man and not afraid to show my affections in private or public I am very clean and like seeing things and people clean as well I will always treat my woman well and with respect and love and cherish herIm very easy going and down to earthI Believe that a strong relationship is not based only on sex life but that a strong relationship builds a strong love life that leads to a strong and great sex life and can only happen with open communication trust and commitment and constantly working together and being honest with my woman</td>\n",
       "      <td>Im Single looking honest woman lifeIm passionate romantic man afraid show affections private public I clean like seeing things people clean well I always treat woman well respect love cherish herIm easy going earthI Believe strong relationship based sex life strong relationship builds strong love life leads strong great sex life happen open communication trust commitment constantly working together honest woman</td>\n",
       "      <td>1</td>\n",
       "      <td>sw</td>\n",
       "      <td>AND</td>\n",
       "    </tr>\n",
       "    <tr>\n",
       "      <th>2413</th>\n",
       "      <td>loisfugate</td>\n",
       "      <td>38</td>\n",
       "      <td>Self employment</td>\n",
       "      <td>single</td>\n",
       "      <td>female</td>\n",
       "      <td>am single looking for honest and caring man to spend the rest of my life with</td>\n",
       "      <td>single looking honest caring man spend rest life</td>\n",
       "      <td>1</td>\n",
       "      <td>en</td>\n",
       "      <td>Self employment</td>\n",
       "    </tr>\n",
       "    <tr>\n",
       "      <th>2029</th>\n",
       "      <td>john_barry</td>\n",
       "      <td>47</td>\n",
       "      <td>military</td>\n",
       "      <td>divorced</td>\n",
       "      <td>male</td>\n",
       "      <td>I am honest real and true I am a 47 years old musicloving man from California I have brown eyes and black hair my body is about average and I live alone I have children and they live at home Im looking forward to spending time with someone</td>\n",
       "      <td>I honest real true I 47 years old musicloving man California I brown eyes black hair body average I live alone I children live home Im looking forward spending time someone</td>\n",
       "      <td>1</td>\n",
       "      <td>tl</td>\n",
       "      <td>military</td>\n",
       "    </tr>\n",
       "    <tr>\n",
       "      <th>2528</th>\n",
       "      <td>macuscole</td>\n",
       "      <td>34</td>\n",
       "      <td>cargo agent</td>\n",
       "      <td>divorced</td>\n",
       "      <td>male</td>\n",
       "      <td>Am just a simple man looking forward in finding a serious woman who will be ready for a long term relation that can lead to marriage</td>\n",
       "      <td>Am simple man looking forward finding serious woman ready long term relation lead marriage</td>\n",
       "      <td>1</td>\n",
       "      <td>es</td>\n",
       "      <td>cargo agent</td>\n",
       "    </tr>\n",
       "    <tr>\n",
       "      <th>1329</th>\n",
       "      <td>garyrichard125</td>\n",
       "      <td>46</td>\n",
       "      <td>chemical engineering</td>\n",
       "      <td>single</td>\n",
       "      <td>male</td>\n",
       "      <td>am honest caring lovely understanding decent man</td>\n",
       "      <td>honest caring lovely understanding decent man</td>\n",
       "      <td>1</td>\n",
       "      <td>en</td>\n",
       "      <td>chemical engineering</td>\n",
       "    </tr>\n",
       "    <tr>\n",
       "      <th>316</th>\n",
       "      <td>Baleme</td>\n",
       "      <td>46</td>\n",
       "      <td>military</td>\n",
       "      <td>–</td>\n",
       "      <td>male</td>\n",
       "      <td>Im Luis Baleme an Engineer with the USA ArmyI am basically a very positive person who also loves humor and laughter and would like someone\\nwith an adventurous spirit and a positive attitude that I need someone who can see the funny side of life someone who is\\nopen and willing to learn new things</td>\n",
       "      <td>Im Luis Baleme Engineer USA ArmyI basically positive person also loves humor laughter would like someone adventurous spirit positive attitude I need someone see funny side life someone open willing learn new things</td>\n",
       "      <td>1</td>\n",
       "      <td>tl</td>\n",
       "      <td>military</td>\n",
       "    </tr>\n",
       "    <tr>\n",
       "      <th>11</th>\n",
       "      <td>abim123</td>\n",
       "      <td>52</td>\n",
       "      <td>legal</td>\n",
       "      <td>divorced</td>\n",
       "      <td>male</td>\n",
       "      <td>In few words I can say that I am serious have goals in my life but like a true woman I like to dream and make them come true I have serious profession and I am not going to stop at what Ive achieved for now but family is always on the first place for me But its impossible to be serious all the time and its not necessary I believe I like to have fun love sportlisten to good music and learn how to enjoy the simple moments in my life I am active open person with sense of humor I am strong enough to live alone but much better is to share life with someone nice</td>\n",
       "      <td>In words I say I serious goals life like true woman I like dream make come true I serious profession I going stop Ive achieved family always first place But impossible serious time necessary I believe I like fun love sportlisten good music learn enjoy simple moments life I active open person sense humor I strong enough live alone much better share life someone nice</td>\n",
       "      <td>1</td>\n",
       "      <td>hu</td>\n",
       "      <td>legal</td>\n",
       "    </tr>\n",
       "    <tr>\n",
       "      <th>2618</th>\n",
       "      <td>markknight</td>\n",
       "      <td>50</td>\n",
       "      <td>military</td>\n",
       "      <td>widowed</td>\n",
       "      <td>male</td>\n",
       "      <td>I think I am an open person honest if I think something I say it I never do something behind a persons back for me it is important I am calm lovely I like love and to be loved and communicationI enjoy so many things like aerobics hiking skiing walking candlelit dinners gardening reading psychology travelling movies theatres and concerts restaurants art galleries and exhibitions I like to experience new things but also like to spend time with my family play with my pet and decorate house</td>\n",
       "      <td>I think I open person honest I think something I say I never something behind persons back important I calm lovely I like love loved communicationI enjoy many things like aerobics hiking skiing walking candlelit dinners gardening reading psychology travelling movies theatres concerts restaurants art galleries exhibitions I like experience new things also like spend time family play pet decorate house</td>\n",
       "      <td>1</td>\n",
       "      <td>tl</td>\n",
       "      <td>military</td>\n",
       "    </tr>\n",
       "    <tr>\n",
       "      <th>1345</th>\n",
       "      <td>general_m_rodriguez</td>\n",
       "      <td>62</td>\n",
       "      <td>Army General</td>\n",
       "      <td>widowed</td>\n",
       "      <td>male</td>\n",
       "      <td>I am a simplecaringlovingGod fearingdecenthard working man and need a life time partner to build with and end of my life with cos am about to retire</td>\n",
       "      <td>I simplecaringlovingGod fearingdecenthard working man need life time partner build end life cos retire</td>\n",
       "      <td>1</td>\n",
       "      <td>de</td>\n",
       "      <td>Army General</td>\n",
       "    </tr>\n",
       "    <tr>\n",
       "      <th>3934</th>\n",
       "      <td>sweethoneyjean</td>\n",
       "      <td>30</td>\n",
       "      <td>nurse</td>\n",
       "      <td>single</td>\n",
       "      <td>female</td>\n",
       "      <td>I am a happy honest sincere person who enjoy life Im very organize and clean I like to hear music dancing watch TV use the computerwork in the garden go in road trips and travel I live with my daughter and take care of my grand kids after school on the week so Im not interest in relocate to other place I believe that internet relation need time and lots of interest\\nam serious and i want to love and to be loved againi dont joke about this or play any head i am very serious at the beginning i was just not sure about the distance but you have changed my mind maybe there is a light at the end of the tunnel i want someone there every day someone to spend time with doing things together share everything together and more</td>\n",
       "      <td>I happy honest sincere person enjoy life Im organize clean I like hear music dancing watch TV use computerwork garden go road trips travel I live daughter take care grand kids school week Im interest relocate place I believe internet relation need time lots interest serious want love loved againi dont joke play head serious beginning sure distance changed mind maybe light end tunnel want someone every day someone spend time things together share everything together</td>\n",
       "      <td>1</td>\n",
       "      <td>ro</td>\n",
       "      <td>nurse</td>\n",
       "    </tr>\n",
       "  </tbody>\n",
       "</table>\n",
       "</div>"
      ],
      "text/plain": [
       "                  username age            occupation     status  gender  \\\n",
       "1731          Jamesethan65  49                    UN     single    male   \n",
       "2413            loisfugate  38       Self employment     single  female   \n",
       "2029            john_barry  47              military   divorced    male   \n",
       "2528             macuscole  34           cargo agent   divorced    male   \n",
       "1329        garyrichard125  46  chemical engineering     single    male   \n",
       "316                 Baleme  46              military          –    male   \n",
       "11                 abim123  52                 legal   divorced    male   \n",
       "2618            markknight  50              military    widowed    male   \n",
       "1345   general_m_rodriguez  62          Army General    widowed    male   \n",
       "3934        sweethoneyjean  30                 nurse     single  female   \n",
       "\n",
       "                                                                                                                                                                                                                                                                                                                                                                                                                                                                                                                                                                                                                                                                                                                                                description  \\\n",
       "1731                                                                                                                    Im Single looking for a honest woman in my lifeIm a very passionate and romantic man and not afraid to show my affections in private or public I am very clean and like seeing things and people clean as well I will always treat my woman well and with respect and love and cherish herIm very easy going and down to earthI Believe that a strong relationship is not based only on sex life but that a strong relationship builds a strong love life that leads to a strong and great sex life and can only happen with open communication trust and commitment and constantly working together and being honest with my woman   \n",
       "2413                                                                                                                                                                                                                                                                                                                                                                                                                                                                                                                                                                                                                                                                          am single looking for honest and caring man to spend the rest of my life with   \n",
       "2029                                                                                                                                                                                                                                                                                                                                                                                                                                                                                                        I am honest real and true I am a 47 years old musicloving man from California I have brown eyes and black hair my body is about average and I live alone I have children and they live at home Im looking forward to spending time with someone   \n",
       "2528                                                                                                                                                                                                                                                                                                                                                                                                                                                                                                                                                                                                                   Am just a simple man looking forward in finding a serious woman who will be ready for a long term relation that can lead to marriage   \n",
       "1329                                                                                                                                                                                                                                                                                                                                                                                                                                                                                                                                                                                                                                                                                                       am honest caring lovely understanding decent man   \n",
       "316                                                                                                                                                                                                                                                                                                                                                                                                                                              Im Luis Baleme an Engineer with the USA ArmyI am basically a very positive person who also loves humor and laughter and would like someone\\nwith an adventurous spirit and a positive attitude that I need someone who can see the funny side of life someone who is\\nopen and willing to learn new things   \n",
       "11                                                                                                                                                                       In few words I can say that I am serious have goals in my life but like a true woman I like to dream and make them come true I have serious profession and I am not going to stop at what Ive achieved for now but family is always on the first place for me But its impossible to be serious all the time and its not necessary I believe I like to have fun love sportlisten to good music and learn how to enjoy the simple moments in my life I am active open person with sense of humor I am strong enough to live alone but much better is to share life with someone nice   \n",
       "2618                                                                                                                                                                                                                                            I think I am an open person honest if I think something I say it I never do something behind a persons back for me it is important I am calm lovely I like love and to be loved and communicationI enjoy so many things like aerobics hiking skiing walking candlelit dinners gardening reading psychology travelling movies theatres and concerts restaurants art galleries and exhibitions I like to experience new things but also like to spend time with my family play with my pet and decorate house   \n",
       "1345                                                                                                                                                                                                                                                                                                                                                                                                                                                                                                                                                                                                   I am a simplecaringlovingGod fearingdecenthard working man and need a life time partner to build with and end of my life with cos am about to retire   \n",
       "3934  I am a happy honest sincere person who enjoy life Im very organize and clean I like to hear music dancing watch TV use the computerwork in the garden go in road trips and travel I live with my daughter and take care of my grand kids after school on the week so Im not interest in relocate to other place I believe that internet relation need time and lots of interest\\nam serious and i want to love and to be loved againi dont joke about this or play any head i am very serious at the beginning i was just not sure about the distance but you have changed my mind maybe there is a light at the end of the tunnel i want someone there every day someone to spend time with doing things together share everything together and more   \n",
       "\n",
       "                                                                                                                                                                                                                                                                                                                                                                                                                                                                          filtered sentence  \\\n",
       "1731                                                         Im Single looking honest woman lifeIm passionate romantic man afraid show affections private public I clean like seeing things people clean well I always treat woman well respect love cherish herIm easy going earthI Believe strong relationship based sex life strong relationship builds strong love life leads strong great sex life happen open communication trust commitment constantly working together honest woman   \n",
       "2413                                                                                                                                                                                                                                                                                                                                                                                                                                       single looking honest caring man spend rest life   \n",
       "2029                                                                                                                                                                                                                                                                                                           I honest real true I 47 years old musicloving man California I brown eyes black hair body average I live alone I children live home Im looking forward spending time someone   \n",
       "2528                                                                                                                                                                                                                                                                                                                                                                                             Am simple man looking forward finding serious woman ready long term relation lead marriage   \n",
       "1329                                                                                                                                                                                                                                                                                                                                                                                                                                          honest caring lovely understanding decent man   \n",
       "316                                                                                                                                                                                                                                                                  Im Luis Baleme Engineer USA ArmyI basically positive person also loves humor laughter would like someone adventurous spirit positive attitude I need someone see funny side life someone open willing learn new things   \n",
       "11                                                                                                          In words I say I serious goals life like true woman I like dream make come true I serious profession I going stop Ive achieved family always first place But impossible serious time necessary I believe I like fun love sportlisten good music learn enjoy simple moments life I active open person sense humor I strong enough live alone much better share life someone nice   \n",
       "2618                                                                    I think I open person honest I think something I say I never something behind persons back important I calm lovely I like love loved communicationI enjoy many things like aerobics hiking skiing walking candlelit dinners gardening reading psychology travelling movies theatres concerts restaurants art galleries exhibitions I like experience new things also like spend time family play pet decorate house   \n",
       "1345                                                                                                                                                                                                                                                                                                                                                                                 I simplecaringlovingGod fearingdecenthard working man need life time partner build end life cos retire   \n",
       "3934  I happy honest sincere person enjoy life Im organize clean I like hear music dancing watch TV use computerwork garden go road trips travel I live daughter take care grand kids school week Im interest relocate place I believe internet relation need time lots interest serious want love loved againi dont joke play head serious beginning sure distance changed mind maybe light end tunnel want someone every day someone spend time things together share everything together   \n",
       "\n",
       "      y Language translated_occupation  \n",
       "1731  1       sw                   AND  \n",
       "2413  1       en       Self employment  \n",
       "2029  1       tl              military  \n",
       "2528  1       es           cargo agent  \n",
       "1329  1       en  chemical engineering  \n",
       "316   1       tl              military  \n",
       "11    1       hu                 legal  \n",
       "2618  1       tl              military  \n",
       "1345  1       de          Army General  \n",
       "3934  1       ro                 nurse  "
      ]
     },
     "execution_count": 332,
     "metadata": {},
     "output_type": "execute_result"
    }
   ],
   "source": [
    "scamdf1.sample(10)"
   ]
  },
  {
   "cell_type": "code",
   "execution_count": 333,
   "id": "55ffb96e",
   "metadata": {},
   "outputs": [],
   "source": [
    "# drop original description column\n",
    "scamdf1.drop(columns = \"description\", inplace = True)"
   ]
  },
  {
   "cell_type": "code",
   "execution_count": 14,
   "id": "d1a4fdc4",
   "metadata": {},
   "outputs": [
    {
     "data": {
      "text/html": [
       "<div>\n",
       "<style scoped>\n",
       "    .dataframe tbody tr th:only-of-type {\n",
       "        vertical-align: middle;\n",
       "    }\n",
       "\n",
       "    .dataframe tbody tr th {\n",
       "        vertical-align: top;\n",
       "    }\n",
       "\n",
       "    .dataframe thead th {\n",
       "        text-align: right;\n",
       "    }\n",
       "</style>\n",
       "<table border=\"1\" class=\"dataframe\">\n",
       "  <thead>\n",
       "    <tr style=\"text-align: right;\">\n",
       "      <th></th>\n",
       "      <th>username</th>\n",
       "      <th>age</th>\n",
       "      <th>occupation</th>\n",
       "      <th>status</th>\n",
       "      <th>gender</th>\n",
       "      <th>description</th>\n",
       "      <th>filtered sentence</th>\n",
       "      <th>y</th>\n",
       "    </tr>\n",
       "  </thead>\n",
       "  <tbody>\n",
       "    <tr>\n",
       "      <th>20</th>\n",
       "      <td>adalhardbartholo</td>\n",
       "      <td>42</td>\n",
       "      <td>Oil and Gas consultant</td>\n",
       "      <td>single</td>\n",
       "      <td>male</td>\n",
       "      <td></td>\n",
       "      <td></td>\n",
       "      <td>1</td>\n",
       "    </tr>\n",
       "    <tr>\n",
       "      <th>26</th>\n",
       "      <td>adamsandler</td>\n",
       "      <td>53</td>\n",
       "      <td>doctor</td>\n",
       "      <td>single</td>\n",
       "      <td>male</td>\n",
       "      <td></td>\n",
       "      <td></td>\n",
       "      <td>1</td>\n",
       "    </tr>\n",
       "    <tr>\n",
       "      <th>30</th>\n",
       "      <td>adamslilly</td>\n",
       "      <td>51</td>\n",
       "      <td>laywer</td>\n",
       "      <td>widowed</td>\n",
       "      <td>female</td>\n",
       "      <td></td>\n",
       "      <td></td>\n",
       "      <td>1</td>\n",
       "    </tr>\n",
       "    <tr>\n",
       "      <th>31</th>\n",
       "      <td>adamsmorgan</td>\n",
       "      <td>46</td>\n",
       "      <td>manufacturing</td>\n",
       "      <td>single</td>\n",
       "      <td>male</td>\n",
       "      <td></td>\n",
       "      <td></td>\n",
       "      <td>1</td>\n",
       "    </tr>\n",
       "    <tr>\n",
       "      <th>39</th>\n",
       "      <td>Adriana200</td>\n",
       "      <td>30</td>\n",
       "      <td>self employed</td>\n",
       "      <td>single</td>\n",
       "      <td>female</td>\n",
       "      <td></td>\n",
       "      <td></td>\n",
       "      <td>1</td>\n",
       "    </tr>\n",
       "    <tr>\n",
       "      <th>...</th>\n",
       "      <td>...</td>\n",
       "      <td>...</td>\n",
       "      <td>...</td>\n",
       "      <td>...</td>\n",
       "      <td>...</td>\n",
       "      <td>...</td>\n",
       "      <td>...</td>\n",
       "      <td>...</td>\n",
       "    </tr>\n",
       "    <tr>\n",
       "      <th>4199</th>\n",
       "      <td>walterdaniel</td>\n",
       "      <td>60</td>\n",
       "      <td>Construction engineer</td>\n",
       "      <td>widowed</td>\n",
       "      <td>male</td>\n",
       "      <td></td>\n",
       "      <td></td>\n",
       "      <td>1</td>\n",
       "    </tr>\n",
       "    <tr>\n",
       "      <th>4281</th>\n",
       "      <td>williamtom584</td>\n",
       "      <td>42</td>\n",
       "      <td>construction</td>\n",
       "      <td>single</td>\n",
       "      <td>male</td>\n",
       "      <td></td>\n",
       "      <td></td>\n",
       "      <td>1</td>\n",
       "    </tr>\n",
       "    <tr>\n",
       "      <th>4297</th>\n",
       "      <td>wilsonmorgan</td>\n",
       "      <td>48</td>\n",
       "      <td>engineer</td>\n",
       "      <td>widowed</td>\n",
       "      <td>male</td>\n",
       "      <td></td>\n",
       "      <td></td>\n",
       "      <td>1</td>\n",
       "    </tr>\n",
       "    <tr>\n",
       "      <th>4329</th>\n",
       "      <td>yolly36</td>\n",
       "      <td>36</td>\n",
       "      <td>military</td>\n",
       "      <td>single</td>\n",
       "      <td>female</td>\n",
       "      <td></td>\n",
       "      <td></td>\n",
       "      <td>1</td>\n",
       "    </tr>\n",
       "    <tr>\n",
       "      <th>4331</th>\n",
       "      <td>young_james70</td>\n",
       "      <td>39</td>\n",
       "      <td>Construction Engineer</td>\n",
       "      <td>single</td>\n",
       "      <td>male</td>\n",
       "      <td></td>\n",
       "      <td></td>\n",
       "      <td>1</td>\n",
       "    </tr>\n",
       "  </tbody>\n",
       "</table>\n",
       "<p>130 rows × 8 columns</p>\n",
       "</div>"
      ],
      "text/plain": [
       "               username age              occupation    status  gender  \\\n",
       "20     adalhardbartholo  42  Oil and Gas consultant    single    male   \n",
       "26          adamsandler  53                  doctor    single    male   \n",
       "30           adamslilly  51                  laywer   widowed  female   \n",
       "31          adamsmorgan  46           manufacturing    single    male   \n",
       "39           Adriana200  30           self employed    single  female   \n",
       "...                 ...  ..                     ...       ...     ...   \n",
       "4199       walterdaniel  60   Construction engineer   widowed    male   \n",
       "4281      williamtom584  42            construction    single    male   \n",
       "4297       wilsonmorgan  48                engineer   widowed    male   \n",
       "4329            yolly36  36                military    single  female   \n",
       "4331      young_james70  39   Construction Engineer    single    male   \n",
       "\n",
       "     description filtered sentence  y  \n",
       "20                                  1  \n",
       "26                                  1  \n",
       "30                                  1  \n",
       "31                                  1  \n",
       "39                                  1  \n",
       "...          ...               ... ..  \n",
       "4199                                1  \n",
       "4281                                1  \n",
       "4297                                1  \n",
       "4329                                1  \n",
       "4331                                1  \n",
       "\n",
       "[130 rows x 8 columns]"
      ]
     },
     "execution_count": 14,
     "metadata": {},
     "output_type": "execute_result"
    }
   ],
   "source": [
    "# check for rows that have no descriptions\n",
    "scamdf1[scamdf1[\"filtered sentence\"] == '']"
   ]
  },
  {
   "cell_type": "code",
   "execution_count": 15,
   "id": "35306e37",
   "metadata": {},
   "outputs": [],
   "source": [
    "# remove rows that have no descriptions\n",
    "scamdf1 = scamdf1[scamdf1[\"filtered sentence\"] != ''].copy()"
   ]
  },
  {
   "cell_type": "code",
   "execution_count": 16,
   "id": "fc2e279a",
   "metadata": {},
   "outputs": [
    {
     "data": {
      "text/html": [
       "<div>\n",
       "<style scoped>\n",
       "    .dataframe tbody tr th:only-of-type {\n",
       "        vertical-align: middle;\n",
       "    }\n",
       "\n",
       "    .dataframe tbody tr th {\n",
       "        vertical-align: top;\n",
       "    }\n",
       "\n",
       "    .dataframe thead th {\n",
       "        text-align: right;\n",
       "    }\n",
       "</style>\n",
       "<table border=\"1\" class=\"dataframe\">\n",
       "  <thead>\n",
       "    <tr style=\"text-align: right;\">\n",
       "      <th></th>\n",
       "      <th>username</th>\n",
       "      <th>age</th>\n",
       "      <th>occupation</th>\n",
       "      <th>status</th>\n",
       "      <th>gender</th>\n",
       "      <th>description</th>\n",
       "      <th>filtered sentence</th>\n",
       "      <th>y</th>\n",
       "    </tr>\n",
       "  </thead>\n",
       "  <tbody>\n",
       "  </tbody>\n",
       "</table>\n",
       "</div>"
      ],
      "text/plain": [
       "Empty DataFrame\n",
       "Columns: [username, age, occupation, status, gender, description, filtered sentence, y]\n",
       "Index: []"
      ]
     },
     "execution_count": 16,
     "metadata": {},
     "output_type": "execute_result"
    }
   ],
   "source": [
    "# check empty occupation again\n",
    "scamdf1[scamdf1['occupation']=='']"
   ]
  },
  {
   "cell_type": "code",
   "execution_count": 17,
   "id": "98c52036",
   "metadata": {},
   "outputs": [],
   "source": [
    "# removing occupation value count ==1 \n",
    "scamdf1['occupation'].value_counts()\n",
    "\n",
    "temp=scamdf1['occupation'].tolist()\n",
    "scamdf1 = scamdf1[scamdf1['occupation'].apply(lambda x: temp.count(x)>1)].copy()"
   ]
  },
  {
   "cell_type": "code",
   "execution_count": 19,
   "id": "22f52d02",
   "metadata": {},
   "outputs": [],
   "source": [
    "# removing status value count ==1 \n",
    "scamdf1['status'].value_counts()\n",
    "\n",
    "tempstatus=scamdf1['status'].tolist()\n",
    "scamdf1 = scamdf1[scamdf1['status'].apply(lambda x: tempstatus.count(x)>1)].copy()"
   ]
  },
  {
   "cell_type": "code",
   "execution_count": 20,
   "id": "f4a63f3e",
   "metadata": {},
   "outputs": [],
   "source": [
    "# strip whitespace in status column\n",
    "scamdf1['status']=scamdf1['status'].str.strip()"
   ]
  },
  {
   "cell_type": "code",
   "execution_count": 21,
   "id": "04ccfc1a",
   "metadata": {},
   "outputs": [
    {
     "data": {
      "text/plain": [
       "single                1540\n",
       "widowed                835\n",
       "divorced               418\n",
       "–                       53\n",
       "separated               22\n",
       "widower                  8\n",
       "Widowed                  8\n",
       "Divorced                 6\n",
       "widow                    4\n",
       "single or divorced       2\n",
       "Name: status, dtype: int64"
      ]
     },
     "execution_count": 21,
     "metadata": {},
     "output_type": "execute_result"
    }
   ],
   "source": [
    "# check value counts for status column\n",
    "scamdf1['status'].value_counts()"
   ]
  },
  {
   "cell_type": "code",
   "execution_count": 22,
   "id": "fb16d7e0",
   "metadata": {},
   "outputs": [],
   "source": [
    "# remove empty status\n",
    "scamdf1=scamdf1[scamdf1['status']!='–'].copy()"
   ]
  },
  {
   "cell_type": "code",
   "execution_count": 23,
   "id": "ca4f196c",
   "metadata": {},
   "outputs": [
    {
     "data": {
      "text/plain": [
       "single                1540\n",
       "widowed                835\n",
       "divorced               418\n",
       "separated               22\n",
       "widower                  8\n",
       "Widowed                  8\n",
       "Divorced                 6\n",
       "widow                    4\n",
       "single or divorced       2\n",
       "Name: status, dtype: int64"
      ]
     },
     "execution_count": 23,
     "metadata": {},
     "output_type": "execute_result"
    }
   ],
   "source": [
    "# check for null status values\n",
    "scamdf1['status'].value_counts()"
   ]
  },
  {
   "cell_type": "code",
   "execution_count": 24,
   "id": "5f36bad5",
   "metadata": {},
   "outputs": [
    {
     "data": {
      "text/plain": [
       "username             0\n",
       "age                  0\n",
       "occupation           0\n",
       "status               2\n",
       "gender               0\n",
       "description          0\n",
       "filtered sentence    0\n",
       "y                    0\n",
       "dtype: int64"
      ]
     },
     "execution_count": 24,
     "metadata": {},
     "output_type": "execute_result"
    }
   ],
   "source": [
    "# check null values\n",
    "scamdf1.isna().sum()"
   ]
  },
  {
   "cell_type": "code",
   "execution_count": 25,
   "id": "d86fc18f",
   "metadata": {},
   "outputs": [],
   "source": [
    "# drop null rows\n",
    "scamdf1.dropna(inplace=True)"
   ]
  },
  {
   "cell_type": "code",
   "execution_count": 26,
   "id": "2f0913ec",
   "metadata": {},
   "outputs": [
    {
     "name": "stdout",
     "output_type": "stream",
     "text": [
      "<class 'pandas.core.frame.DataFrame'>\n",
      "Int64Index: 2843 entries, 0 to 4341\n",
      "Data columns (total 8 columns):\n",
      " #   Column             Non-Null Count  Dtype \n",
      "---  ------             --------------  ----- \n",
      " 0   username           2843 non-null   object\n",
      " 1   age                2843 non-null   object\n",
      " 2   occupation         2843 non-null   object\n",
      " 3   status             2843 non-null   object\n",
      " 4   gender             2843 non-null   object\n",
      " 5   description        2843 non-null   object\n",
      " 6   filtered sentence  2843 non-null   object\n",
      " 7   y                  2843 non-null   int64 \n",
      "dtypes: int64(1), object(7)\n",
      "memory usage: 199.9+ KB\n"
     ]
    }
   ],
   "source": [
    "scamdf1.info()"
   ]
  },
  {
   "cell_type": "code",
   "execution_count": 247,
   "id": "13a5c3b0",
   "metadata": {},
   "outputs": [],
   "source": [
    "# final 2843 rows\n",
    "scamdf1.to_csv('scam_profile.csv', header=True, index=False)"
   ]
  },
  {
   "cell_type": "markdown",
   "id": "fa143b51",
   "metadata": {},
   "source": [
    "# Real df data cleaning\n",
    "- Select only relevant columns - username, gender, age, occupation, status, description\n",
    "- For description, \n",
    "    - if description == '-':\n",
    "        - description = ethnicity + children + orientation + religion + smoking + drinking + intent\n",
    "    - remove punctuations \n",
    "    - check how many non english descriptions "
   ]
  },
  {
   "cell_type": "code",
   "execution_count": 27,
   "id": "a2e145f2",
   "metadata": {},
   "outputs": [
    {
     "data": {
      "text/html": [
       "<div>\n",
       "<style scoped>\n",
       "    .dataframe tbody tr th:only-of-type {\n",
       "        vertical-align: middle;\n",
       "    }\n",
       "\n",
       "    .dataframe tbody tr th {\n",
       "        vertical-align: top;\n",
       "    }\n",
       "\n",
       "    .dataframe thead th {\n",
       "        text-align: right;\n",
       "    }\n",
       "</style>\n",
       "<table border=\"1\" class=\"dataframe\">\n",
       "  <thead>\n",
       "    <tr style=\"text-align: right;\">\n",
       "      <th></th>\n",
       "      <th>gender</th>\n",
       "      <th>age</th>\n",
       "      <th>location</th>\n",
       "      <th>status</th>\n",
       "      <th>username</th>\n",
       "      <th>ethnicity</th>\n",
       "      <th>occupation</th>\n",
       "      <th>description</th>\n",
       "      <th>match_age</th>\n",
       "      <th>children</th>\n",
       "      <th>orientation</th>\n",
       "      <th>religion</th>\n",
       "      <th>smoking</th>\n",
       "      <th>drinking</th>\n",
       "      <th>intent</th>\n",
       "      <th>site</th>\n",
       "    </tr>\n",
       "  </thead>\n",
       "  <tbody>\n",
       "    <tr>\n",
       "      <th>0</th>\n",
       "      <td>female</td>\n",
       "      <td>39 y.o.</td>\n",
       "      <td>Johannesburg, South Africa</td>\n",
       "      <td>single</td>\n",
       "      <td>00</td>\n",
       "      <td>black</td>\n",
       "      <td>Frailcare nurse</td>\n",
       "      <td>-</td>\n",
       "      <td>from 36 to 50</td>\n",
       "      <td>1-2 living with me</td>\n",
       "      <td>Straight</td>\n",
       "      <td>Christian</td>\n",
       "      <td>non-smoker</td>\n",
       "      <td>social drinker</td>\n",
       "      <td>Romance</td>\n",
       "      <td>realprofile\\real00.json</td>\n",
       "    </tr>\n",
       "    <tr>\n",
       "      <th>1</th>\n",
       "      <td>female</td>\n",
       "      <td>43 y.o.</td>\n",
       "      <td>Manizales, Caldas, Colombia</td>\n",
       "      <td>separated</td>\n",
       "      <td>0065patricia</td>\n",
       "      <td>native american</td>\n",
       "      <td>Administradora</td>\n",
       "      <td>-</td>\n",
       "      <td>from 19 to 86</td>\n",
       "      <td>more than 2 living elsewhere</td>\n",
       "      <td>Bisexual</td>\n",
       "      <td>Other</td>\n",
       "      <td>non-smoker</td>\n",
       "      <td>never</td>\n",
       "      <td>Serious Relationship</td>\n",
       "      <td>realprofile\\real0065patricia.json</td>\n",
       "    </tr>\n",
       "    <tr>\n",
       "      <th>2</th>\n",
       "      <td>male</td>\n",
       "      <td>63 y.o.</td>\n",
       "      <td>Lima, Perú</td>\n",
       "      <td>divorced</td>\n",
       "      <td>007</td>\n",
       "      <td>white</td>\n",
       "      <td>comercio</td>\n",
       "      <td>-</td>\n",
       "      <td>from 19 to 86</td>\n",
       "      <td>1-2 living elsewhere</td>\n",
       "      <td>Straight</td>\n",
       "      <td>Christian</td>\n",
       "      <td>non-smoker</td>\n",
       "      <td>occasional drinker</td>\n",
       "      <td>Friendship</td>\n",
       "      <td>realprofile\\real007.json</td>\n",
       "    </tr>\n",
       "    <tr>\n",
       "      <th>3</th>\n",
       "      <td>male</td>\n",
       "      <td>59 y.o.</td>\n",
       "      <td>London, UK</td>\n",
       "      <td>divorced</td>\n",
       "      <td>0077654321</td>\n",
       "      <td>white</td>\n",
       "      <td>Developer</td>\n",
       "      <td>-</td>\n",
       "      <td>from 48 to 65</td>\n",
       "      <td>1-2 living elsewhere</td>\n",
       "      <td>Straight</td>\n",
       "      <td>Atheist</td>\n",
       "      <td>non-smoker</td>\n",
       "      <td>occasional drinker</td>\n",
       "      <td>Fun, Friendship, Romance, Serious Relationship</td>\n",
       "      <td>realprofile\\real0077654321.json</td>\n",
       "    </tr>\n",
       "    <tr>\n",
       "      <th>4</th>\n",
       "      <td>male</td>\n",
       "      <td>30 y.o.</td>\n",
       "      <td>Sucre, Bolivia</td>\n",
       "      <td>single</td>\n",
       "      <td>00alex00</td>\n",
       "      <td>hispanic</td>\n",
       "      <td>Guardia de seguridad</td>\n",
       "      <td>-</td>\n",
       "      <td>from 19 to 86</td>\n",
       "      <td>don't want children</td>\n",
       "      <td>Straight</td>\n",
       "      <td>Other</td>\n",
       "      <td>non-smoker</td>\n",
       "      <td>never</td>\n",
       "      <td>Fun, Friendship, Romance</td>\n",
       "      <td>realprofile\\real00alex00.json</td>\n",
       "    </tr>\n",
       "  </tbody>\n",
       "</table>\n",
       "</div>"
      ],
      "text/plain": [
       "   gender      age                     location     status      username  \\\n",
       "0  female  39 y.o.   Johannesburg, South Africa     single            00   \n",
       "1  female  43 y.o.  Manizales, Caldas, Colombia  separated  0065patricia   \n",
       "2    male  63 y.o.                   Lima, Perú   divorced           007   \n",
       "3    male  59 y.o.                   London, UK   divorced    0077654321   \n",
       "4    male  30 y.o.               Sucre, Bolivia     single      00alex00   \n",
       "\n",
       "         ethnicity            occupation description      match_age  \\\n",
       "0            black       Frailcare nurse           -  from 36 to 50   \n",
       "1  native american        Administradora           -  from 19 to 86   \n",
       "2            white              comercio           -  from 19 to 86   \n",
       "3            white             Developer           -  from 48 to 65   \n",
       "4         hispanic  Guardia de seguridad           -  from 19 to 86   \n",
       "\n",
       "                       children orientation   religion     smoking  \\\n",
       "0            1-2 living with me    Straight  Christian  non-smoker   \n",
       "1  more than 2 living elsewhere    Bisexual      Other  non-smoker   \n",
       "2          1-2 living elsewhere    Straight  Christian  non-smoker   \n",
       "3          1-2 living elsewhere    Straight    Atheist  non-smoker   \n",
       "4           don't want children    Straight      Other  non-smoker   \n",
       "\n",
       "             drinking                                          intent  \\\n",
       "0      social drinker                                         Romance   \n",
       "1               never                            Serious Relationship   \n",
       "2  occasional drinker                                      Friendship   \n",
       "3  occasional drinker  Fun, Friendship, Romance, Serious Relationship   \n",
       "4               never                        Fun, Friendship, Romance   \n",
       "\n",
       "                                site  \n",
       "0            realprofile\\real00.json  \n",
       "1  realprofile\\real0065patricia.json  \n",
       "2           realprofile\\real007.json  \n",
       "3    realprofile\\real0077654321.json  \n",
       "4      realprofile\\real00alex00.json  "
      ]
     },
     "execution_count": 27,
     "metadata": {},
     "output_type": "execute_result"
    }
   ],
   "source": [
    "realdf.head()"
   ]
  },
  {
   "cell_type": "code",
   "execution_count": 28,
   "id": "fb2a5c46",
   "metadata": {},
   "outputs": [
    {
     "name": "stdout",
     "output_type": "stream",
     "text": [
      "<class 'pandas.core.frame.DataFrame'>\n",
      "RangeIndex: 17724 entries, 0 to 17723\n",
      "Data columns (total 16 columns):\n",
      " #   Column       Non-Null Count  Dtype \n",
      "---  ------       --------------  ----- \n",
      " 0   gender       17724 non-null  object\n",
      " 1   age          17724 non-null  object\n",
      " 2   location     17724 non-null  object\n",
      " 3   status       17724 non-null  object\n",
      " 4   username     17723 non-null  object\n",
      " 5   ethnicity    17724 non-null  object\n",
      " 6   occupation   17724 non-null  object\n",
      " 7   description  17724 non-null  object\n",
      " 8   match_age    17724 non-null  object\n",
      " 9   children     17724 non-null  object\n",
      " 10  orientation  17724 non-null  object\n",
      " 11  religion     17724 non-null  object\n",
      " 12  smoking      17724 non-null  object\n",
      " 13  drinking     17724 non-null  object\n",
      " 14  intent       17724 non-null  object\n",
      " 15  site         17724 non-null  object\n",
      "dtypes: object(16)\n",
      "memory usage: 2.2+ MB\n"
     ]
    }
   ],
   "source": [
    "realdf.info()"
   ]
  },
  {
   "cell_type": "code",
   "execution_count": 29,
   "id": "5f22924f",
   "metadata": {},
   "outputs": [
    {
     "data": {
      "text/plain": [
       "gender         17724\n",
       "age            17724\n",
       "location       17724\n",
       "status         17724\n",
       "username       17723\n",
       "ethnicity      17724\n",
       "occupation     17724\n",
       "description    17724\n",
       "match_age      17724\n",
       "children       17724\n",
       "orientation    17724\n",
       "religion       17724\n",
       "smoking        17724\n",
       "drinking       17724\n",
       "intent         17724\n",
       "site           17724\n",
       "dtype: int64"
      ]
     },
     "execution_count": 29,
     "metadata": {},
     "output_type": "execute_result"
    }
   ],
   "source": [
    "# check for no. of null description\n",
    "realdf[realdf['description']!=''].count()"
   ]
  },
  {
   "cell_type": "code",
   "execution_count": 30,
   "id": "fb5552c0",
   "metadata": {},
   "outputs": [],
   "source": [
    "realdf2 = realdf[realdf[\"description\"] == \"-\"].copy()"
   ]
  },
  {
   "cell_type": "code",
   "execution_count": 31,
   "id": "6ebaface",
   "metadata": {},
   "outputs": [
    {
     "data": {
      "text/html": [
       "<div>\n",
       "<style scoped>\n",
       "    .dataframe tbody tr th:only-of-type {\n",
       "        vertical-align: middle;\n",
       "    }\n",
       "\n",
       "    .dataframe tbody tr th {\n",
       "        vertical-align: top;\n",
       "    }\n",
       "\n",
       "    .dataframe thead th {\n",
       "        text-align: right;\n",
       "    }\n",
       "</style>\n",
       "<table border=\"1\" class=\"dataframe\">\n",
       "  <thead>\n",
       "    <tr style=\"text-align: right;\">\n",
       "      <th></th>\n",
       "      <th>gender</th>\n",
       "      <th>age</th>\n",
       "      <th>location</th>\n",
       "      <th>status</th>\n",
       "      <th>username</th>\n",
       "      <th>ethnicity</th>\n",
       "      <th>occupation</th>\n",
       "      <th>description</th>\n",
       "      <th>match_age</th>\n",
       "      <th>children</th>\n",
       "      <th>orientation</th>\n",
       "      <th>religion</th>\n",
       "      <th>smoking</th>\n",
       "      <th>drinking</th>\n",
       "      <th>intent</th>\n",
       "      <th>site</th>\n",
       "    </tr>\n",
       "  </thead>\n",
       "  <tbody>\n",
       "    <tr>\n",
       "      <th>0</th>\n",
       "      <td>female</td>\n",
       "      <td>39 y.o.</td>\n",
       "      <td>Johannesburg, South Africa</td>\n",
       "      <td>single</td>\n",
       "      <td>00</td>\n",
       "      <td>black</td>\n",
       "      <td>Frailcare nurse</td>\n",
       "      <td>black Straight Christian non-smoker social drinker Romance</td>\n",
       "      <td>from 36 to 50</td>\n",
       "      <td>1-2 living with me</td>\n",
       "      <td>Straight</td>\n",
       "      <td>Christian</td>\n",
       "      <td>non-smoker</td>\n",
       "      <td>social drinker</td>\n",
       "      <td>Romance</td>\n",
       "      <td>realprofile\\real00.json</td>\n",
       "    </tr>\n",
       "    <tr>\n",
       "      <th>1</th>\n",
       "      <td>female</td>\n",
       "      <td>43 y.o.</td>\n",
       "      <td>Manizales, Caldas, Colombia</td>\n",
       "      <td>separated</td>\n",
       "      <td>0065patricia</td>\n",
       "      <td>native american</td>\n",
       "      <td>Administradora</td>\n",
       "      <td>native american Bisexual Other non-smoker never Serious Relationship</td>\n",
       "      <td>from 19 to 86</td>\n",
       "      <td>more than 2 living elsewhere</td>\n",
       "      <td>Bisexual</td>\n",
       "      <td>Other</td>\n",
       "      <td>non-smoker</td>\n",
       "      <td>never</td>\n",
       "      <td>Serious Relationship</td>\n",
       "      <td>realprofile\\real0065patricia.json</td>\n",
       "    </tr>\n",
       "    <tr>\n",
       "      <th>2</th>\n",
       "      <td>male</td>\n",
       "      <td>63 y.o.</td>\n",
       "      <td>Lima, Perú</td>\n",
       "      <td>divorced</td>\n",
       "      <td>007</td>\n",
       "      <td>white</td>\n",
       "      <td>comercio</td>\n",
       "      <td>white Straight Christian non-smoker occasional drinker Friendship</td>\n",
       "      <td>from 19 to 86</td>\n",
       "      <td>1-2 living elsewhere</td>\n",
       "      <td>Straight</td>\n",
       "      <td>Christian</td>\n",
       "      <td>non-smoker</td>\n",
       "      <td>occasional drinker</td>\n",
       "      <td>Friendship</td>\n",
       "      <td>realprofile\\real007.json</td>\n",
       "    </tr>\n",
       "    <tr>\n",
       "      <th>3</th>\n",
       "      <td>male</td>\n",
       "      <td>59 y.o.</td>\n",
       "      <td>London, UK</td>\n",
       "      <td>divorced</td>\n",
       "      <td>0077654321</td>\n",
       "      <td>white</td>\n",
       "      <td>Developer</td>\n",
       "      <td>white Straight Atheist non-smoker occasional drinker Fun, Friendship, Romance, Serious Relationship</td>\n",
       "      <td>from 48 to 65</td>\n",
       "      <td>1-2 living elsewhere</td>\n",
       "      <td>Straight</td>\n",
       "      <td>Atheist</td>\n",
       "      <td>non-smoker</td>\n",
       "      <td>occasional drinker</td>\n",
       "      <td>Fun, Friendship, Romance, Serious Relationship</td>\n",
       "      <td>realprofile\\real0077654321.json</td>\n",
       "    </tr>\n",
       "    <tr>\n",
       "      <th>4</th>\n",
       "      <td>male</td>\n",
       "      <td>30 y.o.</td>\n",
       "      <td>Sucre, Bolivia</td>\n",
       "      <td>single</td>\n",
       "      <td>00alex00</td>\n",
       "      <td>hispanic</td>\n",
       "      <td>Guardia de seguridad</td>\n",
       "      <td>hispanic Straight Other non-smoker never Fun, Friendship, Romance</td>\n",
       "      <td>from 19 to 86</td>\n",
       "      <td>don't want children</td>\n",
       "      <td>Straight</td>\n",
       "      <td>Other</td>\n",
       "      <td>non-smoker</td>\n",
       "      <td>never</td>\n",
       "      <td>Fun, Friendship, Romance</td>\n",
       "      <td>realprofile\\real00alex00.json</td>\n",
       "    </tr>\n",
       "    <tr>\n",
       "      <th>5</th>\n",
       "      <td>male</td>\n",
       "      <td>32 y.o.</td>\n",
       "      <td>Colinas de Cerro Viento, Panamá</td>\n",
       "      <td>single</td>\n",
       "      <td>00lucero90</td>\n",
       "      <td>hispanic</td>\n",
       "      <td>Ingeniero naval</td>\n",
       "      <td>hispanic Straight Christian social smoker social drinker Fun, Friendship, Romance</td>\n",
       "      <td>from 19 to 86</td>\n",
       "      <td>no children</td>\n",
       "      <td>Straight</td>\n",
       "      <td>Christian</td>\n",
       "      <td>social smoker</td>\n",
       "      <td>social drinker</td>\n",
       "      <td>Fun, Friendship, Romance</td>\n",
       "      <td>realprofile\\real00lucero90.json</td>\n",
       "    </tr>\n",
       "    <tr>\n",
       "      <th>7</th>\n",
       "      <td>male</td>\n",
       "      <td>52 y.o.</td>\n",
       "      <td>Bucaramanga, Santander, Colombia</td>\n",
       "      <td>divorced</td>\n",
       "      <td>01Anselmo212</td>\n",
       "      <td>hispanic</td>\n",
       "      <td>Ingeniero</td>\n",
       "      <td>hispanic Straight Christian non-smoker never Serious Relationship</td>\n",
       "      <td>from 30 to 40</td>\n",
       "      <td>1-2 living elsewhere</td>\n",
       "      <td>Straight</td>\n",
       "      <td>Christian</td>\n",
       "      <td>non-smoker</td>\n",
       "      <td>never</td>\n",
       "      <td>Serious Relationship</td>\n",
       "      <td>realprofile\\real01Anselmo212.json</td>\n",
       "    </tr>\n",
       "    <tr>\n",
       "      <th>8</th>\n",
       "      <td>male</td>\n",
       "      <td>49 y.o.</td>\n",
       "      <td>Miami, Florida, EE. UU.</td>\n",
       "      <td>divorced</td>\n",
       "      <td>0279602</td>\n",
       "      <td>hispanic</td>\n",
       "      <td>Mantenimiento</td>\n",
       "      <td>hispanic Straight Other non-smoker never Serious Relationship</td>\n",
       "      <td>from 33 to 50</td>\n",
       "      <td>1-2 living elsewhere</td>\n",
       "      <td>Straight</td>\n",
       "      <td>Other</td>\n",
       "      <td>non-smoker</td>\n",
       "      <td>never</td>\n",
       "      <td>Serious Relationship</td>\n",
       "      <td>realprofile\\real0279602.json</td>\n",
       "    </tr>\n",
       "    <tr>\n",
       "      <th>10</th>\n",
       "      <td>male</td>\n",
       "      <td>40 y.o.</td>\n",
       "      <td>Chicago, IL, USA</td>\n",
       "      <td>single</td>\n",
       "      <td>03Robert</td>\n",
       "      <td>hispanic</td>\n",
       "      <td>-</td>\n",
       "      <td>hispanic Straight Other light smoker social drinker Friendship, Romance, Serious Relationship</td>\n",
       "      <td>from 28 to 41</td>\n",
       "      <td>want children</td>\n",
       "      <td>Straight</td>\n",
       "      <td>Other</td>\n",
       "      <td>light smoker</td>\n",
       "      <td>social drinker</td>\n",
       "      <td>Friendship, Romance, Serious Relationship</td>\n",
       "      <td>realprofile\\real03Robert.json</td>\n",
       "    </tr>\n",
       "    <tr>\n",
       "      <th>11</th>\n",
       "      <td>male</td>\n",
       "      <td>49 y.o.</td>\n",
       "      <td>Arequipa, Perú</td>\n",
       "      <td>single</td>\n",
       "      <td>06Wil09</td>\n",
       "      <td>hispanic</td>\n",
       "      <td>Docente</td>\n",
       "      <td>hispanic Straight Christian non-smoker never Fun, Romance, Marriage</td>\n",
       "      <td>from 21 to 40</td>\n",
       "      <td>no children</td>\n",
       "      <td>Straight</td>\n",
       "      <td>Christian</td>\n",
       "      <td>non-smoker</td>\n",
       "      <td>never</td>\n",
       "      <td>Fun, Romance, Marriage</td>\n",
       "      <td>realprofile\\real06Wil09.json</td>\n",
       "    </tr>\n",
       "  </tbody>\n",
       "</table>\n",
       "</div>"
      ],
      "text/plain": [
       "    gender      age                          location     status  \\\n",
       "0   female  39 y.o.        Johannesburg, South Africa     single   \n",
       "1   female  43 y.o.       Manizales, Caldas, Colombia  separated   \n",
       "2     male  63 y.o.                        Lima, Perú   divorced   \n",
       "3     male  59 y.o.                        London, UK   divorced   \n",
       "4     male  30 y.o.                    Sucre, Bolivia     single   \n",
       "5     male  32 y.o.   Colinas de Cerro Viento, Panamá     single   \n",
       "7     male  52 y.o.  Bucaramanga, Santander, Colombia   divorced   \n",
       "8     male  49 y.o.           Miami, Florida, EE. UU.   divorced   \n",
       "10    male  40 y.o.                  Chicago, IL, USA     single   \n",
       "11    male  49 y.o.                    Arequipa, Perú     single   \n",
       "\n",
       "        username        ethnicity            occupation  \\\n",
       "0             00            black       Frailcare nurse   \n",
       "1   0065patricia  native american        Administradora   \n",
       "2            007            white              comercio   \n",
       "3     0077654321            white             Developer   \n",
       "4       00alex00         hispanic  Guardia de seguridad   \n",
       "5     00lucero90         hispanic       Ingeniero naval   \n",
       "7   01Anselmo212         hispanic             Ingeniero   \n",
       "8        0279602         hispanic         Mantenimiento   \n",
       "10      03Robert         hispanic                     -   \n",
       "11       06Wil09         hispanic               Docente   \n",
       "\n",
       "                                                                                            description  \\\n",
       "0                                            black Straight Christian non-smoker social drinker Romance   \n",
       "1                                  native american Bisexual Other non-smoker never Serious Relationship   \n",
       "2                                     white Straight Christian non-smoker occasional drinker Friendship   \n",
       "3   white Straight Atheist non-smoker occasional drinker Fun, Friendship, Romance, Serious Relationship   \n",
       "4                                     hispanic Straight Other non-smoker never Fun, Friendship, Romance   \n",
       "5                     hispanic Straight Christian social smoker social drinker Fun, Friendship, Romance   \n",
       "7                                     hispanic Straight Christian non-smoker never Serious Relationship   \n",
       "8                                         hispanic Straight Other non-smoker never Serious Relationship   \n",
       "10        hispanic Straight Other light smoker social drinker Friendship, Romance, Serious Relationship   \n",
       "11                                  hispanic Straight Christian non-smoker never Fun, Romance, Marriage   \n",
       "\n",
       "        match_age                      children orientation   religion  \\\n",
       "0   from 36 to 50            1-2 living with me    Straight  Christian   \n",
       "1   from 19 to 86  more than 2 living elsewhere    Bisexual      Other   \n",
       "2   from 19 to 86          1-2 living elsewhere    Straight  Christian   \n",
       "3   from 48 to 65          1-2 living elsewhere    Straight    Atheist   \n",
       "4   from 19 to 86           don't want children    Straight      Other   \n",
       "5   from 19 to 86                   no children    Straight  Christian   \n",
       "7   from 30 to 40          1-2 living elsewhere    Straight  Christian   \n",
       "8   from 33 to 50          1-2 living elsewhere    Straight      Other   \n",
       "10  from 28 to 41                 want children    Straight      Other   \n",
       "11  from 21 to 40                   no children    Straight  Christian   \n",
       "\n",
       "          smoking            drinking  \\\n",
       "0      non-smoker      social drinker   \n",
       "1      non-smoker               never   \n",
       "2      non-smoker  occasional drinker   \n",
       "3      non-smoker  occasional drinker   \n",
       "4      non-smoker               never   \n",
       "5   social smoker      social drinker   \n",
       "7      non-smoker               never   \n",
       "8      non-smoker               never   \n",
       "10   light smoker      social drinker   \n",
       "11     non-smoker               never   \n",
       "\n",
       "                                            intent  \\\n",
       "0                                          Romance   \n",
       "1                             Serious Relationship   \n",
       "2                                       Friendship   \n",
       "3   Fun, Friendship, Romance, Serious Relationship   \n",
       "4                         Fun, Friendship, Romance   \n",
       "5                         Fun, Friendship, Romance   \n",
       "7                             Serious Relationship   \n",
       "8                             Serious Relationship   \n",
       "10       Friendship, Romance, Serious Relationship   \n",
       "11                          Fun, Romance, Marriage   \n",
       "\n",
       "                                 site  \n",
       "0             realprofile\\real00.json  \n",
       "1   realprofile\\real0065patricia.json  \n",
       "2            realprofile\\real007.json  \n",
       "3     realprofile\\real0077654321.json  \n",
       "4       realprofile\\real00alex00.json  \n",
       "5     realprofile\\real00lucero90.json  \n",
       "7   realprofile\\real01Anselmo212.json  \n",
       "8        realprofile\\real0279602.json  \n",
       "10      realprofile\\real03Robert.json  \n",
       "11       realprofile\\real06Wil09.json  "
      ]
     },
     "execution_count": 31,
     "metadata": {},
     "output_type": "execute_result"
    }
   ],
   "source": [
    "# as descriptions are empty, we concentenate different attributes to make up a description\n",
    "realdf2[\"description\"] = realdf2[\"ethnicity\"] +' '+ realdf2[\"orientation\"] +' '+ realdf2[\"religion\"] +' '+ realdf2[\"smoking\"] +' '+ realdf2[\"drinking\"] +' '+ realdf2[\"intent\"]\n",
    "realdf2.head(10)\n"
   ]
  },
  {
   "cell_type": "code",
   "execution_count": 32,
   "id": "861a69b6",
   "metadata": {},
   "outputs": [
    {
     "data": {
      "text/plain": [
       "17724"
      ]
     },
     "execution_count": 32,
     "metadata": {},
     "output_type": "execute_result"
    }
   ],
   "source": [
    "#combine realdf2 with realdf3 \n",
    "realdf3 = realdf[realdf[\"description\"] != '-']\n",
    "realdf4 = pd.concat([realdf3, realdf2])\n",
    "len(realdf4)"
   ]
  },
  {
   "cell_type": "code",
   "execution_count": 33,
   "id": "c9971c24",
   "metadata": {},
   "outputs": [
    {
     "data": {
      "text/html": [
       "<div>\n",
       "<style scoped>\n",
       "    .dataframe tbody tr th:only-of-type {\n",
       "        vertical-align: middle;\n",
       "    }\n",
       "\n",
       "    .dataframe tbody tr th {\n",
       "        vertical-align: top;\n",
       "    }\n",
       "\n",
       "    .dataframe thead th {\n",
       "        text-align: right;\n",
       "    }\n",
       "</style>\n",
       "<table border=\"1\" class=\"dataframe\">\n",
       "  <thead>\n",
       "    <tr style=\"text-align: right;\">\n",
       "      <th></th>\n",
       "      <th>gender</th>\n",
       "      <th>age</th>\n",
       "      <th>location</th>\n",
       "      <th>status</th>\n",
       "      <th>username</th>\n",
       "      <th>ethnicity</th>\n",
       "      <th>occupation</th>\n",
       "      <th>description</th>\n",
       "      <th>match_age</th>\n",
       "      <th>children</th>\n",
       "      <th>orientation</th>\n",
       "      <th>religion</th>\n",
       "      <th>smoking</th>\n",
       "      <th>drinking</th>\n",
       "      <th>intent</th>\n",
       "      <th>site</th>\n",
       "    </tr>\n",
       "  </thead>\n",
       "  <tbody>\n",
       "    <tr>\n",
       "      <th>6</th>\n",
       "      <td>male</td>\n",
       "      <td>58 y.o.</td>\n",
       "      <td>San Salvador, El Salvador</td>\n",
       "      <td>divorced</td>\n",
       "      <td>0119162866</td>\n",
       "      <td>hispanic</td>\n",
       "      <td>Negocio</td>\n",
       "      <td>Honesto. Trabajador, divertido. Me gusta la naturaleza, viajar, bailar.</td>\n",
       "      <td>from 30 to 42</td>\n",
       "      <td>no children</td>\n",
       "      <td>Straight</td>\n",
       "      <td>Spiritual</td>\n",
       "      <td>social smoker</td>\n",
       "      <td>never</td>\n",
       "      <td>Friendship</td>\n",
       "      <td>realprofile\\real0119162866.json</td>\n",
       "    </tr>\n",
       "    <tr>\n",
       "      <th>9</th>\n",
       "      <td>male</td>\n",
       "      <td>38 y.o.</td>\n",
       "      <td>Boaco, Nicaragua</td>\n",
       "      <td>single</td>\n",
       "      <td>02erick</td>\n",
       "      <td>hispanic</td>\n",
       "      <td>Decoraciones eventos privados</td>\n",
       "      <td>Soy un hombre sociable cariñoso y me gusta conoser personas y tener la oportunidad de establecer una relación en algún momento</td>\n",
       "      <td>from 24 to 39</td>\n",
       "      <td>want children</td>\n",
       "      <td>Straight</td>\n",
       "      <td>Christian</td>\n",
       "      <td>social smoker</td>\n",
       "      <td>occasional drinker</td>\n",
       "      <td>Fun, Friendship, Romance, Serious Relationship</td>\n",
       "      <td>realprofile\\real02erick.json</td>\n",
       "    </tr>\n",
       "    <tr>\n",
       "      <th>18</th>\n",
       "      <td>male</td>\n",
       "      <td>35 y.o.</td>\n",
       "      <td>Bogota, Colombia</td>\n",
       "      <td>single</td>\n",
       "      <td>1047373361es</td>\n",
       "      <td>native american</td>\n",
       "      <td>Electrcista</td>\n",
       "      <td>Honesta honrrada y trabajadora y muy alegre amigable</td>\n",
       "      <td>from 30 to 50</td>\n",
       "      <td>no children</td>\n",
       "      <td>Straight</td>\n",
       "      <td>Other</td>\n",
       "      <td>non-smoker</td>\n",
       "      <td>never</td>\n",
       "      <td>Serious Relationship, Marriage</td>\n",
       "      <td>realprofile\\real1047373361es.json</td>\n",
       "    </tr>\n",
       "    <tr>\n",
       "      <th>22</th>\n",
       "      <td>female</td>\n",
       "      <td>40 y.o.</td>\n",
       "      <td>Machala, Ecuador</td>\n",
       "      <td>single</td>\n",
       "      <td>12345bonita</td>\n",
       "      <td>black</td>\n",
       "      <td>-</td>\n",
       "      <td>Soy negra mido metro 150y soy gordita</td>\n",
       "      <td>from 19 to 86</td>\n",
       "      <td>more than 2 living with me</td>\n",
       "      <td>Bisexual</td>\n",
       "      <td>Christian</td>\n",
       "      <td>non-smoker</td>\n",
       "      <td>never</td>\n",
       "      <td>Serious Relationship</td>\n",
       "      <td>realprofile\\real12345bonita.json</td>\n",
       "    </tr>\n",
       "    <tr>\n",
       "      <th>26</th>\n",
       "      <td>male</td>\n",
       "      <td>66 y.o.</td>\n",
       "      <td>San Jose, CA, USA</td>\n",
       "      <td>single</td>\n",
       "      <td>123canwe</td>\n",
       "      <td>white</td>\n",
       "      <td>Retired</td>\n",
       "      <td>I am full of fire and friskier than hell!!!!</td>\n",
       "      <td>from 19 to 64</td>\n",
       "      <td>don't want children</td>\n",
       "      <td>Straight</td>\n",
       "      <td>Christian</td>\n",
       "      <td>non-smoker</td>\n",
       "      <td>never</td>\n",
       "      <td>Fun, Friendship, Romance, Serious Relationship</td>\n",
       "      <td>realprofile\\real123canwe.json</td>\n",
       "    </tr>\n",
       "  </tbody>\n",
       "</table>\n",
       "</div>"
      ],
      "text/plain": [
       "    gender      age                   location    status      username  \\\n",
       "6     male  58 y.o.  San Salvador, El Salvador  divorced    0119162866   \n",
       "9     male  38 y.o.           Boaco, Nicaragua    single       02erick   \n",
       "18    male  35 y.o.           Bogota, Colombia    single  1047373361es   \n",
       "22  female  40 y.o.           Machala, Ecuador    single   12345bonita   \n",
       "26    male  66 y.o.          San Jose, CA, USA    single      123canwe   \n",
       "\n",
       "          ethnicity                     occupation  \\\n",
       "6          hispanic                        Negocio   \n",
       "9          hispanic  Decoraciones eventos privados   \n",
       "18  native american                    Electrcista   \n",
       "22            black                              -   \n",
       "26            white                        Retired   \n",
       "\n",
       "                                                                                                                       description  \\\n",
       "6                                                          Honesto. Trabajador, divertido. Me gusta la naturaleza, viajar, bailar.   \n",
       "9   Soy un hombre sociable cariñoso y me gusta conoser personas y tener la oportunidad de establecer una relación en algún momento   \n",
       "18                                                                            Honesta honrrada y trabajadora y muy alegre amigable   \n",
       "22                                                                                           Soy negra mido metro 150y soy gordita   \n",
       "26                                                                                    I am full of fire and friskier than hell!!!!   \n",
       "\n",
       "        match_age                    children orientation   religion  \\\n",
       "6   from 30 to 42                 no children    Straight  Spiritual   \n",
       "9   from 24 to 39               want children    Straight  Christian   \n",
       "18  from 30 to 50                 no children    Straight      Other   \n",
       "22  from 19 to 86  more than 2 living with me    Bisexual  Christian   \n",
       "26  from 19 to 64         don't want children    Straight  Christian   \n",
       "\n",
       "          smoking            drinking  \\\n",
       "6   social smoker               never   \n",
       "9   social smoker  occasional drinker   \n",
       "18     non-smoker               never   \n",
       "22     non-smoker               never   \n",
       "26     non-smoker               never   \n",
       "\n",
       "                                            intent  \\\n",
       "6                                       Friendship   \n",
       "9   Fun, Friendship, Romance, Serious Relationship   \n",
       "18                  Serious Relationship, Marriage   \n",
       "22                            Serious Relationship   \n",
       "26  Fun, Friendship, Romance, Serious Relationship   \n",
       "\n",
       "                                 site  \n",
       "6     realprofile\\real0119162866.json  \n",
       "9        realprofile\\real02erick.json  \n",
       "18  realprofile\\real1047373361es.json  \n",
       "22   realprofile\\real12345bonita.json  \n",
       "26      realprofile\\real123canwe.json  "
      ]
     },
     "execution_count": 33,
     "metadata": {},
     "output_type": "execute_result"
    }
   ],
   "source": [
    "realdf4.head()"
   ]
  },
  {
   "cell_type": "code",
   "execution_count": 35,
   "id": "a3beeb30",
   "metadata": {},
   "outputs": [],
   "source": [
    "#select relevant columns\n",
    "realdf = realdf4[[\"username\",\"age\",\"occupation\",\"status\",\"gender\",\"description\"]].copy()\n"
   ]
  },
  {
   "cell_type": "code",
   "execution_count": 36,
   "id": "a3a716df",
   "metadata": {},
   "outputs": [],
   "source": [
    "#remove 'y.o' from age\n",
    "def get_age(x):\n",
    "    return x.split('y')[0]\n",
    "    \n",
    "realdf[\"age\"] = realdf[\"age\"].apply(lambda x: get_age(x))"
   ]
  },
  {
   "cell_type": "code",
   "execution_count": 37,
   "id": "4d1b1988",
   "metadata": {},
   "outputs": [],
   "source": [
    "#remove punctuation\n",
    "import re\n",
    "def get_new_sentence(x):\n",
    "    return re.sub(r'[^\\w\\s]', '', str(x)).strip()\n"
   ]
  },
  {
   "cell_type": "code",
   "execution_count": 38,
   "id": "f7d32f95",
   "metadata": {},
   "outputs": [],
   "source": [
    "# remove punctuations from description\n",
    "realdf[\"description\"] = realdf[\"description\"].apply(lambda x: get_new_sentence(x))"
   ]
  },
  {
   "cell_type": "code",
   "execution_count": 39,
   "id": "defccb61",
   "metadata": {},
   "outputs": [],
   "source": [
    "#removing punctuations from age, status, gender and occupation columns\n",
    "realdf[\"gender\"] = realdf[\"gender\"].apply(lambda x: get_new_sentence(x))\n",
    "realdf[\"age\"] = realdf[\"age\"].apply(lambda x: get_new_sentence(x))\n",
    "realdf[\"status\"] = realdf[\"status\"].apply(lambda x: get_new_sentence(x))\n",
    "realdf[\"occupation\"] = realdf[\"occupation\"].apply(lambda x: get_new_sentence(x))"
   ]
  },
  {
   "cell_type": "code",
   "execution_count": 40,
   "id": "40cdecaf",
   "metadata": {},
   "outputs": [
    {
     "data": {
      "text/plain": [
       "6                              Negocio\n",
       "9        Decoraciones eventos privados\n",
       "18                         Electrcista\n",
       "22                                    \n",
       "26                             Retired\n",
       "                     ...              \n",
       "17718                                 \n",
       "17719                        Profesora\n",
       "17720                              Spa\n",
       "17722                             Cook\n",
       "17723                                 \n",
       "Name: occupation, Length: 17724, dtype: object"
      ]
     },
     "execution_count": 40,
     "metadata": {},
     "output_type": "execute_result"
    }
   ],
   "source": [
    "# strip whitespace\n",
    "realdf['occupation'].str.strip()"
   ]
  },
  {
   "cell_type": "code",
   "execution_count": 41,
   "id": "dc0551c3",
   "metadata": {},
   "outputs": [],
   "source": [
    "# remove empty occupation\n",
    "realdf = realdf[realdf['occupation']!='']"
   ]
  },
  {
   "cell_type": "code",
   "execution_count": 42,
   "id": "6fe662df",
   "metadata": {},
   "outputs": [
    {
     "data": {
      "text/plain": [
       "username       1\n",
       "age            0\n",
       "occupation     0\n",
       "status         0\n",
       "gender         0\n",
       "description    0\n",
       "dtype: int64"
      ]
     },
     "execution_count": 42,
     "metadata": {},
     "output_type": "execute_result"
    }
   ],
   "source": [
    "# find null values\n",
    "realdf.isna().sum()"
   ]
  },
  {
   "cell_type": "code",
   "execution_count": 43,
   "id": "62414e16",
   "metadata": {},
   "outputs": [],
   "source": [
    "#remove stopwords\n",
    "import nltk\n",
    "from nltk.corpus import stopwords\n",
    "from nltk.tokenize import word_tokenize\n",
    "\n",
    "def remove_stop_words(description):\n",
    "    \n",
    "    stop_words = set(stopwords.words('english'))\n",
    "\n",
    "    word_tokens = word_tokenize(description)\n",
    "    filtered_sentence = [w for w in word_tokens if not w.lower() in stop_words]\n",
    "    filtered_sentence = []\n",
    "    for w in word_tokens:\n",
    "        if w not in stop_words:\n",
    "            filtered_sentence.append(w)\n",
    "    return ' '.join(filtered_sentence)\n",
    "\n"
   ]
  },
  {
   "cell_type": "code",
   "execution_count": 44,
   "id": "9991f1a7",
   "metadata": {},
   "outputs": [],
   "source": [
    "#create a new column to store the filtered sentences\n",
    "realdf[\"filtered sentence\"] = realdf[\"description\"].apply(lambda x: remove_stop_words(x))"
   ]
  },
  {
   "cell_type": "code",
   "execution_count": 205,
   "id": "7f66a0df",
   "metadata": {},
   "outputs": [],
   "source": [
    "# detect language of occupation\n",
    "from langdetect import detect\n",
    "realdf['Language'] = realdf['occupation'].apply(lambda x: detect(x))"
   ]
  },
  {
   "cell_type": "code",
   "execution_count": 206,
   "id": "38907a33",
   "metadata": {},
   "outputs": [
    {
     "data": {
      "text/plain": [
       "es       1923\n",
       "en       1634\n",
       "pt        899\n",
       "it        824\n",
       "de        552\n",
       "nl        413\n",
       "af        308\n",
       "ro        282\n",
       "da        272\n",
       "fr        236\n",
       "tl        226\n",
       "ca        200\n",
       "id        194\n",
       "cy        164\n",
       "so        154\n",
       "no        129\n",
       "fi        125\n",
       "tr         99\n",
       "pl         55\n",
       "et         53\n",
       "hr         50\n",
       "lt         48\n",
       "sw         44\n",
       "sv         44\n",
       "sl         32\n",
       "sk         19\n",
       "ru         19\n",
       "vi         15\n",
       "hu         13\n",
       "cs          8\n",
       "lv          7\n",
       "mk          6\n",
       "sq          5\n",
       "bg          4\n",
       "uk          3\n",
       "zh-cn       1\n",
       "Name: Language, dtype: int64"
      ]
     },
     "execution_count": 206,
     "metadata": {},
     "output_type": "execute_result"
    }
   ],
   "source": [
    "# find no. of unique languages\n",
    "realdf['Language'].value_counts()"
   ]
  },
  {
   "cell_type": "code",
   "execution_count": 217,
   "id": "cc10632f",
   "metadata": {},
   "outputs": [
    {
     "data": {
      "text/plain": [
       "username             798\n",
       "age                  798\n",
       "occupation           798\n",
       "status               798\n",
       "gender               798\n",
       "filtered sentence    798\n",
       "Language             798\n",
       "y                    798\n",
       "dtype: int64"
      ]
     },
     "execution_count": 217,
     "metadata": {},
     "output_type": "execute_result"
    }
   ],
   "source": [
    "# check no. of english rows\n",
    "realdf[realdf['Language']=='en'].count()"
   ]
  },
  {
   "cell_type": "code",
   "execution_count": 287,
   "id": "310595f4",
   "metadata": {},
   "outputs": [],
   "source": [
    "# translate occupation to english\n",
    "realdf['translated_occupation'] = realdf['occupation'].apply(lambda x: translate(x))"
   ]
  },
  {
   "cell_type": "code",
   "execution_count": 289,
   "id": "a16acba7",
   "metadata": {},
   "outputs": [
    {
     "data": {
      "text/html": [
       "<div>\n",
       "<style scoped>\n",
       "    .dataframe tbody tr th:only-of-type {\n",
       "        vertical-align: middle;\n",
       "    }\n",
       "\n",
       "    .dataframe tbody tr th {\n",
       "        vertical-align: top;\n",
       "    }\n",
       "\n",
       "    .dataframe thead th {\n",
       "        text-align: right;\n",
       "    }\n",
       "</style>\n",
       "<table border=\"1\" class=\"dataframe\">\n",
       "  <thead>\n",
       "    <tr style=\"text-align: right;\">\n",
       "      <th></th>\n",
       "      <th>username</th>\n",
       "      <th>age</th>\n",
       "      <th>occupation</th>\n",
       "      <th>status</th>\n",
       "      <th>gender</th>\n",
       "      <th>filtered sentence</th>\n",
       "      <th>Language</th>\n",
       "      <th>y</th>\n",
       "      <th>translated_occupation</th>\n",
       "    </tr>\n",
       "  </thead>\n",
       "  <tbody>\n",
       "    <tr>\n",
       "      <th>3023</th>\n",
       "      <td>Catherin</td>\n",
       "      <td>33</td>\n",
       "      <td>Administrador</td>\n",
       "      <td>divorced</td>\n",
       "      <td>female</td>\n",
       "      <td>white Straight Spiritual nonsmoker social drinker Friendship Serious Relationship</td>\n",
       "      <td>pt</td>\n",
       "      <td>0</td>\n",
       "      <td>Administrator</td>\n",
       "    </tr>\n",
       "    <tr>\n",
       "      <th>6989</th>\n",
       "      <td>Hmo</td>\n",
       "      <td>51</td>\n",
       "      <td>Construccion</td>\n",
       "      <td>separated</td>\n",
       "      <td>male</td>\n",
       "      <td>hispanic Straight Other nonsmoker never Serious Relationship</td>\n",
       "      <td>es</td>\n",
       "      <td>0</td>\n",
       "      <td>Building</td>\n",
       "    </tr>\n",
       "    <tr>\n",
       "      <th>14027</th>\n",
       "      <td>Quique79</td>\n",
       "      <td>43</td>\n",
       "      <td>Fotógrafo</td>\n",
       "      <td>single</td>\n",
       "      <td>male</td>\n",
       "      <td>hispanic Straight Other nonsmoker never Fun Friendship Romance</td>\n",
       "      <td>pt</td>\n",
       "      <td>0</td>\n",
       "      <td>Photographer</td>\n",
       "    </tr>\n",
       "    <tr>\n",
       "      <th>15284</th>\n",
       "      <td>ScottEW</td>\n",
       "      <td>34</td>\n",
       "      <td>Student</td>\n",
       "      <td>single</td>\n",
       "      <td>male</td>\n",
       "      <td>white Straight Other social smoker social drinker Fun Friendship Romance Serious Relationship</td>\n",
       "      <td>de</td>\n",
       "      <td>0</td>\n",
       "      <td>Student</td>\n",
       "    </tr>\n",
       "    <tr>\n",
       "      <th>12240</th>\n",
       "      <td>Mishely</td>\n",
       "      <td>23</td>\n",
       "      <td>Ama de casa</td>\n",
       "      <td>single</td>\n",
       "      <td>female</td>\n",
       "      <td>black Straight Atheist nonsmoker never Serious Relationship</td>\n",
       "      <td>pt</td>\n",
       "      <td>0</td>\n",
       "      <td>Housewife</td>\n",
       "    </tr>\n",
       "    <tr>\n",
       "      <th>1037</th>\n",
       "      <td>Amando90</td>\n",
       "      <td>31</td>\n",
       "      <td>Installer</td>\n",
       "      <td>single</td>\n",
       "      <td>male</td>\n",
       "      <td>hispanic Straight Other social smoker never Fun Friendship Romance</td>\n",
       "      <td>no</td>\n",
       "      <td>0</td>\n",
       "      <td>Installer</td>\n",
       "    </tr>\n",
       "    <tr>\n",
       "      <th>8693</th>\n",
       "      <td>joselopez</td>\n",
       "      <td>27</td>\n",
       "      <td>estudiante universitario</td>\n",
       "      <td>single</td>\n",
       "      <td>male</td>\n",
       "      <td>hispanic Straight Christian nonsmoker never Serious Relationship</td>\n",
       "      <td>it</td>\n",
       "      <td>0</td>\n",
       "      <td>college student</td>\n",
       "    </tr>\n",
       "    <tr>\n",
       "      <th>15910</th>\n",
       "      <td>Steven86</td>\n",
       "      <td>35</td>\n",
       "      <td>Tatuador</td>\n",
       "      <td>separated</td>\n",
       "      <td>male</td>\n",
       "      <td>hispanic Straight Spiritual nonsmoker occasional drinker Fun Friendship Romance</td>\n",
       "      <td>pt</td>\n",
       "      <td>0</td>\n",
       "      <td>tattoo artist</td>\n",
       "    </tr>\n",
       "    <tr>\n",
       "      <th>8806</th>\n",
       "      <td>jostinfer93</td>\n",
       "      <td>28</td>\n",
       "      <td>emprendedor</td>\n",
       "      <td>single</td>\n",
       "      <td>male</td>\n",
       "      <td>hispanic Bisexual Spiritual nonsmoker occasional drinker Friendship Romance Serious Relationship Marriage</td>\n",
       "      <td>pt</td>\n",
       "      <td>0</td>\n",
       "      <td>entrepreneur</td>\n",
       "    </tr>\n",
       "    <tr>\n",
       "      <th>14581</th>\n",
       "      <td>Robert999</td>\n",
       "      <td>47</td>\n",
       "      <td>Taxista</td>\n",
       "      <td>separated</td>\n",
       "      <td>male</td>\n",
       "      <td>white Straight Other social smoker social drinker Fun Friendship Romance Serious Relationship</td>\n",
       "      <td>so</td>\n",
       "      <td>0</td>\n",
       "      <td>Cabby</td>\n",
       "    </tr>\n",
       "  </tbody>\n",
       "</table>\n",
       "</div>"
      ],
      "text/plain": [
       "          username age                occupation     status  gender  \\\n",
       "3023      Catherin  33             Administrador   divorced  female   \n",
       "6989           Hmo  51              Construccion  separated    male   \n",
       "14027     Quique79  43                 Fotógrafo     single    male   \n",
       "15284      ScottEW  34                   Student     single    male   \n",
       "12240      Mishely  23               Ama de casa     single  female   \n",
       "1037      Amando90  31                 Installer     single    male   \n",
       "8693     joselopez  27  estudiante universitario     single    male   \n",
       "15910     Steven86  35                  Tatuador  separated    male   \n",
       "8806   jostinfer93  28               emprendedor     single    male   \n",
       "14581    Robert999  47                   Taxista  separated    male   \n",
       "\n",
       "                                                                                               filtered sentence  \\\n",
       "3023                           white Straight Spiritual nonsmoker social drinker Friendship Serious Relationship   \n",
       "6989                                                hispanic Straight Other nonsmoker never Serious Relationship   \n",
       "14027                                             hispanic Straight Other nonsmoker never Fun Friendship Romance   \n",
       "15284              white Straight Other social smoker social drinker Fun Friendship Romance Serious Relationship   \n",
       "12240                                                black Straight Atheist nonsmoker never Serious Relationship   \n",
       "1037                                          hispanic Straight Other social smoker never Fun Friendship Romance   \n",
       "8693                                            hispanic Straight Christian nonsmoker never Serious Relationship   \n",
       "15910                            hispanic Straight Spiritual nonsmoker occasional drinker Fun Friendship Romance   \n",
       "8806   hispanic Bisexual Spiritual nonsmoker occasional drinker Friendship Romance Serious Relationship Marriage   \n",
       "14581              white Straight Other social smoker social drinker Fun Friendship Romance Serious Relationship   \n",
       "\n",
       "      Language  y translated_occupation  \n",
       "3023        pt  0         Administrator  \n",
       "6989        es  0              Building  \n",
       "14027       pt  0          Photographer  \n",
       "15284       de  0               Student  \n",
       "12240       pt  0             Housewife  \n",
       "1037        no  0             Installer  \n",
       "8693        it  0       college student  \n",
       "15910       pt  0         tattoo artist  \n",
       "8806        pt  0          entrepreneur  \n",
       "14581       so  0                 Cabby  "
      ]
     },
     "execution_count": 289,
     "metadata": {},
     "output_type": "execute_result"
    }
   ],
   "source": [
    "realdf.sample(10)"
   ]
  },
  {
   "cell_type": "code",
   "execution_count": 208,
   "id": "0876706b",
   "metadata": {},
   "outputs": [],
   "source": [
    "# drop original decsription column\n",
    "realdf.drop(columns = \"description\", inplace = True)"
   ]
  },
  {
   "cell_type": "code",
   "execution_count": 45,
   "id": "cdcb1169",
   "metadata": {},
   "outputs": [
    {
     "data": {
      "text/html": [
       "<div>\n",
       "<style scoped>\n",
       "    .dataframe tbody tr th:only-of-type {\n",
       "        vertical-align: middle;\n",
       "    }\n",
       "\n",
       "    .dataframe tbody tr th {\n",
       "        vertical-align: top;\n",
       "    }\n",
       "\n",
       "    .dataframe thead th {\n",
       "        text-align: right;\n",
       "    }\n",
       "</style>\n",
       "<table border=\"1\" class=\"dataframe\">\n",
       "  <thead>\n",
       "    <tr style=\"text-align: right;\">\n",
       "      <th></th>\n",
       "      <th>username</th>\n",
       "      <th>age</th>\n",
       "      <th>occupation</th>\n",
       "      <th>status</th>\n",
       "      <th>gender</th>\n",
       "      <th>description</th>\n",
       "      <th>filtered sentence</th>\n",
       "      <th>y</th>\n",
       "    </tr>\n",
       "  </thead>\n",
       "  <tbody>\n",
       "    <tr>\n",
       "      <th>6</th>\n",
       "      <td>0119162866</td>\n",
       "      <td>58</td>\n",
       "      <td>Negocio</td>\n",
       "      <td>divorced</td>\n",
       "      <td>male</td>\n",
       "      <td>Honesto Trabajador divertido Me gusta la naturaleza viajar bailar</td>\n",
       "      <td>Honesto Trabajador divertido Me gusta la naturaleza viajar bailar</td>\n",
       "      <td>0</td>\n",
       "    </tr>\n",
       "    <tr>\n",
       "      <th>9</th>\n",
       "      <td>02erick</td>\n",
       "      <td>38</td>\n",
       "      <td>Decoraciones eventos privados</td>\n",
       "      <td>single</td>\n",
       "      <td>male</td>\n",
       "      <td>Soy un hombre sociable cariñoso y me gusta conoser personas y tener la oportunidad de establecer una relación en algún momento</td>\n",
       "      <td>Soy un hombre sociable cariñoso gusta conoser personas tener la oportunidad de establecer una relación en algún momento</td>\n",
       "      <td>0</td>\n",
       "    </tr>\n",
       "    <tr>\n",
       "      <th>18</th>\n",
       "      <td>1047373361es</td>\n",
       "      <td>35</td>\n",
       "      <td>Electrcista</td>\n",
       "      <td>single</td>\n",
       "      <td>male</td>\n",
       "      <td>Honesta honrrada y trabajadora y muy alegre amigable</td>\n",
       "      <td>Honesta honrrada trabajadora muy alegre amigable</td>\n",
       "      <td>0</td>\n",
       "    </tr>\n",
       "    <tr>\n",
       "      <th>26</th>\n",
       "      <td>123canwe</td>\n",
       "      <td>66</td>\n",
       "      <td>Retired</td>\n",
       "      <td>single</td>\n",
       "      <td>male</td>\n",
       "      <td>I am full of fire and friskier than hell</td>\n",
       "      <td>I full fire friskier hell</td>\n",
       "      <td>0</td>\n",
       "    </tr>\n",
       "    <tr>\n",
       "      <th>30</th>\n",
       "      <td>123WILFREDO</td>\n",
       "      <td>28</td>\n",
       "      <td>ESTUDIANTE</td>\n",
       "      <td>single</td>\n",
       "      <td>male</td>\n",
       "      <td>ME GUSTA CONOCER CHICAS BONDADOSAS CARIÑOSAS Y MUY FUERTES EN LA MORAL</td>\n",
       "      <td>ME GUSTA CONOCER CHICAS BONDADOSAS CARIÑOSAS Y MUY FUERTES EN LA MORAL</td>\n",
       "      <td>0</td>\n",
       "    </tr>\n",
       "  </tbody>\n",
       "</table>\n",
       "</div>"
      ],
      "text/plain": [
       "        username age                     occupation    status gender  \\\n",
       "6     0119162866  58                        Negocio  divorced   male   \n",
       "9        02erick  38  Decoraciones eventos privados    single   male   \n",
       "18  1047373361es  35                    Electrcista    single   male   \n",
       "26      123canwe  66                        Retired    single   male   \n",
       "30   123WILFREDO  28                     ESTUDIANTE    single   male   \n",
       "\n",
       "                                                                                                                       description  \\\n",
       "6                                                                Honesto Trabajador divertido Me gusta la naturaleza viajar bailar   \n",
       "9   Soy un hombre sociable cariñoso y me gusta conoser personas y tener la oportunidad de establecer una relación en algún momento   \n",
       "18                                                                            Honesta honrrada y trabajadora y muy alegre amigable   \n",
       "26                                                                                        I am full of fire and friskier than hell   \n",
       "30                                                          ME GUSTA CONOCER CHICAS BONDADOSAS CARIÑOSAS Y MUY FUERTES EN LA MORAL   \n",
       "\n",
       "                                                                                                          filtered sentence  \\\n",
       "6                                                         Honesto Trabajador divertido Me gusta la naturaleza viajar bailar   \n",
       "9   Soy un hombre sociable cariñoso gusta conoser personas tener la oportunidad de establecer una relación en algún momento   \n",
       "18                                                                         Honesta honrrada trabajadora muy alegre amigable   \n",
       "26                                                                                                I full fire friskier hell   \n",
       "30                                                   ME GUSTA CONOCER CHICAS BONDADOSAS CARIÑOSAS Y MUY FUERTES EN LA MORAL   \n",
       "\n",
       "    y  \n",
       "6   0  \n",
       "9   0  \n",
       "18  0  \n",
       "26  0  \n",
       "30  0  "
      ]
     },
     "execution_count": 45,
     "metadata": {},
     "output_type": "execute_result"
    }
   ],
   "source": [
    "# create column for class \n",
    "realdf[\"y\"] = 0 # 0 = real\n",
    "realdf.head()"
   ]
  },
  {
   "cell_type": "code",
   "execution_count": 211,
   "id": "bf210dd5",
   "metadata": {},
   "outputs": [],
   "source": [
    "# removing occupation value count ==1 \n",
    "realtemp=realdf['occupation'].tolist()\n",
    "realdf=realdf[realdf['occupation'].apply(lambda x: realtemp.count(x)>1)].copy()"
   ]
  },
  {
   "cell_type": "code",
   "execution_count": 290,
   "id": "667aeec1",
   "metadata": {},
   "outputs": [
    {
     "data": {
      "text/html": [
       "<div>\n",
       "<style scoped>\n",
       "    .dataframe tbody tr th:only-of-type {\n",
       "        vertical-align: middle;\n",
       "    }\n",
       "\n",
       "    .dataframe tbody tr th {\n",
       "        vertical-align: top;\n",
       "    }\n",
       "\n",
       "    .dataframe thead th {\n",
       "        text-align: right;\n",
       "    }\n",
       "</style>\n",
       "<table border=\"1\" class=\"dataframe\">\n",
       "  <thead>\n",
       "    <tr style=\"text-align: right;\">\n",
       "      <th></th>\n",
       "      <th>username</th>\n",
       "      <th>age</th>\n",
       "      <th>occupation</th>\n",
       "      <th>status</th>\n",
       "      <th>gender</th>\n",
       "      <th>filtered sentence</th>\n",
       "      <th>Language</th>\n",
       "      <th>y</th>\n",
       "      <th>translated_occupation</th>\n",
       "    </tr>\n",
       "  </thead>\n",
       "  <tbody>\n",
       "  </tbody>\n",
       "</table>\n",
       "</div>"
      ],
      "text/plain": [
       "Empty DataFrame\n",
       "Columns: [username, age, occupation, status, gender, filtered sentence, Language, y, translated_occupation]\n",
       "Index: []"
      ]
     },
     "execution_count": 290,
     "metadata": {},
     "output_type": "execute_result"
    }
   ],
   "source": [
    "# check null occupation\n",
    "realdf[realdf['occupation']=='-']"
   ]
  },
  {
   "cell_type": "code",
   "execution_count": 291,
   "id": "1c7d24db",
   "metadata": {},
   "outputs": [
    {
     "data": {
      "text/plain": [
       "single             3498\n",
       "divorced           1048\n",
       "separated           699\n",
       "widowed             179\n",
       "in relationship     110\n",
       "married              75\n",
       "Name: status, dtype: int64"
      ]
     },
     "execution_count": 291,
     "metadata": {},
     "output_type": "execute_result"
    }
   ],
   "source": [
    "# checking value_counts for status\n",
    "realdf['status'].value_counts()"
   ]
  },
  {
   "cell_type": "code",
   "execution_count": 214,
   "id": "c629be2c",
   "metadata": {},
   "outputs": [
    {
     "data": {
      "text/plain": [
       "male      3841\n",
       "female    1768\n",
       "Name: gender, dtype: int64"
      ]
     },
     "execution_count": 214,
     "metadata": {},
     "output_type": "execute_result"
    }
   ],
   "source": [
    "# checking value_counts for gender\n",
    "realdf['gender'].value_counts()"
   ]
  },
  {
   "cell_type": "code",
   "execution_count": 292,
   "id": "1c92da0c",
   "metadata": {},
   "outputs": [
    {
     "name": "stdout",
     "output_type": "stream",
     "text": [
      "<class 'pandas.core.frame.DataFrame'>\n",
      "Int64Index: 5609 entries, 26 to 17722\n",
      "Data columns (total 9 columns):\n",
      " #   Column                 Non-Null Count  Dtype \n",
      "---  ------                 --------------  ----- \n",
      " 0   username               5609 non-null   object\n",
      " 1   age                    5609 non-null   object\n",
      " 2   occupation             5609 non-null   object\n",
      " 3   status                 5609 non-null   object\n",
      " 4   gender                 5609 non-null   object\n",
      " 5   filtered sentence      5609 non-null   object\n",
      " 6   Language               5609 non-null   object\n",
      " 7   y                      5609 non-null   int64 \n",
      " 8   translated_occupation  5609 non-null   object\n",
      "dtypes: int64(1), object(8)\n",
      "memory usage: 438.2+ KB\n"
     ]
    }
   ],
   "source": [
    "realdf.info()"
   ]
  },
  {
   "cell_type": "code",
   "execution_count": 293,
   "id": "c7a8c7b6",
   "metadata": {},
   "outputs": [],
   "source": [
    "# final 5609 rows\n",
    "realdf.to_csv('real_profile.csv', header=True, index=False)"
   ]
  },
  {
   "cell_type": "markdown",
   "id": "310f8ea6",
   "metadata": {},
   "source": [
    "# combined dataset"
   ]
  },
  {
   "cell_type": "code",
   "execution_count": 352,
   "id": "f6398836",
   "metadata": {},
   "outputs": [
    {
     "data": {
      "text/html": [
       "<div>\n",
       "<style scoped>\n",
       "    .dataframe tbody tr th:only-of-type {\n",
       "        vertical-align: middle;\n",
       "    }\n",
       "\n",
       "    .dataframe tbody tr th {\n",
       "        vertical-align: top;\n",
       "    }\n",
       "\n",
       "    .dataframe thead th {\n",
       "        text-align: right;\n",
       "    }\n",
       "</style>\n",
       "<table border=\"1\" class=\"dataframe\">\n",
       "  <thead>\n",
       "    <tr style=\"text-align: right;\">\n",
       "      <th></th>\n",
       "      <th>username</th>\n",
       "      <th>age</th>\n",
       "      <th>occupation</th>\n",
       "      <th>status</th>\n",
       "      <th>gender</th>\n",
       "      <th>filtered sentence</th>\n",
       "      <th>Language</th>\n",
       "      <th>y</th>\n",
       "      <th>translated_occupation</th>\n",
       "    </tr>\n",
       "  </thead>\n",
       "  <tbody>\n",
       "    <tr>\n",
       "      <th>26</th>\n",
       "      <td>123canwe</td>\n",
       "      <td>66</td>\n",
       "      <td>Retired</td>\n",
       "      <td>single</td>\n",
       "      <td>male</td>\n",
       "      <td>I full fire friskier hell</td>\n",
       "      <td>tr</td>\n",
       "      <td>0</td>\n",
       "      <td>Retired</td>\n",
       "    </tr>\n",
       "    <tr>\n",
       "      <th>30</th>\n",
       "      <td>123WILFREDO</td>\n",
       "      <td>28</td>\n",
       "      <td>ESTUDIANTE</td>\n",
       "      <td>single</td>\n",
       "      <td>male</td>\n",
       "      <td>ME GUSTA CONOCER CHICAS BONDADOSAS CARIÑOSAS Y MUY FUERTES EN LA MORAL</td>\n",
       "      <td>es</td>\n",
       "      <td>0</td>\n",
       "      <td>STUDENT</td>\n",
       "    </tr>\n",
       "    <tr>\n",
       "      <th>44</th>\n",
       "      <td>1907</td>\n",
       "      <td>48</td>\n",
       "      <td>Construction</td>\n",
       "      <td>single</td>\n",
       "      <td>male</td>\n",
       "      <td>laid back earth good sense humor</td>\n",
       "      <td>en</td>\n",
       "      <td>0</td>\n",
       "      <td>Construction</td>\n",
       "    </tr>\n",
       "    <tr>\n",
       "      <th>105</th>\n",
       "      <td>52Jim52</td>\n",
       "      <td>70</td>\n",
       "      <td>Retired</td>\n",
       "      <td>divorced</td>\n",
       "      <td>male</td>\n",
       "      <td>Retired owner aerospace consuloting firm</td>\n",
       "      <td>da</td>\n",
       "      <td>0</td>\n",
       "      <td>Retired</td>\n",
       "    </tr>\n",
       "    <tr>\n",
       "      <th>146</th>\n",
       "      <td>Aaron90</td>\n",
       "      <td>28</td>\n",
       "      <td>Social worker</td>\n",
       "      <td>single</td>\n",
       "      <td>male</td>\n",
       "      <td>Hello aaron Vermont I vermont 2 years Im really fun person I like camping bone fire etc</td>\n",
       "      <td>en</td>\n",
       "      <td>0</td>\n",
       "      <td>Social worker</td>\n",
       "    </tr>\n",
       "  </tbody>\n",
       "</table>\n",
       "</div>"
      ],
      "text/plain": [
       "        username age     occupation    status gender  \\\n",
       "26      123canwe  66        Retired    single   male   \n",
       "30   123WILFREDO  28     ESTUDIANTE    single   male   \n",
       "44          1907  48   Construction    single   male   \n",
       "105      52Jim52  70        Retired  divorced   male   \n",
       "146      Aaron90  28  Social worker    single   male   \n",
       "\n",
       "                                                                           filtered sentence  \\\n",
       "26                                                                 I full fire friskier hell   \n",
       "30                    ME GUSTA CONOCER CHICAS BONDADOSAS CARIÑOSAS Y MUY FUERTES EN LA MORAL   \n",
       "44                                                          laid back earth good sense humor   \n",
       "105                                                 Retired owner aerospace consuloting firm   \n",
       "146  Hello aaron Vermont I vermont 2 years Im really fun person I like camping bone fire etc   \n",
       "\n",
       "    Language  y translated_occupation  \n",
       "26        tr  0               Retired  \n",
       "30        es  0               STUDENT  \n",
       "44        en  0          Construction  \n",
       "105       da  0               Retired  \n",
       "146       en  0         Social worker  "
      ]
     },
     "execution_count": 352,
     "metadata": {},
     "output_type": "execute_result"
    }
   ],
   "source": [
    "final_df = pd.concat([realdf,scamdf1])\n",
    "final_df.head()"
   ]
  },
  {
   "cell_type": "code",
   "execution_count": 354,
   "id": "099cb95f",
   "metadata": {},
   "outputs": [
    {
     "data": {
      "text/plain": [
       "single                5038\n",
       "divorced              1466\n",
       "widowed               1014\n",
       "separated              721\n",
       "in relationship        110\n",
       "married                 75\n",
       "widower                  8\n",
       "Widowed                  8\n",
       "Divorced                 6\n",
       "widow                    4\n",
       "single or divorced       2\n",
       "Name: status, dtype: int64"
      ]
     },
     "execution_count": 354,
     "metadata": {},
     "output_type": "execute_result"
    }
   ],
   "source": [
    "# checking unique status\n",
    "final_df['status'].value_counts()"
   ]
  },
  {
   "cell_type": "code",
   "execution_count": 359,
   "id": "c288e181",
   "metadata": {},
   "outputs": [],
   "source": [
    "# perform status lemmatization\n",
    "import gensim\n",
    "from gensim.utils import simple_preprocess\n",
    "import nltk.corpus\n",
    "import nltk\n",
    "import gensim.corpora\n",
    "from nltk.corpus import stopwords\n",
    "import numpy\n",
    "import time\n",
    "from nltk.stem import WordNetLemmatizer\n",
    "\n",
    "#defining the object for Lemmatization\n",
    "wordnet_lemmatizer = WordNetLemmatizer()\n"
   ]
  },
  {
   "cell_type": "code",
   "execution_count": 360,
   "id": "6caec27b",
   "metadata": {},
   "outputs": [
    {
     "data": {
      "text/plain": [
       "9"
      ]
     },
     "execution_count": 360,
     "metadata": {},
     "output_type": "execute_result"
    }
   ],
   "source": [
    "# convert all character of status to lower case\n",
    "final_df['status']= final_df['status'].apply(lambda x: x.lower())\n",
    "final_df['status'].nunique()"
   ]
  },
  {
   "cell_type": "code",
   "execution_count": 361,
   "id": "5575c7d0",
   "metadata": {},
   "outputs": [],
   "source": [
    "#defining the function for lemmatization\n",
    "def lemmatizer(text):\n",
    "    lemm_text = wordnet_lemmatizer.lemmatize(text)\n",
    "    return lemm_text\n",
    "\n",
    "final_df['status_lem']=final_df['status'].apply(lambda x:lemmatizer(x))"
   ]
  },
  {
   "cell_type": "code",
   "execution_count": 383,
   "id": "3c6686ab",
   "metadata": {},
   "outputs": [
    {
     "data": {
      "text/plain": [
       "single                5038\n",
       "divorced              1472\n",
       "widowed               1022\n",
       "separated              721\n",
       "in relationship        110\n",
       "married                 75\n",
       "widower                  8\n",
       "widow                    4\n",
       "single or divorced       2\n",
       "Name: status_lem, dtype: int64"
      ]
     },
     "execution_count": 383,
     "metadata": {},
     "output_type": "execute_result"
    }
   ],
   "source": [
    "# limitation: lemmatization did not work as widower/widow was not lemmatized\n",
    "final_df['status_lem'].value_counts()"
   ]
  },
  {
   "cell_type": "code",
   "execution_count": 390,
   "id": "3f65d8fc",
   "metadata": {},
   "outputs": [],
   "source": [
    "# manually replace widower/widow = widowed\n",
    "final_df.replace({'status_lem':{'widow':'widowed'}}, inplace=True)\n",
    "final_df.replace({'status_lem':{'widower':'widowed'}}, inplace=True)"
   ]
  },
  {
   "cell_type": "code",
   "execution_count": 393,
   "id": "3cc847c6",
   "metadata": {},
   "outputs": [
    {
     "data": {
      "text/plain": [
       "single                5038\n",
       "divorced              1472\n",
       "widowed               1034\n",
       "separated              721\n",
       "in relationship        110\n",
       "married                 75\n",
       "single or divorced       2\n",
       "Name: status_lem, dtype: int64"
      ]
     },
     "execution_count": 393,
     "metadata": {},
     "output_type": "execute_result"
    }
   ],
   "source": [
    "# checking unique status again\n",
    "final_df['status_lem'].value_counts()"
   ]
  },
  {
   "cell_type": "code",
   "execution_count": 394,
   "id": "c4c1e0f4",
   "metadata": {},
   "outputs": [
    {
     "name": "stdout",
     "output_type": "stream",
     "text": [
      "<class 'pandas.core.frame.DataFrame'>\n",
      "Int64Index: 8452 entries, 26 to 4341\n",
      "Data columns (total 10 columns):\n",
      " #   Column                 Non-Null Count  Dtype \n",
      "---  ------                 --------------  ----- \n",
      " 0   username               8452 non-null   object\n",
      " 1   age                    8452 non-null   object\n",
      " 2   occupation             8452 non-null   object\n",
      " 3   status                 8452 non-null   object\n",
      " 4   gender                 8452 non-null   object\n",
      " 5   filtered sentence      8452 non-null   object\n",
      " 6   Language               8452 non-null   object\n",
      " 7   y                      8452 non-null   int64 \n",
      " 8   translated_occupation  8452 non-null   object\n",
      " 9   status_lem             8452 non-null   object\n",
      "dtypes: int64(1), object(9)\n",
      "memory usage: 726.3+ KB\n"
     ]
    }
   ],
   "source": [
    "final_df.info()"
   ]
  },
  {
   "cell_type": "code",
   "execution_count": 303,
   "id": "f37ec7c7",
   "metadata": {},
   "outputs": [],
   "source": [
    "#read to csv file\n",
    "final_df.to_csv('combined_profile.csv', header=True, index=False)"
   ]
  },
  {
   "cell_type": "markdown",
   "id": "91dbc05a",
   "metadata": {},
   "source": [
    "# 4. Distribution plots for categorical variables "
   ]
  },
  {
   "cell_type": "markdown",
   "id": "a6bc4cd6",
   "metadata": {},
   "source": [
    "## 4.1 Age distribution of real profiles"
   ]
  },
  {
   "cell_type": "code",
   "execution_count": 4,
   "id": "130b3a29",
   "metadata": {},
   "outputs": [
    {
     "data": {
      "text/html": [
       "<div>\n",
       "<style scoped>\n",
       "    .dataframe tbody tr th:only-of-type {\n",
       "        vertical-align: middle;\n",
       "    }\n",
       "\n",
       "    .dataframe tbody tr th {\n",
       "        vertical-align: top;\n",
       "    }\n",
       "\n",
       "    .dataframe thead th {\n",
       "        text-align: right;\n",
       "    }\n",
       "</style>\n",
       "<table border=\"1\" class=\"dataframe\">\n",
       "  <thead>\n",
       "    <tr style=\"text-align: right;\">\n",
       "      <th></th>\n",
       "      <th>username</th>\n",
       "      <th>age</th>\n",
       "      <th>occupation</th>\n",
       "      <th>status</th>\n",
       "      <th>gender</th>\n",
       "      <th>filtered sentence</th>\n",
       "      <th>Language</th>\n",
       "      <th>y</th>\n",
       "      <th>translated_occupation</th>\n",
       "      <th>status_lem</th>\n",
       "      <th>translated_occupation_lem</th>\n",
       "      <th>translated_occupation_category</th>\n",
       "    </tr>\n",
       "  </thead>\n",
       "  <tbody>\n",
       "    <tr>\n",
       "      <th>0</th>\n",
       "      <td>123canwe</td>\n",
       "      <td>66.0</td>\n",
       "      <td>Retired</td>\n",
       "      <td>single</td>\n",
       "      <td>male</td>\n",
       "      <td>I full fire friskier hell</td>\n",
       "      <td>tr</td>\n",
       "      <td>0</td>\n",
       "      <td>retired</td>\n",
       "      <td>single</td>\n",
       "      <td>retired</td>\n",
       "      <td>retired</td>\n",
       "    </tr>\n",
       "    <tr>\n",
       "      <th>1</th>\n",
       "      <td>123WILFREDO</td>\n",
       "      <td>28.0</td>\n",
       "      <td>ESTUDIANTE</td>\n",
       "      <td>single</td>\n",
       "      <td>male</td>\n",
       "      <td>ME GUSTA CONOCER CHICAS BONDADOSAS CARIÑOSAS Y...</td>\n",
       "      <td>es</td>\n",
       "      <td>0</td>\n",
       "      <td>student</td>\n",
       "      <td>single</td>\n",
       "      <td>student</td>\n",
       "      <td>education</td>\n",
       "    </tr>\n",
       "    <tr>\n",
       "      <th>2</th>\n",
       "      <td>1907</td>\n",
       "      <td>48.0</td>\n",
       "      <td>Construction</td>\n",
       "      <td>single</td>\n",
       "      <td>male</td>\n",
       "      <td>laid back earth good sense humor</td>\n",
       "      <td>en</td>\n",
       "      <td>0</td>\n",
       "      <td>construction</td>\n",
       "      <td>single</td>\n",
       "      <td>construction</td>\n",
       "      <td>construction</td>\n",
       "    </tr>\n",
       "    <tr>\n",
       "      <th>3</th>\n",
       "      <td>52Jim52</td>\n",
       "      <td>70.0</td>\n",
       "      <td>Retired</td>\n",
       "      <td>divorced</td>\n",
       "      <td>male</td>\n",
       "      <td>Retired owner aerospace consuloting firm</td>\n",
       "      <td>da</td>\n",
       "      <td>0</td>\n",
       "      <td>retired</td>\n",
       "      <td>divorced</td>\n",
       "      <td>retired</td>\n",
       "      <td>retired</td>\n",
       "    </tr>\n",
       "    <tr>\n",
       "      <th>4</th>\n",
       "      <td>Aaron90</td>\n",
       "      <td>28.0</td>\n",
       "      <td>Social worker</td>\n",
       "      <td>single</td>\n",
       "      <td>male</td>\n",
       "      <td>Hello aaron Vermont I vermont 2 years Im reall...</td>\n",
       "      <td>en</td>\n",
       "      <td>0</td>\n",
       "      <td>social worker</td>\n",
       "      <td>single</td>\n",
       "      <td>social worker</td>\n",
       "      <td>office</td>\n",
       "    </tr>\n",
       "  </tbody>\n",
       "</table>\n",
       "</div>"
      ],
      "text/plain": [
       "      username   age     occupation    status gender  \\\n",
       "0     123canwe  66.0        Retired    single   male   \n",
       "1  123WILFREDO  28.0     ESTUDIANTE    single   male   \n",
       "2         1907  48.0   Construction    single   male   \n",
       "3      52Jim52  70.0        Retired  divorced   male   \n",
       "4      Aaron90  28.0  Social worker    single   male   \n",
       "\n",
       "                                   filtered sentence Language  y  \\\n",
       "0                          I full fire friskier hell       tr  0   \n",
       "1  ME GUSTA CONOCER CHICAS BONDADOSAS CARIÑOSAS Y...       es  0   \n",
       "2                   laid back earth good sense humor       en  0   \n",
       "3           Retired owner aerospace consuloting firm       da  0   \n",
       "4  Hello aaron Vermont I vermont 2 years Im reall...       en  0   \n",
       "\n",
       "  translated_occupation status_lem translated_occupation_lem  \\\n",
       "0               retired     single                   retired   \n",
       "1               student     single                   student   \n",
       "2          construction     single              construction   \n",
       "3               retired   divorced                   retired   \n",
       "4         social worker     single             social worker   \n",
       "\n",
       "  translated_occupation_category  \n",
       "0                        retired  \n",
       "1                      education  \n",
       "2                   construction  \n",
       "3                        retired  \n",
       "4                         office  "
      ]
     },
     "execution_count": 4,
     "metadata": {},
     "output_type": "execute_result"
    }
   ],
   "source": [
    "cleaned_df = pd.read_csv(\"../final_data_cleaned.csv\")\n",
    "cleaned_df.head()"
   ]
  },
  {
   "cell_type": "code",
   "execution_count": 12,
   "id": "23996750",
   "metadata": {},
   "outputs": [
    {
     "data": {
      "text/plain": [
       "0    5611\n",
       "1    2843\n",
       "Name: y, dtype: int64"
      ]
     },
     "execution_count": 12,
     "metadata": {},
     "output_type": "execute_result"
    }
   ],
   "source": [
    "cleaned_df['y'].value_counts()"
   ]
  },
  {
   "cell_type": "code",
   "execution_count": null,
   "id": "de3da4fd",
   "metadata": {},
   "outputs": [],
   "source": []
  },
  {
   "cell_type": "code",
   "execution_count": 5,
   "id": "db5d8854",
   "metadata": {},
   "outputs": [
    {
     "data": {
      "application/vnd.plotly.v1+json": {
       "config": {
        "plotlyServerURL": "https://plot.ly"
       },
       "data": [
        {
         "alignmentgroup": "True",
         "hovertemplate": "variable=age<br>index=%{x}<br>value=%{y}<extra></extra>",
         "legendgroup": "age",
         "marker": {
          "color": "#636efa",
          "pattern": {
           "shape": ""
          }
         },
         "name": "age",
         "offsetgroup": "age",
         "orientation": "v",
         "showlegend": true,
         "textposition": "auto",
         "type": "bar",
         "x": [
          32,
          30,
          35,
          34,
          51,
          31,
          33,
          43,
          42,
          45,
          41,
          37,
          40,
          29,
          50,
          52,
          28,
          46,
          36,
          49,
          47,
          48,
          44,
          27,
          39,
          55,
          38,
          53,
          56,
          54,
          26,
          57,
          58,
          25,
          59,
          60,
          24,
          61,
          23,
          62,
          63,
          22,
          66,
          65,
          64,
          67,
          21,
          68,
          69,
          20,
          70,
          19,
          72,
          73,
          71,
          18,
          74,
          77,
          75,
          78,
          81,
          80,
          82,
          79,
          85
         ],
         "xaxis": "x",
         "y": [
          0.03360151443445338,
          0.03277330809275911,
          0.030998580217699953,
          0.029933743492664457,
          0.029460482725982017,
          0.029342167534311406,
          0.029105537150970185,
          0.028750591575958353,
          0.02839564600094652,
          0.02804070042593469,
          0.027922385234264078,
          0.027922385234264078,
          0.02744912446758164,
          0.027330809275911028,
          0.027330809275911028,
          0.027212494084240417,
          0.027094178892569806,
          0.027094178892569806,
          0.027094178892569806,
          0.026857548509228585,
          0.026502602934216753,
          0.025911026975863703,
          0.024964505442498817,
          0.024372929484145763,
          0.024372929484145763,
          0.02342640795078088,
          0.022243256034074774,
          0.022006625650733556,
          0.021888310459062945,
          0.021769995267392334,
          0.019640321817321345,
          0.01644581164221486,
          0.01609086606720303,
          0.01597255087553242,
          0.012068149550402271,
          0.011949834358731662,
          0.011831519167061051,
          0.010056791292001894,
          0.008755324183625178,
          0.008400378608613345,
          0.006625650733554188,
          0.0060340747752011354,
          0.005679129200189304,
          0.005442498816848084,
          0.004614292475153809,
          0.004141031708471367,
          0.003786086133459536,
          0.003549455750118315,
          0.002721249408424042,
          0.0024846190250828208,
          0.0020113582584003788,
          0.001893043066729768,
          0.001419782300047326,
          0.0013014671083767155,
          0.0010648367250354945,
          0.000946521533364884,
          0.0008282063416942735,
          0.000709891150023663,
          0.000709891150023663,
          0.000473260766682442,
          0.0003549455750118315,
          0.000236630383341221,
          0.000236630383341221,
          0.000236630383341221,
          0.0001183151916706105
         ],
         "yaxis": "y"
        }
       ],
       "layout": {
        "barmode": "relative",
        "legend": {
         "title": {
          "text": "variable"
         },
         "tracegroupgap": 0
        },
        "showlegend": false,
        "template": {
         "data": {
          "bar": [
           {
            "error_x": {
             "color": "#2a3f5f"
            },
            "error_y": {
             "color": "#2a3f5f"
            },
            "marker": {
             "line": {
              "color": "#E5ECF6",
              "width": 0.5
             },
             "pattern": {
              "fillmode": "overlay",
              "size": 10,
              "solidity": 0.2
             }
            },
            "type": "bar"
           }
          ],
          "barpolar": [
           {
            "marker": {
             "line": {
              "color": "#E5ECF6",
              "width": 0.5
             },
             "pattern": {
              "fillmode": "overlay",
              "size": 10,
              "solidity": 0.2
             }
            },
            "type": "barpolar"
           }
          ],
          "carpet": [
           {
            "aaxis": {
             "endlinecolor": "#2a3f5f",
             "gridcolor": "white",
             "linecolor": "white",
             "minorgridcolor": "white",
             "startlinecolor": "#2a3f5f"
            },
            "baxis": {
             "endlinecolor": "#2a3f5f",
             "gridcolor": "white",
             "linecolor": "white",
             "minorgridcolor": "white",
             "startlinecolor": "#2a3f5f"
            },
            "type": "carpet"
           }
          ],
          "choropleth": [
           {
            "colorbar": {
             "outlinewidth": 0,
             "ticks": ""
            },
            "type": "choropleth"
           }
          ],
          "contour": [
           {
            "colorbar": {
             "outlinewidth": 0,
             "ticks": ""
            },
            "colorscale": [
             [
              0,
              "#0d0887"
             ],
             [
              0.1111111111111111,
              "#46039f"
             ],
             [
              0.2222222222222222,
              "#7201a8"
             ],
             [
              0.3333333333333333,
              "#9c179e"
             ],
             [
              0.4444444444444444,
              "#bd3786"
             ],
             [
              0.5555555555555556,
              "#d8576b"
             ],
             [
              0.6666666666666666,
              "#ed7953"
             ],
             [
              0.7777777777777778,
              "#fb9f3a"
             ],
             [
              0.8888888888888888,
              "#fdca26"
             ],
             [
              1,
              "#f0f921"
             ]
            ],
            "type": "contour"
           }
          ],
          "contourcarpet": [
           {
            "colorbar": {
             "outlinewidth": 0,
             "ticks": ""
            },
            "type": "contourcarpet"
           }
          ],
          "heatmap": [
           {
            "colorbar": {
             "outlinewidth": 0,
             "ticks": ""
            },
            "colorscale": [
             [
              0,
              "#0d0887"
             ],
             [
              0.1111111111111111,
              "#46039f"
             ],
             [
              0.2222222222222222,
              "#7201a8"
             ],
             [
              0.3333333333333333,
              "#9c179e"
             ],
             [
              0.4444444444444444,
              "#bd3786"
             ],
             [
              0.5555555555555556,
              "#d8576b"
             ],
             [
              0.6666666666666666,
              "#ed7953"
             ],
             [
              0.7777777777777778,
              "#fb9f3a"
             ],
             [
              0.8888888888888888,
              "#fdca26"
             ],
             [
              1,
              "#f0f921"
             ]
            ],
            "type": "heatmap"
           }
          ],
          "heatmapgl": [
           {
            "colorbar": {
             "outlinewidth": 0,
             "ticks": ""
            },
            "colorscale": [
             [
              0,
              "#0d0887"
             ],
             [
              0.1111111111111111,
              "#46039f"
             ],
             [
              0.2222222222222222,
              "#7201a8"
             ],
             [
              0.3333333333333333,
              "#9c179e"
             ],
             [
              0.4444444444444444,
              "#bd3786"
             ],
             [
              0.5555555555555556,
              "#d8576b"
             ],
             [
              0.6666666666666666,
              "#ed7953"
             ],
             [
              0.7777777777777778,
              "#fb9f3a"
             ],
             [
              0.8888888888888888,
              "#fdca26"
             ],
             [
              1,
              "#f0f921"
             ]
            ],
            "type": "heatmapgl"
           }
          ],
          "histogram": [
           {
            "marker": {
             "pattern": {
              "fillmode": "overlay",
              "size": 10,
              "solidity": 0.2
             }
            },
            "type": "histogram"
           }
          ],
          "histogram2d": [
           {
            "colorbar": {
             "outlinewidth": 0,
             "ticks": ""
            },
            "colorscale": [
             [
              0,
              "#0d0887"
             ],
             [
              0.1111111111111111,
              "#46039f"
             ],
             [
              0.2222222222222222,
              "#7201a8"
             ],
             [
              0.3333333333333333,
              "#9c179e"
             ],
             [
              0.4444444444444444,
              "#bd3786"
             ],
             [
              0.5555555555555556,
              "#d8576b"
             ],
             [
              0.6666666666666666,
              "#ed7953"
             ],
             [
              0.7777777777777778,
              "#fb9f3a"
             ],
             [
              0.8888888888888888,
              "#fdca26"
             ],
             [
              1,
              "#f0f921"
             ]
            ],
            "type": "histogram2d"
           }
          ],
          "histogram2dcontour": [
           {
            "colorbar": {
             "outlinewidth": 0,
             "ticks": ""
            },
            "colorscale": [
             [
              0,
              "#0d0887"
             ],
             [
              0.1111111111111111,
              "#46039f"
             ],
             [
              0.2222222222222222,
              "#7201a8"
             ],
             [
              0.3333333333333333,
              "#9c179e"
             ],
             [
              0.4444444444444444,
              "#bd3786"
             ],
             [
              0.5555555555555556,
              "#d8576b"
             ],
             [
              0.6666666666666666,
              "#ed7953"
             ],
             [
              0.7777777777777778,
              "#fb9f3a"
             ],
             [
              0.8888888888888888,
              "#fdca26"
             ],
             [
              1,
              "#f0f921"
             ]
            ],
            "type": "histogram2dcontour"
           }
          ],
          "mesh3d": [
           {
            "colorbar": {
             "outlinewidth": 0,
             "ticks": ""
            },
            "type": "mesh3d"
           }
          ],
          "parcoords": [
           {
            "line": {
             "colorbar": {
              "outlinewidth": 0,
              "ticks": ""
             }
            },
            "type": "parcoords"
           }
          ],
          "pie": [
           {
            "automargin": true,
            "type": "pie"
           }
          ],
          "scatter": [
           {
            "fillpattern": {
             "fillmode": "overlay",
             "size": 10,
             "solidity": 0.2
            },
            "type": "scatter"
           }
          ],
          "scatter3d": [
           {
            "line": {
             "colorbar": {
              "outlinewidth": 0,
              "ticks": ""
             }
            },
            "marker": {
             "colorbar": {
              "outlinewidth": 0,
              "ticks": ""
             }
            },
            "type": "scatter3d"
           }
          ],
          "scattercarpet": [
           {
            "marker": {
             "colorbar": {
              "outlinewidth": 0,
              "ticks": ""
             }
            },
            "type": "scattercarpet"
           }
          ],
          "scattergeo": [
           {
            "marker": {
             "colorbar": {
              "outlinewidth": 0,
              "ticks": ""
             }
            },
            "type": "scattergeo"
           }
          ],
          "scattergl": [
           {
            "marker": {
             "colorbar": {
              "outlinewidth": 0,
              "ticks": ""
             }
            },
            "type": "scattergl"
           }
          ],
          "scattermapbox": [
           {
            "marker": {
             "colorbar": {
              "outlinewidth": 0,
              "ticks": ""
             }
            },
            "type": "scattermapbox"
           }
          ],
          "scatterpolar": [
           {
            "marker": {
             "colorbar": {
              "outlinewidth": 0,
              "ticks": ""
             }
            },
            "type": "scatterpolar"
           }
          ],
          "scatterpolargl": [
           {
            "marker": {
             "colorbar": {
              "outlinewidth": 0,
              "ticks": ""
             }
            },
            "type": "scatterpolargl"
           }
          ],
          "scatterternary": [
           {
            "marker": {
             "colorbar": {
              "outlinewidth": 0,
              "ticks": ""
             }
            },
            "type": "scatterternary"
           }
          ],
          "surface": [
           {
            "colorbar": {
             "outlinewidth": 0,
             "ticks": ""
            },
            "colorscale": [
             [
              0,
              "#0d0887"
             ],
             [
              0.1111111111111111,
              "#46039f"
             ],
             [
              0.2222222222222222,
              "#7201a8"
             ],
             [
              0.3333333333333333,
              "#9c179e"
             ],
             [
              0.4444444444444444,
              "#bd3786"
             ],
             [
              0.5555555555555556,
              "#d8576b"
             ],
             [
              0.6666666666666666,
              "#ed7953"
             ],
             [
              0.7777777777777778,
              "#fb9f3a"
             ],
             [
              0.8888888888888888,
              "#fdca26"
             ],
             [
              1,
              "#f0f921"
             ]
            ],
            "type": "surface"
           }
          ],
          "table": [
           {
            "cells": {
             "fill": {
              "color": "#EBF0F8"
             },
             "line": {
              "color": "white"
             }
            },
            "header": {
             "fill": {
              "color": "#C8D4E3"
             },
             "line": {
              "color": "white"
             }
            },
            "type": "table"
           }
          ]
         },
         "layout": {
          "annotationdefaults": {
           "arrowcolor": "#2a3f5f",
           "arrowhead": 0,
           "arrowwidth": 1
          },
          "autotypenumbers": "strict",
          "coloraxis": {
           "colorbar": {
            "outlinewidth": 0,
            "ticks": ""
           }
          },
          "colorscale": {
           "diverging": [
            [
             0,
             "#8e0152"
            ],
            [
             0.1,
             "#c51b7d"
            ],
            [
             0.2,
             "#de77ae"
            ],
            [
             0.3,
             "#f1b6da"
            ],
            [
             0.4,
             "#fde0ef"
            ],
            [
             0.5,
             "#f7f7f7"
            ],
            [
             0.6,
             "#e6f5d0"
            ],
            [
             0.7,
             "#b8e186"
            ],
            [
             0.8,
             "#7fbc41"
            ],
            [
             0.9,
             "#4d9221"
            ],
            [
             1,
             "#276419"
            ]
           ],
           "sequential": [
            [
             0,
             "#0d0887"
            ],
            [
             0.1111111111111111,
             "#46039f"
            ],
            [
             0.2222222222222222,
             "#7201a8"
            ],
            [
             0.3333333333333333,
             "#9c179e"
            ],
            [
             0.4444444444444444,
             "#bd3786"
            ],
            [
             0.5555555555555556,
             "#d8576b"
            ],
            [
             0.6666666666666666,
             "#ed7953"
            ],
            [
             0.7777777777777778,
             "#fb9f3a"
            ],
            [
             0.8888888888888888,
             "#fdca26"
            ],
            [
             1,
             "#f0f921"
            ]
           ],
           "sequentialminus": [
            [
             0,
             "#0d0887"
            ],
            [
             0.1111111111111111,
             "#46039f"
            ],
            [
             0.2222222222222222,
             "#7201a8"
            ],
            [
             0.3333333333333333,
             "#9c179e"
            ],
            [
             0.4444444444444444,
             "#bd3786"
            ],
            [
             0.5555555555555556,
             "#d8576b"
            ],
            [
             0.6666666666666666,
             "#ed7953"
            ],
            [
             0.7777777777777778,
             "#fb9f3a"
            ],
            [
             0.8888888888888888,
             "#fdca26"
            ],
            [
             1,
             "#f0f921"
            ]
           ]
          },
          "colorway": [
           "#636efa",
           "#EF553B",
           "#00cc96",
           "#ab63fa",
           "#FFA15A",
           "#19d3f3",
           "#FF6692",
           "#B6E880",
           "#FF97FF",
           "#FECB52"
          ],
          "font": {
           "color": "#2a3f5f"
          },
          "geo": {
           "bgcolor": "white",
           "lakecolor": "white",
           "landcolor": "#E5ECF6",
           "showlakes": true,
           "showland": true,
           "subunitcolor": "white"
          },
          "hoverlabel": {
           "align": "left"
          },
          "hovermode": "closest",
          "mapbox": {
           "style": "light"
          },
          "paper_bgcolor": "white",
          "plot_bgcolor": "#E5ECF6",
          "polar": {
           "angularaxis": {
            "gridcolor": "white",
            "linecolor": "white",
            "ticks": ""
           },
           "bgcolor": "#E5ECF6",
           "radialaxis": {
            "gridcolor": "white",
            "linecolor": "white",
            "ticks": ""
           }
          },
          "scene": {
           "xaxis": {
            "backgroundcolor": "#E5ECF6",
            "gridcolor": "white",
            "gridwidth": 2,
            "linecolor": "white",
            "showbackground": true,
            "ticks": "",
            "zerolinecolor": "white"
           },
           "yaxis": {
            "backgroundcolor": "#E5ECF6",
            "gridcolor": "white",
            "gridwidth": 2,
            "linecolor": "white",
            "showbackground": true,
            "ticks": "",
            "zerolinecolor": "white"
           },
           "zaxis": {
            "backgroundcolor": "#E5ECF6",
            "gridcolor": "white",
            "gridwidth": 2,
            "linecolor": "white",
            "showbackground": true,
            "ticks": "",
            "zerolinecolor": "white"
           }
          },
          "shapedefaults": {
           "line": {
            "color": "#2a3f5f"
           }
          },
          "ternary": {
           "aaxis": {
            "gridcolor": "white",
            "linecolor": "white",
            "ticks": ""
           },
           "baxis": {
            "gridcolor": "white",
            "linecolor": "white",
            "ticks": ""
           },
           "bgcolor": "#E5ECF6",
           "caxis": {
            "gridcolor": "white",
            "linecolor": "white",
            "ticks": ""
           }
          },
          "title": {
           "x": 0.05
          },
          "xaxis": {
           "automargin": true,
           "gridcolor": "white",
           "linecolor": "white",
           "ticks": "",
           "title": {
            "standoff": 15
           },
           "zerolinecolor": "white",
           "zerolinewidth": 2
          },
          "yaxis": {
           "automargin": true,
           "gridcolor": "white",
           "linecolor": "white",
           "ticks": "",
           "title": {
            "standoff": 15
           },
           "zerolinecolor": "white",
           "zerolinewidth": 2
          }
         }
        },
        "title": {
         "text": "Age of real profiles",
         "x": 0.5
        },
        "xaxis": {
         "anchor": "y",
         "domain": [
          0,
          1
         ],
         "title": {
          "text": "Age"
         }
        },
        "yaxis": {
         "anchor": "x",
         "domain": [
          0,
          1
         ],
         "title": {
          "text": "Number of profiles"
         }
        }
       }
      }
     },
     "metadata": {},
     "output_type": "display_data"
    }
   ],
   "source": [
    "import matplotlib.pyplot as plt\n",
    "import plotly.express as px\n",
    "\n",
    "counts = cleaned_df[\"age\"].value_counts(normalize = True)\n",
    "\n",
    "fig = px.bar(counts, title=\"Age of real profiles\")\n",
    "fig.update_layout(\n",
    "    xaxis_title = \"Age\",\n",
    "    yaxis_title = \"Number of profiles\",\n",
    "    title_x = 0.5,\n",
    "    showlegend = False\n",
    ")\n",
    "\n",
    "fig.show()"
   ]
  },
  {
   "cell_type": "markdown",
   "id": "d0448b4c",
   "metadata": {},
   "source": [
    "## 4.2 Gender distribution "
   ]
  },
  {
   "cell_type": "code",
   "execution_count": 17,
   "id": "ff0084a7",
   "metadata": {},
   "outputs": [
    {
     "data": {
      "application/vnd.plotly.v1+json": {
       "config": {
        "plotlyServerURL": "https://plot.ly"
       },
       "data": [
        {
         "alignmentgroup": "True",
         "hovertemplate": "variable=gender<br>index=%{x}<br>value=%{y}<extra></extra>",
         "legendgroup": "gender",
         "marker": {
          "color": "#636efa",
          "pattern": {
           "shape": ""
          }
         },
         "name": "gender",
         "offsetgroup": "gender",
         "orientation": "v",
         "showlegend": true,
         "textposition": "auto",
         "type": "bar",
         "x": [
          "male",
          "female"
         ],
         "xaxis": "x",
         "y": [
          0.6465578424414479,
          0.3534421575585522
         ],
         "yaxis": "y"
        }
       ],
       "layout": {
        "barmode": "relative",
        "legend": {
         "title": {
          "text": "variable"
         },
         "tracegroupgap": 0
        },
        "showlegend": false,
        "template": {
         "data": {
          "bar": [
           {
            "error_x": {
             "color": "#2a3f5f"
            },
            "error_y": {
             "color": "#2a3f5f"
            },
            "marker": {
             "line": {
              "color": "#E5ECF6",
              "width": 0.5
             },
             "pattern": {
              "fillmode": "overlay",
              "size": 10,
              "solidity": 0.2
             }
            },
            "type": "bar"
           }
          ],
          "barpolar": [
           {
            "marker": {
             "line": {
              "color": "#E5ECF6",
              "width": 0.5
             },
             "pattern": {
              "fillmode": "overlay",
              "size": 10,
              "solidity": 0.2
             }
            },
            "type": "barpolar"
           }
          ],
          "carpet": [
           {
            "aaxis": {
             "endlinecolor": "#2a3f5f",
             "gridcolor": "white",
             "linecolor": "white",
             "minorgridcolor": "white",
             "startlinecolor": "#2a3f5f"
            },
            "baxis": {
             "endlinecolor": "#2a3f5f",
             "gridcolor": "white",
             "linecolor": "white",
             "minorgridcolor": "white",
             "startlinecolor": "#2a3f5f"
            },
            "type": "carpet"
           }
          ],
          "choropleth": [
           {
            "colorbar": {
             "outlinewidth": 0,
             "ticks": ""
            },
            "type": "choropleth"
           }
          ],
          "contour": [
           {
            "colorbar": {
             "outlinewidth": 0,
             "ticks": ""
            },
            "colorscale": [
             [
              0,
              "#0d0887"
             ],
             [
              0.1111111111111111,
              "#46039f"
             ],
             [
              0.2222222222222222,
              "#7201a8"
             ],
             [
              0.3333333333333333,
              "#9c179e"
             ],
             [
              0.4444444444444444,
              "#bd3786"
             ],
             [
              0.5555555555555556,
              "#d8576b"
             ],
             [
              0.6666666666666666,
              "#ed7953"
             ],
             [
              0.7777777777777778,
              "#fb9f3a"
             ],
             [
              0.8888888888888888,
              "#fdca26"
             ],
             [
              1,
              "#f0f921"
             ]
            ],
            "type": "contour"
           }
          ],
          "contourcarpet": [
           {
            "colorbar": {
             "outlinewidth": 0,
             "ticks": ""
            },
            "type": "contourcarpet"
           }
          ],
          "heatmap": [
           {
            "colorbar": {
             "outlinewidth": 0,
             "ticks": ""
            },
            "colorscale": [
             [
              0,
              "#0d0887"
             ],
             [
              0.1111111111111111,
              "#46039f"
             ],
             [
              0.2222222222222222,
              "#7201a8"
             ],
             [
              0.3333333333333333,
              "#9c179e"
             ],
             [
              0.4444444444444444,
              "#bd3786"
             ],
             [
              0.5555555555555556,
              "#d8576b"
             ],
             [
              0.6666666666666666,
              "#ed7953"
             ],
             [
              0.7777777777777778,
              "#fb9f3a"
             ],
             [
              0.8888888888888888,
              "#fdca26"
             ],
             [
              1,
              "#f0f921"
             ]
            ],
            "type": "heatmap"
           }
          ],
          "heatmapgl": [
           {
            "colorbar": {
             "outlinewidth": 0,
             "ticks": ""
            },
            "colorscale": [
             [
              0,
              "#0d0887"
             ],
             [
              0.1111111111111111,
              "#46039f"
             ],
             [
              0.2222222222222222,
              "#7201a8"
             ],
             [
              0.3333333333333333,
              "#9c179e"
             ],
             [
              0.4444444444444444,
              "#bd3786"
             ],
             [
              0.5555555555555556,
              "#d8576b"
             ],
             [
              0.6666666666666666,
              "#ed7953"
             ],
             [
              0.7777777777777778,
              "#fb9f3a"
             ],
             [
              0.8888888888888888,
              "#fdca26"
             ],
             [
              1,
              "#f0f921"
             ]
            ],
            "type": "heatmapgl"
           }
          ],
          "histogram": [
           {
            "marker": {
             "pattern": {
              "fillmode": "overlay",
              "size": 10,
              "solidity": 0.2
             }
            },
            "type": "histogram"
           }
          ],
          "histogram2d": [
           {
            "colorbar": {
             "outlinewidth": 0,
             "ticks": ""
            },
            "colorscale": [
             [
              0,
              "#0d0887"
             ],
             [
              0.1111111111111111,
              "#46039f"
             ],
             [
              0.2222222222222222,
              "#7201a8"
             ],
             [
              0.3333333333333333,
              "#9c179e"
             ],
             [
              0.4444444444444444,
              "#bd3786"
             ],
             [
              0.5555555555555556,
              "#d8576b"
             ],
             [
              0.6666666666666666,
              "#ed7953"
             ],
             [
              0.7777777777777778,
              "#fb9f3a"
             ],
             [
              0.8888888888888888,
              "#fdca26"
             ],
             [
              1,
              "#f0f921"
             ]
            ],
            "type": "histogram2d"
           }
          ],
          "histogram2dcontour": [
           {
            "colorbar": {
             "outlinewidth": 0,
             "ticks": ""
            },
            "colorscale": [
             [
              0,
              "#0d0887"
             ],
             [
              0.1111111111111111,
              "#46039f"
             ],
             [
              0.2222222222222222,
              "#7201a8"
             ],
             [
              0.3333333333333333,
              "#9c179e"
             ],
             [
              0.4444444444444444,
              "#bd3786"
             ],
             [
              0.5555555555555556,
              "#d8576b"
             ],
             [
              0.6666666666666666,
              "#ed7953"
             ],
             [
              0.7777777777777778,
              "#fb9f3a"
             ],
             [
              0.8888888888888888,
              "#fdca26"
             ],
             [
              1,
              "#f0f921"
             ]
            ],
            "type": "histogram2dcontour"
           }
          ],
          "mesh3d": [
           {
            "colorbar": {
             "outlinewidth": 0,
             "ticks": ""
            },
            "type": "mesh3d"
           }
          ],
          "parcoords": [
           {
            "line": {
             "colorbar": {
              "outlinewidth": 0,
              "ticks": ""
             }
            },
            "type": "parcoords"
           }
          ],
          "pie": [
           {
            "automargin": true,
            "type": "pie"
           }
          ],
          "scatter": [
           {
            "fillpattern": {
             "fillmode": "overlay",
             "size": 10,
             "solidity": 0.2
            },
            "type": "scatter"
           }
          ],
          "scatter3d": [
           {
            "line": {
             "colorbar": {
              "outlinewidth": 0,
              "ticks": ""
             }
            },
            "marker": {
             "colorbar": {
              "outlinewidth": 0,
              "ticks": ""
             }
            },
            "type": "scatter3d"
           }
          ],
          "scattercarpet": [
           {
            "marker": {
             "colorbar": {
              "outlinewidth": 0,
              "ticks": ""
             }
            },
            "type": "scattercarpet"
           }
          ],
          "scattergeo": [
           {
            "marker": {
             "colorbar": {
              "outlinewidth": 0,
              "ticks": ""
             }
            },
            "type": "scattergeo"
           }
          ],
          "scattergl": [
           {
            "marker": {
             "colorbar": {
              "outlinewidth": 0,
              "ticks": ""
             }
            },
            "type": "scattergl"
           }
          ],
          "scattermapbox": [
           {
            "marker": {
             "colorbar": {
              "outlinewidth": 0,
              "ticks": ""
             }
            },
            "type": "scattermapbox"
           }
          ],
          "scatterpolar": [
           {
            "marker": {
             "colorbar": {
              "outlinewidth": 0,
              "ticks": ""
             }
            },
            "type": "scatterpolar"
           }
          ],
          "scatterpolargl": [
           {
            "marker": {
             "colorbar": {
              "outlinewidth": 0,
              "ticks": ""
             }
            },
            "type": "scatterpolargl"
           }
          ],
          "scatterternary": [
           {
            "marker": {
             "colorbar": {
              "outlinewidth": 0,
              "ticks": ""
             }
            },
            "type": "scatterternary"
           }
          ],
          "surface": [
           {
            "colorbar": {
             "outlinewidth": 0,
             "ticks": ""
            },
            "colorscale": [
             [
              0,
              "#0d0887"
             ],
             [
              0.1111111111111111,
              "#46039f"
             ],
             [
              0.2222222222222222,
              "#7201a8"
             ],
             [
              0.3333333333333333,
              "#9c179e"
             ],
             [
              0.4444444444444444,
              "#bd3786"
             ],
             [
              0.5555555555555556,
              "#d8576b"
             ],
             [
              0.6666666666666666,
              "#ed7953"
             ],
             [
              0.7777777777777778,
              "#fb9f3a"
             ],
             [
              0.8888888888888888,
              "#fdca26"
             ],
             [
              1,
              "#f0f921"
             ]
            ],
            "type": "surface"
           }
          ],
          "table": [
           {
            "cells": {
             "fill": {
              "color": "#EBF0F8"
             },
             "line": {
              "color": "white"
             }
            },
            "header": {
             "fill": {
              "color": "#C8D4E3"
             },
             "line": {
              "color": "white"
             }
            },
            "type": "table"
           }
          ]
         },
         "layout": {
          "annotationdefaults": {
           "arrowcolor": "#2a3f5f",
           "arrowhead": 0,
           "arrowwidth": 1
          },
          "autotypenumbers": "strict",
          "coloraxis": {
           "colorbar": {
            "outlinewidth": 0,
            "ticks": ""
           }
          },
          "colorscale": {
           "diverging": [
            [
             0,
             "#8e0152"
            ],
            [
             0.1,
             "#c51b7d"
            ],
            [
             0.2,
             "#de77ae"
            ],
            [
             0.3,
             "#f1b6da"
            ],
            [
             0.4,
             "#fde0ef"
            ],
            [
             0.5,
             "#f7f7f7"
            ],
            [
             0.6,
             "#e6f5d0"
            ],
            [
             0.7,
             "#b8e186"
            ],
            [
             0.8,
             "#7fbc41"
            ],
            [
             0.9,
             "#4d9221"
            ],
            [
             1,
             "#276419"
            ]
           ],
           "sequential": [
            [
             0,
             "#0d0887"
            ],
            [
             0.1111111111111111,
             "#46039f"
            ],
            [
             0.2222222222222222,
             "#7201a8"
            ],
            [
             0.3333333333333333,
             "#9c179e"
            ],
            [
             0.4444444444444444,
             "#bd3786"
            ],
            [
             0.5555555555555556,
             "#d8576b"
            ],
            [
             0.6666666666666666,
             "#ed7953"
            ],
            [
             0.7777777777777778,
             "#fb9f3a"
            ],
            [
             0.8888888888888888,
             "#fdca26"
            ],
            [
             1,
             "#f0f921"
            ]
           ],
           "sequentialminus": [
            [
             0,
             "#0d0887"
            ],
            [
             0.1111111111111111,
             "#46039f"
            ],
            [
             0.2222222222222222,
             "#7201a8"
            ],
            [
             0.3333333333333333,
             "#9c179e"
            ],
            [
             0.4444444444444444,
             "#bd3786"
            ],
            [
             0.5555555555555556,
             "#d8576b"
            ],
            [
             0.6666666666666666,
             "#ed7953"
            ],
            [
             0.7777777777777778,
             "#fb9f3a"
            ],
            [
             0.8888888888888888,
             "#fdca26"
            ],
            [
             1,
             "#f0f921"
            ]
           ]
          },
          "colorway": [
           "#636efa",
           "#EF553B",
           "#00cc96",
           "#ab63fa",
           "#FFA15A",
           "#19d3f3",
           "#FF6692",
           "#B6E880",
           "#FF97FF",
           "#FECB52"
          ],
          "font": {
           "color": "#2a3f5f"
          },
          "geo": {
           "bgcolor": "white",
           "lakecolor": "white",
           "landcolor": "#E5ECF6",
           "showlakes": true,
           "showland": true,
           "subunitcolor": "white"
          },
          "hoverlabel": {
           "align": "left"
          },
          "hovermode": "closest",
          "mapbox": {
           "style": "light"
          },
          "paper_bgcolor": "white",
          "plot_bgcolor": "#E5ECF6",
          "polar": {
           "angularaxis": {
            "gridcolor": "white",
            "linecolor": "white",
            "ticks": ""
           },
           "bgcolor": "#E5ECF6",
           "radialaxis": {
            "gridcolor": "white",
            "linecolor": "white",
            "ticks": ""
           }
          },
          "scene": {
           "xaxis": {
            "backgroundcolor": "#E5ECF6",
            "gridcolor": "white",
            "gridwidth": 2,
            "linecolor": "white",
            "showbackground": true,
            "ticks": "",
            "zerolinecolor": "white"
           },
           "yaxis": {
            "backgroundcolor": "#E5ECF6",
            "gridcolor": "white",
            "gridwidth": 2,
            "linecolor": "white",
            "showbackground": true,
            "ticks": "",
            "zerolinecolor": "white"
           },
           "zaxis": {
            "backgroundcolor": "#E5ECF6",
            "gridcolor": "white",
            "gridwidth": 2,
            "linecolor": "white",
            "showbackground": true,
            "ticks": "",
            "zerolinecolor": "white"
           }
          },
          "shapedefaults": {
           "line": {
            "color": "#2a3f5f"
           }
          },
          "ternary": {
           "aaxis": {
            "gridcolor": "white",
            "linecolor": "white",
            "ticks": ""
           },
           "baxis": {
            "gridcolor": "white",
            "linecolor": "white",
            "ticks": ""
           },
           "bgcolor": "#E5ECF6",
           "caxis": {
            "gridcolor": "white",
            "linecolor": "white",
            "ticks": ""
           }
          },
          "title": {
           "x": 0.05
          },
          "xaxis": {
           "automargin": true,
           "gridcolor": "white",
           "linecolor": "white",
           "ticks": "",
           "title": {
            "standoff": 15
           },
           "zerolinecolor": "white",
           "zerolinewidth": 2
          },
          "yaxis": {
           "automargin": true,
           "gridcolor": "white",
           "linecolor": "white",
           "ticks": "",
           "title": {
            "standoff": 15
           },
           "zerolinecolor": "white",
           "zerolinewidth": 2
          }
         }
        },
        "title": {
         "text": "Gender distribution of real profiles",
         "x": 0.5
        },
        "xaxis": {
         "anchor": "y",
         "domain": [
          0,
          1
         ],
         "title": {
          "text": "Gender"
         }
        },
        "yaxis": {
         "anchor": "x",
         "domain": [
          0,
          1
         ],
         "title": {
          "text": "Percentage of profiles"
         }
        }
       }
      }
     },
     "metadata": {},
     "output_type": "display_data"
    }
   ],
   "source": [
    "import matplotlib.pyplot as plt\n",
    "import plotly.express as px\n",
    "\n",
    "counts = cleaned_df[\"gender\"].value_counts(normalize = True)\n",
    "\n",
    "fig = px.bar(counts, title=\"Gender distribution of real profiles\")\n",
    "fig.update_layout(\n",
    "    xaxis_title = \"Gender\",\n",
    "    yaxis_title = \"Percentage of profiles\",\n",
    "    title_x = 0.5,\n",
    "    showlegend = False\n",
    ")\n",
    "\n",
    "fig.show()"
   ]
  },
  {
   "cell_type": "markdown",
   "id": "da3a31c4",
   "metadata": {},
   "source": [
    "## 4.6 Status"
   ]
  },
  {
   "cell_type": "code",
   "execution_count": 8,
   "id": "499d2dff",
   "metadata": {},
   "outputs": [
    {
     "data": {
      "application/vnd.plotly.v1+json": {
       "config": {
        "plotlyServerURL": "https://plot.ly"
       },
       "data": [
        {
         "alignmentgroup": "True",
         "hovertemplate": "variable=status<br>index=%{x}<br>value=%{y}<extra></extra>",
         "legendgroup": "status",
         "marker": {
          "color": "#636efa",
          "pattern": {
           "shape": ""
          }
         },
         "name": "status",
         "offsetgroup": "status",
         "orientation": "v",
         "showlegend": true,
         "textposition": "auto",
         "type": "bar",
         "x": [
          "single",
          "divorced",
          "widowed",
          "separated",
          "in relationship",
          "married",
          "widower",
          "widow",
          "single or divorced"
         ],
         "xaxis": "x",
         "y": [
          0.5960492074757511,
          0.1741187603501301,
          0.12088951975396262,
          0.0852850721551928,
          0.013011592145729832,
          0.008989827300686065,
          0.0009462976105985332,
          0.0004731488052992666,
          0.0002365744026496333
         ],
         "yaxis": "y"
        }
       ],
       "layout": {
        "barmode": "relative",
        "legend": {
         "title": {
          "text": "variable"
         },
         "tracegroupgap": 0
        },
        "showlegend": false,
        "template": {
         "data": {
          "bar": [
           {
            "error_x": {
             "color": "#2a3f5f"
            },
            "error_y": {
             "color": "#2a3f5f"
            },
            "marker": {
             "line": {
              "color": "#E5ECF6",
              "width": 0.5
             },
             "pattern": {
              "fillmode": "overlay",
              "size": 10,
              "solidity": 0.2
             }
            },
            "type": "bar"
           }
          ],
          "barpolar": [
           {
            "marker": {
             "line": {
              "color": "#E5ECF6",
              "width": 0.5
             },
             "pattern": {
              "fillmode": "overlay",
              "size": 10,
              "solidity": 0.2
             }
            },
            "type": "barpolar"
           }
          ],
          "carpet": [
           {
            "aaxis": {
             "endlinecolor": "#2a3f5f",
             "gridcolor": "white",
             "linecolor": "white",
             "minorgridcolor": "white",
             "startlinecolor": "#2a3f5f"
            },
            "baxis": {
             "endlinecolor": "#2a3f5f",
             "gridcolor": "white",
             "linecolor": "white",
             "minorgridcolor": "white",
             "startlinecolor": "#2a3f5f"
            },
            "type": "carpet"
           }
          ],
          "choropleth": [
           {
            "colorbar": {
             "outlinewidth": 0,
             "ticks": ""
            },
            "type": "choropleth"
           }
          ],
          "contour": [
           {
            "colorbar": {
             "outlinewidth": 0,
             "ticks": ""
            },
            "colorscale": [
             [
              0,
              "#0d0887"
             ],
             [
              0.1111111111111111,
              "#46039f"
             ],
             [
              0.2222222222222222,
              "#7201a8"
             ],
             [
              0.3333333333333333,
              "#9c179e"
             ],
             [
              0.4444444444444444,
              "#bd3786"
             ],
             [
              0.5555555555555556,
              "#d8576b"
             ],
             [
              0.6666666666666666,
              "#ed7953"
             ],
             [
              0.7777777777777778,
              "#fb9f3a"
             ],
             [
              0.8888888888888888,
              "#fdca26"
             ],
             [
              1,
              "#f0f921"
             ]
            ],
            "type": "contour"
           }
          ],
          "contourcarpet": [
           {
            "colorbar": {
             "outlinewidth": 0,
             "ticks": ""
            },
            "type": "contourcarpet"
           }
          ],
          "heatmap": [
           {
            "colorbar": {
             "outlinewidth": 0,
             "ticks": ""
            },
            "colorscale": [
             [
              0,
              "#0d0887"
             ],
             [
              0.1111111111111111,
              "#46039f"
             ],
             [
              0.2222222222222222,
              "#7201a8"
             ],
             [
              0.3333333333333333,
              "#9c179e"
             ],
             [
              0.4444444444444444,
              "#bd3786"
             ],
             [
              0.5555555555555556,
              "#d8576b"
             ],
             [
              0.6666666666666666,
              "#ed7953"
             ],
             [
              0.7777777777777778,
              "#fb9f3a"
             ],
             [
              0.8888888888888888,
              "#fdca26"
             ],
             [
              1,
              "#f0f921"
             ]
            ],
            "type": "heatmap"
           }
          ],
          "heatmapgl": [
           {
            "colorbar": {
             "outlinewidth": 0,
             "ticks": ""
            },
            "colorscale": [
             [
              0,
              "#0d0887"
             ],
             [
              0.1111111111111111,
              "#46039f"
             ],
             [
              0.2222222222222222,
              "#7201a8"
             ],
             [
              0.3333333333333333,
              "#9c179e"
             ],
             [
              0.4444444444444444,
              "#bd3786"
             ],
             [
              0.5555555555555556,
              "#d8576b"
             ],
             [
              0.6666666666666666,
              "#ed7953"
             ],
             [
              0.7777777777777778,
              "#fb9f3a"
             ],
             [
              0.8888888888888888,
              "#fdca26"
             ],
             [
              1,
              "#f0f921"
             ]
            ],
            "type": "heatmapgl"
           }
          ],
          "histogram": [
           {
            "marker": {
             "pattern": {
              "fillmode": "overlay",
              "size": 10,
              "solidity": 0.2
             }
            },
            "type": "histogram"
           }
          ],
          "histogram2d": [
           {
            "colorbar": {
             "outlinewidth": 0,
             "ticks": ""
            },
            "colorscale": [
             [
              0,
              "#0d0887"
             ],
             [
              0.1111111111111111,
              "#46039f"
             ],
             [
              0.2222222222222222,
              "#7201a8"
             ],
             [
              0.3333333333333333,
              "#9c179e"
             ],
             [
              0.4444444444444444,
              "#bd3786"
             ],
             [
              0.5555555555555556,
              "#d8576b"
             ],
             [
              0.6666666666666666,
              "#ed7953"
             ],
             [
              0.7777777777777778,
              "#fb9f3a"
             ],
             [
              0.8888888888888888,
              "#fdca26"
             ],
             [
              1,
              "#f0f921"
             ]
            ],
            "type": "histogram2d"
           }
          ],
          "histogram2dcontour": [
           {
            "colorbar": {
             "outlinewidth": 0,
             "ticks": ""
            },
            "colorscale": [
             [
              0,
              "#0d0887"
             ],
             [
              0.1111111111111111,
              "#46039f"
             ],
             [
              0.2222222222222222,
              "#7201a8"
             ],
             [
              0.3333333333333333,
              "#9c179e"
             ],
             [
              0.4444444444444444,
              "#bd3786"
             ],
             [
              0.5555555555555556,
              "#d8576b"
             ],
             [
              0.6666666666666666,
              "#ed7953"
             ],
             [
              0.7777777777777778,
              "#fb9f3a"
             ],
             [
              0.8888888888888888,
              "#fdca26"
             ],
             [
              1,
              "#f0f921"
             ]
            ],
            "type": "histogram2dcontour"
           }
          ],
          "mesh3d": [
           {
            "colorbar": {
             "outlinewidth": 0,
             "ticks": ""
            },
            "type": "mesh3d"
           }
          ],
          "parcoords": [
           {
            "line": {
             "colorbar": {
              "outlinewidth": 0,
              "ticks": ""
             }
            },
            "type": "parcoords"
           }
          ],
          "pie": [
           {
            "automargin": true,
            "type": "pie"
           }
          ],
          "scatter": [
           {
            "fillpattern": {
             "fillmode": "overlay",
             "size": 10,
             "solidity": 0.2
            },
            "type": "scatter"
           }
          ],
          "scatter3d": [
           {
            "line": {
             "colorbar": {
              "outlinewidth": 0,
              "ticks": ""
             }
            },
            "marker": {
             "colorbar": {
              "outlinewidth": 0,
              "ticks": ""
             }
            },
            "type": "scatter3d"
           }
          ],
          "scattercarpet": [
           {
            "marker": {
             "colorbar": {
              "outlinewidth": 0,
              "ticks": ""
             }
            },
            "type": "scattercarpet"
           }
          ],
          "scattergeo": [
           {
            "marker": {
             "colorbar": {
              "outlinewidth": 0,
              "ticks": ""
             }
            },
            "type": "scattergeo"
           }
          ],
          "scattergl": [
           {
            "marker": {
             "colorbar": {
              "outlinewidth": 0,
              "ticks": ""
             }
            },
            "type": "scattergl"
           }
          ],
          "scattermapbox": [
           {
            "marker": {
             "colorbar": {
              "outlinewidth": 0,
              "ticks": ""
             }
            },
            "type": "scattermapbox"
           }
          ],
          "scatterpolar": [
           {
            "marker": {
             "colorbar": {
              "outlinewidth": 0,
              "ticks": ""
             }
            },
            "type": "scatterpolar"
           }
          ],
          "scatterpolargl": [
           {
            "marker": {
             "colorbar": {
              "outlinewidth": 0,
              "ticks": ""
             }
            },
            "type": "scatterpolargl"
           }
          ],
          "scatterternary": [
           {
            "marker": {
             "colorbar": {
              "outlinewidth": 0,
              "ticks": ""
             }
            },
            "type": "scatterternary"
           }
          ],
          "surface": [
           {
            "colorbar": {
             "outlinewidth": 0,
             "ticks": ""
            },
            "colorscale": [
             [
              0,
              "#0d0887"
             ],
             [
              0.1111111111111111,
              "#46039f"
             ],
             [
              0.2222222222222222,
              "#7201a8"
             ],
             [
              0.3333333333333333,
              "#9c179e"
             ],
             [
              0.4444444444444444,
              "#bd3786"
             ],
             [
              0.5555555555555556,
              "#d8576b"
             ],
             [
              0.6666666666666666,
              "#ed7953"
             ],
             [
              0.7777777777777778,
              "#fb9f3a"
             ],
             [
              0.8888888888888888,
              "#fdca26"
             ],
             [
              1,
              "#f0f921"
             ]
            ],
            "type": "surface"
           }
          ],
          "table": [
           {
            "cells": {
             "fill": {
              "color": "#EBF0F8"
             },
             "line": {
              "color": "white"
             }
            },
            "header": {
             "fill": {
              "color": "#C8D4E3"
             },
             "line": {
              "color": "white"
             }
            },
            "type": "table"
           }
          ]
         },
         "layout": {
          "annotationdefaults": {
           "arrowcolor": "#2a3f5f",
           "arrowhead": 0,
           "arrowwidth": 1
          },
          "autotypenumbers": "strict",
          "coloraxis": {
           "colorbar": {
            "outlinewidth": 0,
            "ticks": ""
           }
          },
          "colorscale": {
           "diverging": [
            [
             0,
             "#8e0152"
            ],
            [
             0.1,
             "#c51b7d"
            ],
            [
             0.2,
             "#de77ae"
            ],
            [
             0.3,
             "#f1b6da"
            ],
            [
             0.4,
             "#fde0ef"
            ],
            [
             0.5,
             "#f7f7f7"
            ],
            [
             0.6,
             "#e6f5d0"
            ],
            [
             0.7,
             "#b8e186"
            ],
            [
             0.8,
             "#7fbc41"
            ],
            [
             0.9,
             "#4d9221"
            ],
            [
             1,
             "#276419"
            ]
           ],
           "sequential": [
            [
             0,
             "#0d0887"
            ],
            [
             0.1111111111111111,
             "#46039f"
            ],
            [
             0.2222222222222222,
             "#7201a8"
            ],
            [
             0.3333333333333333,
             "#9c179e"
            ],
            [
             0.4444444444444444,
             "#bd3786"
            ],
            [
             0.5555555555555556,
             "#d8576b"
            ],
            [
             0.6666666666666666,
             "#ed7953"
            ],
            [
             0.7777777777777778,
             "#fb9f3a"
            ],
            [
             0.8888888888888888,
             "#fdca26"
            ],
            [
             1,
             "#f0f921"
            ]
           ],
           "sequentialminus": [
            [
             0,
             "#0d0887"
            ],
            [
             0.1111111111111111,
             "#46039f"
            ],
            [
             0.2222222222222222,
             "#7201a8"
            ],
            [
             0.3333333333333333,
             "#9c179e"
            ],
            [
             0.4444444444444444,
             "#bd3786"
            ],
            [
             0.5555555555555556,
             "#d8576b"
            ],
            [
             0.6666666666666666,
             "#ed7953"
            ],
            [
             0.7777777777777778,
             "#fb9f3a"
            ],
            [
             0.8888888888888888,
             "#fdca26"
            ],
            [
             1,
             "#f0f921"
            ]
           ]
          },
          "colorway": [
           "#636efa",
           "#EF553B",
           "#00cc96",
           "#ab63fa",
           "#FFA15A",
           "#19d3f3",
           "#FF6692",
           "#B6E880",
           "#FF97FF",
           "#FECB52"
          ],
          "font": {
           "color": "#2a3f5f"
          },
          "geo": {
           "bgcolor": "white",
           "lakecolor": "white",
           "landcolor": "#E5ECF6",
           "showlakes": true,
           "showland": true,
           "subunitcolor": "white"
          },
          "hoverlabel": {
           "align": "left"
          },
          "hovermode": "closest",
          "mapbox": {
           "style": "light"
          },
          "paper_bgcolor": "white",
          "plot_bgcolor": "#E5ECF6",
          "polar": {
           "angularaxis": {
            "gridcolor": "white",
            "linecolor": "white",
            "ticks": ""
           },
           "bgcolor": "#E5ECF6",
           "radialaxis": {
            "gridcolor": "white",
            "linecolor": "white",
            "ticks": ""
           }
          },
          "scene": {
           "xaxis": {
            "backgroundcolor": "#E5ECF6",
            "gridcolor": "white",
            "gridwidth": 2,
            "linecolor": "white",
            "showbackground": true,
            "ticks": "",
            "zerolinecolor": "white"
           },
           "yaxis": {
            "backgroundcolor": "#E5ECF6",
            "gridcolor": "white",
            "gridwidth": 2,
            "linecolor": "white",
            "showbackground": true,
            "ticks": "",
            "zerolinecolor": "white"
           },
           "zaxis": {
            "backgroundcolor": "#E5ECF6",
            "gridcolor": "white",
            "gridwidth": 2,
            "linecolor": "white",
            "showbackground": true,
            "ticks": "",
            "zerolinecolor": "white"
           }
          },
          "shapedefaults": {
           "line": {
            "color": "#2a3f5f"
           }
          },
          "ternary": {
           "aaxis": {
            "gridcolor": "white",
            "linecolor": "white",
            "ticks": ""
           },
           "baxis": {
            "gridcolor": "white",
            "linecolor": "white",
            "ticks": ""
           },
           "bgcolor": "#E5ECF6",
           "caxis": {
            "gridcolor": "white",
            "linecolor": "white",
            "ticks": ""
           }
          },
          "title": {
           "x": 0.05
          },
          "xaxis": {
           "automargin": true,
           "gridcolor": "white",
           "linecolor": "white",
           "ticks": "",
           "title": {
            "standoff": 15
           },
           "zerolinecolor": "white",
           "zerolinewidth": 2
          },
          "yaxis": {
           "automargin": true,
           "gridcolor": "white",
           "linecolor": "white",
           "ticks": "",
           "title": {
            "standoff": 15
           },
           "zerolinecolor": "white",
           "zerolinewidth": 2
          }
         }
        },
        "title": {
         "text": "Status of real profiles",
         "x": 0.5
        },
        "xaxis": {
         "anchor": "y",
         "domain": [
          0,
          1
         ],
         "title": {
          "text": "Status"
         }
        },
        "yaxis": {
         "anchor": "x",
         "domain": [
          0,
          1
         ],
         "title": {
          "text": "Percentage of real profiles"
         }
        }
       }
      }
     },
     "metadata": {},
     "output_type": "display_data"
    }
   ],
   "source": [
    "counts = cleaned_df[\"status\"].value_counts(normalize = True)\n",
    "\n",
    "fig = px.bar(counts, title=\"Status of real profiles\")\n",
    "fig.update_layout(\n",
    "    xaxis_title = \"Status\",\n",
    "    yaxis_title = \"Percentage of real profiles\",\n",
    "    title_x = 0.5,\n",
    "    showlegend = False\n",
    ")\n",
    "\n",
    "fig.show()"
   ]
  },
  {
   "cell_type": "code",
   "execution_count": 11,
   "id": "a1d3eff3",
   "metadata": {},
   "outputs": [
    {
     "data": {
      "application/vnd.plotly.v1+json": {
       "config": {
        "plotlyServerURL": "https://plot.ly"
       },
       "data": [
        {
         "alignmentgroup": "True",
         "hovertemplate": "variable=translated_occupation_category<br>index=%{x}<br>value=%{y}<extra></extra>",
         "legendgroup": "translated_occupation_category",
         "marker": {
          "color": "#636efa",
          "pattern": {
           "shape": ""
          }
         },
         "name": "translated_occupation_category",
         "offsetgroup": "translated_occupation_category",
         "orientation": "v",
         "showlegend": true,
         "textposition": "auto",
         "type": "bar",
         "x": [
          "self employed",
          "education",
          "engineer",
          "office",
          "construction",
          "military",
          "service",
          "medical",
          "manager",
          "trade",
          "retired",
          "media",
          "art",
          "government",
          "finance",
          "transport",
          "tech",
          "unemployed",
          "others",
          "science"
         ],
         "xaxis": "x",
         "y": [
          0.15885971137922877,
          0.12112609415661225,
          0.1078779276082328,
          0.08079015850484977,
          0.07049917198959073,
          0.06978944878164182,
          0.06493967352732434,
          0.06482138632599953,
          0.04814289093920038,
          0.040927371658386565,
          0.033830139578897564,
          0.02472202507688668,
          0.019753962621244382,
          0.0191625266146203,
          0.017743080198722498,
          0.016441920984149514,
          0.014076176957653182,
          0.0127750177430802,
          0.01171043293115685,
          0.0020108824225218832
         ],
         "yaxis": "y"
        }
       ],
       "layout": {
        "barmode": "relative",
        "legend": {
         "title": {
          "text": "variable"
         },
         "tracegroupgap": 0
        },
        "showlegend": false,
        "template": {
         "data": {
          "bar": [
           {
            "error_x": {
             "color": "#2a3f5f"
            },
            "error_y": {
             "color": "#2a3f5f"
            },
            "marker": {
             "line": {
              "color": "#E5ECF6",
              "width": 0.5
             },
             "pattern": {
              "fillmode": "overlay",
              "size": 10,
              "solidity": 0.2
             }
            },
            "type": "bar"
           }
          ],
          "barpolar": [
           {
            "marker": {
             "line": {
              "color": "#E5ECF6",
              "width": 0.5
             },
             "pattern": {
              "fillmode": "overlay",
              "size": 10,
              "solidity": 0.2
             }
            },
            "type": "barpolar"
           }
          ],
          "carpet": [
           {
            "aaxis": {
             "endlinecolor": "#2a3f5f",
             "gridcolor": "white",
             "linecolor": "white",
             "minorgridcolor": "white",
             "startlinecolor": "#2a3f5f"
            },
            "baxis": {
             "endlinecolor": "#2a3f5f",
             "gridcolor": "white",
             "linecolor": "white",
             "minorgridcolor": "white",
             "startlinecolor": "#2a3f5f"
            },
            "type": "carpet"
           }
          ],
          "choropleth": [
           {
            "colorbar": {
             "outlinewidth": 0,
             "ticks": ""
            },
            "type": "choropleth"
           }
          ],
          "contour": [
           {
            "colorbar": {
             "outlinewidth": 0,
             "ticks": ""
            },
            "colorscale": [
             [
              0,
              "#0d0887"
             ],
             [
              0.1111111111111111,
              "#46039f"
             ],
             [
              0.2222222222222222,
              "#7201a8"
             ],
             [
              0.3333333333333333,
              "#9c179e"
             ],
             [
              0.4444444444444444,
              "#bd3786"
             ],
             [
              0.5555555555555556,
              "#d8576b"
             ],
             [
              0.6666666666666666,
              "#ed7953"
             ],
             [
              0.7777777777777778,
              "#fb9f3a"
             ],
             [
              0.8888888888888888,
              "#fdca26"
             ],
             [
              1,
              "#f0f921"
             ]
            ],
            "type": "contour"
           }
          ],
          "contourcarpet": [
           {
            "colorbar": {
             "outlinewidth": 0,
             "ticks": ""
            },
            "type": "contourcarpet"
           }
          ],
          "heatmap": [
           {
            "colorbar": {
             "outlinewidth": 0,
             "ticks": ""
            },
            "colorscale": [
             [
              0,
              "#0d0887"
             ],
             [
              0.1111111111111111,
              "#46039f"
             ],
             [
              0.2222222222222222,
              "#7201a8"
             ],
             [
              0.3333333333333333,
              "#9c179e"
             ],
             [
              0.4444444444444444,
              "#bd3786"
             ],
             [
              0.5555555555555556,
              "#d8576b"
             ],
             [
              0.6666666666666666,
              "#ed7953"
             ],
             [
              0.7777777777777778,
              "#fb9f3a"
             ],
             [
              0.8888888888888888,
              "#fdca26"
             ],
             [
              1,
              "#f0f921"
             ]
            ],
            "type": "heatmap"
           }
          ],
          "heatmapgl": [
           {
            "colorbar": {
             "outlinewidth": 0,
             "ticks": ""
            },
            "colorscale": [
             [
              0,
              "#0d0887"
             ],
             [
              0.1111111111111111,
              "#46039f"
             ],
             [
              0.2222222222222222,
              "#7201a8"
             ],
             [
              0.3333333333333333,
              "#9c179e"
             ],
             [
              0.4444444444444444,
              "#bd3786"
             ],
             [
              0.5555555555555556,
              "#d8576b"
             ],
             [
              0.6666666666666666,
              "#ed7953"
             ],
             [
              0.7777777777777778,
              "#fb9f3a"
             ],
             [
              0.8888888888888888,
              "#fdca26"
             ],
             [
              1,
              "#f0f921"
             ]
            ],
            "type": "heatmapgl"
           }
          ],
          "histogram": [
           {
            "marker": {
             "pattern": {
              "fillmode": "overlay",
              "size": 10,
              "solidity": 0.2
             }
            },
            "type": "histogram"
           }
          ],
          "histogram2d": [
           {
            "colorbar": {
             "outlinewidth": 0,
             "ticks": ""
            },
            "colorscale": [
             [
              0,
              "#0d0887"
             ],
             [
              0.1111111111111111,
              "#46039f"
             ],
             [
              0.2222222222222222,
              "#7201a8"
             ],
             [
              0.3333333333333333,
              "#9c179e"
             ],
             [
              0.4444444444444444,
              "#bd3786"
             ],
             [
              0.5555555555555556,
              "#d8576b"
             ],
             [
              0.6666666666666666,
              "#ed7953"
             ],
             [
              0.7777777777777778,
              "#fb9f3a"
             ],
             [
              0.8888888888888888,
              "#fdca26"
             ],
             [
              1,
              "#f0f921"
             ]
            ],
            "type": "histogram2d"
           }
          ],
          "histogram2dcontour": [
           {
            "colorbar": {
             "outlinewidth": 0,
             "ticks": ""
            },
            "colorscale": [
             [
              0,
              "#0d0887"
             ],
             [
              0.1111111111111111,
              "#46039f"
             ],
             [
              0.2222222222222222,
              "#7201a8"
             ],
             [
              0.3333333333333333,
              "#9c179e"
             ],
             [
              0.4444444444444444,
              "#bd3786"
             ],
             [
              0.5555555555555556,
              "#d8576b"
             ],
             [
              0.6666666666666666,
              "#ed7953"
             ],
             [
              0.7777777777777778,
              "#fb9f3a"
             ],
             [
              0.8888888888888888,
              "#fdca26"
             ],
             [
              1,
              "#f0f921"
             ]
            ],
            "type": "histogram2dcontour"
           }
          ],
          "mesh3d": [
           {
            "colorbar": {
             "outlinewidth": 0,
             "ticks": ""
            },
            "type": "mesh3d"
           }
          ],
          "parcoords": [
           {
            "line": {
             "colorbar": {
              "outlinewidth": 0,
              "ticks": ""
             }
            },
            "type": "parcoords"
           }
          ],
          "pie": [
           {
            "automargin": true,
            "type": "pie"
           }
          ],
          "scatter": [
           {
            "fillpattern": {
             "fillmode": "overlay",
             "size": 10,
             "solidity": 0.2
            },
            "type": "scatter"
           }
          ],
          "scatter3d": [
           {
            "line": {
             "colorbar": {
              "outlinewidth": 0,
              "ticks": ""
             }
            },
            "marker": {
             "colorbar": {
              "outlinewidth": 0,
              "ticks": ""
             }
            },
            "type": "scatter3d"
           }
          ],
          "scattercarpet": [
           {
            "marker": {
             "colorbar": {
              "outlinewidth": 0,
              "ticks": ""
             }
            },
            "type": "scattercarpet"
           }
          ],
          "scattergeo": [
           {
            "marker": {
             "colorbar": {
              "outlinewidth": 0,
              "ticks": ""
             }
            },
            "type": "scattergeo"
           }
          ],
          "scattergl": [
           {
            "marker": {
             "colorbar": {
              "outlinewidth": 0,
              "ticks": ""
             }
            },
            "type": "scattergl"
           }
          ],
          "scattermapbox": [
           {
            "marker": {
             "colorbar": {
              "outlinewidth": 0,
              "ticks": ""
             }
            },
            "type": "scattermapbox"
           }
          ],
          "scatterpolar": [
           {
            "marker": {
             "colorbar": {
              "outlinewidth": 0,
              "ticks": ""
             }
            },
            "type": "scatterpolar"
           }
          ],
          "scatterpolargl": [
           {
            "marker": {
             "colorbar": {
              "outlinewidth": 0,
              "ticks": ""
             }
            },
            "type": "scatterpolargl"
           }
          ],
          "scatterternary": [
           {
            "marker": {
             "colorbar": {
              "outlinewidth": 0,
              "ticks": ""
             }
            },
            "type": "scatterternary"
           }
          ],
          "surface": [
           {
            "colorbar": {
             "outlinewidth": 0,
             "ticks": ""
            },
            "colorscale": [
             [
              0,
              "#0d0887"
             ],
             [
              0.1111111111111111,
              "#46039f"
             ],
             [
              0.2222222222222222,
              "#7201a8"
             ],
             [
              0.3333333333333333,
              "#9c179e"
             ],
             [
              0.4444444444444444,
              "#bd3786"
             ],
             [
              0.5555555555555556,
              "#d8576b"
             ],
             [
              0.6666666666666666,
              "#ed7953"
             ],
             [
              0.7777777777777778,
              "#fb9f3a"
             ],
             [
              0.8888888888888888,
              "#fdca26"
             ],
             [
              1,
              "#f0f921"
             ]
            ],
            "type": "surface"
           }
          ],
          "table": [
           {
            "cells": {
             "fill": {
              "color": "#EBF0F8"
             },
             "line": {
              "color": "white"
             }
            },
            "header": {
             "fill": {
              "color": "#C8D4E3"
             },
             "line": {
              "color": "white"
             }
            },
            "type": "table"
           }
          ]
         },
         "layout": {
          "annotationdefaults": {
           "arrowcolor": "#2a3f5f",
           "arrowhead": 0,
           "arrowwidth": 1
          },
          "autotypenumbers": "strict",
          "coloraxis": {
           "colorbar": {
            "outlinewidth": 0,
            "ticks": ""
           }
          },
          "colorscale": {
           "diverging": [
            [
             0,
             "#8e0152"
            ],
            [
             0.1,
             "#c51b7d"
            ],
            [
             0.2,
             "#de77ae"
            ],
            [
             0.3,
             "#f1b6da"
            ],
            [
             0.4,
             "#fde0ef"
            ],
            [
             0.5,
             "#f7f7f7"
            ],
            [
             0.6,
             "#e6f5d0"
            ],
            [
             0.7,
             "#b8e186"
            ],
            [
             0.8,
             "#7fbc41"
            ],
            [
             0.9,
             "#4d9221"
            ],
            [
             1,
             "#276419"
            ]
           ],
           "sequential": [
            [
             0,
             "#0d0887"
            ],
            [
             0.1111111111111111,
             "#46039f"
            ],
            [
             0.2222222222222222,
             "#7201a8"
            ],
            [
             0.3333333333333333,
             "#9c179e"
            ],
            [
             0.4444444444444444,
             "#bd3786"
            ],
            [
             0.5555555555555556,
             "#d8576b"
            ],
            [
             0.6666666666666666,
             "#ed7953"
            ],
            [
             0.7777777777777778,
             "#fb9f3a"
            ],
            [
             0.8888888888888888,
             "#fdca26"
            ],
            [
             1,
             "#f0f921"
            ]
           ],
           "sequentialminus": [
            [
             0,
             "#0d0887"
            ],
            [
             0.1111111111111111,
             "#46039f"
            ],
            [
             0.2222222222222222,
             "#7201a8"
            ],
            [
             0.3333333333333333,
             "#9c179e"
            ],
            [
             0.4444444444444444,
             "#bd3786"
            ],
            [
             0.5555555555555556,
             "#d8576b"
            ],
            [
             0.6666666666666666,
             "#ed7953"
            ],
            [
             0.7777777777777778,
             "#fb9f3a"
            ],
            [
             0.8888888888888888,
             "#fdca26"
            ],
            [
             1,
             "#f0f921"
            ]
           ]
          },
          "colorway": [
           "#636efa",
           "#EF553B",
           "#00cc96",
           "#ab63fa",
           "#FFA15A",
           "#19d3f3",
           "#FF6692",
           "#B6E880",
           "#FF97FF",
           "#FECB52"
          ],
          "font": {
           "color": "#2a3f5f"
          },
          "geo": {
           "bgcolor": "white",
           "lakecolor": "white",
           "landcolor": "#E5ECF6",
           "showlakes": true,
           "showland": true,
           "subunitcolor": "white"
          },
          "hoverlabel": {
           "align": "left"
          },
          "hovermode": "closest",
          "mapbox": {
           "style": "light"
          },
          "paper_bgcolor": "white",
          "plot_bgcolor": "#E5ECF6",
          "polar": {
           "angularaxis": {
            "gridcolor": "white",
            "linecolor": "white",
            "ticks": ""
           },
           "bgcolor": "#E5ECF6",
           "radialaxis": {
            "gridcolor": "white",
            "linecolor": "white",
            "ticks": ""
           }
          },
          "scene": {
           "xaxis": {
            "backgroundcolor": "#E5ECF6",
            "gridcolor": "white",
            "gridwidth": 2,
            "linecolor": "white",
            "showbackground": true,
            "ticks": "",
            "zerolinecolor": "white"
           },
           "yaxis": {
            "backgroundcolor": "#E5ECF6",
            "gridcolor": "white",
            "gridwidth": 2,
            "linecolor": "white",
            "showbackground": true,
            "ticks": "",
            "zerolinecolor": "white"
           },
           "zaxis": {
            "backgroundcolor": "#E5ECF6",
            "gridcolor": "white",
            "gridwidth": 2,
            "linecolor": "white",
            "showbackground": true,
            "ticks": "",
            "zerolinecolor": "white"
           }
          },
          "shapedefaults": {
           "line": {
            "color": "#2a3f5f"
           }
          },
          "ternary": {
           "aaxis": {
            "gridcolor": "white",
            "linecolor": "white",
            "ticks": ""
           },
           "baxis": {
            "gridcolor": "white",
            "linecolor": "white",
            "ticks": ""
           },
           "bgcolor": "#E5ECF6",
           "caxis": {
            "gridcolor": "white",
            "linecolor": "white",
            "ticks": ""
           }
          },
          "title": {
           "x": 0.05
          },
          "xaxis": {
           "automargin": true,
           "gridcolor": "white",
           "linecolor": "white",
           "ticks": "",
           "title": {
            "standoff": 15
           },
           "zerolinecolor": "white",
           "zerolinewidth": 2
          },
          "yaxis": {
           "automargin": true,
           "gridcolor": "white",
           "linecolor": "white",
           "ticks": "",
           "title": {
            "standoff": 15
           },
           "zerolinecolor": "white",
           "zerolinewidth": 2
          }
         }
        },
        "title": {
         "text": "Occupation of scam profiles",
         "x": 0.5
        },
        "xaxis": {
         "anchor": "y",
         "domain": [
          0,
          1
         ],
         "title": {
          "text": "Occupations"
         }
        },
        "yaxis": {
         "anchor": "x",
         "domain": [
          0,
          1
         ],
         "title": {
          "text": "Percentage of scam profiles"
         }
        }
       }
      }
     },
     "metadata": {},
     "output_type": "display_data"
    }
   ],
   "source": [
    "counts = cleaned_df[\"translated_occupation_category\"].value_counts(normalize = True)\n",
    "\n",
    "fig = px.bar(counts, title=\"Occupation of scam profiles\")\n",
    "fig.update_layout(\n",
    "    xaxis_title = \"Occupations\",\n",
    "    yaxis_title = \"Percentage of scam profiles\",\n",
    "    title_x = 0.5,\n",
    "    showlegend = False\n",
    ")\n",
    "\n",
    "fig.show()"
   ]
  }
 ],
 "metadata": {
  "kernelspec": {
   "display_name": "Python 3 (ipykernel)",
   "language": "python",
   "name": "python3"
  },
  "language_info": {
   "codemirror_mode": {
    "name": "ipython",
    "version": 3
   },
   "file_extension": ".py",
   "mimetype": "text/x-python",
   "name": "python",
   "nbconvert_exporter": "python",
   "pygments_lexer": "ipython3",
   "version": "3.9.0"
  },
  "vscode": {
   "interpreter": {
    "hash": "c2b7c93223ede03df5c98ec791ad28ce16e5ab6c1fe67d4b2c7f4a96f3159061"
   }
  }
 },
 "nbformat": 4,
 "nbformat_minor": 5
}
