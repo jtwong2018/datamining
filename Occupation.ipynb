{
 "cells": [
  {
   "cell_type": "code",
   "execution_count": 3,
   "id": "0c91d13b",
   "metadata": {},
   "outputs": [],
   "source": [
    "# !pip install googletrans==4.0.0rc1\n",
    "# pip install pyldavis\n",
    "# !pip install easynmt\n",
    "# nltk.download('omw-1.4')\n",
    "pd.set_option(\"max_colwidth\", None)"
   ]
  },
  {
   "cell_type": "code",
   "execution_count": 2,
   "id": "789994e0",
   "metadata": {},
   "outputs": [],
   "source": [
    "import gensim\n",
    "from gensim.utils import simple_preprocess\n",
    "import nltk.corpus\n",
    "import nltk\n",
    "import pandas as pd\n",
    "import gensim.corpora\n",
    "from langdetect import detect\n",
    "from googletrans import Translator\n",
    "from nltk.corpus import stopwords\n",
    "import numpy\n",
    "import time\n",
    "\n",
    "#library that contains punctuation\n",
    "import string\n",
    "string.punctuation\n",
    "from nltk.stem import WordNetLemmatizer\n",
    "\n",
    "#defining the object for Lemmatization\n",
    "wordnet_lemmatizer = WordNetLemmatizer()\n",
    "\n",
    "translater = Translator()\n",
    "\n",
    "stop_words = stopwords.words('english')\n",
    "stop_words.extend(['from', 'subject', 're', 'edu', 'use'])"
   ]
  },
  {
   "cell_type": "code",
   "execution_count": 246,
   "id": "3550e878",
   "metadata": {},
   "outputs": [
    {
     "data": {
      "text/plain": [
       "715"
      ]
     },
     "execution_count": 246,
     "metadata": {},
     "output_type": "execute_result"
    }
   ],
   "source": [
    "data = pd.read_csv(\"combined_profile.csv\")\n",
    "data['translated_occupation'].nunique()"
   ]
  },
  {
   "cell_type": "code",
   "execution_count": 247,
   "id": "45428798",
   "metadata": {},
   "outputs": [
    {
     "data": {
      "text/plain": [
       "523"
      ]
     },
     "execution_count": 247,
     "metadata": {},
     "output_type": "execute_result"
    }
   ],
   "source": [
    "data['translated_occupation']= data['translated_occupation'].apply(lambda x: x.lower())\n",
    "data['translated_occupation'].nunique()"
   ]
  },
  {
   "cell_type": "code",
   "execution_count": 248,
   "id": "105201cc",
   "metadata": {},
   "outputs": [
    {
     "data": {
      "text/plain": [
       "518"
      ]
     },
     "execution_count": 248,
     "metadata": {},
     "output_type": "execute_result"
    }
   ],
   "source": [
    "#defining the function to remove punctuation\n",
    "def remove_punctuation(text):\n",
    "    punctuationfree=\"\".join([i for i in text if i not in string.punctuation])\n",
    "    return punctuationfree\n",
    "\n",
    "#storing the puntuation free text\n",
    "data['translated_occupation']= data['translated_occupation'].apply(lambda x:remove_punctuation(x))\n",
    "data['translated_occupation'].nunique()"
   ]
  },
  {
   "cell_type": "code",
   "execution_count": 249,
   "id": "90df75e2",
   "metadata": {},
   "outputs": [
    {
     "data": {
      "text/plain": [
       "0             student\n",
       "1             student\n",
       "2             student\n",
       "3             student\n",
       "4             student\n",
       "            ...      \n",
       "7929         engineer\n",
       "7930    self employed\n",
       "7931         military\n",
       "7932     selfemployed\n",
       "7933    self employed\n",
       "Name: translated_occupation, Length: 7934, dtype: object"
      ]
     },
     "execution_count": 249,
     "metadata": {},
     "output_type": "execute_result"
    }
   ],
   "source": [
    "data['translated_occupation'].apply(lambda x:x.strip())"
   ]
  },
  {
   "cell_type": "code",
   "execution_count": 250,
   "id": "7aa84bf3",
   "metadata": {},
   "outputs": [],
   "source": [
    "#defining the function for lemmatization\n",
    "def lemmatizer(text):\n",
    "    lemm_text = wordnet_lemmatizer.lemmatize(text)\n",
    "    return lemm_text\n",
    "\n",
    "data['translated_occupation_lem']=data['translated_occupation'].apply(lambda x:lemmatizer(x))\n"
   ]
  },
  {
   "cell_type": "code",
   "execution_count": 443,
   "id": "4bd11c97",
   "metadata": {},
   "outputs": [
    {
     "data": {
      "text/plain": [
       "7934"
      ]
     },
     "execution_count": 443,
     "metadata": {},
     "output_type": "execute_result"
    }
   ],
   "source": [
    "data = pd.read_csv(\"data_cat_draft.csv\")\n",
    "len(data)"
   ]
  },
  {
   "cell_type": "code",
   "execution_count": 5,
   "id": "aa40a7e4",
   "metadata": {},
   "outputs": [
    {
     "data": {
      "text/plain": [
       "student               541\n",
       "engineer              493\n",
       "self employed         427\n",
       "military              389\n",
       "retired               267\n",
       "                     ... \n",
       "roofer                  2\n",
       "professor               1\n",
       "gerente comercial       1\n",
       "commercial manager      1\n",
       "salesmarketing          1\n",
       "Name: translated_occupation_lem, Length: 513, dtype: int64"
      ]
     },
     "execution_count": 5,
     "metadata": {},
     "output_type": "execute_result"
    }
   ],
   "source": [
    "data['translated_occupation_lem'].value_counts()"
   ]
  },
  {
   "cell_type": "code",
   "execution_count": 6,
   "id": "8fefc966",
   "metadata": {},
   "outputs": [
    {
     "data": {
      "text/plain": [
       "array(['student', 'study', 'manager', 'law student', 'unemployed',\n",
       "       'educator', 'waitress', 'manicurist', 'university', 'baby sister',\n",
       "       'independent', 'to study', 'secretary', 'plumber', 'contador',\n",
       "       'salesman', 'enterprising', 'studying', 'worked', 'nurse', 'clerk',\n",
       "       'college student', 'construction', 'baker', 'self employed',\n",
       "       'housewife', 'merchant', 'teacher', 'engineer',\n",
       "       'business administrator', 'technician', 'office', 'barber',\n",
       "       'study and work', 'beautician', 'journalist', 'customer service',\n",
       "       'landscaping', 'customer support', 'painter', 'chef', 'barista',\n",
       "       'soccer player', 'work', 'stylist', 'building', 'musician',\n",
       "       'electrician', 'lawyer', 'universidad', 'nursing', 'military',\n",
       "       'typist', 'cashier', 'conductor', 'security guard', 'cocina',\n",
       "       'management', 'entrepreneur', 'male nurse', 'music producer',\n",
       "       'transport', 'uber', 'assistant', 'paralegal', 'cook',\n",
       "       'accounting', 'law', 'freelance', 'company', 'worker', 'carpenter',\n",
       "       'sailor', 'english teacher', 'own', 'marketing', 'no job', 'csr',\n",
       "       'driver', 'employed', 'administrator', 'independent work',\n",
       "       'office worker', 'mechanical engineer', 'it', 'retail',\n",
       "       'constructor', 'electric', 'adviser', 'i dont work', 'electricity',\n",
       "       'chofer', 'sale', 'industrial engineer', 'call center', 'attendee',\n",
       "       'regardless', 'a lawyer', 'receptionist', 'social worker',\n",
       "       'work and study', 'coach', 'hotel', 'farmer', 'profesora',\n",
       "       'ing industrial', 'contractor', 'laborer', 'owner',\n",
       "       'general contractor', 'own business', 'mechanic', 'artist',\n",
       "       'dentist', 'police', 'athlete', 'atm', 'administrative',\n",
       "       'factory worker', 'graphic designer', 'profesor', 'informatica',\n",
       "       'business advisor', 'communicator', 'civil engineer', 'amazon',\n",
       "       'business owner', 'businesswoman', 'nanny', 'maestro', 'writer',\n",
       "       'retired', 'sport', 'financial advisor', 'medical', 'accountancy',\n",
       "       'psychologist', 'trade', 'dealer', 'ing', 'manufacturing',\n",
       "       'civil engineering', 'campo', 'pharmaceutical', 'seller',\n",
       "       'businessman', 'hvac', 'marino', 'ing civil', 'medico',\n",
       "       'accountant', 'various trades', 'cabby', 'saleswoman', 'deejay',\n",
       "       'operator', 'business', 'systems engineer', 'hospitality',\n",
       "       'shooting guard', 'security', 'security officer', 'medicine',\n",
       "       'engineering', 'stockbroker', 'restaurant', 'food service',\n",
       "       'disabled', 'developer', 'delivery man', 'self employer', 'welder',\n",
       "       'software engineer', 'programmer', 'rancher', 'agronomist',\n",
       "       'nutritionist', 'singer', 'software developer', 'waiter',\n",
       "       'agriculture', 'doctor', 'administrative assistant', 'freelancer',\n",
       "       'enterprise administrator', 'licensed', 'sawmill worker',\n",
       "       'publicist', 'university lecturer', 'bodega',\n",
       "       'social communicator', 'guardia', 'economist', 'sales agent',\n",
       "       'fedex', 'truck driver', 'trader', 'bartender', 'pharmacist',\n",
       "       'i photograph', 'sub chef', 'turismo', 'advertising', 'fitter',\n",
       "       'company administrator', 'supervisor', 'architect', 'foreman',\n",
       "       'commercial', 'real estate agent', 'handyman', 'surveyor',\n",
       "       'installer', 'physiotherapist', 'kitchen assistant',\n",
       "       'environmentalist', 'barman', 'vet', 'craftsman', 'gardener',\n",
       "       'cosmetologa', 'at systems', 'constructor civil', 'own account',\n",
       "       'chief', 'medical doctor', 'project manager', 'personal trainer',\n",
       "       'consultant', 'sales advisor', 'trailero', 'computer engineer',\n",
       "       'accounting assistant', 'law degree', 'cfo', 'tour guide',\n",
       "       'financial', 'construccion', 'inversionista', 'human resources',\n",
       "       'construction superintendent', 'small businessman', 'maintenance',\n",
       "       'electromecanico', 'selfemployed', 'researcher', 'attorney',\n",
       "       'designer', 'care worker', 'officer', 'none', 'finance',\n",
       "       'official', 'auditor', 'cocinero', 'informatico', 'guerrero',\n",
       "       'machinist', 'dishwasher', 'author', 'cosmetology', 'interpreter',\n",
       "       'banker', 'dental assistant', 'stay at home mom', 'data analyst',\n",
       "       'executive', 'forklift operator', 'own bussines', 'lecturer',\n",
       "       'insurance', 'real estate', 'vigilante', 'business manager',\n",
       "       'pharmacy assistant', 'machine operator', 'quality inspector',\n",
       "       'health', 'producer', 'translator', 'casa', 'a nurse', 'oil',\n",
       "       'collection', 'it technician', 'remodel', 'concrete finisher',\n",
       "       'account manager', 'certified public accountant', 'chapista',\n",
       "       'trabajador independiente', 'caregiver', 'admin', 'cleaner',\n",
       "       'assistant manager', 'information technology', 'financier',\n",
       "       'paint', 'concierge', 'hairdresser', 'bank', 'phd student',\n",
       "       'tattoo artist', 'photographer', 'security agent',\n",
       "       'independent worker', 'housekeeper', 'government worker',\n",
       "       'autonomous', 'investigator', 'legal', 'mechanical engineering',\n",
       "       'director', 'housekeeping', 'working on my own', 'medic',\n",
       "       'sales rep', 'health care', 'veterinarian', 'warehouse operator',\n",
       "       'beauty', 'ceo', 'telecommunication', 'high school teacher',\n",
       "       'material handler', 'labor', 'pilot', 'chemical', 'realtor',\n",
       "       'self', 'public employee', 'ing agronomist', 'remodelacion',\n",
       "       'truckdriver', 'detail', 'service', 'commercial advisor',\n",
       "       'homemaker', 'sales manager', 'massage therapist', 'government',\n",
       "       'logistics', 'healthcare', 'education', 'tech', 'sales executive',\n",
       "       'roofer', 'home', 'technical support', 'music', 'higher education',\n",
       "       'management consultant', 'electronic engineer', 'technical',\n",
       "       'furniture', 'janitor', 'employee', 'operations manager',\n",
       "       'engineer electronic', 'system', 'retail manager', 'electronic',\n",
       "       'administration', 'tourist guide', 'automotive', 'superior',\n",
       "       'carrier', 'warehouse', 'withdrawn', 'self employed contractor',\n",
       "       'probation officer', 'web designer', 'therapist',\n",
       "       'teacher of english', 'investor', 'civil servant', 'hotel manager',\n",
       "       'cowboy', 'technology', 'teaching', 'transportation', 'qa',\n",
       "       'professor', 'computer', 'analyst', 'architecture',\n",
       "       'office assistant', 'disability', 'managing director', 'rn', 'cna',\n",
       "       'physician', 'courier', 'agricultural engineer',\n",
       "       'nursing assistant', 'pensionada', 'counselor', 'comerciante',\n",
       "       'psychotherapist', 'medical assistant', 'bus driver',\n",
       "       'in the system', 'commercial manager', 'financial services', 'dj',\n",
       "       'retired nurse', 'public server', 'bookkeeper',\n",
       "       'agricultural contractor', 'chemist', 'retire', 'unemployment',\n",
       "       'military retired', 'cpa', 'business administration', 'tutor',\n",
       "       'library', 'airline pilot', 'horticulturist', 'free lance',\n",
       "       'pensioner', 'builder', 'electronic technician', 'scientist',\n",
       "       'gerente comercial', 'semiretired', 'dietary aide',\n",
       "       'it project manager', 'craftswoman', 'mental health',\n",
       "       'company owner', 'withdrawal', 'tailor', 'modeling', 'hairstylist',\n",
       "       'model', 'travel agent', 'sales marketing', 'fashion', 'modelling',\n",
       "       'fashion designer', 'military army', 'bank manager', 'trading',\n",
       "       'professional', 'primary school teacher', 'self employ',\n",
       "       'marketer', 'hair stylist', 'military service',\n",
       "       'sales and marketing', 'pediatrician', 'self employee', 'army',\n",
       "       'medical or finance', 'financial consultant', 'business lady',\n",
       "       'banking', 'self employment', 'business woman', 'sales girl',\n",
       "       'art', 'goverment', 'sales person', 'soldier', 'military doctor',\n",
       "       'event planner', 'medical nurse', 'buying and selling', 'militry',\n",
       "       'consulting', 'military nurse', 'geologist', 'marine engineering',\n",
       "       'chemical supplier', 'us army', 'shopkeeper',\n",
       "       'construction engineer', 'navy', 'business man', 'surgeon',\n",
       "       'make up artist', 'building engineer', 'force', 'salesmarketing',\n",
       "       'petroleum engineer', 'project management', 'engineer or military',\n",
       "       'independent contractor', 'marine engineer', 'building contractor',\n",
       "       'militery', 'military officer', 'underground mining', 'barrister',\n",
       "       'construction engineering', 'chemical engineering', 'military man',\n",
       "       'service man', 'structural engineer', 'oil and gas engineer',\n",
       "       'civil service', 'building construction',\n",
       "       'military or construction', 'construction contractor',\n",
       "       'sales  marketing', 'drilling offshore', 'united nations',\n",
       "       'captain', 'army general', 'petroleum engineering', 'seaman',\n",
       "       'united state army'], dtype=object)"
      ]
     },
     "execution_count": 6,
     "metadata": {},
     "output_type": "execute_result"
    }
   ],
   "source": [
    "data['translated_occupation_lem'].unique()"
   ]
  },
  {
   "cell_type": "code",
   "execution_count": 433,
   "id": "3334153c",
   "metadata": {},
   "outputs": [],
   "source": [
    "for index, row in data.iterrows():\n",
    "    if \"system\" == row['translated_occupation_lem']:\n",
    "        data.at[index , 'translated_occupation_category'] = \"tech\""
   ]
  },
  {
   "cell_type": "code",
   "execution_count": 440,
   "id": "d974285c",
   "metadata": {},
   "outputs": [],
   "source": [
    "# data[data['translated_occupation']==\"college student\"]\n",
    "data['translated_occupation_category'].fillna('others',inplace=True)"
   ]
  },
  {
   "cell_type": "code",
   "execution_count": 442,
   "id": "276aa4c8",
   "metadata": {},
   "outputs": [
    {
     "data": {
      "text/plain": [
       "7934"
      ]
     },
     "execution_count": 442,
     "metadata": {},
     "output_type": "execute_result"
    }
   ],
   "source": [
    "data['translated_occupation_category'].value_counts().sum()"
   ]
  },
  {
   "cell_type": "code",
   "execution_count": 444,
   "id": "a1af1a2a",
   "metadata": {},
   "outputs": [],
   "source": [
    "data.to_csv(\"data_cat_draft.csv\")"
   ]
  },
  {
   "cell_type": "code",
   "execution_count": null,
   "id": "4c5d1f4d",
   "metadata": {},
   "outputs": [],
   "source": [
    "data"
   ]
  },
  {
   "cell_type": "code",
   "execution_count": 40,
   "id": "14a7ce47",
   "metadata": {},
   "outputs": [],
   "source": [
    "def sent_to_words(sentences):\n",
    "    for sentence in sentences:\n",
    "        # deacc=True removes punctuations\n",
    "        yield(gensim.utils.simple_preprocess(str(sentence), deacc=True))"
   ]
  },
  {
   "cell_type": "code",
   "execution_count": 79,
   "id": "bcacdb32",
   "metadata": {},
   "outputs": [
    {
     "name": "stdout",
     "output_type": "stream",
     "text": [
      "[['retired']]\n"
     ]
    }
   ],
   "source": [
    "odata_words = list(sent_to_words(occupation))\n"
   ]
  },
  {
   "cell_type": "code",
   "execution_count": 76,
   "id": "c6f1fd16",
   "metadata": {},
   "outputs": [],
   "source": [
    "def flatten(lis):\n",
    "    flatList = []\n",
    "    # Iterate with outer list\n",
    "    for element in lis:\n",
    "        if type(element) is list:\n",
    "            # Check if type is list than iterate through the sublist\n",
    "            for item in element:\n",
    "                flatList.append(item)\n",
    "        else:\n",
    "            flatList.append(element)\n",
    "    return flatList"
   ]
  },
  {
   "cell_type": "code",
   "execution_count": 82,
   "id": "bb2e07de",
   "metadata": {},
   "outputs": [
    {
     "name": "stdout",
     "output_type": "stream",
     "text": [
      "['retired', 'estudiante', 'construction', 'retired', 'social', 'worker', 'retired', 'executive', 'journalist', 'designer', 'retired', 'chef', 'entrepreneur', 'student', 'retired', 'medical', 'service', 'author', 'engineer', 'retired', 'lawyer', 'teacher', 'care', 'worker', 'cobranza', 'chofer', 'lawyer', 'disabled', 'it', 'technician']\n"
     ]
    }
   ],
   "source": [
    "odata_flatten = flatten(odata_words)\n",
    "odata_flatten\n",
    "# odata_words\n",
    "print(odata_flatten[:30])"
   ]
  },
  {
   "cell_type": "code",
   "execution_count": 90,
   "id": "12b31027",
   "metadata": {},
   "outputs": [
    {
     "name": "stdout",
     "output_type": "stream",
     "text": [
      "[(0, 1)]\n"
     ]
    }
   ],
   "source": [
    "import gensim.corpora as corpora\n",
    "# # Create Dictionary\n",
    "id2word = corpora.Dictionary(odata_words)\n",
    "# Create Corpus\n",
    "texts = odata_words\n",
    "# Term Document Frequency\n",
    "corpus = [id2word.doc2bow(text) for text in texts]\n",
    "# View\n",
    "print(corpus[:1][0][:30])\n"
   ]
  },
  {
   "cell_type": "code",
   "execution_count": 91,
   "id": "96a033c9",
   "metadata": {},
   "outputs": [
    {
     "name": "stdout",
     "output_type": "stream",
     "text": [
      "[(0,\n",
      "  '0.108*\"business\" + 0.078*\"engineer\" + 0.061*\"nurse\" + 0.054*\"retired\" + '\n",
      "  '0.033*\"abogado\" + 0.028*\"owner\" + 0.024*\"student\" + 0.023*\"manager\" + '\n",
      "  '0.018*\"social\" + 0.017*\"worker\"'),\n",
      " (1,\n",
      "  '0.195*\"self\" + 0.191*\"employed\" + 0.055*\"student\" + 0.045*\"military\" + '\n",
      "  '0.038*\"estudiante\" + 0.019*\"abogado\" + 0.018*\"driver\" + 0.018*\"ventas\" + '\n",
      "  '0.013*\"docente\" + 0.012*\"truck\"'),\n",
      " (2,\n",
      "  '0.094*\"ingeniero\" + 0.066*\"independiente\" + 0.050*\"tecnico\" + '\n",
      "  '0.048*\"engineering\" + 0.026*\"mecanico\" + 0.026*\"contador\" + 0.024*\"de\" + '\n",
      "  '0.022*\"engineer\" + 0.021*\"nurse\" + 0.017*\"comerciante\"'),\n",
      " (3,\n",
      "  '0.072*\"student\" + 0.068*\"construction\" + 0.048*\"business\" + '\n",
      "  '0.035*\"estudiante\" + 0.033*\"doctor\" + 0.033*\"profesor\" + 0.032*\"military\" + '\n",
      "  '0.030*\"enfermera\" + 0.028*\"chofer\" + 0.026*\"administrador\"'),\n",
      " (4,\n",
      "  '0.105*\"retired\" + 0.070*\"student\" + 0.061*\"ingeniero\" + 0.058*\"estudiante\" '\n",
      "  '+ 0.049*\"docente\" + 0.043*\"comerciante\" + 0.024*\"nurse\" + '\n",
      "  '0.023*\"independiente\" + 0.021*\"gerente\" + 0.020*\"tecnico\"'),\n",
      " (5,\n",
      "  '0.121*\"independiente\" + 0.078*\"comerciante\" + 0.052*\"engineer\" + '\n",
      "  '0.043*\"student\" + 0.038*\"ingeniero\" + 0.033*\"contractor\" + 0.024*\"self\" + '\n",
      "  '0.022*\"military\" + 0.022*\"driver\" + 0.018*\"army\"'),\n",
      " (6,\n",
      "  '0.066*\"employed\" + 0.064*\"self\" + 0.048*\"contractor\" + 0.046*\"retired\" + '\n",
      "  '0.041*\"de\" + 0.039*\"estudiante\" + 0.034*\"construction\" + 0.027*\"doctor\" + '\n",
      "  '0.025*\"teacher\" + 0.023*\"casa\"'),\n",
      " (7,\n",
      "  '0.109*\"engineer\" + 0.067*\"employed\" + 0.067*\"self\" + 0.056*\"empresario\" + '\n",
      "  '0.049*\"civil\" + 0.040*\"teacher\" + 0.034*\"retired\" + 0.028*\"manager\" + '\n",
      "  '0.027*\"ingeniero\" + 0.017*\"business\"'),\n",
      " (8,\n",
      "  '0.231*\"military\" + 0.046*\"student\" + 0.045*\"chef\" + 0.027*\"medico\" + '\n",
      "  '0.026*\"ingeniero\" + 0.025*\"construccion\" + 0.023*\"sales\" + 0.020*\"mecanico\" '\n",
      "  '+ 0.017*\"marketing\" + 0.017*\"teacher\"'),\n",
      " (9,\n",
      "  '0.137*\"engineer\" + 0.061*\"self\" + 0.061*\"employed\" + 0.060*\"sales\" + '\n",
      "  '0.050*\"manager\" + 0.029*\"nurse\" + 0.024*\"lawyer\" + 0.023*\"civil\" + '\n",
      "  '0.023*\"comerciante\" + 0.021*\"military\"')]\n"
     ]
    }
   ],
   "source": [
    "from pprint import pprint\n",
    "# number of topics\n",
    "num_topics = 10\n",
    "# Build LDA model\n",
    "lda_model = gensim.models.LdaMulticore(corpus=corpus,\n",
    "                                       id2word=id2word,\n",
    "                                       num_topics=num_topics)\n",
    "# Print the Keyword in the 10 topics\n",
    "pprint(lda_model.print_topics())\n",
    "doc_lda = lda_model[corpus]"
   ]
  },
  {
   "cell_type": "code",
   "execution_count": null,
   "id": "59ba2ab1",
   "metadata": {},
   "outputs": [],
   "source": []
  },
  {
   "cell_type": "code",
   "execution_count": 127,
   "id": "549caacf",
   "metadata": {},
   "outputs": [
    {
     "data": {
      "text/plain": [
       "occupation\n",
       " Accountant         5\n",
       " Administration     5\n",
       " Administrative     6\n",
       " Architect         11\n",
       " Architecture       3\n",
       "                   ..\n",
       "vendedor            5\n",
       "ventas              3\n",
       "welder              3\n",
       "Área de salud       2\n",
       "Преподаватель       2\n",
       "Name: occupation, Length: 1016, dtype: int64"
      ]
     },
     "execution_count": 127,
     "metadata": {},
     "output_type": "execute_result"
    }
   ],
   "source": [
    "data['occupation'].groupby(occupation).count()"
   ]
  }
 ],
 "metadata": {
  "kernelspec": {
   "display_name": "Python 3 (ipykernel)",
   "language": "python",
   "name": "python3"
  },
  "language_info": {
   "codemirror_mode": {
    "name": "ipython",
    "version": 3
   },
   "file_extension": ".py",
   "mimetype": "text/x-python",
   "name": "python",
   "nbconvert_exporter": "python",
   "pygments_lexer": "ipython3",
   "version": "3.9.13"
  }
 },
 "nbformat": 4,
 "nbformat_minor": 5
}
