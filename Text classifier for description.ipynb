{
 "cells": [
  {
   "cell_type": "markdown",
   "id": "16d8741c",
   "metadata": {},
   "source": [
    "## Text classification"
   ]
  },
  {
   "cell_type": "code",
   "execution_count": 1,
   "id": "a3e56ed7",
   "metadata": {},
   "outputs": [],
   "source": [
    "import pandas as pd\n",
    "import numpy as np"
   ]
  },
  {
   "cell_type": "code",
   "execution_count": 28,
   "id": "491f0804",
   "metadata": {},
   "outputs": [],
   "source": [
    "#pip install -U imbalanced-learn"
   ]
  },
  {
   "cell_type": "code",
   "execution_count": 80,
   "id": "bb1c03b2",
   "metadata": {},
   "outputs": [],
   "source": [
    "# Oversampling and under sampling\n",
    "from imblearn.over_sampling import RandomOverSampler, SMOTE\n",
    "from imblearn.under_sampling import RandomUnderSampler, NearMiss\n",
    "from collections import Counter"
   ]
  },
  {
   "cell_type": "code",
   "execution_count": 28,
   "id": "ad5e5967",
   "metadata": {},
   "outputs": [],
   "source": [
    "combined_df = pd.read_csv(\"combined_profile.csv\")"
   ]
  },
  {
   "cell_type": "code",
   "execution_count": 49,
   "id": "b971a002",
   "metadata": {},
   "outputs": [],
   "source": [
    "pd.set_option(\"max_colwidth\", None)"
   ]
  },
  {
   "cell_type": "code",
   "execution_count": 50,
   "id": "38f9e87a",
   "metadata": {},
   "outputs": [
    {
     "data": {
      "text/html": [
       "<div>\n",
       "<style scoped>\n",
       "    .dataframe tbody tr th:only-of-type {\n",
       "        vertical-align: middle;\n",
       "    }\n",
       "\n",
       "    .dataframe tbody tr th {\n",
       "        vertical-align: top;\n",
       "    }\n",
       "\n",
       "    .dataframe thead th {\n",
       "        text-align: right;\n",
       "    }\n",
       "</style>\n",
       "<table border=\"1\" class=\"dataframe\">\n",
       "  <thead>\n",
       "    <tr style=\"text-align: right;\">\n",
       "      <th></th>\n",
       "      <th>username</th>\n",
       "      <th>age</th>\n",
       "      <th>occupation</th>\n",
       "      <th>status</th>\n",
       "      <th>gender</th>\n",
       "      <th>filtered sentence</th>\n",
       "      <th>y</th>\n",
       "    </tr>\n",
       "  </thead>\n",
       "  <tbody>\n",
       "    <tr>\n",
       "      <th>0</th>\n",
       "      <td>123canwe</td>\n",
       "      <td>66.0</td>\n",
       "      <td>Retired</td>\n",
       "      <td>single</td>\n",
       "      <td>male</td>\n",
       "      <td>I full fire friskier hell</td>\n",
       "      <td>0</td>\n",
       "    </tr>\n",
       "    <tr>\n",
       "      <th>1</th>\n",
       "      <td>123WILFREDO</td>\n",
       "      <td>28.0</td>\n",
       "      <td>ESTUDIANTE</td>\n",
       "      <td>single</td>\n",
       "      <td>male</td>\n",
       "      <td>ME GUSTA CONOCER CHICAS BONDADOSAS CARIÑOSAS Y MUY FUERTES EN LA MORAL</td>\n",
       "      <td>0</td>\n",
       "    </tr>\n",
       "    <tr>\n",
       "      <th>2</th>\n",
       "      <td>1907</td>\n",
       "      <td>48.0</td>\n",
       "      <td>Construction</td>\n",
       "      <td>single</td>\n",
       "      <td>male</td>\n",
       "      <td>laid back earth good sense humor</td>\n",
       "      <td>0</td>\n",
       "    </tr>\n",
       "    <tr>\n",
       "      <th>3</th>\n",
       "      <td>52Jim52</td>\n",
       "      <td>70.0</td>\n",
       "      <td>Retired</td>\n",
       "      <td>divorced</td>\n",
       "      <td>male</td>\n",
       "      <td>Retired owner aerospace consuloting firm</td>\n",
       "      <td>0</td>\n",
       "    </tr>\n",
       "    <tr>\n",
       "      <th>4</th>\n",
       "      <td>Aaron90</td>\n",
       "      <td>28.0</td>\n",
       "      <td>Social worker</td>\n",
       "      <td>single</td>\n",
       "      <td>male</td>\n",
       "      <td>Hello aaron Vermont I vermont 2 years Im really fun person I like camping bone fire etc</td>\n",
       "      <td>0</td>\n",
       "    </tr>\n",
       "    <tr>\n",
       "      <th>5</th>\n",
       "      <td>abdelghani</td>\n",
       "      <td>71.0</td>\n",
       "      <td>retired</td>\n",
       "      <td>divorced</td>\n",
       "      <td>male</td>\n",
       "      <td>problem free flexibleseek love happiness</td>\n",
       "      <td>0</td>\n",
       "    </tr>\n",
       "    <tr>\n",
       "      <th>6</th>\n",
       "      <td>Abdul99</td>\n",
       "      <td>54.0</td>\n",
       "      <td>Executive</td>\n",
       "      <td>separated</td>\n",
       "      <td>male</td>\n",
       "      <td>Easy going Highly educated Life beautiful Travels</td>\n",
       "      <td>0</td>\n",
       "    </tr>\n",
       "    <tr>\n",
       "      <th>7</th>\n",
       "      <td>abdulrahmanwaly</td>\n",
       "      <td>33.0</td>\n",
       "      <td>journalist</td>\n",
       "      <td>single</td>\n",
       "      <td>male</td>\n",
       "      <td>name Abdulrahman person ethics religion work field journalism live Cairo</td>\n",
       "      <td>0</td>\n",
       "    </tr>\n",
       "    <tr>\n",
       "      <th>8</th>\n",
       "      <td>Abou</td>\n",
       "      <td>33.0</td>\n",
       "      <td>Designer</td>\n",
       "      <td>single</td>\n",
       "      <td>male</td>\n",
       "      <td>I serious honest trustworthy like share love fan culture new different person</td>\n",
       "      <td>0</td>\n",
       "    </tr>\n",
       "    <tr>\n",
       "      <th>9</th>\n",
       "      <td>Accydave</td>\n",
       "      <td>73.0</td>\n",
       "      <td>Retired</td>\n",
       "      <td>divorced</td>\n",
       "      <td>male</td>\n",
       "      <td>My name David Im 71 years old divorced retired 3 grownup children son 2 daughters</td>\n",
       "      <td>0</td>\n",
       "    </tr>\n",
       "  </tbody>\n",
       "</table>\n",
       "</div>"
      ],
      "text/plain": [
       "          username   age     occupation     status gender  \\\n",
       "0         123canwe  66.0        Retired     single   male   \n",
       "1      123WILFREDO  28.0     ESTUDIANTE     single   male   \n",
       "2             1907  48.0   Construction     single   male   \n",
       "3          52Jim52  70.0        Retired   divorced   male   \n",
       "4          Aaron90  28.0  Social worker     single   male   \n",
       "5       abdelghani  71.0        retired   divorced   male   \n",
       "6          Abdul99  54.0      Executive  separated   male   \n",
       "7  abdulrahmanwaly  33.0     journalist     single   male   \n",
       "8             Abou  33.0       Designer     single   male   \n",
       "9         Accydave  73.0        Retired   divorced   male   \n",
       "\n",
       "                                                                         filtered sentence  \\\n",
       "0                                                                I full fire friskier hell   \n",
       "1                   ME GUSTA CONOCER CHICAS BONDADOSAS CARIÑOSAS Y MUY FUERTES EN LA MORAL   \n",
       "2                                                         laid back earth good sense humor   \n",
       "3                                                 Retired owner aerospace consuloting firm   \n",
       "4  Hello aaron Vermont I vermont 2 years Im really fun person I like camping bone fire etc   \n",
       "5                                                 problem free flexibleseek love happiness   \n",
       "6                                        Easy going Highly educated Life beautiful Travels   \n",
       "7                 name Abdulrahman person ethics religion work field journalism live Cairo   \n",
       "8            I serious honest trustworthy like share love fan culture new different person   \n",
       "9        My name David Im 71 years old divorced retired 3 grownup children son 2 daughters   \n",
       "\n",
       "   y  \n",
       "0  0  \n",
       "1  0  \n",
       "2  0  \n",
       "3  0  \n",
       "4  0  \n",
       "5  0  \n",
       "6  0  \n",
       "7  0  \n",
       "8  0  \n",
       "9  0  "
      ]
     },
     "execution_count": 50,
     "metadata": {},
     "output_type": "execute_result"
    }
   ],
   "source": [
    "combined_df.head(10)\n"
   ]
  },
  {
   "cell_type": "code",
   "execution_count": 66,
   "id": "b60a44ac",
   "metadata": {},
   "outputs": [],
   "source": [
    "# features\n",
    "X = combined_df['filtered sentence']\n",
    "\n",
    "# target\n",
    "y = combined_df['y']"
   ]
  },
  {
   "cell_type": "code",
   "execution_count": 67,
   "id": "1e8d2341",
   "metadata": {},
   "outputs": [],
   "source": [
    "from sklearn.model_selection import train_test_split\n",
    "X_train, X_test, y_train, y_test = train_test_split(X, y, test_size = 0.2, random_state = 424)"
   ]
  },
  {
   "cell_type": "markdown",
   "id": "869fd668",
   "metadata": {},
   "source": [
    "# output for slides"
   ]
  },
  {
   "cell_type": "code",
   "execution_count": 10,
   "id": "bc87bd4f",
   "metadata": {},
   "outputs": [],
   "source": [
    "# word level tf-idf\n",
    "tfidf_vect = TfidfVectorizer(analyzer='word', token_pattern=r'\\w{1,}', max_features=100000)\n",
    "tfidf_vect.fit(X)\n",
    "xtrain_tfidf =  tfidf_vect.transform(X_train)\n",
    "xvalid_tfidf =  tfidf_vect.transform(X_test)"
   ]
  },
  {
   "cell_type": "code",
   "execution_count": 58,
   "id": "2bc6a220",
   "metadata": {},
   "outputs": [],
   "source": [
    "XX = combined_df['filtered sentence'].iloc[2:5]"
   ]
  },
  {
   "cell_type": "code",
   "execution_count": 60,
   "id": "6faae536",
   "metadata": {},
   "outputs": [],
   "source": [
    "tfidf_vect = TfidfVectorizer(analyzer='word', token_pattern=r'\\w{1,}', max_features=100000)\n",
    "tfidf_vect.fit(XX)\n",
    "xtrain_tfidf =  tfidf_vect.transform(XX)\n"
   ]
  },
  {
   "cell_type": "code",
   "execution_count": 63,
   "id": "42c22aae",
   "metadata": {},
   "outputs": [
    {
     "name": "stdout",
     "output_type": "stream",
     "text": [
      "['2', 'aaron', 'aerospace', 'back', 'bone', 'camping', 'consuloting', 'earth', 'etc', 'fire', 'firm', 'fun', 'good', 'hello', 'humor', 'i', 'im', 'laid', 'like', 'owner', 'person', 'really', 'retired', 'sense', 'vermont', 'years']\n",
      "\n",
      "\n",
      "(3, 26)\n",
      "\n",
      "\n",
      "  (0, 23)\t0.4082482904638631\n",
      "  (0, 17)\t0.4082482904638631\n",
      "  (0, 14)\t0.4082482904638631\n",
      "  (0, 12)\t0.4082482904638631\n",
      "  (0, 7)\t0.4082482904638631\n",
      "  (0, 3)\t0.4082482904638631\n",
      "  (1, 22)\t0.4472135954999579\n",
      "  (1, 19)\t0.4472135954999579\n",
      "  (1, 10)\t0.4472135954999579\n",
      "  (1, 6)\t0.4472135954999579\n",
      "  (1, 2)\t0.4472135954999579\n",
      "  (2, 25)\t0.21821789023599233\n",
      "  (2, 24)\t0.43643578047198467\n",
      "  (2, 21)\t0.21821789023599233\n",
      "  (2, 20)\t0.21821789023599233\n",
      "  (2, 18)\t0.21821789023599233\n",
      "  (2, 16)\t0.21821789023599233\n",
      "  (2, 15)\t0.43643578047198467\n",
      "  (2, 13)\t0.21821789023599233\n",
      "  (2, 11)\t0.21821789023599233\n",
      "  (2, 9)\t0.21821789023599233\n",
      "  (2, 8)\t0.21821789023599233\n",
      "  (2, 5)\t0.21821789023599233\n",
      "  (2, 4)\t0.21821789023599233\n",
      "  (2, 1)\t0.21821789023599233\n",
      "  (2, 0)\t0.21821789023599233\n"
     ]
    }
   ],
   "source": [
    "print(tfidf_vect.get_feature_names())  \n",
    "print('\\n')\n",
    "print(xtrain_tfidf.shape)\n",
    "print('\\n')\n",
    "print(xtrain_tfidf)"
   ]
  },
  {
   "cell_type": "code",
   "execution_count": 65,
   "id": "35e81d8e",
   "metadata": {},
   "outputs": [
    {
     "name": "stdout",
     "output_type": "stream",
     "text": [
      "[[0.         0.         0.         0.40824829 0.         0.\n",
      "  0.         0.40824829 0.         0.         0.         0.\n",
      "  0.40824829 0.         0.40824829 0.         0.         0.40824829\n",
      "  0.         0.         0.         0.         0.         0.40824829\n",
      "  0.         0.        ]\n",
      " [0.         0.         0.4472136  0.         0.         0.\n",
      "  0.4472136  0.         0.         0.         0.4472136  0.\n",
      "  0.         0.         0.         0.         0.         0.\n",
      "  0.         0.4472136  0.         0.         0.4472136  0.\n",
      "  0.         0.        ]\n",
      " [0.21821789 0.21821789 0.         0.         0.21821789 0.21821789\n",
      "  0.         0.         0.21821789 0.21821789 0.         0.21821789\n",
      "  0.         0.21821789 0.         0.43643578 0.21821789 0.\n",
      "  0.21821789 0.         0.21821789 0.21821789 0.         0.\n",
      "  0.43643578 0.21821789]]\n"
     ]
    }
   ],
   "source": [
    "print(xtrain_tfidf.toarray())\n"
   ]
  },
  {
   "cell_type": "markdown",
   "id": "5efb76fd",
   "metadata": {},
   "source": [
    "# Naive Bayes classifier\n",
    "- Taken from: https://towardsdatascience.com/machine-learning-nlp-text-classification-using-scikit-learn-python-and-nltk-c52b92a7c73a"
   ]
  },
  {
   "cell_type": "code",
   "execution_count": 79,
   "id": "32404f2e",
   "metadata": {},
   "outputs": [],
   "source": [
    "from sklearn import preprocessing\n",
    "from sklearn.compose import ColumnTransformer\n",
    "from sklearn.feature_extraction.text import CountVectorizer\n",
    "from sklearn.feature_extraction.text import TfidfVectorizer"
   ]
  },
  {
   "cell_type": "code",
   "execution_count": 11,
   "id": "ffbc905e",
   "metadata": {},
   "outputs": [],
   "source": [
    "from sklearn.feature_extraction.text import TfidfTransformer\n",
    "from sklearn.naive_bayes import MultinomialNB\n",
    "from sklearn.pipeline import Pipeline\n",
    "\n",
    "#WITHOUT OVERSAMPLING/UNDER SAMPLING\n",
    "text_clf = Pipeline([('vect', CountVectorizer()),\n",
    "                     ('tfidf', TfidfTransformer()),\n",
    "                      ('clf', MultinomialNB()),\n",
    " ])\n",
    "text_clf = text_clf.fit(X_train, y_train)"
   ]
  },
  {
   "cell_type": "code",
   "execution_count": 12,
   "id": "0f24ad08",
   "metadata": {},
   "outputs": [],
   "source": [
    "predictions = text_clf.predict(X_test)"
   ]
  },
  {
   "cell_type": "markdown",
   "id": "ce2365ef",
   "metadata": {},
   "source": [
    "### Evaluating the NB classifier"
   ]
  },
  {
   "cell_type": "code",
   "execution_count": 13,
   "id": "ad95ac21",
   "metadata": {},
   "outputs": [
    {
     "name": "stdout",
     "output_type": "stream",
     "text": [
      "original dataset\n",
      "Accuracy: 0.9262295081967213\n",
      "Precision: 0.8294993234100135\n",
      "recall: 1.0\n",
      "f1_score: 0.9068047337278106\n"
     ]
    }
   ],
   "source": [
    "from sklearn.metrics import confusion_matrix\n",
    "conf_matrix = confusion_matrix(y_test, predictions)\n",
    "tn = conf_matrix[0][0]\n",
    "fn = conf_matrix[1][0]\n",
    "tp = conf_matrix[1][1]\n",
    "fp = conf_matrix[0][1]\n",
    "\n",
    "accuracy = (tp + tn)/(tp + tn + fn + fp)\n",
    "precision = tp / (tp + fp)\n",
    "recall = tp / (tp + fn)\n",
    "f1_score = 2*(precision*recall)/(precision + recall)\n",
    "\n",
    "print(\"original dataset\")\n",
    "print(\"Accuracy:\",accuracy)\n",
    "print(\"Precision:\",precision)\n",
    "print(\"recall:\",recall)\n",
    "print(\"f1_score:\",f1_score)"
   ]
  },
  {
   "cell_type": "code",
   "execution_count": 69,
   "id": "e62f06e8",
   "metadata": {},
   "outputs": [],
   "source": [
    "#random oversampling\n",
    "# word level tf-idf\n",
    "tfidf_vect = TfidfVectorizer(analyzer='word', token_pattern=r'\\w{1,}', max_features=100000)\n",
    "tfidf_vect.fit(X)\n",
    "xtrain_tfidf =  tfidf_vect.transform(X_train)\n",
    "xvalid_tfidf =  tfidf_vect.transform(X_test)\n",
    "\n",
    "text_clf = MultinomialNB()\n",
    "ros = RandomOverSampler(random_state=42)\n",
    "\n",
    "X_train_ros, y_train_ros= ros.fit_resample(xtrain_tfidf, y_train)\n",
    "text_clf = text_clf.fit(X_train_ros, y_train_ros)\n",
    "predictions = text_clf.predict(xvalid_tfidf)"
   ]
  },
  {
   "cell_type": "code",
   "execution_count": 70,
   "id": "8bf398de",
   "metadata": {},
   "outputs": [
    {
     "name": "stdout",
     "output_type": "stream",
     "text": [
      "random oversampling\n",
      "Accuracy: 0.9268149882903981\n",
      "Precision: 0.8306233062330624\n",
      "recall: 1.0\n",
      "f1_score: 0.9074759437453738\n"
     ]
    }
   ],
   "source": [
    "from sklearn.metrics import confusion_matrix\n",
    "conf_matrix = confusion_matrix(y_test, predictions)\n",
    "tn = conf_matrix[0][0]\n",
    "fn = conf_matrix[1][0]\n",
    "tp = conf_matrix[1][1]\n",
    "fp = conf_matrix[0][1]\n",
    "\n",
    "accuracy = (tp + tn)/(tp + tn + fn + fp)\n",
    "precision = tp / (tp + fp)\n",
    "recall = tp / (tp + fn)\n",
    "f1_score = 2*(precision*recall)/(precision + recall)\n",
    "\n",
    "print(\"random oversampling\")\n",
    "print(\"Accuracy:\",accuracy)\n",
    "print(\"Precision:\",precision)\n",
    "print(\"recall:\",recall)\n",
    "print(\"f1_score:\",f1_score)"
   ]
  },
  {
   "cell_type": "code",
   "execution_count": 71,
   "id": "b731911c",
   "metadata": {},
   "outputs": [],
   "source": [
    "#random undersampling\n",
    "rus = RandomUnderSampler(random_state=42)\n",
    "X_train_rus, y_train_rus= rus.fit_resample(xtrain_tfidf, y_train)\n",
    "text_clf = MultinomialNB()\n",
    "text_clf = text_clf.fit(X_train_rus, y_train_rus)\n",
    "predictions = text_clf.predict(xvalid_tfidf)"
   ]
  },
  {
   "cell_type": "code",
   "execution_count": 72,
   "id": "989f2de3",
   "metadata": {},
   "outputs": [
    {
     "name": "stdout",
     "output_type": "stream",
     "text": [
      "random undersampling\n",
      "Accuracy: 0.9256440281030445\n",
      "Precision: 0.8283783783783784\n",
      "recall: 1.0\n",
      "f1_score: 0.9061345158906134\n"
     ]
    }
   ],
   "source": [
    "conf_matrix = confusion_matrix(y_test, predictions)\n",
    "tn = conf_matrix[0][0]\n",
    "fn = conf_matrix[1][0]\n",
    "tp = conf_matrix[1][1]\n",
    "fp = conf_matrix[0][1]\n",
    "\n",
    "accuracy = (tp + tn)/(tp + tn + fn + fp)\n",
    "precision = tp / (tp + fp)\n",
    "recall = tp / (tp + fn)\n",
    "f1_score = 2*(precision*recall)/(precision + recall)\n",
    "\n",
    "print(\"random undersampling\")\n",
    "print(\"Accuracy:\",accuracy)\n",
    "print(\"Precision:\",precision)\n",
    "print(\"recall:\",recall)\n",
    "print(\"f1_score:\",f1_score)"
   ]
  },
  {
   "cell_type": "markdown",
   "id": "59951a7a",
   "metadata": {},
   "source": [
    "# SVM classifier"
   ]
  },
  {
   "cell_type": "code",
   "execution_count": 73,
   "id": "746f0410",
   "metadata": {},
   "outputs": [],
   "source": [
    "from sklearn.linear_model import SGDClassifier\n",
    "text_clf_svm = Pipeline([('vect', CountVectorizer()),\n",
    "                      ('tfidf', TfidfTransformer()),\n",
    "                      ('clf-svm', SGDClassifier(loss='hinge', penalty='l2',\n",
    "                                            alpha=1e-3, random_state=42)),\n",
    "])\n",
    "\n",
    "text_clf_svm = text_clf_svm.fit(X_train, y_train)"
   ]
  },
  {
   "cell_type": "code",
   "execution_count": 74,
   "id": "fcfa67ee",
   "metadata": {},
   "outputs": [],
   "source": [
    "predictions = text_clf_svm.predict(X_test)"
   ]
  },
  {
   "cell_type": "markdown",
   "id": "d153e9bf",
   "metadata": {},
   "source": [
    "### Evaluating the SVM classifier"
   ]
  },
  {
   "cell_type": "code",
   "execution_count": 75,
   "id": "195cc705",
   "metadata": {},
   "outputs": [
    {
     "name": "stdout",
     "output_type": "stream",
     "text": [
      "Accuracy: 0.9227166276346604\n",
      "Precision: 0.8228187919463087\n",
      "recall: 1.0\n",
      "f1_score: 0.9027982326951398\n"
     ]
    }
   ],
   "source": [
    "conf_matrix = confusion_matrix(y_test, predictions)\n",
    "tn = conf_matrix[0][0]\n",
    "fn = conf_matrix[1][0]\n",
    "tp = conf_matrix[1][1]\n",
    "fp = conf_matrix[0][1]\n",
    "\n",
    "accuracy = (tp + tn)/(tp + tn + fn + fp)\n",
    "precision = tp / (tp + fp)\n",
    "recall = tp / (tp + fn)\n",
    "f1_score = 2*(precision*recall)/(precision + recall)\n",
    "\n",
    "print(\"Accuracy:\",accuracy)\n",
    "print(\"Precision:\",precision)\n",
    "print(\"recall:\",recall)\n",
    "print(\"f1_score:\",f1_score)"
   ]
  },
  {
   "cell_type": "code",
   "execution_count": 76,
   "id": "3bb285de",
   "metadata": {},
   "outputs": [],
   "source": [
    "#random oversampling\n",
    "text_clf_svm = SGDClassifier(loss='hinge', penalty='l2',alpha=1e-3, random_state=42)\n",
    "\n",
    "ros = RandomOverSampler(random_state=42)\n",
    "\n",
    "X_train_ros, y_train_ros= ros.fit_resample(xtrain_tfidf, y_train)\n",
    "text_clf_svm = text_clf_svm.fit(X_train_ros, y_train_ros)\n",
    "predictions = text_clf_svm.predict(xvalid_tfidf)"
   ]
  },
  {
   "cell_type": "code",
   "execution_count": 77,
   "id": "36b422d7",
   "metadata": {},
   "outputs": [
    {
     "name": "stdout",
     "output_type": "stream",
     "text": [
      "oversampling\n",
      "Accuracy: 0.9221311475409836\n",
      "Precision: 0.82171581769437\n",
      "recall: 1.0\n",
      "f1_score: 0.9021339220014717\n"
     ]
    }
   ],
   "source": [
    "conf_matrix = confusion_matrix(y_test, predictions)\n",
    "tn = conf_matrix[0][0]\n",
    "fn = conf_matrix[1][0]\n",
    "tp = conf_matrix[1][1]\n",
    "fp = conf_matrix[0][1]\n",
    "\n",
    "accuracy = (tp + tn)/(tp + tn + fn + fp)\n",
    "precision = tp / (tp + fp)\n",
    "recall = tp / (tp + fn)\n",
    "f1_score = 2*(precision*recall)/(precision + recall)\n",
    "\n",
    "print(\"oversampling\")\n",
    "print(\"Accuracy:\",accuracy)\n",
    "print(\"Precision:\",precision)\n",
    "print(\"recall:\",recall)\n",
    "print(\"f1_score:\",f1_score)"
   ]
  },
  {
   "cell_type": "code",
   "execution_count": 78,
   "id": "6cb4892d",
   "metadata": {},
   "outputs": [],
   "source": [
    "#random undersampling\n",
    "text_clf_svm = SGDClassifier(loss='hinge', penalty='l2',alpha=1e-3, random_state=42)\n",
    "\n",
    "rus = RandomUnderSampler(random_state=42)\n",
    "X_train_rus, y_train_rus= rus.fit_resample(xtrain_tfidf, y_train)\n",
    "text_clf_svm = text_clf_svm.fit(X_train_rus, y_train_rus)\n",
    "predictions = text_clf_svm.predict(xvalid_tfidf)"
   ]
  },
  {
   "cell_type": "code",
   "execution_count": 79,
   "id": "c5fade99",
   "metadata": {},
   "outputs": [
    {
     "name": "stdout",
     "output_type": "stream",
     "text": [
      "undersampling\n",
      "Accuracy: 0.9221311475409836\n",
      "Precision: 0.82171581769437\n",
      "recall: 1.0\n",
      "f1_score: 0.9021339220014717\n"
     ]
    }
   ],
   "source": [
    "conf_matrix = confusion_matrix(y_test, predictions)\n",
    "tn = conf_matrix[0][0]\n",
    "fn = conf_matrix[1][0]\n",
    "tp = conf_matrix[1][1]\n",
    "fp = conf_matrix[0][1]\n",
    "\n",
    "accuracy = (tp + tn)/(tp + tn + fn + fp)\n",
    "precision = tp / (tp + fp)\n",
    "recall = tp / (tp + fn)\n",
    "f1_score = 2*(precision*recall)/(precision + recall)\n",
    "\n",
    "print(\"undersampling\")\n",
    "print(\"Accuracy:\",accuracy)\n",
    "print(\"Precision:\",precision)\n",
    "print(\"recall:\",recall)\n",
    "print(\"f1_score:\",f1_score)"
   ]
  },
  {
   "cell_type": "markdown",
   "id": "7d627b2f",
   "metadata": {},
   "source": [
    "# Logistic regression"
   ]
  },
  {
   "cell_type": "code",
   "execution_count": 86,
   "id": "3bc913a7",
   "metadata": {},
   "outputs": [],
   "source": [
    "from sklearn.linear_model import LogisticRegression\n",
    "# Train model\n",
    "clf_lg = LogisticRegression()  \n",
    "clf_lg = Pipeline([('vect', CountVectorizer()),\n",
    "                      ('tfidf', TfidfTransformer()),\n",
    "                      ('clf',LogisticRegression()),\n",
    "])\n",
    "clf_lg = clf_lg.fit(X_train, y_train) "
   ]
  },
  {
   "cell_type": "code",
   "execution_count": 81,
   "id": "5ad1d7f4",
   "metadata": {},
   "outputs": [],
   "source": [
    "lg_predictions = clf_lg.predict(X_test)"
   ]
  },
  {
   "cell_type": "markdown",
   "id": "43353cb1",
   "metadata": {},
   "source": [
    "### Evaluating logistic regression classifier"
   ]
  },
  {
   "cell_type": "code",
   "execution_count": 71,
   "id": "566c559a",
   "metadata": {},
   "outputs": [
    {
     "name": "stdout",
     "output_type": "stream",
     "text": [
      "Accuracy: 0.9106641721234799\n",
      "Precision: 0.7995283018867925\n",
      "recall: 0.9699570815450643\n",
      "f1_score: 0.8765352294764058\n"
     ]
    }
   ],
   "source": [
    "conf_matrix = confusion_matrix(y_test, lg_predictions)\n",
    "tn = conf_matrix[0][0]\n",
    "fn = conf_matrix[1][0]\n",
    "tp = conf_matrix[1][1]\n",
    "fp = conf_matrix[0][1]\n",
    "\n",
    "accuracy = (tp + tn)/(tp + tn + fn + fp)\n",
    "precision = tp / (tp + fp)\n",
    "recall = tp / (tp + fn)\n",
    "f1_score = 2*(precision*recall)/(precision + recall)\n",
    "\n",
    "print(\"Accuracy:\",accuracy)\n",
    "print(\"Precision:\",precision)\n",
    "print(\"recall:\",recall)\n",
    "print(\"f1_score:\",f1_score)"
   ]
  },
  {
   "cell_type": "code",
   "execution_count": 87,
   "id": "1dc4da27",
   "metadata": {},
   "outputs": [],
   "source": [
    "#random oversampling\n",
    "clf_lg = LogisticRegression()  \n",
    "\n",
    "ros = RandomOverSampler(random_state=42)\n",
    "\n",
    "X_train_ros, y_train_ros= ros.fit_resample(xtrain_tfidf, y_train)\n",
    "clf_lg = clf_lg.fit(X_train_ros, y_train_ros)\n",
    "lg_predictions = clf_lg.predict(xvalid_tfidf)"
   ]
  },
  {
   "cell_type": "code",
   "execution_count": 88,
   "id": "4eb1fef7",
   "metadata": {},
   "outputs": [
    {
     "name": "stdout",
     "output_type": "stream",
     "text": [
      "oversampling\n",
      "Accuracy: 0.9320843091334895\n",
      "Precision: 0.8446601941747572\n",
      "recall: 0.9934747145187602\n",
      "f1_score: 0.9130434782608695\n"
     ]
    }
   ],
   "source": [
    "conf_matrix = confusion_matrix(y_test, lg_predictions)\n",
    "tn = conf_matrix[0][0]\n",
    "fn = conf_matrix[1][0]\n",
    "tp = conf_matrix[1][1]\n",
    "fp = conf_matrix[0][1]\n",
    "\n",
    "accuracy = (tp + tn)/(tp + tn + fn + fp)\n",
    "precision = tp / (tp + fp)\n",
    "recall = tp / (tp + fn)\n",
    "f1_score = 2*(precision*recall)/(precision + recall)\n",
    "\n",
    "print(\"oversampling\")\n",
    "print(\"Accuracy:\",accuracy)\n",
    "print(\"Precision:\",precision)\n",
    "print(\"recall:\",recall)\n",
    "print(\"f1_score:\",f1_score)"
   ]
  },
  {
   "cell_type": "code",
   "execution_count": 89,
   "id": "bb27e768",
   "metadata": {},
   "outputs": [],
   "source": [
    "#random undersampling\n",
    "clf_lg = LogisticRegression()  \n",
    "\n",
    "ros = RandomUnderSampler(random_state=42)\n",
    "\n",
    "X_train_rus, y_train_rus= rus.fit_resample(xtrain_tfidf, y_train)\n",
    "clf_lg = clf_lg.fit(X_train_rus, y_train_rus)\n",
    "lg_predictions = clf_lg.predict(xvalid_tfidf)"
   ]
  },
  {
   "cell_type": "code",
   "execution_count": 90,
   "id": "f000370e",
   "metadata": {},
   "outputs": [
    {
     "name": "stdout",
     "output_type": "stream",
     "text": [
      "undersampling\n",
      "Accuracy: 0.9250585480093677\n",
      "Precision: 0.8272604588394062\n",
      "recall: 1.0\n",
      "f1_score: 0.9054652880354505\n"
     ]
    }
   ],
   "source": [
    "conf_matrix = confusion_matrix(y_test, lg_predictions)\n",
    "tn = conf_matrix[0][0]\n",
    "fn = conf_matrix[1][0]\n",
    "tp = conf_matrix[1][1]\n",
    "fp = conf_matrix[0][1]\n",
    "\n",
    "accuracy = (tp + tn)/(tp + tn + fn + fp)\n",
    "precision = tp / (tp + fp)\n",
    "recall = tp / (tp + fn)\n",
    "f1_score = 2*(precision*recall)/(precision + recall)\n",
    "\n",
    "print(\"undersampling\")\n",
    "print(\"Accuracy:\",accuracy)\n",
    "print(\"Precision:\",precision)\n",
    "print(\"recall:\",recall)\n",
    "print(\"f1_score:\",f1_score)"
   ]
  },
  {
   "cell_type": "markdown",
   "id": "bbe7b463",
   "metadata": {},
   "source": [
    "# Reading real profile"
   ]
  },
  {
   "cell_type": "code",
   "execution_count": 3,
   "id": "f43d280d",
   "metadata": {},
   "outputs": [],
   "source": [
    "import json\n",
    "import os\n",
    "import glob\n",
    "import pandas as pd"
   ]
  },
  {
   "cell_type": "code",
   "execution_count": 53,
   "id": "d1bbd2cd",
   "metadata": {},
   "outputs": [],
   "source": [
    "import json\n",
    "import os\n",
    "import glob\n",
    "import pandas as pd\n",
    "\n",
    "json_dir = 'data/realprofile'\n",
    "json_pattern = os.path.join(json_dir, '*.json')\n",
    "file_list = glob.glob(json_pattern)\n",
    "\n",
    "dfs = []\n",
    "for file in file_list:\n",
    "    with open(file) as f:\n",
    "        json_data = pd.json_normalize(json.loads(f.read()))\n",
    "        json_data['site'] = file.rsplit(\"/\", 1)[-1]\n",
    "    dfs.append(json_data)\n",
    "realdf = pd.concat(dfs)\n",
    "\n",
    "#adding a new column based on username column - to match with xxx.jpg when combining image captions\n",
    "realdf[\"images\"] = realdf[\"username\"] + \".jpg\"\n",
    "\n",
    "#label\n",
    "realdf[\"y\"] = 1"
   ]
  },
  {
   "cell_type": "code",
   "execution_count": 71,
   "id": "d855bb2c",
   "metadata": {},
   "outputs": [
    {
     "data": {
      "text/html": [
       "<div>\n",
       "<style scoped>\n",
       "    .dataframe tbody tr th:only-of-type {\n",
       "        vertical-align: middle;\n",
       "    }\n",
       "\n",
       "    .dataframe tbody tr th {\n",
       "        vertical-align: top;\n",
       "    }\n",
       "\n",
       "    .dataframe thead th {\n",
       "        text-align: right;\n",
       "    }\n",
       "</style>\n",
       "<table border=\"1\" class=\"dataframe\">\n",
       "  <thead>\n",
       "    <tr style=\"text-align: right;\">\n",
       "      <th></th>\n",
       "      <th>year_reported</th>\n",
       "      <th>month_reported</th>\n",
       "      <th>username</th>\n",
       "      <th>name</th>\n",
       "      <th>age</th>\n",
       "      <th>occupation</th>\n",
       "      <th>status</th>\n",
       "      <th>inet</th>\n",
       "      <th>description</th>\n",
       "      <th>email</th>\n",
       "      <th>tags</th>\n",
       "      <th>gender</th>\n",
       "      <th>images</th>\n",
       "      <th>site</th>\n",
       "      <th>phone</th>\n",
       "      <th>y</th>\n",
       "    </tr>\n",
       "  </thead>\n",
       "  <tbody>\n",
       "  </tbody>\n",
       "</table>\n",
       "</div>"
      ],
      "text/plain": [
       "Empty DataFrame\n",
       "Columns: [year_reported, month_reported, username, name, age, occupation, status, inet, description, email, tags, gender, images, site, phone, y]\n",
       "Index: []"
      ]
     },
     "execution_count": 71,
     "metadata": {},
     "output_type": "execute_result"
    }
   ],
   "source": [
    "scamdf[scamdf[\"images\"] == \"martinlawrence2.jpg\"]"
   ]
  },
  {
   "cell_type": "markdown",
   "id": "438a0f52",
   "metadata": {},
   "source": [
    "# Reading scam profile"
   ]
  },
  {
   "cell_type": "code",
   "execution_count": 54,
   "id": "f5e9473b",
   "metadata": {},
   "outputs": [],
   "source": [
    "json_dir = 'data/scamprofile'\n",
    "json_pattern = os.path.join(json_dir, '*.json')\n",
    "file_list = glob.glob(json_pattern)\n",
    "\n",
    "dfs = []\n",
    "for file in file_list:\n",
    "    with open(file) as f:\n",
    "        json_data = pd.json_normalize(json.loads(f.read()))\n",
    "        json_data['site'] = file.rsplit(\"/\", 1)[-1]\n",
    "    dfs.append(json_data)\n",
    "scamdf = pd.concat(dfs)\n",
    "\n",
    "#modifying the column \"images\" to join on filename - images = [xxx.jpg], change to xxx.jpg\n",
    "scamdf[\"images\"] = scamdf[\"images\"].apply(lambda x: ''.join(x))\n",
    "\n",
    "#label\n",
    "scamdf[\"y\"] = 0"
   ]
  },
  {
   "cell_type": "markdown",
   "id": "ed0155d8",
   "metadata": {},
   "source": [
    "# Reading image caption json (real)"
   ]
  },
  {
   "cell_type": "code",
   "execution_count": 55,
   "id": "974a1c1c",
   "metadata": {},
   "outputs": [],
   "source": [
    "json_dir = 'final caption model/xinyi_real'\n",
    "json_pattern = os.path.join(json_dir, '*.json')\n",
    "file_list = glob.glob(json_pattern)\n",
    "\n",
    "fn_list = []\n",
    "caption_list = []\n",
    "for file in file_list:\n",
    "    with open(file) as f:\n",
    "        data = json.load(f)\n",
    "        filename = list(data.keys())\n",
    "        caption = list(data.values())\n",
    "    fn_list.extend(filename)\n",
    "    caption_list.extend(caption)\n",
    "\n",
    "image_real_df = pd.DataFrame(data = {\"filename\":fn_list,\"caption\":caption_list})\n",
    "\n",
    "#drop duplicates \n",
    "image_real_df = image_real_df.drop_duplicates(subset = \"filename\")"
   ]
  },
  {
   "cell_type": "markdown",
   "id": "59679bad",
   "metadata": {},
   "source": [
    "# Reading image caption json (scam)"
   ]
  },
  {
   "cell_type": "code",
   "execution_count": 56,
   "id": "78b27219",
   "metadata": {},
   "outputs": [],
   "source": [
    "json_dir = 'final caption model/christine_scam'\n",
    "json_pattern = os.path.join(json_dir, '*.json')\n",
    "file_list = glob.glob(json_pattern)\n",
    "\n",
    "fn_list = []\n",
    "caption_list = []\n",
    "for file in file_list:\n",
    "    with open(file) as f:\n",
    "        data = json.load(f)\n",
    "        filename = list(data.keys())\n",
    "        caption = list(data.values())\n",
    "    fn_list.extend(filename)\n",
    "    caption_list.extend(caption)\n",
    "\n",
    "image_scam_df = pd.DataFrame(data = {\"filename\":fn_list,\"caption\":caption_list})"
   ]
  },
  {
   "cell_type": "code",
   "execution_count": 57,
   "id": "4ca6252c",
   "metadata": {},
   "outputs": [],
   "source": [
    "##concat scam and real profiles\n",
    "scam_and_real = pd.concat([scamdf[[\"username\",\"images\",\"y\"]], realdf[[\"username\",\"images\",\"y\"]]], ignore_index=True)\n",
    "#scam_and_real.info()"
   ]
  },
  {
   "cell_type": "code",
   "execution_count": 58,
   "id": "4ef2a4d0",
   "metadata": {},
   "outputs": [
    {
     "data": {
      "text/html": [
       "<div>\n",
       "<style scoped>\n",
       "    .dataframe tbody tr th:only-of-type {\n",
       "        vertical-align: middle;\n",
       "    }\n",
       "\n",
       "    .dataframe tbody tr th {\n",
       "        vertical-align: top;\n",
       "    }\n",
       "\n",
       "    .dataframe thead th {\n",
       "        text-align: right;\n",
       "    }\n",
       "</style>\n",
       "<table border=\"1\" class=\"dataframe\">\n",
       "  <thead>\n",
       "    <tr style=\"text-align: right;\">\n",
       "      <th></th>\n",
       "      <th>username</th>\n",
       "      <th>images</th>\n",
       "      <th>y</th>\n",
       "    </tr>\n",
       "  </thead>\n",
       "  <tbody>\n",
       "    <tr>\n",
       "      <th>0</th>\n",
       "      <td>nathangilbert130</td>\n",
       "      <td>nathangilbert1301.jpg</td>\n",
       "      <td>0</td>\n",
       "    </tr>\n",
       "    <tr>\n",
       "      <th>1</th>\n",
       "      <td>keneth</td>\n",
       "      <td>keneth1.jpg</td>\n",
       "      <td>0</td>\n",
       "    </tr>\n",
       "    <tr>\n",
       "      <th>2</th>\n",
       "      <td>josephmax</td>\n",
       "      <td>josephmax1.jpg</td>\n",
       "      <td>0</td>\n",
       "    </tr>\n",
       "    <tr>\n",
       "      <th>3</th>\n",
       "      <td>Esanzab</td>\n",
       "      <td>Esanzab1.jpg</td>\n",
       "      <td>0</td>\n",
       "    </tr>\n",
       "    <tr>\n",
       "      <th>4</th>\n",
       "      <td>Jhjh28</td>\n",
       "      <td>Jhjh281.jpg</td>\n",
       "      <td>0</td>\n",
       "    </tr>\n",
       "  </tbody>\n",
       "</table>\n",
       "</div>"
      ],
      "text/plain": [
       "            username                 images  y\n",
       "0   nathangilbert130  nathangilbert1301.jpg  0\n",
       "1             keneth            keneth1.jpg  0\n",
       "2          josephmax         josephmax1.jpg  0\n",
       "3            Esanzab           Esanzab1.jpg  0\n",
       "4             Jhjh28            Jhjh281.jpg  0"
      ]
     },
     "execution_count": 58,
     "metadata": {},
     "output_type": "execute_result"
    }
   ],
   "source": [
    "scam_and_real.head()"
   ]
  },
  {
   "cell_type": "code",
   "execution_count": 43,
   "id": "bc4f02b9",
   "metadata": {},
   "outputs": [],
   "source": [
    "#combine image captions + filename (real and scam) into one df\n",
    "scam_image_and_real_image = pd.concat([image_real_df,image_scam_df],ignore_index = True)\n",
    "scam_image_and_real_image.rename(columns = {\"filename\":\"images\"},inplace = True)"
   ]
  },
  {
   "cell_type": "code",
   "execution_count": 59,
   "id": "bbe75aab",
   "metadata": {},
   "outputs": [],
   "source": [
    "#left join scam image and real image captions to scam_and_real\n",
    "final_df = scam_and_real.merge(scam_image_and_real_image,how = 'left', on = 'images')"
   ]
  },
  {
   "cell_type": "code",
   "execution_count": 66,
   "id": "0bb45fcb",
   "metadata": {},
   "outputs": [],
   "source": [
    "final_df2 = scam_image_and_real_image.merge(scam_and_real, how = 'left',on = 'images')"
   ]
  },
  {
   "cell_type": "code",
   "execution_count": 67,
   "id": "0000bab7",
   "metadata": {},
   "outputs": [
    {
     "data": {
      "text/html": [
       "<div>\n",
       "<style scoped>\n",
       "    .dataframe tbody tr th:only-of-type {\n",
       "        vertical-align: middle;\n",
       "    }\n",
       "\n",
       "    .dataframe tbody tr th {\n",
       "        vertical-align: top;\n",
       "    }\n",
       "\n",
       "    .dataframe thead th {\n",
       "        text-align: right;\n",
       "    }\n",
       "</style>\n",
       "<table border=\"1\" class=\"dataframe\">\n",
       "  <thead>\n",
       "    <tr style=\"text-align: right;\">\n",
       "      <th></th>\n",
       "      <th>images</th>\n",
       "      <th>caption</th>\n",
       "      <th>username</th>\n",
       "      <th>y</th>\n",
       "    </tr>\n",
       "  </thead>\n",
       "  <tbody>\n",
       "    <tr>\n",
       "      <th>0</th>\n",
       "      <td>123canwe.jpg</td>\n",
       "      <td>man in red shirt is standing on bench next to ...</td>\n",
       "      <td>123canwe</td>\n",
       "      <td>1.0</td>\n",
       "    </tr>\n",
       "    <tr>\n",
       "      <th>1</th>\n",
       "      <td>123WILFREDO.jpg</td>\n",
       "      <td>man in red shirt is sitting on the edge of river</td>\n",
       "      <td>123WILFREDO</td>\n",
       "      <td>1.0</td>\n",
       "    </tr>\n",
       "    <tr>\n",
       "      <th>2</th>\n",
       "      <td>52Jim52.jpg</td>\n",
       "      <td>man in black shirt is standing in front of woo...</td>\n",
       "      <td>52Jim52</td>\n",
       "      <td>1.0</td>\n",
       "    </tr>\n",
       "    <tr>\n",
       "      <th>3</th>\n",
       "      <td>Aaron90.jpg</td>\n",
       "      <td>two girls are playing in the grass</td>\n",
       "      <td>Aaron90</td>\n",
       "      <td>1.0</td>\n",
       "    </tr>\n",
       "    <tr>\n",
       "      <th>4</th>\n",
       "      <td>Abou.jpg</td>\n",
       "      <td>man in red shirt and black shorts is walking d...</td>\n",
       "      <td>Abou</td>\n",
       "      <td>1.0</td>\n",
       "    </tr>\n",
       "  </tbody>\n",
       "</table>\n",
       "</div>"
      ],
      "text/plain": [
       "            images                                            caption  \\\n",
       "0     123canwe.jpg  man in red shirt is standing on bench next to ...   \n",
       "1  123WILFREDO.jpg   man in red shirt is sitting on the edge of river   \n",
       "2      52Jim52.jpg  man in black shirt is standing in front of woo...   \n",
       "3      Aaron90.jpg                 two girls are playing in the grass   \n",
       "4         Abou.jpg  man in red shirt and black shorts is walking d...   \n",
       "\n",
       "      username    y  \n",
       "0     123canwe  1.0  \n",
       "1  123WILFREDO  1.0  \n",
       "2      52Jim52  1.0  \n",
       "3      Aaron90  1.0  \n",
       "4         Abou  1.0  "
      ]
     },
     "execution_count": 67,
     "metadata": {},
     "output_type": "execute_result"
    }
   ],
   "source": [
    "final_df2.head()"
   ]
  },
  {
   "cell_type": "code",
   "execution_count": 69,
   "id": "835eb0c2",
   "metadata": {},
   "outputs": [
    {
     "data": {
      "text/html": [
       "<div>\n",
       "<style scoped>\n",
       "    .dataframe tbody tr th:only-of-type {\n",
       "        vertical-align: middle;\n",
       "    }\n",
       "\n",
       "    .dataframe tbody tr th {\n",
       "        vertical-align: top;\n",
       "    }\n",
       "\n",
       "    .dataframe thead th {\n",
       "        text-align: right;\n",
       "    }\n",
       "</style>\n",
       "<table border=\"1\" class=\"dataframe\">\n",
       "  <thead>\n",
       "    <tr style=\"text-align: right;\">\n",
       "      <th></th>\n",
       "      <th>images</th>\n",
       "      <th>caption</th>\n",
       "      <th>username</th>\n",
       "      <th>y</th>\n",
       "    </tr>\n",
       "  </thead>\n",
       "  <tbody>\n",
       "    <tr>\n",
       "      <th>3199</th>\n",
       "      <td>martinlawrence2.jpg</td>\n",
       "      <td>man in black shirt is standing in front of store</td>\n",
       "      <td>NaN</td>\n",
       "      <td>NaN</td>\n",
       "    </tr>\n",
       "    <tr>\n",
       "      <th>3202</th>\n",
       "      <td>activecarlina1.jpg</td>\n",
       "      <td>man in black shirt is standing in front of crowd</td>\n",
       "      <td>NaN</td>\n",
       "      <td>NaN</td>\n",
       "    </tr>\n",
       "    <tr>\n",
       "      <th>3203</th>\n",
       "      <td>activecarlina2.jpg</td>\n",
       "      <td>two girls are playing in the grass</td>\n",
       "      <td>NaN</td>\n",
       "      <td>NaN</td>\n",
       "    </tr>\n",
       "    <tr>\n",
       "      <th>3204</th>\n",
       "      <td>activecarlina3.jpg</td>\n",
       "      <td>man in red shirt is standing in front of crowd</td>\n",
       "      <td>NaN</td>\n",
       "      <td>NaN</td>\n",
       "    </tr>\n",
       "    <tr>\n",
       "      <th>3205</th>\n",
       "      <td>activecarlina4.jpg</td>\n",
       "      <td>two girls are playing hide and smile</td>\n",
       "      <td>NaN</td>\n",
       "      <td>NaN</td>\n",
       "    </tr>\n",
       "    <tr>\n",
       "      <th>...</th>\n",
       "      <td>...</td>\n",
       "      <td>...</td>\n",
       "      <td>...</td>\n",
       "      <td>...</td>\n",
       "    </tr>\n",
       "    <tr>\n",
       "      <th>9803</th>\n",
       "      <td>Valery5.jpg</td>\n",
       "      <td>man in red shirt is sitting on bench in front ...</td>\n",
       "      <td>NaN</td>\n",
       "      <td>NaN</td>\n",
       "    </tr>\n",
       "    <tr>\n",
       "      <th>9805</th>\n",
       "      <td>franklin1.jpg</td>\n",
       "      <td>man in black shirt is standing in front of wom...</td>\n",
       "      <td>NaN</td>\n",
       "      <td>NaN</td>\n",
       "    </tr>\n",
       "    <tr>\n",
       "      <th>9806</th>\n",
       "      <td>franklin2.jpg</td>\n",
       "      <td>man in black shirt is standing in front of wom...</td>\n",
       "      <td>NaN</td>\n",
       "      <td>NaN</td>\n",
       "    </tr>\n",
       "    <tr>\n",
       "      <th>9808</th>\n",
       "      <td>cynthia2141.jpg</td>\n",
       "      <td>two girls are sitting on bench in front of the...</td>\n",
       "      <td>NaN</td>\n",
       "      <td>NaN</td>\n",
       "    </tr>\n",
       "    <tr>\n",
       "      <th>9809</th>\n",
       "      <td>cynthia2142.jpg</td>\n",
       "      <td>man in red shirt is sitting on bench</td>\n",
       "      <td>NaN</td>\n",
       "      <td>NaN</td>\n",
       "    </tr>\n",
       "  </tbody>\n",
       "</table>\n",
       "<p>5061 rows × 4 columns</p>\n",
       "</div>"
      ],
      "text/plain": [
       "                   images                                            caption  \\\n",
       "3199  martinlawrence2.jpg   man in black shirt is standing in front of store   \n",
       "3202   activecarlina1.jpg   man in black shirt is standing in front of crowd   \n",
       "3203   activecarlina2.jpg                 two girls are playing in the grass   \n",
       "3204   activecarlina3.jpg     man in red shirt is standing in front of crowd   \n",
       "3205   activecarlina4.jpg               two girls are playing hide and smile   \n",
       "...                   ...                                                ...   \n",
       "9803          Valery5.jpg  man in red shirt is sitting on bench in front ...   \n",
       "9805        franklin1.jpg  man in black shirt is standing in front of wom...   \n",
       "9806        franklin2.jpg  man in black shirt is standing in front of wom...   \n",
       "9808      cynthia2141.jpg  two girls are sitting on bench in front of the...   \n",
       "9809      cynthia2142.jpg               man in red shirt is sitting on bench   \n",
       "\n",
       "     username   y  \n",
       "3199      NaN NaN  \n",
       "3202      NaN NaN  \n",
       "3203      NaN NaN  \n",
       "3204      NaN NaN  \n",
       "3205      NaN NaN  \n",
       "...       ...  ..  \n",
       "9803      NaN NaN  \n",
       "9805      NaN NaN  \n",
       "9806      NaN NaN  \n",
       "9808      NaN NaN  \n",
       "9809      NaN NaN  \n",
       "\n",
       "[5061 rows x 4 columns]"
      ]
     },
     "execution_count": 69,
     "metadata": {},
     "output_type": "execute_result"
    }
   ],
   "source": [
    "final_df2[final_df2[\"username\"].isna()]"
   ]
  },
  {
   "cell_type": "code",
   "execution_count": 60,
   "id": "a20c345f",
   "metadata": {},
   "outputs": [
    {
     "data": {
      "text/html": [
       "<div>\n",
       "<style scoped>\n",
       "    .dataframe tbody tr th:only-of-type {\n",
       "        vertical-align: middle;\n",
       "    }\n",
       "\n",
       "    .dataframe tbody tr th {\n",
       "        vertical-align: top;\n",
       "    }\n",
       "\n",
       "    .dataframe thead th {\n",
       "        text-align: right;\n",
       "    }\n",
       "</style>\n",
       "<table border=\"1\" class=\"dataframe\">\n",
       "  <thead>\n",
       "    <tr style=\"text-align: right;\">\n",
       "      <th></th>\n",
       "      <th>username</th>\n",
       "      <th>images</th>\n",
       "      <th>y</th>\n",
       "      <th>caption</th>\n",
       "    </tr>\n",
       "  </thead>\n",
       "  <tbody>\n",
       "    <tr>\n",
       "      <th>0</th>\n",
       "      <td>nathangilbert130</td>\n",
       "      <td>nathangilbert1301.jpg</td>\n",
       "      <td>0</td>\n",
       "      <td>man in black shirt is standing in front of wom...</td>\n",
       "    </tr>\n",
       "    <tr>\n",
       "      <th>1</th>\n",
       "      <td>keneth</td>\n",
       "      <td>keneth1.jpg</td>\n",
       "      <td>0</td>\n",
       "      <td>man in black shirt is standing in front of she...</td>\n",
       "    </tr>\n",
       "    <tr>\n",
       "      <th>2</th>\n",
       "      <td>josephmax</td>\n",
       "      <td>josephmax1.jpg</td>\n",
       "      <td>0</td>\n",
       "      <td>NaN</td>\n",
       "    </tr>\n",
       "    <tr>\n",
       "      <th>3</th>\n",
       "      <td>Esanzab</td>\n",
       "      <td>Esanzab1.jpg</td>\n",
       "      <td>0</td>\n",
       "      <td>NaN</td>\n",
       "    </tr>\n",
       "    <tr>\n",
       "      <th>4</th>\n",
       "      <td>Jhjh28</td>\n",
       "      <td>Jhjh281.jpg</td>\n",
       "      <td>0</td>\n",
       "      <td>man in black shirt is standing in front of wom...</td>\n",
       "    </tr>\n",
       "  </tbody>\n",
       "</table>\n",
       "</div>"
      ],
      "text/plain": [
       "            username                 images  y  \\\n",
       "0   nathangilbert130  nathangilbert1301.jpg  0   \n",
       "1             keneth            keneth1.jpg  0   \n",
       "2          josephmax         josephmax1.jpg  0   \n",
       "3            Esanzab           Esanzab1.jpg  0   \n",
       "4             Jhjh28            Jhjh281.jpg  0   \n",
       "\n",
       "                                             caption  \n",
       "0  man in black shirt is standing in front of wom...  \n",
       "1  man in black shirt is standing in front of she...  \n",
       "2                                                NaN  \n",
       "3                                                NaN  \n",
       "4  man in black shirt is standing in front of wom...  "
      ]
     },
     "execution_count": 60,
     "metadata": {},
     "output_type": "execute_result"
    }
   ],
   "source": [
    "final_df.head()"
   ]
  },
  {
   "cell_type": "code",
   "execution_count": 61,
   "id": "e18b29f2",
   "metadata": {},
   "outputs": [
    {
     "name": "stdout",
     "output_type": "stream",
     "text": [
      "<class 'pandas.core.frame.DataFrame'>\n",
      "Int64Index: 22066 entries, 0 to 22065\n",
      "Data columns (total 4 columns):\n",
      " #   Column    Non-Null Count  Dtype \n",
      "---  ------    --------------  ----- \n",
      " 0   username  22066 non-null  object\n",
      " 1   images    22066 non-null  object\n",
      " 2   y         22066 non-null  int64 \n",
      " 3   caption   4751 non-null   object\n",
      "dtypes: int64(1), object(3)\n",
      "memory usage: 862.0+ KB\n"
     ]
    }
   ],
   "source": [
    "final_df.info()"
   ]
  },
  {
   "cell_type": "code",
   "execution_count": 62,
   "id": "029d75c0",
   "metadata": {},
   "outputs": [],
   "source": [
    "final_df.dropna(inplace = True)"
   ]
  },
  {
   "cell_type": "code",
   "execution_count": 63,
   "id": "a5b4dedd",
   "metadata": {},
   "outputs": [
    {
     "name": "stdout",
     "output_type": "stream",
     "text": [
      "<class 'pandas.core.frame.DataFrame'>\n",
      "Int64Index: 4751 entries, 0 to 22063\n",
      "Data columns (total 4 columns):\n",
      " #   Column    Non-Null Count  Dtype \n",
      "---  ------    --------------  ----- \n",
      " 0   username  4751 non-null   object\n",
      " 1   images    4751 non-null   object\n",
      " 2   y         4751 non-null   int64 \n",
      " 3   caption   4751 non-null   object\n",
      "dtypes: int64(1), object(3)\n",
      "memory usage: 185.6+ KB\n"
     ]
    }
   ],
   "source": [
    "final_df.info()"
   ]
  },
  {
   "cell_type": "code",
   "execution_count": null,
   "id": "fcc9c8bc",
   "metadata": {},
   "outputs": [],
   "source": [
    "finaldf - 4751 profiles, 1000+ scam, 3000+ real\n",
    "\n"
   ]
  },
  {
   "cell_type": "code",
   "execution_count": 75,
   "id": "7901db93",
   "metadata": {},
   "outputs": [],
   "source": [
    "#try combine finaldf with combined df\n",
    "final_df3 = combined_df.merge(final_df[[\"username\",\"caption\"]],how = \"left\",on = \"username\")"
   ]
  },
  {
   "cell_type": "code",
   "execution_count": 76,
   "id": "423facb1",
   "metadata": {},
   "outputs": [
    {
     "data": {
      "text/html": [
       "<div>\n",
       "<style scoped>\n",
       "    .dataframe tbody tr th:only-of-type {\n",
       "        vertical-align: middle;\n",
       "    }\n",
       "\n",
       "    .dataframe tbody tr th {\n",
       "        vertical-align: top;\n",
       "    }\n",
       "\n",
       "    .dataframe thead th {\n",
       "        text-align: right;\n",
       "    }\n",
       "</style>\n",
       "<table border=\"1\" class=\"dataframe\">\n",
       "  <thead>\n",
       "    <tr style=\"text-align: right;\">\n",
       "      <th></th>\n",
       "      <th>username</th>\n",
       "      <th>age</th>\n",
       "      <th>occupation</th>\n",
       "      <th>status</th>\n",
       "      <th>gender</th>\n",
       "      <th>filtered sentence</th>\n",
       "      <th>y</th>\n",
       "      <th>caption</th>\n",
       "    </tr>\n",
       "  </thead>\n",
       "  <tbody>\n",
       "    <tr>\n",
       "      <th>0</th>\n",
       "      <td>sandralee</td>\n",
       "      <td>19</td>\n",
       "      <td>student</td>\n",
       "      <td>single</td>\n",
       "      <td>female</td>\n",
       "      <td>Im really chill person looking someone chill I...</td>\n",
       "      <td>0</td>\n",
       "      <td>two girls are playing in the tub</td>\n",
       "    </tr>\n",
       "    <tr>\n",
       "      <th>1</th>\n",
       "      <td>dayana16</td>\n",
       "      <td>19</td>\n",
       "      <td>estudiante</td>\n",
       "      <td>single</td>\n",
       "      <td>female</td>\n",
       "      <td>white Bisexual Other nonsmoker occasional drin...</td>\n",
       "      <td>0</td>\n",
       "      <td>two girls are playing in the grass</td>\n",
       "    </tr>\n",
       "    <tr>\n",
       "      <th>2</th>\n",
       "      <td>Denn_</td>\n",
       "      <td>19</td>\n",
       "      <td>Estudiante</td>\n",
       "      <td>single</td>\n",
       "      <td>female</td>\n",
       "      <td>hispanic Bisexual Atheist nonsmoker never Fun ...</td>\n",
       "      <td>0</td>\n",
       "      <td>two girls are playing in the grass</td>\n",
       "    </tr>\n",
       "    <tr>\n",
       "      <th>3</th>\n",
       "      <td>Gabrielita</td>\n",
       "      <td>19</td>\n",
       "      <td>Estudiante</td>\n",
       "      <td>single</td>\n",
       "      <td>female</td>\n",
       "      <td>hispanic Bisexual Christian nonsmoker never Se...</td>\n",
       "      <td>0</td>\n",
       "      <td>NaN</td>\n",
       "    </tr>\n",
       "    <tr>\n",
       "      <th>4</th>\n",
       "      <td>Luisa5401</td>\n",
       "      <td>19</td>\n",
       "      <td>Estudiante</td>\n",
       "      <td>single</td>\n",
       "      <td>female</td>\n",
       "      <td>hispanic Straight Other nonsmoker never Fun Fr...</td>\n",
       "      <td>0</td>\n",
       "      <td>two girls are playing in the grass</td>\n",
       "    </tr>\n",
       "  </tbody>\n",
       "</table>\n",
       "</div>"
      ],
      "text/plain": [
       "     username  age  occupation  status  gender  \\\n",
       "0   sandralee   19     student  single  female   \n",
       "1    dayana16   19  estudiante  single  female   \n",
       "2       Denn_   19  Estudiante  single  female   \n",
       "3  Gabrielita   19  Estudiante  single  female   \n",
       "4   Luisa5401   19  Estudiante  single  female   \n",
       "\n",
       "                                   filtered sentence  y  \\\n",
       "0  Im really chill person looking someone chill I...  0   \n",
       "1  white Bisexual Other nonsmoker occasional drin...  0   \n",
       "2  hispanic Bisexual Atheist nonsmoker never Fun ...  0   \n",
       "3  hispanic Bisexual Christian nonsmoker never Se...  0   \n",
       "4  hispanic Straight Other nonsmoker never Fun Fr...  0   \n",
       "\n",
       "                              caption  \n",
       "0    two girls are playing in the tub  \n",
       "1  two girls are playing in the grass  \n",
       "2  two girls are playing in the grass  \n",
       "3                                 NaN  \n",
       "4  two girls are playing in the grass  "
      ]
     },
     "execution_count": 76,
     "metadata": {},
     "output_type": "execute_result"
    }
   ],
   "source": [
    "final_df3.head()"
   ]
  },
  {
   "cell_type": "code",
   "execution_count": 77,
   "id": "ee79fd76",
   "metadata": {},
   "outputs": [
    {
     "name": "stdout",
     "output_type": "stream",
     "text": [
      "<class 'pandas.core.frame.DataFrame'>\n",
      "Int64Index: 7934 entries, 0 to 7933\n",
      "Data columns (total 8 columns):\n",
      " #   Column             Non-Null Count  Dtype \n",
      "---  ------             --------------  ----- \n",
      " 0   username           7934 non-null   object\n",
      " 1   age                7934 non-null   int64 \n",
      " 2   occupation         7934 non-null   object\n",
      " 3   status             7934 non-null   object\n",
      " 4   gender             7934 non-null   object\n",
      " 5   filtered sentence  7934 non-null   object\n",
      " 6   y                  7934 non-null   int64 \n",
      " 7   caption            4382 non-null   object\n",
      "dtypes: int64(2), object(6)\n",
      "memory usage: 557.9+ KB\n"
     ]
    }
   ],
   "source": [
    "final_df3.info()"
   ]
  },
  {
   "cell_type": "code",
   "execution_count": 78,
   "id": "c90d5e25",
   "metadata": {},
   "outputs": [],
   "source": [
    "final_df3.dropna(inplace = True)"
   ]
  },
  {
   "cell_type": "code",
   "execution_count": 103,
   "id": "f20e7bc8",
   "metadata": {},
   "outputs": [],
   "source": [
    "#use final df3 - create model with both description + caption \n",
    "# features\n",
    "X = final_df3['caption']\n",
    "\n",
    "# target\n",
    "y = final_df3['y']\n",
    "\n",
    "from sklearn.model_selection import train_test_split\n",
    "X_train, X_test, y_train, y_test = train_test_split(X, y, test_size = 0.2, random_state = 424)"
   ]
  },
  {
   "cell_type": "code",
   "execution_count": 87,
   "id": "c859e40a",
   "metadata": {},
   "outputs": [],
   "source": [
    "from sklearn.feature_extraction.text import TfidfTransformer\n",
    "from sklearn.naive_bayes import MultinomialNB"
   ]
  },
  {
   "cell_type": "code",
   "execution_count": 105,
   "id": "85096554",
   "metadata": {},
   "outputs": [],
   "source": [
    "# word level tf-idf\n",
    "tfidf_vect = TfidfVectorizer(analyzer='word', token_pattern=r'\\w{1,}', max_features=100000)\n",
    "tfidf_vect.fit(X)\n",
    "xtrain_tfidf =  tfidf_vect.transform(X_train)\n",
    "xvalid_tfidf =  tfidf_vect.transform(X_test)"
   ]
  },
  {
   "cell_type": "markdown",
   "id": "1ef24261",
   "metadata": {},
   "source": [
    "# Naive Bayes classifier for image captions"
   ]
  },
  {
   "cell_type": "code",
   "execution_count": 106,
   "id": "180dbb39",
   "metadata": {},
   "outputs": [],
   "source": [
    "#random oversampling\n",
    "text_clf = MultinomialNB()\n",
    "ros = RandomOverSampler(random_state=42)\n",
    "\n",
    "X_train_ros, y_train_ros= ros.fit_resample(xtrain_tfidf, y_train)\n",
    "text_clf = text_clf.fit(X_train_ros, y_train_ros)\n",
    "predictions = text_clf.predict(xvalid_tfidf)"
   ]
  },
  {
   "cell_type": "code",
   "execution_count": 89,
   "id": "9f2b25bb",
   "metadata": {},
   "outputs": [
    {
     "name": "stdout",
     "output_type": "stream",
     "text": [
      "random oversampling\n",
      "Accuracy: 0.7263397947548461\n",
      "Precision: 0.535796766743649\n",
      "recall: 0.8560885608856088\n",
      "f1_score: 0.6590909090909091\n"
     ]
    }
   ],
   "source": [
    "#evaluating the naive bayes classifier - oversampling\n",
    "from sklearn.metrics import confusion_matrix\n",
    "conf_matrix = confusion_matrix(y_test, predictions)\n",
    "tn = conf_matrix[0][0]\n",
    "fn = conf_matrix[1][0]\n",
    "tp = conf_matrix[1][1]\n",
    "fp = conf_matrix[0][1]\n",
    "\n",
    "accuracy = (tp + tn)/(tp + tn + fn + fp)\n",
    "precision = tp / (tp + fp)\n",
    "recall = tp / (tp + fn)\n",
    "f1_score = 2*(precision*recall)/(precision + recall)\n",
    "\n",
    "print(\"random oversampling\")\n",
    "print(\"Accuracy:\",accuracy)\n",
    "print(\"Precision:\",precision)\n",
    "print(\"recall:\",recall)\n",
    "print(\"f1_score:\",f1_score)"
   ]
  },
  {
   "cell_type": "code",
   "execution_count": 95,
   "id": "7429e679",
   "metadata": {},
   "outputs": [],
   "source": [
    "#random undersampling\n",
    "text_clf = MultinomialNB()\n",
    "rus = RandomUnderSampler(random_state=42)\n",
    "\n",
    "X_train_rus, y_train_rus= rus.fit_resample(xtrain_tfidf, y_train)\n",
    "text_clf = text_clf.fit(X_train_rus, y_train_rus)\n",
    "predictions = text_clf.predict(xvalid_tfidf)"
   ]
  },
  {
   "cell_type": "code",
   "execution_count": 96,
   "id": "a62b711d",
   "metadata": {},
   "outputs": [
    {
     "name": "stdout",
     "output_type": "stream",
     "text": [
      "random undersampling\n",
      "Accuracy: 0.7263397947548461\n",
      "Precision: 0.5364705882352941\n",
      "recall: 0.8413284132841329\n",
      "f1_score: 0.6551724137931034\n"
     ]
    }
   ],
   "source": [
    "#evaluating the naive bayes classifier - undersampling\n",
    "from sklearn.metrics import confusion_matrix\n",
    "conf_matrix = confusion_matrix(y_test, predictions)\n",
    "tn = conf_matrix[0][0]\n",
    "fn = conf_matrix[1][0]\n",
    "tp = conf_matrix[1][1]\n",
    "fp = conf_matrix[0][1]\n",
    "\n",
    "accuracy = (tp + tn)/(tp + tn + fn + fp)\n",
    "precision = tp / (tp + fp)\n",
    "recall = tp / (tp + fn)\n",
    "f1_score = 2*(precision*recall)/(precision + recall)\n",
    "\n",
    "print(\"random undersampling\")\n",
    "print(\"Accuracy:\",accuracy)\n",
    "print(\"Precision:\",precision)\n",
    "print(\"recall:\",recall)\n",
    "print(\"f1_score:\",f1_score)"
   ]
  },
  {
   "cell_type": "markdown",
   "id": "feaa83ca",
   "metadata": {},
   "source": [
    "# svm classifier"
   ]
  },
  {
   "cell_type": "code",
   "execution_count": 93,
   "id": "d4043d09",
   "metadata": {},
   "outputs": [],
   "source": [
    "from sklearn.linear_model import SGDClassifier\n",
    "\n",
    "#random oversampling\n",
    "text_clf_svm = SGDClassifier(loss='hinge', penalty='l2',alpha=1e-3, random_state=42)\n",
    "\n",
    "ros = RandomOverSampler(random_state=42)\n",
    "\n",
    "X_train_ros, y_train_ros= ros.fit_resample(xtrain_tfidf, y_train)\n",
    "text_clf_svm = text_clf_svm.fit(X_train_ros, y_train_ros)\n",
    "predictions = text_clf_svm.predict(xvalid_tfidf)"
   ]
  },
  {
   "cell_type": "code",
   "execution_count": 94,
   "id": "0a7d6223",
   "metadata": {},
   "outputs": [
    {
     "name": "stdout",
     "output_type": "stream",
     "text": [
      "random oversampling\n",
      "Accuracy: 0.7457240592930444\n",
      "Precision: 0.5524017467248908\n",
      "recall: 0.933579335793358\n",
      "f1_score: 0.6941015089163236\n"
     ]
    }
   ],
   "source": [
    "conf_matrix = confusion_matrix(y_test, predictions)\n",
    "tn = conf_matrix[0][0]\n",
    "fn = conf_matrix[1][0]\n",
    "tp = conf_matrix[1][1]\n",
    "fp = conf_matrix[0][1]\n",
    "\n",
    "accuracy = (tp + tn)/(tp + tn + fn + fp)\n",
    "precision = tp / (tp + fp)\n",
    "recall = tp / (tp + fn)\n",
    "f1_score = 2*(precision*recall)/(precision + recall)\n",
    "\n",
    "print(\"random oversampling\")\n",
    "print(\"Accuracy:\",accuracy)\n",
    "print(\"Precision:\",precision)\n",
    "print(\"recall:\",recall)\n",
    "print(\"f1_score:\",f1_score)"
   ]
  },
  {
   "cell_type": "code",
   "execution_count": 97,
   "id": "1a7b59e4",
   "metadata": {},
   "outputs": [],
   "source": [
    "#random undersampling\n",
    "text_clf_svm = SGDClassifier(loss='hinge', penalty='l2',alpha=1e-3, random_state=42)\n",
    "\n",
    "rus = RandomUnderSampler(random_state=42)\n",
    "\n",
    "X_train_rus, y_train_rus= rus.fit_resample(xtrain_tfidf, y_train)\n",
    "text_clf_svm = text_clf_svm.fit(X_train_rus, y_train_rus)\n",
    "predictions = text_clf_svm.predict(xvalid_tfidf)"
   ]
  },
  {
   "cell_type": "code",
   "execution_count": 98,
   "id": "6b1b03a4",
   "metadata": {},
   "outputs": [
    {
     "name": "stdout",
     "output_type": "stream",
     "text": [
      "random undersampling\n",
      "Accuracy: 0.7457240592930444\n",
      "Precision: 0.5535714285714286\n",
      "recall: 0.915129151291513\n",
      "f1_score: 0.6898470097357441\n"
     ]
    }
   ],
   "source": [
    "conf_matrix = confusion_matrix(y_test, predictions)\n",
    "tn = conf_matrix[0][0]\n",
    "fn = conf_matrix[1][0]\n",
    "tp = conf_matrix[1][1]\n",
    "fp = conf_matrix[0][1]\n",
    "\n",
    "accuracy = (tp + tn)/(tp + tn + fn + fp)\n",
    "precision = tp / (tp + fp)\n",
    "recall = tp / (tp + fn)\n",
    "f1_score = 2*(precision*recall)/(precision + recall)\n",
    "\n",
    "print(\"random undersampling\")\n",
    "print(\"Accuracy:\",accuracy)\n",
    "print(\"Precision:\",precision)\n",
    "print(\"recall:\",recall)\n",
    "print(\"f1_score:\",f1_score)"
   ]
  },
  {
   "cell_type": "markdown",
   "id": "4cba9f8f",
   "metadata": {},
   "source": [
    "# logistic regression classifier"
   ]
  },
  {
   "cell_type": "code",
   "execution_count": 109,
   "id": "710574a6",
   "metadata": {},
   "outputs": [],
   "source": [
    "from sklearn.linear_model import LogisticRegression\n",
    "#random oversampling\n",
    "clf_lg = LogisticRegression()  \n",
    "\n",
    "ros = RandomOverSampler(random_state=42)\n",
    "\n",
    "X_train_ros, y_train_ros= ros.fit_resample(xtrain_tfidf, y_train)\n",
    "clf_lg = clf_lg.fit(X_train_ros, y_train_ros)\n",
    "lg_predictions = clf_lg.predict(xvalid_tfidf)"
   ]
  },
  {
   "cell_type": "code",
   "execution_count": 110,
   "id": "f347c7ba",
   "metadata": {},
   "outputs": [
    {
     "name": "stdout",
     "output_type": "stream",
     "text": [
      "random oversampling\n",
      "Accuracy: 0.750285062713797\n",
      "Precision: 0.5601851851851852\n",
      "recall: 0.8929889298892989\n",
      "f1_score: 0.6884779516358465\n"
     ]
    }
   ],
   "source": [
    "conf_matrix = confusion_matrix(y_test, lg_predictions)\n",
    "tn = conf_matrix[0][0]\n",
    "fn = conf_matrix[1][0]\n",
    "tp = conf_matrix[1][1]\n",
    "fp = conf_matrix[0][1]\n",
    "\n",
    "accuracy = (tp + tn)/(tp + tn + fn + fp)\n",
    "precision = tp / (tp + fp)\n",
    "recall = tp / (tp + fn)\n",
    "f1_score = 2*(precision*recall)/(precision + recall)\n",
    "\n",
    "print(\"random oversampling\")\n",
    "print(\"Accuracy:\",accuracy)\n",
    "print(\"Precision:\",precision)\n",
    "print(\"recall:\",recall)\n",
    "print(\"f1_score:\",f1_score)"
   ]
  },
  {
   "cell_type": "code",
   "execution_count": 111,
   "id": "c0e43d7f",
   "metadata": {},
   "outputs": [],
   "source": [
    "#random undersampling\n",
    "clf_lg = LogisticRegression()  \n",
    "\n",
    "rus = RandomUnderSampler(random_state=42)\n",
    "\n",
    "X_train_rus, y_train_rus= rus.fit_resample(xtrain_tfidf, y_train)\n",
    "clf_lg = clf_lg.fit(X_train_rus, y_train_rus)\n",
    "lg_predictions = clf_lg.predict(xvalid_tfidf)"
   ]
  },
  {
   "cell_type": "code",
   "execution_count": 112,
   "id": "22782f87",
   "metadata": {},
   "outputs": [
    {
     "name": "stdout",
     "output_type": "stream",
     "text": [
      "random undersampling\n",
      "Accuracy: 0.7525655644241733\n",
      "Precision: 0.5627906976744186\n",
      "recall: 0.8929889298892989\n",
      "f1_score: 0.6904422253922967\n"
     ]
    }
   ],
   "source": [
    "conf_matrix = confusion_matrix(y_test, lg_predictions)\n",
    "tn = conf_matrix[0][0]\n",
    "fn = conf_matrix[1][0]\n",
    "tp = conf_matrix[1][1]\n",
    "fp = conf_matrix[0][1]\n",
    "\n",
    "accuracy = (tp + tn)/(tp + tn + fn + fp)\n",
    "precision = tp / (tp + fp)\n",
    "recall = tp / (tp + fn)\n",
    "f1_score = 2*(precision*recall)/(precision + recall)\n",
    "\n",
    "print(\"random undersampling\")\n",
    "print(\"Accuracy:\",accuracy)\n",
    "print(\"Precision:\",precision)\n",
    "print(\"recall:\",recall)\n",
    "print(\"f1_score:\",f1_score)"
   ]
  },
  {
   "cell_type": "code",
   "execution_count": null,
   "id": "080aef66",
   "metadata": {},
   "outputs": [],
   "source": []
  }
 ],
 "metadata": {
  "kernelspec": {
   "display_name": "Python 3",
   "language": "python",
   "name": "python3"
  },
  "language_info": {
   "codemirror_mode": {
    "name": "ipython",
    "version": 3
   },
   "file_extension": ".py",
   "mimetype": "text/x-python",
   "name": "python",
   "nbconvert_exporter": "python",
   "pygments_lexer": "ipython3",
   "version": "3.8.8"
  },
  "vscode": {
   "interpreter": {
    "hash": "8901fe019d600225f890108c4f0b7852487890258363523329abcb6ca46999d1"
   }
  }
 },
 "nbformat": 4,
 "nbformat_minor": 5
}
