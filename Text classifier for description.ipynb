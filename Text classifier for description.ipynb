{
 "cells": [
  {
   "cell_type": "markdown",
   "id": "16d8741c",
   "metadata": {},
   "source": [
    "## Text classification"
   ]
  },
  {
   "cell_type": "code",
   "execution_count": 1,
   "id": "a3e56ed7",
   "metadata": {},
   "outputs": [],
   "source": [
    "import pandas as pd\n",
    "import numpy as np"
   ]
  },
  {
   "cell_type": "code",
   "execution_count": 7,
   "id": "ad5e5967",
   "metadata": {},
   "outputs": [],
   "source": [
    "combined_df = pd.read_csv(\"combined_profile.csv\")"
   ]
  },
  {
   "cell_type": "code",
   "execution_count": 8,
   "id": "b971a002",
   "metadata": {},
   "outputs": [
    {
     "data": {
      "text/html": [
       "<div>\n",
       "<style scoped>\n",
       "    .dataframe tbody tr th:only-of-type {\n",
       "        vertical-align: middle;\n",
       "    }\n",
       "\n",
       "    .dataframe tbody tr th {\n",
       "        vertical-align: top;\n",
       "    }\n",
       "\n",
       "    .dataframe thead th {\n",
       "        text-align: right;\n",
       "    }\n",
       "</style>\n",
       "<table border=\"1\" class=\"dataframe\">\n",
       "  <thead>\n",
       "    <tr style=\"text-align: right;\">\n",
       "      <th></th>\n",
       "      <th>username</th>\n",
       "      <th>age</th>\n",
       "      <th>l_occupation</th>\n",
       "      <th>status</th>\n",
       "      <th>gender</th>\n",
       "      <th>filtered sentence</th>\n",
       "      <th>y</th>\n",
       "    </tr>\n",
       "  </thead>\n",
       "  <tbody>\n",
       "    <tr>\n",
       "      <th>0</th>\n",
       "      <td>williamgeorge</td>\n",
       "      <td>44</td>\n",
       "      <td>doctoral student</td>\n",
       "      <td>single</td>\n",
       "      <td>male</td>\n",
       "      <td>Tired Millennial outlook I see around Is woman...</td>\n",
       "      <td>0</td>\n",
       "    </tr>\n",
       "    <tr>\n",
       "      <th>1</th>\n",
       "      <td>lion10x</td>\n",
       "      <td>59</td>\n",
       "      <td>legal services</td>\n",
       "      <td>divorced</td>\n",
       "      <td>male</td>\n",
       "      <td>I good man healthy honest high educated always...</td>\n",
       "      <td>0</td>\n",
       "    </tr>\n",
       "    <tr>\n",
       "      <th>2</th>\n",
       "      <td>Luistroy</td>\n",
       "      <td>42</td>\n",
       "      <td>construction</td>\n",
       "      <td>single</td>\n",
       "      <td>male</td>\n",
       "      <td>Im 56 weigh 140 black hair brown eyes slim loo...</td>\n",
       "      <td>0</td>\n",
       "    </tr>\n",
       "    <tr>\n",
       "      <th>3</th>\n",
       "      <td>Jonjon46</td>\n",
       "      <td>49</td>\n",
       "      <td>landscaper/cook an baker jack of all trades</td>\n",
       "      <td>single</td>\n",
       "      <td>male</td>\n",
       "      <td>Im laid back easy going guy funny love cars mu...</td>\n",
       "      <td>0</td>\n",
       "    </tr>\n",
       "    <tr>\n",
       "      <th>4</th>\n",
       "      <td>vitor78</td>\n",
       "      <td>43</td>\n",
       "      <td>businessman</td>\n",
       "      <td>divorced</td>\n",
       "      <td>male</td>\n",
       "      <td>I simple person really loves live I nature lov...</td>\n",
       "      <td>0</td>\n",
       "    </tr>\n",
       "  </tbody>\n",
       "</table>\n",
       "</div>"
      ],
      "text/plain": [
       "        username age                                 l_occupation    status  \\\n",
       "0  williamgeorge  44                             doctoral student    single   \n",
       "1        lion10x  59                               legal services  divorced   \n",
       "2       Luistroy  42                                 construction    single   \n",
       "3       Jonjon46  49  landscaper/cook an baker jack of all trades    single   \n",
       "4        vitor78  43                                  businessman  divorced   \n",
       "\n",
       "  gender                                  filtered sentence  y  \n",
       "0   male  Tired Millennial outlook I see around Is woman...  0  \n",
       "1   male  I good man healthy honest high educated always...  0  \n",
       "2   male  Im 56 weigh 140 black hair brown eyes slim loo...  0  \n",
       "3   male  Im laid back easy going guy funny love cars mu...  0  \n",
       "4   male  I simple person really loves live I nature lov...  0  "
      ]
     },
     "execution_count": 8,
     "metadata": {},
     "output_type": "execute_result"
    }
   ],
   "source": [
    "combined_df.head()"
   ]
  },
  {
   "cell_type": "code",
   "execution_count": 11,
   "id": "96d929bc",
   "metadata": {},
   "outputs": [],
   "source": [
    "# features\n",
    "X = combined_df[['filtered sentence']]\n",
    "\n",
    "# target\n",
    "y = combined_df['y']"
   ]
  },
  {
   "cell_type": "code",
   "execution_count": 12,
   "id": "1e8d2341",
   "metadata": {},
   "outputs": [],
   "source": [
    "from sklearn.model_selection import train_test_split\n",
    "X_train, X_test, y_train, y_test = train_test_split(X, y, test_size = 0.2, random_state = 424)"
   ]
  },
  {
   "cell_type": "code",
   "execution_count": null,
   "id": "a60526b0",
   "metadata": {},
   "outputs": [],
   "source": [
    "# label encode the target variable \n",
    "#encoder = preprocessing.LabelEncoder()\n",
    "#y_train = encoder.fit_transform(y_train)\n",
    "#y_test = encoder.fit_transform(y_test)"
   ]
  },
  {
   "cell_type": "markdown",
   "id": "5efb76fd",
   "metadata": {},
   "source": [
    "# Naive Bayes classifier\n",
    "- Taken from: https://towardsdatascience.com/machine-learning-nlp-text-classification-using-scikit-learn-python-and-nltk-c52b92a7c73a"
   ]
  },
  {
   "cell_type": "code",
   "execution_count": 13,
   "id": "32404f2e",
   "metadata": {},
   "outputs": [],
   "source": [
    "from sklearn import preprocessing\n",
    "from sklearn.compose import ColumnTransformer\n",
    "from sklearn.feature_extraction.text import CountVectorizer\n",
    "from sklearn.feature_extraction.text import TfidfVectorizer"
   ]
  },
  {
   "cell_type": "code",
   "execution_count": 18,
   "id": "ffbc905e",
   "metadata": {},
   "outputs": [],
   "source": [
    "from sklearn.feature_extraction.text import TfidfTransformer\n",
    "from sklearn.naive_bayes import MultinomialNB\n",
    "\n",
    "from sklearn.pipeline import Pipeline\n",
    "text_clf = Pipeline([('vect', CountVectorizer()),\n",
    "                      ('tfidf', TfidfTransformer()),\n",
    "                      ('clf', MultinomialNB()),\n",
    " ])\n",
    "text_clf = text_clf.fit(X_train, y_train)"
   ]
  },
  {
   "cell_type": "code",
   "execution_count": 19,
   "id": "0f24ad08",
   "metadata": {},
   "outputs": [],
   "source": [
    "predictions = text_clf.predict(X_test)"
   ]
  },
  {
   "cell_type": "markdown",
   "id": "ce2365ef",
   "metadata": {},
   "source": [
    "### Evaluating the NB classifier"
   ]
  },
  {
   "cell_type": "code",
   "execution_count": 22,
   "id": "ad95ac21",
   "metadata": {},
   "outputs": [
    {
     "name": "stdout",
     "output_type": "stream",
     "text": [
      "Accuracy: 0.8718428437792329\n",
      "Precision: 0.7211238293444329\n",
      "recall: 0.9914163090128756\n",
      "f1_score: 0.8349397590361446\n"
     ]
    }
   ],
   "source": [
    "from sklearn.metrics import confusion_matrix\n",
    "conf_matrix = confusion_matrix(y_test, predictions)\n",
    "tn = conf_matrix[0][0]\n",
    "fn = conf_matrix[1][0]\n",
    "tp = conf_matrix[1][1]\n",
    "fp = conf_matrix[0][1]\n",
    "\n",
    "accuracy = (tp + tn)/(tp + tn + fn + fp)\n",
    "precision = tp / (tp + fp)\n",
    "recall = tp / (tp + fn)\n",
    "f1_score = 2*(precision*recall)/(precision + recall)\n",
    "\n",
    "print(\"Accuracy:\",accuracy)\n",
    "print(\"Precision:\",precision)\n",
    "print(\"recall:\",recall)\n",
    "print(\"f1_score:\",f1_score)"
   ]
  },
  {
   "cell_type": "markdown",
   "id": "59951a7a",
   "metadata": {},
   "source": [
    "# SVM classifier"
   ]
  },
  {
   "cell_type": "code",
   "execution_count": 24,
   "id": "746f0410",
   "metadata": {},
   "outputs": [],
   "source": [
    "from sklearn.linear_model import SGDClassifier\n",
    "text_clf_svm = Pipeline([('vect', CountVectorizer()),\n",
    "                      ('tfidf', TfidfTransformer()),\n",
    "                      ('clf-svm', SGDClassifier(loss='hinge', penalty='l2',\n",
    "                                            alpha=1e-3, random_state=42)),\n",
    "])\n",
    "\n",
    "text_clf_svm = text_clf_svm.fit(X_train, y_train)"
   ]
  },
  {
   "cell_type": "code",
   "execution_count": 25,
   "id": "fcfa67ee",
   "metadata": {},
   "outputs": [],
   "source": [
    "predictions = text_clf_svm.predict(X_test)"
   ]
  },
  {
   "cell_type": "markdown",
   "id": "d153e9bf",
   "metadata": {},
   "source": [
    "### Evaluating the SVM classifier"
   ]
  },
  {
   "cell_type": "code",
   "execution_count": 26,
   "id": "195cc705",
   "metadata": {},
   "outputs": [
    {
     "name": "stdout",
     "output_type": "stream",
     "text": [
      "Accuracy: 0.8699719363891487\n",
      "Precision: 0.7158974358974359\n",
      "recall: 0.9985693848354793\n",
      "f1_score: 0.8339307048984469\n"
     ]
    }
   ],
   "source": [
    "conf_matrix = confusion_matrix(y_test, predictions)\n",
    "tn = conf_matrix[0][0]\n",
    "fn = conf_matrix[1][0]\n",
    "tp = conf_matrix[1][1]\n",
    "fp = conf_matrix[0][1]\n",
    "\n",
    "accuracy = (tp + tn)/(tp + tn + fn + fp)\n",
    "precision = tp / (tp + fp)\n",
    "recall = tp / (tp + fn)\n",
    "f1_score = 2*(precision*recall)/(precision + recall)\n",
    "\n",
    "print(\"Accuracy:\",accuracy)\n",
    "print(\"Precision:\",precision)\n",
    "print(\"recall:\",recall)\n",
    "print(\"f1_score:\",f1_score)"
   ]
  },
  {
   "cell_type": "markdown",
   "id": "7d627b2f",
   "metadata": {},
   "source": [
    "# Logistic regression"
   ]
  },
  {
   "cell_type": "code",
   "execution_count": 29,
   "id": "3bc913a7",
   "metadata": {},
   "outputs": [],
   "source": [
    "from sklearn.linear_model import LogisticRegression\n",
    "# Train model\n",
    "clf_lg = LogisticRegression()  \n",
    "clf_lg = Pipeline([('vect', CountVectorizer()),\n",
    "                      ('tfidf', TfidfTransformer()),\n",
    "                      ('clf',LogisticRegression()),\n",
    "])\n",
    "clf_lg = clf_lg.fit(X_train, y_train) "
   ]
  },
  {
   "cell_type": "code",
   "execution_count": 30,
   "id": "5ad1d7f4",
   "metadata": {},
   "outputs": [],
   "source": [
    "lg_predictions = clf_lg.predict(X_test)"
   ]
  },
  {
   "cell_type": "markdown",
   "id": "43353cb1",
   "metadata": {},
   "source": [
    "### Evaluating logistic regression classifier"
   ]
  },
  {
   "cell_type": "code",
   "execution_count": 31,
   "id": "566c559a",
   "metadata": {},
   "outputs": [
    {
     "name": "stdout",
     "output_type": "stream",
     "text": [
      "Accuracy: 0.9106641721234799\n",
      "Precision: 0.7995283018867925\n",
      "recall: 0.9699570815450643\n",
      "f1_score: 0.8765352294764058\n"
     ]
    }
   ],
   "source": [
    "conf_matrix = confusion_matrix(y_test, lg_predictions)\n",
    "tn = conf_matrix[0][0]\n",
    "fn = conf_matrix[1][0]\n",
    "tp = conf_matrix[1][1]\n",
    "fp = conf_matrix[0][1]\n",
    "\n",
    "accuracy = (tp + tn)/(tp + tn + fn + fp)\n",
    "precision = tp / (tp + fp)\n",
    "recall = tp / (tp + fn)\n",
    "f1_score = 2*(precision*recall)/(precision + recall)\n",
    "\n",
    "print(\"Accuracy:\",accuracy)\n",
    "print(\"Precision:\",precision)\n",
    "print(\"recall:\",recall)\n",
    "print(\"f1_score:\",f1_score)"
   ]
  },
  {
   "cell_type": "code",
   "execution_count": null,
   "id": "1dc4da27",
   "metadata": {},
   "outputs": [],
   "source": []
  }
 ],
 "metadata": {
  "kernelspec": {
   "display_name": "Python 3",
   "language": "python",
   "name": "python3"
  },
  "language_info": {
   "codemirror_mode": {
    "name": "ipython",
    "version": 3
   },
   "file_extension": ".py",
   "mimetype": "text/x-python",
   "name": "python",
   "nbconvert_exporter": "python",
   "pygments_lexer": "ipython3",
   "version": "3.8.8"
  }
 },
 "nbformat": 4,
 "nbformat_minor": 5
}
