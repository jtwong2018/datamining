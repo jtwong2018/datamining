{
 "cells": [
  {
   "cell_type": "code",
   "execution_count": 18,
   "id": "502fc981",
   "metadata": {},
   "outputs": [],
   "source": [
    "from bs4 import BeautifulSoup\n",
    "import requests\n",
    "import shutil\n",
    "import pandas as pd"
   ]
  },
  {
   "cell_type": "code",
   "execution_count": 42,
   "id": "888bfba3",
   "metadata": {},
   "outputs": [
    {
     "data": {
      "text/plain": [
       "[['https://datingnmore.com/site/user/MzLadyX']]"
      ]
     },
     "execution_count": 42,
     "metadata": {},
     "output_type": "execute_result"
    }
   ],
   "source": [
    "import csv\n",
    "\n",
    "with open('urls.csv', newline='') as f:\n",
    "    reader = csv.reader(f)\n",
    "    urls = list(reader)\n",
    "\n",
    "\n",
    "urls = urls[815:816]\n",
    "\n",
    "urls\n",
    "# for url in urls: \n",
    "#     print(url[0])\n"
   ]
  },
  {
   "cell_type": "code",
   "execution_count": 43,
   "id": "35150531",
   "metadata": {},
   "outputs": [],
   "source": [
    "for url in urls: \n",
    "    html_page = requests.get(url[0])\n",
    "    soup = BeautifulSoup(html_page.content, 'html.parser')\n",
    "    warning = soup.find(id='avatar_console_image')\n",
    "    try:\n",
    "        img_url = warning.attrs['style'].split('background-image:')[-1][5:-2]\n",
    "        username = url[0].split(\"user/\",1)[1]\n",
    "        r = requests.get(img_url, stream=True) #Get request on full_url\n",
    "        if r.status_code == 200:                     #200 status code = OK\n",
    "            outfile = username+'.jpg'\n",
    "            try:\n",
    "                with open(outfile, 'wb') as f: \n",
    "                    r.raw.decode_content = True\n",
    "                    shutil.copyfileobj(r.raw, f)\n",
    "            except Exception as e:\n",
    "                print(\"Exception when handling {}\".format(url))\n",
    "                print(e)\n",
    "    except Exception as e:\n",
    "        print (\"Exception when handling {}\".format(url))\n",
    "        print (e)"
   ]
  },
  {
   "cell_type": "code",
   "execution_count": 8,
   "id": "d4e87f7f",
   "metadata": {},
   "outputs": [],
   "source": []
  },
  {
   "cell_type": "code",
   "execution_count": 90,
   "id": "17467745",
   "metadata": {},
   "outputs": [],
   "source": []
  },
  {
   "cell_type": "code",
   "execution_count": null,
   "id": "f5fb63b3",
   "metadata": {},
   "outputs": [],
   "source": []
  },
  {
   "cell_type": "code",
   "execution_count": null,
   "id": "2a327695",
   "metadata": {},
   "outputs": [],
   "source": []
  },
  {
   "cell_type": "code",
   "execution_count": null,
   "id": "580d1a49",
   "metadata": {},
   "outputs": [],
   "source": []
  },
  {
   "cell_type": "code",
   "execution_count": null,
   "id": "676d5b08",
   "metadata": {},
   "outputs": [],
   "source": [
    " \n",
    "    "
   ]
  }
 ],
 "metadata": {
  "kernelspec": {
   "display_name": "Python 3 (ipykernel)",
   "language": "python",
   "name": "python3"
  },
  "language_info": {
   "codemirror_mode": {
    "name": "ipython",
    "version": 3
   },
   "file_extension": ".py",
   "mimetype": "text/x-python",
   "name": "python",
   "nbconvert_exporter": "python",
   "pygments_lexer": "ipython3",
   "version": "3.9.7"
  }
 },
 "nbformat": 4,
 "nbformat_minor": 5
}
