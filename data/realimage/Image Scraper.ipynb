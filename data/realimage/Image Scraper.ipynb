{
 "cells": [
  {
   "cell_type": "code",
   "execution_count": 1,
   "id": "502fc981",
   "metadata": {},
   "outputs": [],
   "source": [
    "from bs4 import BeautifulSoup\n",
    "import requests\n",
    "import shutil"
   ]
  },
  {
   "cell_type": "code",
   "execution_count": 2,
   "id": "888bfba3",
   "metadata": {
    "scrolled": false
   },
   "outputs": [],
   "source": [
    "import csv\n",
    "\n",
    "with open('urls.csv', newline='') as f:\n",
    "    reader = csv.reader(f)\n",
    "    urls = list(reader)\n",
    "    \n",
    "\n",
    "urls.remove(['0'])\n",
    "# print((urls))\n",
    "\n",
    "# for url in urls: \n",
    "#     print(url[0])"
   ]
  },
  {
   "cell_type": "code",
   "execution_count": 3,
   "id": "35150531",
   "metadata": {},
   "outputs": [
    {
     "name": "stdout",
     "output_type": "stream",
     "text": [
      "Exception when handling ['https://datingnmore.com/site/user/Balsa']\n",
      "'NoneType' object has no attribute 'attrs'\n",
      "Exception when handling ['https://datingnmore.com/site/user/Balsa']\n",
      "'NoneType' object has no attribute 'attrs'\n",
      "Exception when handling ['https://datingnmore.com/site/user/Adriday']\n",
      "'NoneType' object has no attribute 'attrs'\n",
      "Exception when handling ['https://datingnmore.com/site/user/Adriday']\n",
      "'NoneType' object has no attribute 'attrs'\n",
      "Exception when handling ['https://datingnmore.com/site/user/Maria09']\n",
      "'NoneType' object has no attribute 'attrs'\n",
      "Exception when handling ['https://datingnmore.com/site/user/Maria09']\n",
      "'NoneType' object has no attribute 'attrs'\n",
      "Exception when handling ['https://datingnmore.com/site/user/G_by_design']\n",
      "'NoneType' object has no attribute 'attrs'\n",
      "Exception when handling ['https://datingnmore.com/site/user/G_by_design']\n",
      "'NoneType' object has no attribute 'attrs'\n",
      "Exception when handling ['https://datingnmore.com/site/user/Xice88']\n",
      "'NoneType' object has no attribute 'attrs'\n",
      "Exception when handling ['https://datingnmore.com/site/user/Xice88']\n",
      "'NoneType' object has no attribute 'attrs'\n",
      "Exception when handling ['https://datingnmore.com/site/user/Vicki']\n",
      "'NoneType' object has no attribute 'attrs'\n",
      "Exception when handling ['https://datingnmore.com/site/user/Vicki']\n",
      "'NoneType' object has no attribute 'attrs'\n",
      "Exception when handling ['https://datingnmore.com/site/user/Yume']\n",
      "'NoneType' object has no attribute 'attrs'\n",
      "Exception when handling ['https://datingnmore.com/site/user/Yume']\n",
      "'NoneType' object has no attribute 'attrs'\n",
      "complete.\n",
      "complete.\n"
     ]
    }
   ],
   "source": [
    "for url in urls: \n",
    "    html_page = requests.get(url[0])\n",
    "    soup = BeautifulSoup(html_page.content, 'html.parser')\n",
    "    warning = soup.find(id='avatar_console_image')\n",
    "    try:\n",
    "        img_url = warning.attrs['style'].split('background-image:')[-1][5:-2]\n",
    "        username = url[0].split(\"user/\",1)[1]\n",
    "        r = requests.get(img_url, stream=True) #Get request on full_url\n",
    "        if r.status_code == 200:                     #200 status code = OK\n",
    "            outfile = username+'.jpg'\n",
    "            try:\n",
    "                with open(outfile, 'wb') as f: \n",
    "                    r.raw.decode_content = True\n",
    "                    shutil.copyfileobj(r.raw, f)\n",
    "            except Exception as e:\n",
    "                print(\"Exception when handling {}\".format(url))\n",
    "                print(e)\n",
    "    except Exception as e:\n",
    "        print (\"Exception when handling {}\".format(url))\n",
    "        print (e)\n",
    "        \n",
    "print('complete.')"
   ]
  }
 ],
 "metadata": {
  "kernelspec": {
   "display_name": "Python 3 (ipykernel)",
   "language": "python",
   "name": "python3"
  },
  "language_info": {
   "codemirror_mode": {
    "name": "ipython",
    "version": 3
   },
   "file_extension": ".py",
   "mimetype": "text/x-python",
   "name": "python",
   "nbconvert_exporter": "python",
   "pygments_lexer": "ipython3",
   "version": "3.9.12"
  }
 },
 "nbformat": 4,
 "nbformat_minor": 5
}
