{
 "cells": [
  {
   "cell_type": "code",
   "execution_count": 1,
   "id": "73b5bf59",
   "metadata": {},
   "outputs": [],
   "source": [
    "import pandas as pd\n",
    "import numpy as np"
   ]
  },
  {
   "cell_type": "code",
   "execution_count": 44,
   "id": "676f606c",
   "metadata": {},
   "outputs": [],
   "source": [
    "combined_df = pd.read_csv('combined_profile.csv')"
   ]
  },
  {
   "cell_type": "code",
   "execution_count": 45,
   "id": "1fbd5da8",
   "metadata": {},
   "outputs": [
    {
     "data": {
      "text/html": [
       "<div>\n",
       "<style scoped>\n",
       "    .dataframe tbody tr th:only-of-type {\n",
       "        vertical-align: middle;\n",
       "    }\n",
       "\n",
       "    .dataframe tbody tr th {\n",
       "        vertical-align: top;\n",
       "    }\n",
       "\n",
       "    .dataframe thead th {\n",
       "        text-align: right;\n",
       "    }\n",
       "</style>\n",
       "<table border=\"1\" class=\"dataframe\">\n",
       "  <thead>\n",
       "    <tr style=\"text-align: right;\">\n",
       "      <th></th>\n",
       "      <th>username</th>\n",
       "      <th>age</th>\n",
       "      <th>occupation</th>\n",
       "      <th>status</th>\n",
       "      <th>gender</th>\n",
       "      <th>filtered sentence</th>\n",
       "      <th>y</th>\n",
       "    </tr>\n",
       "  </thead>\n",
       "  <tbody>\n",
       "    <tr>\n",
       "      <th>0</th>\n",
       "      <td>williamgeorge</td>\n",
       "      <td>44</td>\n",
       "      <td>Doctoral student</td>\n",
       "      <td>single</td>\n",
       "      <td>male</td>\n",
       "      <td>Tired Millennial outlook I see around Is woman...</td>\n",
       "      <td>0</td>\n",
       "    </tr>\n",
       "    <tr>\n",
       "      <th>1</th>\n",
       "      <td>lion10x</td>\n",
       "      <td>59</td>\n",
       "      <td>legal services</td>\n",
       "      <td>divorced</td>\n",
       "      <td>male</td>\n",
       "      <td>I good man healthy honest high educated always...</td>\n",
       "      <td>0</td>\n",
       "    </tr>\n",
       "    <tr>\n",
       "      <th>2</th>\n",
       "      <td>valeriaaoficial</td>\n",
       "      <td>22</td>\n",
       "      <td>asistente de produccion</td>\n",
       "      <td>single</td>\n",
       "      <td>female</td>\n",
       "      <td>Hello Valeria looking someone form stable last...</td>\n",
       "      <td>0</td>\n",
       "    </tr>\n",
       "    <tr>\n",
       "      <th>3</th>\n",
       "      <td>Luistroy</td>\n",
       "      <td>42</td>\n",
       "      <td>Construction</td>\n",
       "      <td>single</td>\n",
       "      <td>male</td>\n",
       "      <td>Im 56 weigh 140 black hair brown eyes slim loo...</td>\n",
       "      <td>0</td>\n",
       "    </tr>\n",
       "    <tr>\n",
       "      <th>4</th>\n",
       "      <td>Jonjon46</td>\n",
       "      <td>49</td>\n",
       "      <td>Landscaper/cook an baker jack of all trades</td>\n",
       "      <td>single</td>\n",
       "      <td>male</td>\n",
       "      <td>Im laid back easy going guy funny love cars mu...</td>\n",
       "      <td>0</td>\n",
       "    </tr>\n",
       "  </tbody>\n",
       "</table>\n",
       "</div>"
      ],
      "text/plain": [
       "          username age                                   occupation    status  \\\n",
       "0    williamgeorge  44                             Doctoral student    single   \n",
       "1          lion10x  59                               legal services  divorced   \n",
       "2  valeriaaoficial  22                      asistente de produccion    single   \n",
       "3         Luistroy  42                                 Construction    single   \n",
       "4         Jonjon46  49  Landscaper/cook an baker jack of all trades    single   \n",
       "\n",
       "   gender                                  filtered sentence  y  \n",
       "0    male  Tired Millennial outlook I see around Is woman...  0  \n",
       "1    male  I good man healthy honest high educated always...  0  \n",
       "2  female  Hello Valeria looking someone form stable last...  0  \n",
       "3    male  Im 56 weigh 140 black hair brown eyes slim loo...  0  \n",
       "4    male  Im laid back easy going guy funny love cars mu...  0  "
      ]
     },
     "execution_count": 45,
     "metadata": {},
     "output_type": "execute_result"
    }
   ],
   "source": [
    "combined_df.head()"
   ]
  },
  {
   "cell_type": "code",
   "execution_count": 46,
   "id": "ecc02c81",
   "metadata": {},
   "outputs": [],
   "source": [
    "from sklearn import preprocessing\n",
    "from sklearn.compose import ColumnTransformer\n",
    "from sklearn.feature_extraction.text import CountVectorizer\n",
    "from sklearn.feature_extraction.text import TfidfVectorizer\n",
    "from sklearn.preprocessing import OneHotEncoder"
   ]
  },
  {
   "cell_type": "code",
   "execution_count": 47,
   "id": "2207330c",
   "metadata": {},
   "outputs": [
    {
     "name": "stdout",
     "output_type": "stream",
     "text": [
      "<class 'pandas.core.frame.DataFrame'>\n",
      "RangeIndex: 12859 entries, 0 to 12858\n",
      "Data columns (total 7 columns):\n",
      " #   Column             Non-Null Count  Dtype \n",
      "---  ------             --------------  ----- \n",
      " 0   username           12859 non-null  object\n",
      " 1   age                12858 non-null  object\n",
      " 2   occupation         12855 non-null  object\n",
      " 3   status             12787 non-null  object\n",
      " 4   gender             12859 non-null  object\n",
      " 5   filtered sentence  12859 non-null  object\n",
      " 6   y                  12859 non-null  int64 \n",
      "dtypes: int64(1), object(6)\n",
      "memory usage: 703.4+ KB\n"
     ]
    }
   ],
   "source": [
    "combined_df.info()"
   ]
  },
  {
   "cell_type": "code",
   "execution_count": 48,
   "id": "c2df11e9",
   "metadata": {},
   "outputs": [
    {
     "data": {
      "text/html": [
       "<div>\n",
       "<style scoped>\n",
       "    .dataframe tbody tr th:only-of-type {\n",
       "        vertical-align: middle;\n",
       "    }\n",
       "\n",
       "    .dataframe tbody tr th {\n",
       "        vertical-align: top;\n",
       "    }\n",
       "\n",
       "    .dataframe thead th {\n",
       "        text-align: right;\n",
       "    }\n",
       "</style>\n",
       "<table border=\"1\" class=\"dataframe\">\n",
       "  <thead>\n",
       "    <tr style=\"text-align: right;\">\n",
       "      <th></th>\n",
       "      <th>username</th>\n",
       "      <th>age</th>\n",
       "      <th>occupation</th>\n",
       "      <th>status</th>\n",
       "      <th>gender</th>\n",
       "      <th>filtered sentence</th>\n",
       "      <th>y</th>\n",
       "    </tr>\n",
       "  </thead>\n",
       "  <tbody>\n",
       "    <tr>\n",
       "      <th>0</th>\n",
       "      <td>williamgeorge</td>\n",
       "      <td>44</td>\n",
       "      <td>Doctoral student</td>\n",
       "      <td>18</td>\n",
       "      <td>1</td>\n",
       "      <td>Tired Millennial outlook I see around Is woman...</td>\n",
       "      <td>0</td>\n",
       "    </tr>\n",
       "    <tr>\n",
       "      <th>1</th>\n",
       "      <td>lion10x</td>\n",
       "      <td>59</td>\n",
       "      <td>legal services</td>\n",
       "      <td>14</td>\n",
       "      <td>1</td>\n",
       "      <td>I good man healthy honest high educated always...</td>\n",
       "      <td>0</td>\n",
       "    </tr>\n",
       "    <tr>\n",
       "      <th>2</th>\n",
       "      <td>valeriaaoficial</td>\n",
       "      <td>22</td>\n",
       "      <td>asistente de produccion</td>\n",
       "      <td>18</td>\n",
       "      <td>0</td>\n",
       "      <td>Hello Valeria looking someone form stable last...</td>\n",
       "      <td>0</td>\n",
       "    </tr>\n",
       "    <tr>\n",
       "      <th>3</th>\n",
       "      <td>Luistroy</td>\n",
       "      <td>42</td>\n",
       "      <td>Construction</td>\n",
       "      <td>18</td>\n",
       "      <td>1</td>\n",
       "      <td>Im 56 weigh 140 black hair brown eyes slim loo...</td>\n",
       "      <td>0</td>\n",
       "    </tr>\n",
       "    <tr>\n",
       "      <th>4</th>\n",
       "      <td>Jonjon46</td>\n",
       "      <td>49</td>\n",
       "      <td>Landscaper/cook an baker jack of all trades</td>\n",
       "      <td>18</td>\n",
       "      <td>1</td>\n",
       "      <td>Im laid back easy going guy funny love cars mu...</td>\n",
       "      <td>0</td>\n",
       "    </tr>\n",
       "  </tbody>\n",
       "</table>\n",
       "</div>"
      ],
      "text/plain": [
       "          username age                                   occupation  status  \\\n",
       "0    williamgeorge  44                             Doctoral student      18   \n",
       "1          lion10x  59                               legal services      14   \n",
       "2  valeriaaoficial  22                      asistente de produccion      18   \n",
       "3         Luistroy  42                                 Construction      18   \n",
       "4         Jonjon46  49  Landscaper/cook an baker jack of all trades      18   \n",
       "\n",
       "   gender                                  filtered sentence  y  \n",
       "0       1  Tired Millennial outlook I see around Is woman...  0  \n",
       "1       1  I good man healthy honest high educated always...  0  \n",
       "2       0  Hello Valeria looking someone form stable last...  0  \n",
       "3       1  Im 56 weigh 140 black hair brown eyes slim loo...  0  \n",
       "4       1  Im laid back easy going guy funny love cars mu...  0  "
      ]
     },
     "execution_count": 48,
     "metadata": {},
     "output_type": "execute_result"
    }
   ],
   "source": [
    "le = preprocessing.LabelEncoder()\n",
    "combined_df[\"gender\"] = le.fit_transform(combined_df[\"gender\"])\n",
    "combined_df[\"status\"] = le.fit_transform(combined_df[\"status\"])\n",
    "combined_df.head()"
   ]
  },
  {
   "cell_type": "code",
   "execution_count": 51,
   "id": "ab526d14",
   "metadata": {},
   "outputs": [],
   "source": [
    "# features\n",
    "X = combined_df[['age','occupation','gender','filtered sentence']]\n",
    "\n",
    "# target\n",
    "y = combined_df['y']"
   ]
  },
  {
   "cell_type": "code",
   "execution_count": 52,
   "id": "adb19f21",
   "metadata": {},
   "outputs": [],
   "source": [
    "from sklearn.model_selection import train_test_split"
   ]
  },
  {
   "cell_type": "code",
   "execution_count": 53,
   "id": "27af6da7",
   "metadata": {},
   "outputs": [],
   "source": [
    "X_train, X_test, y_train, y_test = train_test_split(X, y, test_size = 0.2, random_state = 424)"
   ]
  },
  {
   "cell_type": "code",
   "execution_count": null,
   "id": "842285b9",
   "metadata": {},
   "outputs": [],
   "source": []
  },
  {
   "cell_type": "code",
   "execution_count": null,
   "id": "fd9d3a57",
   "metadata": {},
   "outputs": [],
   "source": [
    "\n",
    "##im not sure how to apply the tf idf to the filtered sentence column\n",
    "Tfidf_vect = TfidfVectorizer(max_features=5000)\n",
    "Tfidf_vect.fit(Corpus['text_final'])\n",
    "Train_X_Tfidf = Tfidf_vect.transform(Train_X)\n",
    "Test_X_Tfidf = Tfidf_vect.transform(Test_X)"
   ]
  },
  {
   "cell_type": "code",
   "execution_count": null,
   "id": "5e60deae",
   "metadata": {},
   "outputs": [],
   "source": []
  }
 ],
 "metadata": {
  "kernelspec": {
   "display_name": "Python 3",
   "language": "python",
   "name": "python3"
  },
  "language_info": {
   "codemirror_mode": {
    "name": "ipython",
    "version": 3
   },
   "file_extension": ".py",
   "mimetype": "text/x-python",
   "name": "python",
   "nbconvert_exporter": "python",
   "pygments_lexer": "ipython3",
   "version": "3.8.8"
  }
 },
 "nbformat": 4,
 "nbformat_minor": 5
}
