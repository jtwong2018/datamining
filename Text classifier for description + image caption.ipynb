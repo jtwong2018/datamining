{
 "cells": [
  {
   "cell_type": "markdown",
   "id": "16d8741c",
   "metadata": {},
   "source": [
    "## Text classification"
   ]
  },
  {
   "cell_type": "code",
   "execution_count": 1,
   "id": "a3e56ed7",
   "metadata": {},
   "outputs": [],
   "source": [
    "import pandas as pd\n",
    "import numpy as np"
   ]
  },
  {
   "cell_type": "code",
   "execution_count": 2,
   "id": "491f0804",
   "metadata": {},
   "outputs": [],
   "source": [
    "#pip install -U imbalanced-learn"
   ]
  },
  {
   "cell_type": "code",
   "execution_count": 2,
   "id": "bb1c03b2",
   "metadata": {},
   "outputs": [],
   "source": [
    "# Oversampling and under sampling\n",
    "from imblearn.over_sampling import RandomOverSampler, SMOTE\n",
    "from imblearn.under_sampling import RandomUnderSampler, NearMiss\n",
    "from collections import Counter"
   ]
  },
  {
   "cell_type": "code",
   "execution_count": 3,
   "id": "ad5e5967",
   "metadata": {},
   "outputs": [],
   "source": [
    "real_df = pd.read_csv(\"real_profile.csv\")"
   ]
  },
  {
   "cell_type": "code",
   "execution_count": 4,
   "id": "939e0a8e",
   "metadata": {},
   "outputs": [],
   "source": [
    "scam_df = pd.read_csv(\"scam_profile.csv\")"
   ]
  },
  {
   "cell_type": "code",
   "execution_count": 5,
   "id": "ddfc5789",
   "metadata": {},
   "outputs": [],
   "source": [
    "combined_df = pd.concat([real_df,scam_df], ignore_index = True)"
   ]
  },
  {
   "cell_type": "code",
   "execution_count": 6,
   "id": "b971a002",
   "metadata": {},
   "outputs": [],
   "source": [
    "pd.set_option(\"max_colwidth\", None)"
   ]
  },
  {
   "cell_type": "code",
   "execution_count": 7,
   "id": "38f9e87a",
   "metadata": {},
   "outputs": [
    {
     "data": {
      "text/html": [
       "<div>\n",
       "<style scoped>\n",
       "    .dataframe tbody tr th:only-of-type {\n",
       "        vertical-align: middle;\n",
       "    }\n",
       "\n",
       "    .dataframe tbody tr th {\n",
       "        vertical-align: top;\n",
       "    }\n",
       "\n",
       "    .dataframe thead th {\n",
       "        text-align: right;\n",
       "    }\n",
       "</style>\n",
       "<table border=\"1\" class=\"dataframe\">\n",
       "  <thead>\n",
       "    <tr style=\"text-align: right;\">\n",
       "      <th></th>\n",
       "      <th>username</th>\n",
       "      <th>age</th>\n",
       "      <th>occupation</th>\n",
       "      <th>status</th>\n",
       "      <th>gender</th>\n",
       "      <th>filtered sentence</th>\n",
       "      <th>Language</th>\n",
       "      <th>y</th>\n",
       "      <th>translated_occupation</th>\n",
       "    </tr>\n",
       "  </thead>\n",
       "  <tbody>\n",
       "    <tr>\n",
       "      <th>0</th>\n",
       "      <td>123canwe</td>\n",
       "      <td>66.0</td>\n",
       "      <td>Retired</td>\n",
       "      <td>single</td>\n",
       "      <td>male</td>\n",
       "      <td>I full fire friskier hell</td>\n",
       "      <td>tr</td>\n",
       "      <td>0</td>\n",
       "      <td>Retired</td>\n",
       "    </tr>\n",
       "    <tr>\n",
       "      <th>1</th>\n",
       "      <td>123WILFREDO</td>\n",
       "      <td>28.0</td>\n",
       "      <td>ESTUDIANTE</td>\n",
       "      <td>single</td>\n",
       "      <td>male</td>\n",
       "      <td>ME GUSTA CONOCER CHICAS BONDADOSAS CARIÑOSAS Y MUY FUERTES EN LA MORAL</td>\n",
       "      <td>es</td>\n",
       "      <td>0</td>\n",
       "      <td>STUDENT</td>\n",
       "    </tr>\n",
       "    <tr>\n",
       "      <th>2</th>\n",
       "      <td>1907</td>\n",
       "      <td>48.0</td>\n",
       "      <td>Construction</td>\n",
       "      <td>single</td>\n",
       "      <td>male</td>\n",
       "      <td>laid back earth good sense humor</td>\n",
       "      <td>en</td>\n",
       "      <td>0</td>\n",
       "      <td>Construction</td>\n",
       "    </tr>\n",
       "    <tr>\n",
       "      <th>3</th>\n",
       "      <td>52Jim52</td>\n",
       "      <td>70.0</td>\n",
       "      <td>Retired</td>\n",
       "      <td>divorced</td>\n",
       "      <td>male</td>\n",
       "      <td>Retired owner aerospace consuloting firm</td>\n",
       "      <td>da</td>\n",
       "      <td>0</td>\n",
       "      <td>Retired</td>\n",
       "    </tr>\n",
       "    <tr>\n",
       "      <th>4</th>\n",
       "      <td>Aaron90</td>\n",
       "      <td>28.0</td>\n",
       "      <td>Social worker</td>\n",
       "      <td>single</td>\n",
       "      <td>male</td>\n",
       "      <td>Hello aaron Vermont I vermont 2 years Im really fun person I like camping bone fire etc</td>\n",
       "      <td>en</td>\n",
       "      <td>0</td>\n",
       "      <td>Social worker</td>\n",
       "    </tr>\n",
       "    <tr>\n",
       "      <th>5</th>\n",
       "      <td>abdelghani</td>\n",
       "      <td>71.0</td>\n",
       "      <td>retired</td>\n",
       "      <td>divorced</td>\n",
       "      <td>male</td>\n",
       "      <td>problem free flexibleseek love happiness</td>\n",
       "      <td>da</td>\n",
       "      <td>0</td>\n",
       "      <td>retired</td>\n",
       "    </tr>\n",
       "    <tr>\n",
       "      <th>6</th>\n",
       "      <td>Abdul99</td>\n",
       "      <td>54.0</td>\n",
       "      <td>Executive</td>\n",
       "      <td>separated</td>\n",
       "      <td>male</td>\n",
       "      <td>Easy going Highly educated Life beautiful Travels</td>\n",
       "      <td>ro</td>\n",
       "      <td>0</td>\n",
       "      <td>Executive</td>\n",
       "    </tr>\n",
       "    <tr>\n",
       "      <th>7</th>\n",
       "      <td>abdulrahmanwaly</td>\n",
       "      <td>33.0</td>\n",
       "      <td>journalist</td>\n",
       "      <td>single</td>\n",
       "      <td>male</td>\n",
       "      <td>name Abdulrahman person ethics religion work field journalism live Cairo</td>\n",
       "      <td>fr</td>\n",
       "      <td>0</td>\n",
       "      <td>journalist</td>\n",
       "    </tr>\n",
       "    <tr>\n",
       "      <th>8</th>\n",
       "      <td>Abou</td>\n",
       "      <td>33.0</td>\n",
       "      <td>Designer</td>\n",
       "      <td>single</td>\n",
       "      <td>male</td>\n",
       "      <td>I serious honest trustworthy like share love fan culture new different person</td>\n",
       "      <td>da</td>\n",
       "      <td>0</td>\n",
       "      <td>Designer</td>\n",
       "    </tr>\n",
       "    <tr>\n",
       "      <th>9</th>\n",
       "      <td>Accydave</td>\n",
       "      <td>73.0</td>\n",
       "      <td>Retired</td>\n",
       "      <td>divorced</td>\n",
       "      <td>male</td>\n",
       "      <td>My name David Im 71 years old divorced retired 3 grownup children son 2 daughters</td>\n",
       "      <td>tr</td>\n",
       "      <td>0</td>\n",
       "      <td>Retired</td>\n",
       "    </tr>\n",
       "  </tbody>\n",
       "</table>\n",
       "</div>"
      ],
      "text/plain": [
       "          username   age     occupation     status gender  \\\n",
       "0         123canwe  66.0        Retired     single   male   \n",
       "1      123WILFREDO  28.0     ESTUDIANTE     single   male   \n",
       "2             1907  48.0   Construction     single   male   \n",
       "3          52Jim52  70.0        Retired   divorced   male   \n",
       "4          Aaron90  28.0  Social worker     single   male   \n",
       "5       abdelghani  71.0        retired   divorced   male   \n",
       "6          Abdul99  54.0      Executive  separated   male   \n",
       "7  abdulrahmanwaly  33.0     journalist     single   male   \n",
       "8             Abou  33.0       Designer     single   male   \n",
       "9         Accydave  73.0        Retired   divorced   male   \n",
       "\n",
       "                                                                         filtered sentence  \\\n",
       "0                                                                I full fire friskier hell   \n",
       "1                   ME GUSTA CONOCER CHICAS BONDADOSAS CARIÑOSAS Y MUY FUERTES EN LA MORAL   \n",
       "2                                                         laid back earth good sense humor   \n",
       "3                                                 Retired owner aerospace consuloting firm   \n",
       "4  Hello aaron Vermont I vermont 2 years Im really fun person I like camping bone fire etc   \n",
       "5                                                 problem free flexibleseek love happiness   \n",
       "6                                        Easy going Highly educated Life beautiful Travels   \n",
       "7                 name Abdulrahman person ethics religion work field journalism live Cairo   \n",
       "8            I serious honest trustworthy like share love fan culture new different person   \n",
       "9        My name David Im 71 years old divorced retired 3 grownup children son 2 daughters   \n",
       "\n",
       "  Language  y translated_occupation  \n",
       "0       tr  0               Retired  \n",
       "1       es  0               STUDENT  \n",
       "2       en  0          Construction  \n",
       "3       da  0               Retired  \n",
       "4       en  0         Social worker  \n",
       "5       da  0               retired  \n",
       "6       ro  0             Executive  \n",
       "7       fr  0            journalist  \n",
       "8       da  0              Designer  \n",
       "9       tr  0               Retired  "
      ]
     },
     "execution_count": 7,
     "metadata": {},
     "output_type": "execute_result"
    }
   ],
   "source": [
    "combined_df.head(10)\n"
   ]
  },
  {
   "cell_type": "code",
   "execution_count": 7,
   "id": "b60a44ac",
   "metadata": {},
   "outputs": [],
   "source": [
    "# features\n",
    "X = combined_df['filtered sentence']\n",
    "\n",
    "# target\n",
    "y = combined_df['y']"
   ]
  },
  {
   "cell_type": "code",
   "execution_count": 8,
   "id": "1e8d2341",
   "metadata": {},
   "outputs": [],
   "source": [
    "from sklearn.model_selection import train_test_split\n",
    "X_train, X_test, y_train, y_test = train_test_split(X, y, test_size = 0.2, random_state = 424)"
   ]
  },
  {
   "cell_type": "markdown",
   "id": "5b938442",
   "metadata": {},
   "source": [
    "## Random undersampling and oversampling - only description column"
   ]
  },
  {
   "cell_type": "code",
   "execution_count": null,
   "id": "cae98184",
   "metadata": {},
   "outputs": [],
   "source": [
    "ros = RandomOverSampler(random_state=42)\n",
    "X_train_ros, y_train_ros= ros.fit_resample(xtrain_tfidf, y_train)\n",
    "rus = RandomUnderSampler(random_state=42)\n",
    "X_train_rus, y_train_rus= rus.fit_resample(xtrain_tfidf, y_train)"
   ]
  },
  {
   "cell_type": "markdown",
   "id": "5efb76fd",
   "metadata": {},
   "source": [
    "# Naive Bayes classifier\n",
    "- Taken from: https://towardsdatascience.com/machine-learning-nlp-text-classification-using-scikit-learn-python-and-nltk-c52b92a7c73a"
   ]
  },
  {
   "cell_type": "code",
   "execution_count": 10,
   "id": "32404f2e",
   "metadata": {},
   "outputs": [],
   "source": [
    "from sklearn import preprocessing\n",
    "from sklearn.compose import ColumnTransformer\n",
    "from sklearn.feature_extraction.text import CountVectorizer\n",
    "from sklearn.feature_extraction.text import TfidfVectorizer\n",
    "from sklearn.feature_extraction.text import TfidfTransformer\n",
    "from sklearn.naive_bayes import MultinomialNB\n",
    "from sklearn.pipeline import Pipeline"
   ]
  },
  {
   "cell_type": "code",
   "execution_count": 11,
   "id": "e62f06e8",
   "metadata": {},
   "outputs": [],
   "source": [
    "# word level tf-idf\n",
    "tfidf_vect = TfidfVectorizer(analyzer='word', token_pattern=r'\\w{1,}', max_features=100000)\n",
    "tfidf_vect.fit(X)\n",
    "xtrain_tfidf =  tfidf_vect.transform(X_train)\n",
    "xvalid_tfidf =  tfidf_vect.transform(X_test)\n",
    "text_clf = MultinomialNB()"
   ]
  },
  {
   "cell_type": "markdown",
   "id": "438b3c40",
   "metadata": {},
   "source": [
    "### Evaluating the NB classifier"
   ]
  },
  {
   "cell_type": "code",
   "execution_count": 15,
   "id": "8bf398de",
   "metadata": {},
   "outputs": [
    {
     "name": "stdout",
     "output_type": "stream",
     "text": [
      "random oversampling(testing)\n",
      "Accuracy: 0.9200470311581422\n",
      "Precision: 0.8156028368794326\n",
      "recall: 0.9896729776247849\n",
      "f1_score: 0.8942457231726284\n",
      "\n",
      "\n",
      "random oversampling(training)\n",
      "Accuracy: 0.9364000891067052\n",
      "Precision: 0.8891537544696066\n",
      "recall: 0.9971040320784139\n",
      "f1_score: 0.9400399033917882\n"
     ]
    }
   ],
   "source": [
    "#oversampling - testing error\n",
    "text_clf = text_clf.fit(X_train_ros, y_train_ros)\n",
    "predictions = text_clf.predict(xvalid_tfidf)\n",
    "\n",
    "from sklearn.metrics import confusion_matrix\n",
    "conf_matrix = confusion_matrix(y_test, predictions)\n",
    "tn = conf_matrix[0][0]\n",
    "fn = conf_matrix[1][0]\n",
    "tp = conf_matrix[1][1]\n",
    "fp = conf_matrix[0][1]\n",
    "\n",
    "accuracy = (tp + tn)/(tp + tn + fn + fp)\n",
    "precision = tp / (tp + fp)\n",
    "recall = tp / (tp + fn)\n",
    "f1_score = 2*(precision*recall)/(precision + recall)\n",
    "\n",
    "print(\"random oversampling(testing)\")\n",
    "print(\"Accuracy:\",accuracy)\n",
    "print(\"Precision:\",precision)\n",
    "print(\"recall:\",recall)\n",
    "print(\"f1_score:\",f1_score)\n",
    "\n",
    "#oversampling - training error\n",
    "predictions = text_clf.predict(X_train_ros)\n",
    "\n",
    "conf_matrix = confusion_matrix(y_train_ros, predictions)\n",
    "tn = conf_matrix[0][0]\n",
    "fn = conf_matrix[1][0]\n",
    "tp = conf_matrix[1][1]\n",
    "fp = conf_matrix[0][1]\n",
    "\n",
    "accuracy = (tp + tn)/(tp + tn + fn + fp)\n",
    "precision = tp / (tp + fp)\n",
    "recall = tp / (tp + fn)\n",
    "f1_score = 2*(precision*recall)/(precision + recall)\n",
    "\n",
    "print(\"\\n\")\n",
    "print(\"random oversampling(training)\")\n",
    "print(\"Accuracy:\",accuracy)\n",
    "print(\"Precision:\",precision)\n",
    "print(\"recall:\",recall)\n",
    "print(\"f1_score:\",f1_score)"
   ]
  },
  {
   "cell_type": "code",
   "execution_count": 14,
   "id": "989f2de3",
   "metadata": {},
   "outputs": [
    {
     "name": "stdout",
     "output_type": "stream",
     "text": [
      "random undersampling(testing)\n",
      "Accuracy: 0.9200470311581422\n",
      "Precision: 0.8156028368794326\n",
      "recall: 0.9896729776247849\n",
      "f1_score: 0.8942457231726284\n",
      "\n",
      "\n",
      "random undersampling(training)\n",
      "Accuracy: 0.9349892008639309\n",
      "Precision: 0.8873076923076924\n",
      "recall: 0.9965442764578833\n",
      "f1_score: 0.9387589013224822\n"
     ]
    }
   ],
   "source": [
    "#random undersampling - testing error\n",
    "#text_clf = MultinomialNB()\n",
    "text_clf = text_clf.fit(X_train_rus, y_train_rus)\n",
    "predictions = text_clf.predict(xvalid_tfidf)\n",
    "\n",
    "conf_matrix = confusion_matrix(y_test, predictions)\n",
    "tn = conf_matrix[0][0]\n",
    "fn = conf_matrix[1][0]\n",
    "tp = conf_matrix[1][1]\n",
    "fp = conf_matrix[0][1]\n",
    "\n",
    "accuracy = (tp + tn)/(tp + tn + fn + fp)\n",
    "precision = tp / (tp + fp)\n",
    "recall = tp / (tp + fn)\n",
    "f1_score = 2*(precision*recall)/(precision + recall)\n",
    "\n",
    "print(\"random undersampling(testing)\")\n",
    "print(\"Accuracy:\",accuracy)\n",
    "print(\"Precision:\",precision)\n",
    "print(\"recall:\",recall)\n",
    "print(\"f1_score:\",f1_score)\n",
    "\n",
    "#undersampling - training error\n",
    "predictions = text_clf.predict(X_train_rus)\n",
    "\n",
    "conf_matrix = confusion_matrix(y_train_rus, predictions)\n",
    "tn = conf_matrix[0][0]\n",
    "fn = conf_matrix[1][0]\n",
    "tp = conf_matrix[1][1]\n",
    "fp = conf_matrix[0][1]\n",
    "\n",
    "accuracy = (tp + tn)/(tp + tn + fn + fp)\n",
    "precision = tp / (tp + fp)\n",
    "recall = tp / (tp + fn)\n",
    "f1_score = 2*(precision*recall)/(precision + recall)\n",
    "\n",
    "print('\\n')\n",
    "print(\"random undersampling(training)\")\n",
    "print(\"Accuracy:\",accuracy)\n",
    "print(\"Precision:\",precision)\n",
    "print(\"recall:\",recall)\n",
    "print(\"f1_score:\",f1_score)"
   ]
  },
  {
   "cell_type": "markdown",
   "id": "59951a7a",
   "metadata": {},
   "source": [
    "# SVM classifier"
   ]
  },
  {
   "cell_type": "code",
   "execution_count": 17,
   "id": "746f0410",
   "metadata": {},
   "outputs": [],
   "source": [
    "from sklearn.linear_model import SGDClassifier"
   ]
  },
  {
   "cell_type": "code",
   "execution_count": 18,
   "id": "3bb285de",
   "metadata": {},
   "outputs": [
    {
     "name": "stdout",
     "output_type": "stream",
     "text": [
      "random oversampling(testing)\n",
      "Accuracy: 0.921222810111699\n",
      "Precision: 0.8125874125874126\n",
      "recall: 1.0\n",
      "f1_score: 0.8966049382716049\n",
      "\n",
      "\n",
      "random oversampling(training)\n",
      "Accuracy: 0.9333927378035197\n",
      "Precision: 0.882445449184195\n",
      "recall: 1.0\n",
      "f1_score: 0.9375522138680034\n"
     ]
    }
   ],
   "source": [
    "#random oversampling - testing\n",
    "text_clf_svm = SGDClassifier(loss='hinge', penalty='l2',alpha=1e-3, random_state=42)\n",
    "text_clf_svm = text_clf_svm.fit(X_train_ros, y_train_ros)\n",
    "predictions = text_clf_svm.predict(xvalid_tfidf)\n",
    "\n",
    "conf_matrix = confusion_matrix(y_test, predictions)\n",
    "tn = conf_matrix[0][0]\n",
    "fn = conf_matrix[1][0]\n",
    "tp = conf_matrix[1][1]\n",
    "fp = conf_matrix[0][1]\n",
    "\n",
    "accuracy = (tp + tn)/(tp + tn + fn + fp)\n",
    "precision = tp / (tp + fp)\n",
    "recall = tp / (tp + fn)\n",
    "f1_score = 2*(precision*recall)/(precision + recall)\n",
    "\n",
    "print(\"random oversampling(testing)\")\n",
    "print(\"Accuracy:\",accuracy)\n",
    "print(\"Precision:\",precision)\n",
    "print(\"recall:\",recall)\n",
    "print(\"f1_score:\",f1_score)\n",
    "\n",
    "#random oversampling - training\n",
    "predictions = text_clf_svm.predict(X_train_ros)\n",
    "\n",
    "conf_matrix = confusion_matrix(y_train_ros, predictions)\n",
    "tn = conf_matrix[0][0]\n",
    "fn = conf_matrix[1][0]\n",
    "tp = conf_matrix[1][1]\n",
    "fp = conf_matrix[0][1]\n",
    "\n",
    "accuracy = (tp + tn)/(tp + tn + fn + fp)\n",
    "precision = tp / (tp + fp)\n",
    "recall = tp / (tp + fn)\n",
    "f1_score = 2*(precision*recall)/(precision + recall)\n",
    "\n",
    "print(\"\\n\")\n",
    "print(\"random oversampling(training)\")\n",
    "print(\"Accuracy:\",accuracy)\n",
    "print(\"Precision:\",precision)\n",
    "print(\"recall:\",recall)\n",
    "print(\"f1_score:\",f1_score)"
   ]
  },
  {
   "cell_type": "code",
   "execution_count": 19,
   "id": "6cb4892d",
   "metadata": {},
   "outputs": [
    {
     "name": "stdout",
     "output_type": "stream",
     "text": [
      "random undersampling(testing)\n",
      "Accuracy: 0.921222810111699\n",
      "Precision: 0.8125874125874126\n",
      "recall: 1.0\n",
      "f1_score: 0.8966049382716049\n",
      "\n",
      "\n",
      "random undersampling(training)\n",
      "Accuracy: 0.9308855291576674\n",
      "Precision: 0.8785578747628083\n",
      "recall: 1.0\n",
      "f1_score: 0.9353535353535354\n"
     ]
    }
   ],
   "source": [
    "#random undersampling - testing \n",
    "text_clf_svm = SGDClassifier(loss='hinge', penalty='l2',alpha=1e-3, random_state=42)\n",
    "text_clf_svm = text_clf_svm.fit(X_train_rus, y_train_rus)\n",
    "predictions = text_clf_svm.predict(xvalid_tfidf)\n",
    "\n",
    "conf_matrix = confusion_matrix(y_test, predictions)\n",
    "tn = conf_matrix[0][0]\n",
    "fn = conf_matrix[1][0]\n",
    "tp = conf_matrix[1][1]\n",
    "fp = conf_matrix[0][1]\n",
    "\n",
    "accuracy = (tp + tn)/(tp + tn + fn + fp)\n",
    "precision = tp / (tp + fp)\n",
    "recall = tp / (tp + fn)\n",
    "f1_score = 2*(precision*recall)/(precision + recall)\n",
    "\n",
    "print(\"random undersampling(testing)\")\n",
    "print(\"Accuracy:\",accuracy)\n",
    "print(\"Precision:\",precision)\n",
    "print(\"recall:\",recall)\n",
    "print(\"f1_score:\",f1_score)\n",
    "\n",
    "#random undersampling - training\n",
    "predictions = text_clf_svm.predict(X_train_rus)\n",
    "\n",
    "conf_matrix = confusion_matrix(y_train_rus, predictions)\n",
    "tn = conf_matrix[0][0]\n",
    "fn = conf_matrix[1][0]\n",
    "tp = conf_matrix[1][1]\n",
    "fp = conf_matrix[0][1]\n",
    "\n",
    "accuracy = (tp + tn)/(tp + tn + fn + fp)\n",
    "precision = tp / (tp + fp)\n",
    "recall = tp / (tp + fn)\n",
    "f1_score = 2*(precision*recall)/(precision + recall)\n",
    "\n",
    "print(\"\\n\")\n",
    "print(\"random undersampling(training)\")\n",
    "print(\"Accuracy:\",accuracy)\n",
    "print(\"Precision:\",precision)\n",
    "print(\"recall:\",recall)\n",
    "print(\"f1_score:\",f1_score)"
   ]
  },
  {
   "cell_type": "markdown",
   "id": "7d627b2f",
   "metadata": {},
   "source": [
    "# Logistic regression"
   ]
  },
  {
   "cell_type": "code",
   "execution_count": 21,
   "id": "3bc913a7",
   "metadata": {},
   "outputs": [],
   "source": [
    "from sklearn.linear_model import LogisticRegression\n",
    "clf_lg = LogisticRegression()  \n"
   ]
  },
  {
   "cell_type": "markdown",
   "id": "43353cb1",
   "metadata": {},
   "source": [
    "### Evaluating logistic regression classifier"
   ]
  },
  {
   "cell_type": "code",
   "execution_count": 22,
   "id": "1dc4da27",
   "metadata": {},
   "outputs": [
    {
     "name": "stdout",
     "output_type": "stream",
     "text": [
      "random oversampling(testing)\n",
      "Accuracy: 0.9288653733098178\n",
      "Precision: 0.8304597701149425\n",
      "recall: 0.9948364888123924\n",
      "f1_score: 0.9052466718872357\n",
      "\n",
      "\n",
      "random oversampling(training)\n",
      "Accuracy: 0.9477611940298507\n",
      "Precision: 0.9065533980582524\n",
      "recall: 0.9984406326576075\n",
      "f1_score: 0.9502809286547227\n"
     ]
    }
   ],
   "source": [
    "#random oversampling - testing\n",
    "clf_lg = clf_lg.fit(X_train_ros, y_train_ros)\n",
    "lg_predictions = clf_lg.predict(xvalid_tfidf)\n",
    "\n",
    "conf_matrix = confusion_matrix(y_test, lg_predictions)\n",
    "tn = conf_matrix[0][0]\n",
    "fn = conf_matrix[1][0]\n",
    "tp = conf_matrix[1][1]\n",
    "fp = conf_matrix[0][1]\n",
    "\n",
    "accuracy = (tp + tn)/(tp + tn + fn + fp)\n",
    "precision = tp / (tp + fp)\n",
    "recall = tp / (tp + fn)\n",
    "f1_score = 2*(precision*recall)/(precision + recall)\n",
    "\n",
    "print(\"random oversampling(testing)\")\n",
    "print(\"Accuracy:\",accuracy)\n",
    "print(\"Precision:\",precision)\n",
    "print(\"recall:\",recall)\n",
    "print(\"f1_score:\",f1_score)\n",
    "\n",
    "#random oversampling - training\n",
    "lg_predictions = clf_lg.predict(X_train_ros)\n",
    "\n",
    "conf_matrix = confusion_matrix(y_train_ros, lg_predictions)\n",
    "tn = conf_matrix[0][0]\n",
    "fn = conf_matrix[1][0]\n",
    "tp = conf_matrix[1][1]\n",
    "fp = conf_matrix[0][1]\n",
    "\n",
    "accuracy = (tp + tn)/(tp + tn + fn + fp)\n",
    "precision = tp / (tp + fp)\n",
    "recall = tp / (tp + fn)\n",
    "f1_score = 2*(precision*recall)/(precision + recall)\n",
    "\n",
    "print(\"\\n\")\n",
    "print(\"random oversampling(training)\")\n",
    "print(\"Accuracy:\",accuracy)\n",
    "print(\"Precision:\",precision)\n",
    "print(\"recall:\",recall)\n",
    "print(\"f1_score:\",f1_score)"
   ]
  },
  {
   "cell_type": "code",
   "execution_count": 24,
   "id": "bb27e768",
   "metadata": {},
   "outputs": [
    {
     "name": "stdout",
     "output_type": "stream",
     "text": [
      "random undersampling(testing)\n",
      "Accuracy: 0.9218106995884774\n",
      "Precision: 0.8146067415730337\n",
      "recall: 0.9982788296041308\n",
      "f1_score: 0.897138437741686\n",
      "\n",
      "\n",
      "random undersampling(training)\n",
      "Accuracy: 0.9384449244060475\n",
      "Precision: 0.8909861325115562\n",
      "recall: 0.9991360691144708\n",
      "f1_score: 0.9419670128283445\n"
     ]
    }
   ],
   "source": [
    "#random undersampling - testing\n",
    "clf_lg = clf_lg.fit(X_train_rus, y_train_rus)\n",
    "lg_predictions = clf_lg.predict(xvalid_tfidf)\n",
    "\n",
    "conf_matrix = confusion_matrix(y_test, lg_predictions)\n",
    "tn = conf_matrix[0][0]\n",
    "fn = conf_matrix[1][0]\n",
    "tp = conf_matrix[1][1]\n",
    "fp = conf_matrix[0][1]\n",
    "\n",
    "accuracy = (tp + tn)/(tp + tn + fn + fp)\n",
    "precision = tp / (tp + fp)\n",
    "recall = tp / (tp + fn)\n",
    "f1_score = 2*(precision*recall)/(precision + recall)\n",
    "\n",
    "print(\"random undersampling(testing)\")\n",
    "print(\"Accuracy:\",accuracy)\n",
    "print(\"Precision:\",precision)\n",
    "print(\"recall:\",recall)\n",
    "print(\"f1_score:\",f1_score)\n",
    "\n",
    "#random undersampling - training\n",
    "lg_predictions = clf_lg.predict(X_train_rus)\n",
    "\n",
    "conf_matrix = confusion_matrix(y_train_rus, lg_predictions)\n",
    "tn = conf_matrix[0][0]\n",
    "fn = conf_matrix[1][0]\n",
    "tp = conf_matrix[1][1]\n",
    "fp = conf_matrix[0][1]\n",
    "\n",
    "accuracy = (tp + tn)/(tp + tn + fn + fp)\n",
    "precision = tp / (tp + fp)\n",
    "recall = tp / (tp + fn)\n",
    "f1_score = 2*(precision*recall)/(precision + recall)\n",
    "\n",
    "print('\\n')\n",
    "print(\"random undersampling(training)\")\n",
    "print(\"Accuracy:\",accuracy)\n",
    "print(\"Precision:\",precision)\n",
    "print(\"recall:\",recall)\n",
    "print(\"f1_score:\",f1_score)"
   ]
  },
  {
   "cell_type": "markdown",
   "id": "bbe7b463",
   "metadata": {},
   "source": [
    "# Reading real profile"
   ]
  },
  {
   "cell_type": "code",
   "execution_count": 25,
   "id": "f43d280d",
   "metadata": {},
   "outputs": [],
   "source": [
    "import json\n",
    "import os\n",
    "import glob\n",
    "import pandas as pd"
   ]
  },
  {
   "cell_type": "code",
   "execution_count": 26,
   "id": "d1bbd2cd",
   "metadata": {},
   "outputs": [],
   "source": [
    "import json\n",
    "import os\n",
    "import glob\n",
    "import pandas as pd\n",
    "\n",
    "json_dir = 'data/realprofile'\n",
    "json_pattern = os.path.join(json_dir, '*.json')\n",
    "file_list = glob.glob(json_pattern)\n",
    "\n",
    "dfs = []\n",
    "for file in file_list:\n",
    "    with open(file) as f:\n",
    "        json_data = pd.json_normalize(json.loads(f.read()))\n",
    "        json_data['site'] = file.rsplit(\"/\", 1)[-1]\n",
    "    dfs.append(json_data)\n",
    "realdf = pd.concat(dfs)\n",
    "\n",
    "#adding a new column based on username column - to match with xxx.jpg when combining image captions\n",
    "realdf[\"images\"] = realdf[\"username\"] + \".jpg\"\n",
    "\n",
    "#label\n",
    "realdf[\"y\"] = 1"
   ]
  },
  {
   "cell_type": "markdown",
   "id": "438a0f52",
   "metadata": {},
   "source": [
    "# Reading scam profile"
   ]
  },
  {
   "cell_type": "code",
   "execution_count": 27,
   "id": "f5e9473b",
   "metadata": {},
   "outputs": [],
   "source": [
    "json_dir = 'data/scamprofile'\n",
    "json_pattern = os.path.join(json_dir, '*.json')\n",
    "file_list = glob.glob(json_pattern)\n",
    "\n",
    "dfs = []\n",
    "for file in file_list:\n",
    "    with open(file) as f:\n",
    "        json_data = pd.json_normalize(json.loads(f.read()))\n",
    "        json_data['site'] = file.rsplit(\"/\", 1)[-1]\n",
    "    dfs.append(json_data)\n",
    "scamdf = pd.concat(dfs)\n",
    "\n",
    "#modifying the column \"images\" to join on filename - images = [xxx.jpg], change to xxx.jpg\n",
    "scamdf[\"images\"] = scamdf[\"images\"].apply(lambda x: ''.join(x))\n",
    "\n",
    "#label\n",
    "scamdf[\"y\"] = 0"
   ]
  },
  {
   "cell_type": "markdown",
   "id": "ed0155d8",
   "metadata": {},
   "source": [
    "# Reading image caption json (real)"
   ]
  },
  {
   "cell_type": "code",
   "execution_count": 28,
   "id": "974a1c1c",
   "metadata": {},
   "outputs": [],
   "source": [
    "json_dir = 'final caption model/real_labels'\n",
    "json_pattern = os.path.join(json_dir, '*.json')\n",
    "file_list = glob.glob(json_pattern)\n",
    "\n",
    "fn_list = []\n",
    "caption_list = []\n",
    "for file in file_list:\n",
    "    with open(file) as f:\n",
    "        data = json.load(f)\n",
    "        filename = list(data.keys())\n",
    "        caption = list(data.values())\n",
    "    fn_list.extend(filename)\n",
    "    caption_list.extend(caption)\n",
    "\n",
    "image_real_df = pd.DataFrame(data = {\"filename\":fn_list,\"caption\":caption_list})\n",
    "\n",
    "#drop duplicates \n",
    "image_real_df = image_real_df.drop_duplicates(subset = \"filename\")"
   ]
  },
  {
   "cell_type": "markdown",
   "id": "59679bad",
   "metadata": {},
   "source": [
    "# Reading image caption json (scam)"
   ]
  },
  {
   "cell_type": "code",
   "execution_count": 29,
   "id": "78b27219",
   "metadata": {},
   "outputs": [],
   "source": [
    "json_dir = 'final caption model/scam_labels'\n",
    "json_pattern = os.path.join(json_dir, '*.json')\n",
    "file_list = glob.glob(json_pattern)\n",
    "\n",
    "fn_list = []\n",
    "caption_list = []\n",
    "for file in file_list:\n",
    "    with open(file) as f:\n",
    "        data = json.load(f)\n",
    "        filename = list(data.keys())\n",
    "        caption = list(data.values())\n",
    "    fn_list.extend(filename)\n",
    "    caption_list.extend(caption)\n",
    "\n",
    "image_scam_df = pd.DataFrame(data = {\"filename\":fn_list,\"caption\":caption_list})"
   ]
  },
  {
   "cell_type": "code",
   "execution_count": 30,
   "id": "4ca6252c",
   "metadata": {},
   "outputs": [],
   "source": [
    "##concat scam and real profiles\n",
    "scam_and_real = pd.concat([scamdf[[\"username\",\"images\",\"y\"]], realdf[[\"username\",\"images\",\"y\"]]], ignore_index=True)\n",
    "#scam_and_real.info()"
   ]
  },
  {
   "cell_type": "code",
   "execution_count": 31,
   "id": "bc4f02b9",
   "metadata": {},
   "outputs": [],
   "source": [
    "#combine image captions + filename (real and scam) into one df\n",
    "scam_image_and_real_image = pd.concat([image_real_df,image_scam_df],ignore_index = True)\n",
    "scam_image_and_real_image.rename(columns = {\"filename\":\"images\"},inplace = True)"
   ]
  },
  {
   "cell_type": "code",
   "execution_count": 32,
   "id": "bbe75aab",
   "metadata": {},
   "outputs": [],
   "source": [
    "#left join scam image and real image captions to scam_and_real\n",
    "final_df = scam_and_real.merge(scam_image_and_real_image,how = 'left', on = 'images')"
   ]
  },
  {
   "cell_type": "code",
   "execution_count": 33,
   "id": "7901db93",
   "metadata": {},
   "outputs": [],
   "source": [
    "# combine finaldf with combined df\n",
    "final_df3 = combined_df.merge(final_df[[\"username\",\"caption\"]],how = \"left\",on = \"username\")\n",
    "final_df3.dropna(subset = [\"caption\",\"username\"],inplace = True)\n"
   ]
  },
  {
   "cell_type": "code",
   "execution_count": 17,
   "id": "ee79fd76",
   "metadata": {},
   "outputs": [
    {
     "name": "stdout",
     "output_type": "stream",
     "text": [
      "<class 'pandas.core.frame.DataFrame'>\n",
      "Int64Index: 4607 entries, 0 to 8504\n",
      "Data columns (total 10 columns):\n",
      " #   Column                 Non-Null Count  Dtype  \n",
      "---  ------                 --------------  -----  \n",
      " 0   username               4607 non-null   object \n",
      " 1   age                    4606 non-null   float64\n",
      " 2   occupation             4604 non-null   object \n",
      " 3   status                 4607 non-null   object \n",
      " 4   gender                 4607 non-null   object \n",
      " 5   filtered sentence      4607 non-null   object \n",
      " 6   Language               4607 non-null   object \n",
      " 7   y                      4607 non-null   int64  \n",
      " 8   translated_occupation  3192 non-null   object \n",
      " 9   caption                4607 non-null   object \n",
      "dtypes: float64(1), int64(1), object(8)\n",
      "memory usage: 395.9+ KB\n"
     ]
    }
   ],
   "source": [
    "final_df3.info()"
   ]
  },
  {
   "cell_type": "markdown",
   "id": "f9bc386a",
   "metadata": {},
   "source": [
    "# Image captions"
   ]
  },
  {
   "cell_type": "code",
   "execution_count": 34,
   "id": "f20e7bc8",
   "metadata": {},
   "outputs": [],
   "source": [
    "#use final df3 - create model with both description + caption \n",
    "# features\n",
    "X = final_df3['caption']\n",
    "\n",
    "# target\n",
    "y = final_df3['y']\n",
    "\n",
    "from sklearn.model_selection import train_test_split\n",
    "X_train, X_test, y_train, y_test = train_test_split(X, y, test_size = 0.2, random_state = 424)"
   ]
  },
  {
   "cell_type": "code",
   "execution_count": 35,
   "id": "c859e40a",
   "metadata": {},
   "outputs": [],
   "source": [
    "from sklearn.feature_extraction.text import TfidfTransformer\n",
    "from sklearn.naive_bayes import MultinomialNB"
   ]
  },
  {
   "cell_type": "code",
   "execution_count": 36,
   "id": "85096554",
   "metadata": {},
   "outputs": [],
   "source": [
    "# word level tf-idf\n",
    "tfidf_vect = TfidfVectorizer(analyzer='word', token_pattern=r'\\w{1,}', max_features=100000)\n",
    "tfidf_vect.fit(X)\n",
    "xtrain_tfidf =  tfidf_vect.transform(X_train)\n",
    "xvalid_tfidf =  tfidf_vect.transform(X_test)"
   ]
  },
  {
   "cell_type": "markdown",
   "id": "426b5bbc",
   "metadata": {},
   "source": [
    "# Undersampling and oversampling for image captions"
   ]
  },
  {
   "cell_type": "code",
   "execution_count": 37,
   "id": "92990a02",
   "metadata": {},
   "outputs": [],
   "source": [
    "ros = RandomOverSampler(random_state=42)\n",
    "X_train_ros, y_train_ros= ros.fit_resample(xtrain_tfidf, y_train)\n",
    "rus = RandomUnderSampler(random_state=42)\n",
    "X_train_rus, y_train_rus= rus.fit_resample(xtrain_tfidf, y_train)"
   ]
  },
  {
   "cell_type": "markdown",
   "id": "1ef24261",
   "metadata": {},
   "source": [
    "# Naive Bayes classifier for image captions"
   ]
  },
  {
   "cell_type": "code",
   "execution_count": 57,
   "id": "25f2aed1",
   "metadata": {},
   "outputs": [],
   "source": [
    "text_clf = MultinomialNB()"
   ]
  },
  {
   "cell_type": "code",
   "execution_count": 58,
   "id": "180dbb39",
   "metadata": {},
   "outputs": [
    {
     "name": "stdout",
     "output_type": "stream",
     "text": [
      "random oversampling(testing)\n",
      "Accuracy: 0.49783080260303686\n",
      "Precision: 0.28728070175438597\n",
      "recall: 0.48698884758364314\n",
      "f1_score: 0.3613793103448276\n",
      "\n",
      "\n",
      "random oversampling(training)\n",
      "Accuracy: 0.778041074249605\n",
      "Precision: 0.7312746386333772\n",
      "recall: 0.8791469194312796\n",
      "f1_score: 0.7984218077474893\n"
     ]
    }
   ],
   "source": [
    "#random oversampling - testing\n",
    "text_clf = text_clf.fit(X_train_ros, y_train_ros)\n",
    "predictions = text_clf.predict(xvalid_tfidf)\n",
    "\n",
    "from sklearn.metrics import confusion_matrix\n",
    "conf_matrix = confusion_matrix(y_test, predictions)\n",
    "tn = conf_matrix[0][0]\n",
    "fn = conf_matrix[1][0]\n",
    "tp = conf_matrix[1][1]\n",
    "fp = conf_matrix[0][1]\n",
    "\n",
    "accuracy = (tp + tn)/(tp + tn + fn + fp)\n",
    "precision = tp / (tp + fp)\n",
    "recall = tp / (tp + fn)\n",
    "f1_score = 2*(precision*recall)/(precision + recall)\n",
    "\n",
    "print(\"random oversampling(testing)\")\n",
    "print(\"Accuracy:\",accuracy)\n",
    "print(\"Precision:\",precision)\n",
    "print(\"recall:\",recall)\n",
    "print(\"f1_score:\",f1_score)\n",
    "\n",
    "#random oversampling - training\n",
    "predictions = text_clf.predict(X_train_ros)\n",
    "\n",
    "from sklearn.metrics import confusion_matrix\n",
    "conf_matrix = confusion_matrix(y_train_ros, predictions)\n",
    "tn = conf_matrix[0][0]\n",
    "fn = conf_matrix[1][0]\n",
    "tp = conf_matrix[1][1]\n",
    "fp = conf_matrix[0][1]\n",
    "\n",
    "accuracy = (tp + tn)/(tp + tn + fn + fp)\n",
    "precision = tp / (tp + fp)\n",
    "recall = tp / (tp + fn)\n",
    "f1_score = 2*(precision*recall)/(precision + recall)\n",
    "\n",
    "print(\"\\n\")\n",
    "print(\"random oversampling(training)\")\n",
    "print(\"Accuracy:\",accuracy)\n",
    "print(\"Precision:\",precision)\n",
    "print(\"recall:\",recall)\n",
    "print(\"f1_score:\",f1_score)"
   ]
  },
  {
   "cell_type": "code",
   "execution_count": 59,
   "id": "7429e679",
   "metadata": {},
   "outputs": [
    {
     "name": "stdout",
     "output_type": "stream",
     "text": [
      "random undersampling(testing)\n",
      "Accuracy: 0.4924078091106291\n",
      "Precision: 0.28322440087145967\n",
      "recall: 0.483271375464684\n",
      "f1_score: 0.3571428571428571\n",
      "\n",
      "\n",
      "random undersampling(training)\n",
      "Accuracy: 0.7688638334778838\n",
      "Precision: 0.7227011494252874\n",
      "recall: 0.8725065047701648\n",
      "f1_score: 0.7905697445972495\n"
     ]
    }
   ],
   "source": [
    "#random undersampling - testing \n",
    "text_clf = text_clf.fit(X_train_rus, y_train_rus)\n",
    "predictions = text_clf.predict(xvalid_tfidf)\n",
    "\n",
    "from sklearn.metrics import confusion_matrix\n",
    "conf_matrix = confusion_matrix(y_test, predictions)\n",
    "tn = conf_matrix[0][0]\n",
    "fn = conf_matrix[1][0]\n",
    "tp = conf_matrix[1][1]\n",
    "fp = conf_matrix[0][1]\n",
    "\n",
    "accuracy = (tp + tn)/(tp + tn + fn + fp)\n",
    "precision = tp / (tp + fp)\n",
    "recall = tp / (tp + fn)\n",
    "f1_score = 2*(precision*recall)/(precision + recall)\n",
    "\n",
    "print(\"random undersampling(testing)\")\n",
    "print(\"Accuracy:\",accuracy)\n",
    "print(\"Precision:\",precision)\n",
    "print(\"recall:\",recall)\n",
    "print(\"f1_score:\",f1_score)\n",
    "\n",
    "#random undersampling - training\n",
    "predictions = text_clf.predict(X_train_rus)\n",
    "\n",
    "from sklearn.metrics import confusion_matrix\n",
    "conf_matrix = confusion_matrix(y_train_rus, predictions)\n",
    "tn = conf_matrix[0][0]\n",
    "fn = conf_matrix[1][0]\n",
    "tp = conf_matrix[1][1]\n",
    "fp = conf_matrix[0][1]\n",
    "\n",
    "accuracy = (tp + tn)/(tp + tn + fn + fp)\n",
    "precision = tp / (tp + fp)\n",
    "recall = tp / (tp + fn)\n",
    "f1_score = 2*(precision*recall)/(precision + recall)\n",
    "\n",
    "print(\"\\n\")\n",
    "print(\"random undersampling(training)\")\n",
    "print(\"Accuracy:\",accuracy)\n",
    "print(\"Precision:\",precision)\n",
    "print(\"recall:\",recall)\n",
    "print(\"f1_score:\",f1_score)"
   ]
  },
  {
   "cell_type": "markdown",
   "id": "feaa83ca",
   "metadata": {},
   "source": [
    "# svm classifier"
   ]
  },
  {
   "cell_type": "code",
   "execution_count": 43,
   "id": "d4043d09",
   "metadata": {},
   "outputs": [
    {
     "name": "stdout",
     "output_type": "stream",
     "text": [
      "random oversampling(testing)\n",
      "Accuracy: 0.7114967462039046\n",
      "Precision: 0.4957983193277311\n",
      "recall: 0.9007633587786259\n",
      "f1_score: 0.6395663956639566\n",
      "\n",
      "\n",
      "random oversampling(training)\n",
      "Accuracy: 0.7946287519747235\n",
      "Precision: 0.7353312302839117\n",
      "recall: 0.9206161137440758\n",
      "f1_score: 0.8176078568923184\n"
     ]
    }
   ],
   "source": [
    "from sklearn.linear_model import SGDClassifier\n",
    "text_clf_svm = SGDClassifier(loss='hinge', penalty='l2',alpha=1e-3, random_state=42)\n",
    "\n",
    "#random oversampling - testing\n",
    "text_clf_svm = text_clf_svm.fit(X_train_ros, y_train_ros)\n",
    "predictions = text_clf_svm.predict(xvalid_tfidf)\n",
    "\n",
    "conf_matrix = confusion_matrix(y_test, predictions)\n",
    "tn = conf_matrix[0][0]\n",
    "fn = conf_matrix[1][0]\n",
    "tp = conf_matrix[1][1]\n",
    "fp = conf_matrix[0][1]\n",
    "\n",
    "accuracy = (tp + tn)/(tp + tn + fn + fp)\n",
    "precision = tp / (tp + fp)\n",
    "recall = tp / (tp + fn)\n",
    "f1_score = 2*(precision*recall)/(precision + recall)\n",
    "\n",
    "print(\"random oversampling(testing)\")\n",
    "print(\"Accuracy:\",accuracy)\n",
    "print(\"Precision:\",precision)\n",
    "print(\"recall:\",recall)\n",
    "print(\"f1_score:\",f1_score)\n",
    "\n",
    "#random oversampling - training\n",
    "predictions = text_clf_svm.predict(X_train_ros)\n",
    "\n",
    "conf_matrix = confusion_matrix(y_train_ros, predictions)\n",
    "tn = conf_matrix[0][0]\n",
    "fn = conf_matrix[1][0]\n",
    "tp = conf_matrix[1][1]\n",
    "fp = conf_matrix[0][1]\n",
    "\n",
    "accuracy = (tp + tn)/(tp + tn + fn + fp)\n",
    "precision = tp / (tp + fp)\n",
    "recall = tp / (tp + fn)\n",
    "f1_score = 2*(precision*recall)/(precision + recall)\n",
    "\n",
    "print(\"\\n\")\n",
    "print(\"random oversampling(training)\")\n",
    "print(\"Accuracy:\",accuracy)\n",
    "print(\"Precision:\",precision)\n",
    "print(\"recall:\",recall)\n",
    "print(\"f1_score:\",f1_score)\n"
   ]
  },
  {
   "cell_type": "code",
   "execution_count": 45,
   "id": "1a7b59e4",
   "metadata": {},
   "outputs": [
    {
     "name": "stdout",
     "output_type": "stream",
     "text": [
      "random undersampling(testing)\n",
      "Accuracy: 0.7158351409978309\n",
      "Precision: 0.5\n",
      "recall: 0.8931297709923665\n",
      "f1_score: 0.6410958904109589\n",
      "\n",
      "\n",
      "random undersampling(training)\n",
      "Accuracy: 0.7931483087597572\n",
      "Precision: 0.7343966712898752\n",
      "recall: 0.9184735472679966\n",
      "f1_score: 0.8161849710982658\n"
     ]
    }
   ],
   "source": [
    "#random undersampling\n",
    "text_clf_svm = SGDClassifier(loss='hinge', penalty='l2',alpha=1e-3, random_state=42)\n",
    "text_clf_svm = text_clf_svm.fit(X_train_rus, y_train_rus)\n",
    "predictions = text_clf_svm.predict(xvalid_tfidf)\n",
    "\n",
    "conf_matrix = confusion_matrix(y_test, predictions)\n",
    "tn = conf_matrix[0][0]\n",
    "fn = conf_matrix[1][0]\n",
    "tp = conf_matrix[1][1]\n",
    "fp = conf_matrix[0][1]\n",
    "\n",
    "accuracy = (tp + tn)/(tp + tn + fn + fp)\n",
    "precision = tp / (tp + fp)\n",
    "recall = tp / (tp + fn)\n",
    "f1_score = 2*(precision*recall)/(precision + recall)\n",
    "\n",
    "print(\"random undersampling(testing)\")\n",
    "print(\"Accuracy:\",accuracy)\n",
    "print(\"Precision:\",precision)\n",
    "print(\"recall:\",recall)\n",
    "print(\"f1_score:\",f1_score)\n",
    "\n",
    "#random undersampling - training\n",
    "predictions = text_clf_svm.predict(X_train_rus)\n",
    "\n",
    "conf_matrix = confusion_matrix(y_train_rus, predictions)\n",
    "tn = conf_matrix[0][0]\n",
    "fn = conf_matrix[1][0]\n",
    "tp = conf_matrix[1][1]\n",
    "fp = conf_matrix[0][1]\n",
    "\n",
    "accuracy = (tp + tn)/(tp + tn + fn + fp)\n",
    "precision = tp / (tp + fp)\n",
    "recall = tp / (tp + fn)\n",
    "f1_score = 2*(precision*recall)/(precision + recall)\n",
    "\n",
    "print(\"\\n\")\n",
    "print(\"random undersampling(training)\")\n",
    "print(\"Accuracy:\",accuracy)\n",
    "print(\"Precision:\",precision)\n",
    "print(\"recall:\",recall)\n",
    "print(\"f1_score:\",f1_score)"
   ]
  },
  {
   "cell_type": "markdown",
   "id": "4cba9f8f",
   "metadata": {},
   "source": [
    "# logistic regression classifier"
   ]
  },
  {
   "cell_type": "code",
   "execution_count": 46,
   "id": "710574a6",
   "metadata": {},
   "outputs": [],
   "source": [
    "from sklearn.linear_model import LogisticRegression\n",
    "clf_lg = LogisticRegression()  "
   ]
  },
  {
   "cell_type": "code",
   "execution_count": 47,
   "id": "f347c7ba",
   "metadata": {},
   "outputs": [
    {
     "name": "stdout",
     "output_type": "stream",
     "text": [
      "random oversampling(testing)\n",
      "Accuracy: 0.7190889370932755\n",
      "Precision: 0.5033407572383074\n",
      "recall: 0.8625954198473282\n",
      "f1_score: 0.6357243319268637\n",
      "\n",
      "\n",
      "random oversampling(training)\n",
      "Accuracy: 0.7977883096366508\n",
      "Precision: 0.7495036399735274\n",
      "recall: 0.8945497630331753\n",
      "f1_score: 0.8156283759452647\n"
     ]
    }
   ],
   "source": [
    "#random oversampling - testing\n",
    "clf_lg = clf_lg.fit(X_train_ros, y_train_ros)\n",
    "lg_predictions = clf_lg.predict(xvalid_tfidf)\n",
    "conf_matrix = confusion_matrix(y_test, lg_predictions)\n",
    "tn = conf_matrix[0][0]\n",
    "fn = conf_matrix[1][0]\n",
    "tp = conf_matrix[1][1]\n",
    "fp = conf_matrix[0][1]\n",
    "\n",
    "accuracy = (tp + tn)/(tp + tn + fn + fp)\n",
    "precision = tp / (tp + fp)\n",
    "recall = tp / (tp + fn)\n",
    "f1_score = 2*(precision*recall)/(precision + recall)\n",
    "\n",
    "print(\"random oversampling(testing)\")\n",
    "print(\"Accuracy:\",accuracy)\n",
    "print(\"Precision:\",precision)\n",
    "print(\"recall:\",recall)\n",
    "print(\"f1_score:\",f1_score)\n",
    "\n",
    "#random oversampling - training\n",
    "lg_predictions = clf_lg.predict(X_train_ros)\n",
    "conf_matrix = confusion_matrix(y_train_ros, lg_predictions)\n",
    "tn = conf_matrix[0][0]\n",
    "fn = conf_matrix[1][0]\n",
    "tp = conf_matrix[1][1]\n",
    "fp = conf_matrix[0][1]\n",
    "\n",
    "accuracy = (tp + tn)/(tp + tn + fn + fp)\n",
    "precision = tp / (tp + fp)\n",
    "recall = tp / (tp + fn)\n",
    "f1_score = 2*(precision*recall)/(precision + recall)\n",
    "\n",
    "print(\"\\n\")\n",
    "print(\"random oversampling(training)\")\n",
    "print(\"Accuracy:\",accuracy)\n",
    "print(\"Precision:\",precision)\n",
    "print(\"recall:\",recall)\n",
    "print(\"f1_score:\",f1_score)"
   ]
  },
  {
   "cell_type": "code",
   "execution_count": 49,
   "id": "c0e43d7f",
   "metadata": {},
   "outputs": [
    {
     "name": "stdout",
     "output_type": "stream",
     "text": [
      "random undersampling(testing)\n",
      "Accuracy: 0.7277657266811279\n",
      "Precision: 0.512249443207127\n",
      "recall: 0.8778625954198473\n",
      "f1_score: 0.6469760900140648\n",
      "\n",
      "\n",
      "random undersampling(training)\n",
      "Accuracy: 0.792714657415438\n",
      "Precision: 0.7429805615550756\n",
      "recall: 0.8950563746747615\n",
      "f1_score: 0.8119590873328087\n"
     ]
    }
   ],
   "source": [
    "#random undersampling - testing \n",
    "clf_lg = clf_lg.fit(X_train_rus, y_train_rus)\n",
    "lg_predictions = clf_lg.predict(xvalid_tfidf)\n",
    "\n",
    "conf_matrix = confusion_matrix(y_test, lg_predictions)\n",
    "tn = conf_matrix[0][0]\n",
    "fn = conf_matrix[1][0]\n",
    "tp = conf_matrix[1][1]\n",
    "fp = conf_matrix[0][1]\n",
    "\n",
    "accuracy = (tp + tn)/(tp + tn + fn + fp)\n",
    "precision = tp / (tp + fp)\n",
    "recall = tp / (tp + fn)\n",
    "f1_score = 2*(precision*recall)/(precision + recall)\n",
    "\n",
    "print(\"random undersampling(testing)\")\n",
    "print(\"Accuracy:\",accuracy)\n",
    "print(\"Precision:\",precision)\n",
    "print(\"recall:\",recall)\n",
    "print(\"f1_score:\",f1_score)\n",
    "\n",
    "#random undersampling - training\n",
    "lg_predictions = clf_lg.predict(X_train_rus)\n",
    "\n",
    "conf_matrix = confusion_matrix(y_train_rus, lg_predictions)\n",
    "tn = conf_matrix[0][0]\n",
    "fn = conf_matrix[1][0]\n",
    "tp = conf_matrix[1][1]\n",
    "fp = conf_matrix[0][1]\n",
    "\n",
    "accuracy = (tp + tn)/(tp + tn + fn + fp)\n",
    "precision = tp / (tp + fp)\n",
    "recall = tp / (tp + fn)\n",
    "f1_score = 2*(precision*recall)/(precision + recall)\n",
    "\n",
    "print(\"\\n\")\n",
    "print(\"random undersampling(training)\")\n",
    "print(\"Accuracy:\",accuracy)\n",
    "print(\"Precision:\",precision)\n",
    "print(\"recall:\",recall)\n",
    "print(\"f1_score:\",f1_score)\n"
   ]
  },
  {
   "cell_type": "markdown",
   "id": "6cf36731",
   "metadata": {},
   "source": [
    "# Combining features into one model"
   ]
  },
  {
   "cell_type": "code",
   "execution_count": 50,
   "id": "19a43d6b",
   "metadata": {},
   "outputs": [],
   "source": [
    "df1 = pd.read_csv('final_data_cleaned.csv')\n",
    "final_df4 = final_df3.merge(df1[[\"username\",\"translated_occupation_category\"]],how = 'left', on = 'username')"
   ]
  },
  {
   "cell_type": "code",
   "execution_count": 51,
   "id": "9430fc73",
   "metadata": {},
   "outputs": [],
   "source": [
    "from sklearn.preprocessing import LabelEncoder\n",
    "\n",
    "labelencoder = LabelEncoder()\n",
    "final_df4[['status','gender']]=final_df4[['status','gender']].apply(labelencoder.fit_transform)\n",
    "final_df4[['translated_occupation_category_encoded']]=final_df4[['translated_occupation_category']].apply(labelencoder.fit_transform)\n",
    "final_df4['age_group']= pd.qcut(final_df4['age'],4)\n",
    "final_df4['age_group_encoded'] = labelencoder.fit_transform(final_df4['age_group'])\n"
   ]
  },
  {
   "cell_type": "code",
   "execution_count": 52,
   "id": "d2d26a6b",
   "metadata": {},
   "outputs": [
    {
     "name": "stdout",
     "output_type": "stream",
     "text": [
      "<class 'pandas.core.frame.DataFrame'>\n",
      "Int64Index: 4608 entries, 0 to 4607\n",
      "Data columns (total 8 columns):\n",
      " #   Column                                  Non-Null Count  Dtype \n",
      "---  ------                                  --------------  ----- \n",
      " 0   username                                4608 non-null   object\n",
      " 1   status                                  4608 non-null   int64 \n",
      " 2   gender                                  4608 non-null   int64 \n",
      " 3   filtered sentence                       4608 non-null   object\n",
      " 4   y                                       4608 non-null   int64 \n",
      " 5   caption                                 4608 non-null   object\n",
      " 6   translated_occupation_category_encoded  4608 non-null   int64 \n",
      " 7   age_group_encoded                       4608 non-null   int64 \n",
      "dtypes: int64(5), object(3)\n",
      "memory usage: 324.0+ KB\n"
     ]
    }
   ],
   "source": [
    "final_df5 = final_df4.drop(columns = [\"age\",\"occupation\",\"Language\",\"translated_occupation\",\"translated_occupation_category\",\"age_group\"])\n",
    "final_df5.info()"
   ]
  },
  {
   "cell_type": "code",
   "execution_count": 53,
   "id": "dc5d018c",
   "metadata": {},
   "outputs": [
    {
     "data": {
      "text/html": [
       "<div>\n",
       "<style scoped>\n",
       "    .dataframe tbody tr th:only-of-type {\n",
       "        vertical-align: middle;\n",
       "    }\n",
       "\n",
       "    .dataframe tbody tr th {\n",
       "        vertical-align: top;\n",
       "    }\n",
       "\n",
       "    .dataframe thead th {\n",
       "        text-align: right;\n",
       "    }\n",
       "</style>\n",
       "<table border=\"1\" class=\"dataframe\">\n",
       "  <thead>\n",
       "    <tr style=\"text-align: right;\">\n",
       "      <th></th>\n",
       "      <th>username</th>\n",
       "      <th>status</th>\n",
       "      <th>gender</th>\n",
       "      <th>translated_occupation_category_encoded</th>\n",
       "      <th>age_group_encoded</th>\n",
       "      <th>filtered sentence</th>\n",
       "      <th>caption</th>\n",
       "      <th>y</th>\n",
       "    </tr>\n",
       "  </thead>\n",
       "  <tbody>\n",
       "    <tr>\n",
       "      <th>0</th>\n",
       "      <td>123canwe</td>\n",
       "      <td>14</td>\n",
       "      <td>1</td>\n",
       "      <td>12</td>\n",
       "      <td>3</td>\n",
       "      <td>I full fire friskier hell</td>\n",
       "      <td>man in red shirt is standing on bench next to the cameraman</td>\n",
       "      <td>0</td>\n",
       "    </tr>\n",
       "    <tr>\n",
       "      <th>1</th>\n",
       "      <td>123WILFREDO</td>\n",
       "      <td>14</td>\n",
       "      <td>1</td>\n",
       "      <td>2</td>\n",
       "      <td>0</td>\n",
       "      <td>ME GUSTA CONOCER CHICAS BONDADOSAS CARIÑOSAS Y MUY FUERTES EN LA MORAL</td>\n",
       "      <td>man in red shirt is sitting on the edge of river</td>\n",
       "      <td>0</td>\n",
       "    </tr>\n",
       "    <tr>\n",
       "      <th>2</th>\n",
       "      <td>52Jim52</td>\n",
       "      <td>10</td>\n",
       "      <td>1</td>\n",
       "      <td>12</td>\n",
       "      <td>3</td>\n",
       "      <td>Retired owner aerospace consuloting firm</td>\n",
       "      <td>man in black shirt is standing in front of wooden bench</td>\n",
       "      <td>0</td>\n",
       "    </tr>\n",
       "    <tr>\n",
       "      <th>3</th>\n",
       "      <td>Aaron90</td>\n",
       "      <td>14</td>\n",
       "      <td>1</td>\n",
       "      <td>10</td>\n",
       "      <td>0</td>\n",
       "      <td>Hello aaron Vermont I vermont 2 years Im really fun person I like camping bone fire etc</td>\n",
       "      <td>two girls are playing in the grass</td>\n",
       "      <td>0</td>\n",
       "    </tr>\n",
       "    <tr>\n",
       "      <th>4</th>\n",
       "      <td>Abou</td>\n",
       "      <td>14</td>\n",
       "      <td>1</td>\n",
       "      <td>0</td>\n",
       "      <td>1</td>\n",
       "      <td>I serious honest trustworthy like share love fan culture new different person</td>\n",
       "      <td>man in red shirt and black shorts is walking down the street</td>\n",
       "      <td>0</td>\n",
       "    </tr>\n",
       "  </tbody>\n",
       "</table>\n",
       "</div>"
      ],
      "text/plain": [
       "      username  status  gender  translated_occupation_category_encoded  \\\n",
       "0     123canwe      14       1                                      12   \n",
       "1  123WILFREDO      14       1                                       2   \n",
       "2      52Jim52      10       1                                      12   \n",
       "3      Aaron90      14       1                                      10   \n",
       "4         Abou      14       1                                       0   \n",
       "\n",
       "   age_group_encoded  \\\n",
       "0                  3   \n",
       "1                  0   \n",
       "2                  3   \n",
       "3                  0   \n",
       "4                  1   \n",
       "\n",
       "                                                                         filtered sentence  \\\n",
       "0                                                                I full fire friskier hell   \n",
       "1                   ME GUSTA CONOCER CHICAS BONDADOSAS CARIÑOSAS Y MUY FUERTES EN LA MORAL   \n",
       "2                                                 Retired owner aerospace consuloting firm   \n",
       "3  Hello aaron Vermont I vermont 2 years Im really fun person I like camping bone fire etc   \n",
       "4            I serious honest trustworthy like share love fan culture new different person   \n",
       "\n",
       "                                                        caption  y  \n",
       "0   man in red shirt is standing on bench next to the cameraman  0  \n",
       "1              man in red shirt is sitting on the edge of river  0  \n",
       "2       man in black shirt is standing in front of wooden bench  0  \n",
       "3                            two girls are playing in the grass  0  \n",
       "4  man in red shirt and black shorts is walking down the street  0  "
      ]
     },
     "execution_count": 53,
     "metadata": {},
     "output_type": "execute_result"
    }
   ],
   "source": [
    "final_df5 = final_df5[[\"username\",\"status\",\"gender\",\"translated_occupation_category_encoded\",\"age_group_encoded\",\"filtered sentence\",\"caption\",\"y\"]].copy()\n",
    "final_df5.head()"
   ]
  },
  {
   "cell_type": "code",
   "execution_count": 79,
   "id": "403b6b6d",
   "metadata": {},
   "outputs": [],
   "source": [
    "#final_df5.to_csv('all_combined_features.csv')"
   ]
  },
  {
   "cell_type": "code",
   "execution_count": 63,
   "id": "030aa4ab",
   "metadata": {},
   "outputs": [],
   "source": [
    "# features\n",
    "X = final_df5[[\"age_group_encoded\",\"status\",\"gender\",\"translated_occupation_category_encoded\",\"filtered sentence\",\"caption\"]]\n",
    "\n",
    "# target\n",
    "y = final_df5['y']"
   ]
  },
  {
   "cell_type": "code",
   "execution_count": 62,
   "id": "23e30613",
   "metadata": {},
   "outputs": [],
   "source": [
    "from sklearn.compose import ColumnTransformer\n",
    "from sklearn.feature_extraction.text import CountVectorizer, TfidfVectorizer\n",
    "from sklearn.pipeline import make_pipeline\n",
    "from sklearn.pipeline import Pipeline\n",
    "\n",
    "def print_results(tp,tn,fp,fn,a):\n",
    "    accuracy = (tp + tn)/(tp + tn + fn + fp)\n",
    "    precision = tp / (tp + fp)\n",
    "    recall = tp / (tp + fn)\n",
    "    f1_score = 2*(precision*recall)/(precision + recall)\n",
    "\n",
    "    print(a)\n",
    "    print(\"Accuracy:\",accuracy)\n",
    "    print(\"Precision:\",precision)\n",
    "    print(\"recall:\",recall)\n",
    "    print(\"f1_score:\",f1_score)"
   ]
  },
  {
   "cell_type": "code",
   "execution_count": 64,
   "id": "26efca0b",
   "metadata": {},
   "outputs": [],
   "source": [
    "from sklearn.model_selection import train_test_split\n",
    "X_train, X_test, y_train, y_test = train_test_split(X, y, test_size = 0.2, random_state = 424)"
   ]
  },
  {
   "cell_type": "code",
   "execution_count": 65,
   "id": "70ab98d0",
   "metadata": {},
   "outputs": [],
   "source": [
    "from sklearn.linear_model import SGDClassifier\n",
    "from sklearn.naive_bayes import MultinomialNB\n",
    "from sklearn.linear_model import LogisticRegression\n",
    "\n",
    "preprocess = ColumnTransformer(\n",
    "    [('caption_tfidf', TfidfVectorizer(analyzer='word', token_pattern=r'\\w{1,}', max_features=100000),'caption'),\n",
    "     ('filtered sentence tfidf', TfidfVectorizer(analyzer='word', token_pattern=r'\\w{1,}', max_features=100000),'filtered sentence')\n",
    "     ],\n",
    "    remainder='passthrough')\n",
    "\n",
    "model = make_pipeline(\n",
    "    preprocess,\n",
    "    MultinomialNB() )"
   ]
  },
  {
   "cell_type": "code",
   "execution_count": 66,
   "id": "ce1eb4cd",
   "metadata": {},
   "outputs": [
    {
     "name": "stdout",
     "output_type": "stream",
     "text": [
      "random undersampling(training)\n",
      "Accuracy: 0.9808027923211169\n",
      "Precision: 0.9867491166077739\n",
      "recall: 0.974694589877836\n",
      "f1_score: 0.9806848112379281\n",
      "\n",
      "\n",
      "random undersampling(testing)\n",
      "Accuracy: 0.9848156182212582\n",
      "Precision: 0.967032967032967\n",
      "recall: 0.9814126394052045\n",
      "f1_score: 0.974169741697417\n"
     ]
    }
   ],
   "source": [
    "rus = RandomUnderSampler(random_state=424)\n",
    "X_train_rus, y_train_rus= rus.fit_resample(X_train, y_train)\n",
    "model.fit(X_train_rus, y_train_rus)\n",
    "\n",
    "y_pred = model.predict(X_test)\n",
    "y_train_pred = model.predict(X_train_rus)\n",
    "\n",
    "#for training data - undersampling\n",
    "from sklearn.metrics import confusion_matrix\n",
    "conf_matrix2 = confusion_matrix(y_train_rus,y_train_pred)\n",
    "tn = conf_matrix2[0][0]\n",
    "fn = conf_matrix2[1][0]\n",
    "tp = conf_matrix2[1][1]\n",
    "fp = conf_matrix2[0][1]\n",
    "\n",
    "print_results(tp,tn,fp,fn,\"random undersampling(training)\")\n",
    "print('\\n')\n",
    "#for testing data - undersampling\n",
    "conf_matrix = confusion_matrix(y_test, y_pred)\n",
    "tn = conf_matrix[0][0]\n",
    "fn = conf_matrix[1][0]\n",
    "tp = conf_matrix[1][1]\n",
    "fp = conf_matrix[0][1]\n",
    "\n",
    "print_results(tp,tn,fp,fn,\"random undersampling(testing)\")\n"
   ]
  },
  {
   "cell_type": "code",
   "execution_count": 67,
   "id": "72acb5df",
   "metadata": {},
   "outputs": [
    {
     "name": "stdout",
     "output_type": "stream",
     "text": [
      "random oversampling(training)\n",
      "Accuracy: 0.9836614173228346\n",
      "Precision: 0.9774582199766809\n",
      "recall: 0.9901574803149606\n",
      "f1_score: 0.9837668687658909\n",
      "\n",
      "\n",
      "random oversampling(testing)\n",
      "Accuracy: 0.9772234273318872\n",
      "Precision: 0.9335664335664335\n",
      "recall: 0.9925650557620818\n",
      "f1_score: 0.9621621621621621\n"
     ]
    }
   ],
   "source": [
    "ros = RandomOverSampler(random_state = 424)\n",
    "X_train_ros, y_train_ros= ros.fit_resample(X_train, y_train)\n",
    "model.fit(X_train_ros,y_train_ros)\n",
    "\n",
    "y_pred = model.predict(X_test)\n",
    "y_train_pred = model.predict(X_train_ros)\n",
    "#for training data - oversampling\n",
    "from sklearn.metrics import confusion_matrix\n",
    "conf_matrix2 = confusion_matrix(y_train_ros,y_train_pred)\n",
    "tn = conf_matrix2[0][0]\n",
    "fn = conf_matrix2[1][0]\n",
    "tp = conf_matrix2[1][1]\n",
    "fp = conf_matrix2[0][1]\n",
    "\n",
    "print_results(tp,tn,fp,fn,\"random oversampling(training)\")\n",
    "print('\\n')\n",
    "\n",
    "#for testing data - oversampling\n",
    "conf_matrix = confusion_matrix(y_test, y_pred)\n",
    "tn = conf_matrix[0][0]\n",
    "fn = conf_matrix[1][0]\n",
    "tp = conf_matrix[1][1]\n",
    "fp = conf_matrix[0][1]\n",
    "\n",
    "print_results(tp,tn,fp,fn,\"random oversampling(testing)\")"
   ]
  },
  {
   "cell_type": "code",
   "execution_count": null,
   "id": "66af92e9",
   "metadata": {},
   "outputs": [],
   "source": []
  }
 ],
 "metadata": {
  "kernelspec": {
   "display_name": "Python 3",
   "language": "python",
   "name": "python3"
  },
  "language_info": {
   "codemirror_mode": {
    "name": "ipython",
    "version": 3
   },
   "file_extension": ".py",
   "mimetype": "text/x-python",
   "name": "python",
   "nbconvert_exporter": "python",
   "pygments_lexer": "ipython3",
   "version": "3.8.8"
  },
  "vscode": {
   "interpreter": {
    "hash": "8901fe019d600225f890108c4f0b7852487890258363523329abcb6ca46999d1"
   }
  }
 },
 "nbformat": 4,
 "nbformat_minor": 5
}
